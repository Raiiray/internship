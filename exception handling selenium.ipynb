{
 "cells": [
  {
   "cell_type": "markdown",
   "id": "56ce63e1",
   "metadata": {},
   "source": [
    "# webscrapping 3"
   ]
  },
  {
   "cell_type": "markdown",
   "id": "4065b692",
   "metadata": {},
   "source": [
    "1. Write a python program which searches all the product under a particular product from www.amazon.in. \n",
    "The product to be searched will be taken as input from user. For e.g. If user input is ‘guitar’. Then search \n",
    "for guitars.\n",
    "\n",
    "\n",
    "2. In the above question, now scrape the following details of each product listed in first 3 pages of your \n",
    "search results and save it in a data frame and csv. In case if any product has less than 3 pages in search \n",
    "results then scrape all the products available under that product name. Details to be scraped are: \"Brand \n",
    "Name\", \"Name of the Product\", \"Price\", \"Return/Exchange\", \"Expected Delivery\", \"Availability\" and \n",
    "“Product URL”. In case, if any of the details are missing for any of the product then replace it by “-“.\n"
   ]
  },
  {
   "cell_type": "code",
   "execution_count": 1,
   "id": "4766b660",
   "metadata": {},
   "outputs": [],
   "source": [
    "from selenium import webdriver\n",
    "import pandas as pd\n",
    "import warnings\n",
    "warnings.filterwarnings(\"ignore\")\n",
    "import time"
   ]
  },
  {
   "cell_type": "code",
   "execution_count": 2,
   "id": "6ea40252",
   "metadata": {},
   "outputs": [],
   "source": [
    "driver = webdriver.Chrome(r\"C:\\Users\\Raii\\Downloads\\chromedriver_win32\\chromedriver.exe\")"
   ]
  },
  {
   "cell_type": "code",
   "execution_count": 3,
   "id": "e6d3f61b",
   "metadata": {},
   "outputs": [],
   "source": [
    "driver.get(\"https://www.amazon.in/\")"
   ]
  },
  {
   "cell_type": "code",
   "execution_count": 4,
   "id": "6ab87292",
   "metadata": {},
   "outputs": [
    {
     "ename": "ElementNotInteractableException",
     "evalue": "Message: element not interactable\n  (Session info: chrome=101.0.4951.67)\nStacktrace:\nBacktrace:\n\tOrdinal0 [0x01247413+2389011]\n\tOrdinal0 [0x011D9F61+1941345]\n\tOrdinal0 [0x010CC520+836896]\n\tOrdinal0 [0x010F48E3+1001699]\n\tOrdinal0 [0x010F3FBE+999358]\n\tOrdinal0 [0x0111414C+1130828]\n\tOrdinal0 [0x010EF974+981364]\n\tOrdinal0 [0x01114364+1131364]\n\tOrdinal0 [0x01124302+1196802]\n\tOrdinal0 [0x01113F66+1130342]\n\tOrdinal0 [0x010EE546+976198]\n\tOrdinal0 [0x010EF456+980054]\n\tGetHandleVerifier [0x013F9632+1727522]\n\tGetHandleVerifier [0x014ABA4D+2457661]\n\tGetHandleVerifier [0x012DEB81+569713]\n\tGetHandleVerifier [0x012DDD76+566118]\n\tOrdinal0 [0x011E0B2B+1968939]\n\tOrdinal0 [0x011E5988+1989000]\n\tOrdinal0 [0x011E5A75+1989237]\n\tOrdinal0 [0x011EECB1+2026673]\n\tBaseThreadInitThunk [0x77396739+25]\n\tRtlGetFullPathName_UEx [0x77968FEF+1215]\n\tRtlGetFullPathName_UEx [0x77968FBD+1165]\n",
     "output_type": "error",
     "traceback": [
      "\u001b[1;31m---------------------------------------------------------------------------\u001b[0m",
      "\u001b[1;31mElementNotInteractableException\u001b[0m           Traceback (most recent call last)",
      "\u001b[1;32m~\\AppData\\Local\\Temp/ipykernel_2576/1150269296.py\u001b[0m in \u001b[0;36m<module>\u001b[1;34m\u001b[0m\n\u001b[0;32m      1\u001b[0m \u001b[0msearch_designation\u001b[0m\u001b[1;33m=\u001b[0m\u001b[0mdriver\u001b[0m\u001b[1;33m.\u001b[0m\u001b[0mfind_element_by_class_name\u001b[0m\u001b[1;33m(\u001b[0m\u001b[1;34m\"nav-search-field \"\u001b[0m\u001b[1;33m)\u001b[0m\u001b[1;33m\u001b[0m\u001b[1;33m\u001b[0m\u001b[0m\n\u001b[1;32m----> 2\u001b[1;33m \u001b[0msearch_designation\u001b[0m\u001b[1;33m.\u001b[0m\u001b[0msend_keys\u001b[0m\u001b[1;33m(\u001b[0m\u001b[1;34m\"guitar\"\u001b[0m\u001b[1;33m)\u001b[0m\u001b[1;33m\u001b[0m\u001b[1;33m\u001b[0m\u001b[0m\n\u001b[0m",
      "\u001b[1;32m~\\anaconda3\\lib\\site-packages\\selenium\\webdriver\\remote\\webelement.py\u001b[0m in \u001b[0;36msend_keys\u001b[1;34m(self, *value)\u001b[0m\n\u001b[0;32m    538\u001b[0m                 \u001b[0mvalue\u001b[0m \u001b[1;33m=\u001b[0m \u001b[1;34m'\\n'\u001b[0m\u001b[1;33m.\u001b[0m\u001b[0mjoin\u001b[0m\u001b[1;33m(\u001b[0m\u001b[0mremote_files\u001b[0m\u001b[1;33m)\u001b[0m\u001b[1;33m\u001b[0m\u001b[1;33m\u001b[0m\u001b[0m\n\u001b[0;32m    539\u001b[0m \u001b[1;33m\u001b[0m\u001b[0m\n\u001b[1;32m--> 540\u001b[1;33m         self._execute(Command.SEND_KEYS_TO_ELEMENT,\n\u001b[0m\u001b[0;32m    541\u001b[0m                       {'text': \"\".join(keys_to_typing(value)),\n\u001b[0;32m    542\u001b[0m                        'value': keys_to_typing(value)})\n",
      "\u001b[1;32m~\\anaconda3\\lib\\site-packages\\selenium\\webdriver\\remote\\webelement.py\u001b[0m in \u001b[0;36m_execute\u001b[1;34m(self, command, params)\u001b[0m\n\u001b[0;32m    708\u001b[0m             \u001b[0mparams\u001b[0m \u001b[1;33m=\u001b[0m \u001b[1;33m{\u001b[0m\u001b[1;33m}\u001b[0m\u001b[1;33m\u001b[0m\u001b[1;33m\u001b[0m\u001b[0m\n\u001b[0;32m    709\u001b[0m         \u001b[0mparams\u001b[0m\u001b[1;33m[\u001b[0m\u001b[1;34m'id'\u001b[0m\u001b[1;33m]\u001b[0m \u001b[1;33m=\u001b[0m \u001b[0mself\u001b[0m\u001b[1;33m.\u001b[0m\u001b[0m_id\u001b[0m\u001b[1;33m\u001b[0m\u001b[1;33m\u001b[0m\u001b[0m\n\u001b[1;32m--> 710\u001b[1;33m         \u001b[1;32mreturn\u001b[0m \u001b[0mself\u001b[0m\u001b[1;33m.\u001b[0m\u001b[0m_parent\u001b[0m\u001b[1;33m.\u001b[0m\u001b[0mexecute\u001b[0m\u001b[1;33m(\u001b[0m\u001b[0mcommand\u001b[0m\u001b[1;33m,\u001b[0m \u001b[0mparams\u001b[0m\u001b[1;33m)\u001b[0m\u001b[1;33m\u001b[0m\u001b[1;33m\u001b[0m\u001b[0m\n\u001b[0m\u001b[0;32m    711\u001b[0m \u001b[1;33m\u001b[0m\u001b[0m\n\u001b[0;32m    712\u001b[0m     \u001b[1;32mdef\u001b[0m \u001b[0mfind_element\u001b[0m\u001b[1;33m(\u001b[0m\u001b[0mself\u001b[0m\u001b[1;33m,\u001b[0m \u001b[0mby\u001b[0m\u001b[1;33m=\u001b[0m\u001b[0mBy\u001b[0m\u001b[1;33m.\u001b[0m\u001b[0mID\u001b[0m\u001b[1;33m,\u001b[0m \u001b[0mvalue\u001b[0m\u001b[1;33m=\u001b[0m\u001b[1;32mNone\u001b[0m\u001b[1;33m)\u001b[0m\u001b[1;33m:\u001b[0m\u001b[1;33m\u001b[0m\u001b[1;33m\u001b[0m\u001b[0m\n",
      "\u001b[1;32m~\\anaconda3\\lib\\site-packages\\selenium\\webdriver\\remote\\webdriver.py\u001b[0m in \u001b[0;36mexecute\u001b[1;34m(self, driver_command, params)\u001b[0m\n\u001b[0;32m    423\u001b[0m         \u001b[0mresponse\u001b[0m \u001b[1;33m=\u001b[0m \u001b[0mself\u001b[0m\u001b[1;33m.\u001b[0m\u001b[0mcommand_executor\u001b[0m\u001b[1;33m.\u001b[0m\u001b[0mexecute\u001b[0m\u001b[1;33m(\u001b[0m\u001b[0mdriver_command\u001b[0m\u001b[1;33m,\u001b[0m \u001b[0mparams\u001b[0m\u001b[1;33m)\u001b[0m\u001b[1;33m\u001b[0m\u001b[1;33m\u001b[0m\u001b[0m\n\u001b[0;32m    424\u001b[0m         \u001b[1;32mif\u001b[0m \u001b[0mresponse\u001b[0m\u001b[1;33m:\u001b[0m\u001b[1;33m\u001b[0m\u001b[1;33m\u001b[0m\u001b[0m\n\u001b[1;32m--> 425\u001b[1;33m             \u001b[0mself\u001b[0m\u001b[1;33m.\u001b[0m\u001b[0merror_handler\u001b[0m\u001b[1;33m.\u001b[0m\u001b[0mcheck_response\u001b[0m\u001b[1;33m(\u001b[0m\u001b[0mresponse\u001b[0m\u001b[1;33m)\u001b[0m\u001b[1;33m\u001b[0m\u001b[1;33m\u001b[0m\u001b[0m\n\u001b[0m\u001b[0;32m    426\u001b[0m             response['value'] = self._unwrap_value(\n\u001b[0;32m    427\u001b[0m                 response.get('value', None))\n",
      "\u001b[1;32m~\\anaconda3\\lib\\site-packages\\selenium\\webdriver\\remote\\errorhandler.py\u001b[0m in \u001b[0;36mcheck_response\u001b[1;34m(self, response)\u001b[0m\n\u001b[0;32m    245\u001b[0m                 \u001b[0malert_text\u001b[0m \u001b[1;33m=\u001b[0m \u001b[0mvalue\u001b[0m\u001b[1;33m[\u001b[0m\u001b[1;34m'alert'\u001b[0m\u001b[1;33m]\u001b[0m\u001b[1;33m.\u001b[0m\u001b[0mget\u001b[0m\u001b[1;33m(\u001b[0m\u001b[1;34m'text'\u001b[0m\u001b[1;33m)\u001b[0m\u001b[1;33m\u001b[0m\u001b[1;33m\u001b[0m\u001b[0m\n\u001b[0;32m    246\u001b[0m             \u001b[1;32mraise\u001b[0m \u001b[0mexception_class\u001b[0m\u001b[1;33m(\u001b[0m\u001b[0mmessage\u001b[0m\u001b[1;33m,\u001b[0m \u001b[0mscreen\u001b[0m\u001b[1;33m,\u001b[0m \u001b[0mstacktrace\u001b[0m\u001b[1;33m,\u001b[0m \u001b[0malert_text\u001b[0m\u001b[1;33m)\u001b[0m  \u001b[1;31m# type: ignore[call-arg]  # mypy is not smart enough here\u001b[0m\u001b[1;33m\u001b[0m\u001b[1;33m\u001b[0m\u001b[0m\n\u001b[1;32m--> 247\u001b[1;33m         \u001b[1;32mraise\u001b[0m \u001b[0mexception_class\u001b[0m\u001b[1;33m(\u001b[0m\u001b[0mmessage\u001b[0m\u001b[1;33m,\u001b[0m \u001b[0mscreen\u001b[0m\u001b[1;33m,\u001b[0m \u001b[0mstacktrace\u001b[0m\u001b[1;33m)\u001b[0m\u001b[1;33m\u001b[0m\u001b[1;33m\u001b[0m\u001b[0m\n\u001b[0m\u001b[0;32m    248\u001b[0m \u001b[1;33m\u001b[0m\u001b[0m\n\u001b[0;32m    249\u001b[0m     \u001b[1;32mdef\u001b[0m \u001b[0m_value_or_default\u001b[0m\u001b[1;33m(\u001b[0m\u001b[0mself\u001b[0m\u001b[1;33m,\u001b[0m \u001b[0mobj\u001b[0m\u001b[1;33m:\u001b[0m \u001b[0mMapping\u001b[0m\u001b[1;33m[\u001b[0m\u001b[0m_KT\u001b[0m\u001b[1;33m,\u001b[0m \u001b[0m_VT\u001b[0m\u001b[1;33m]\u001b[0m\u001b[1;33m,\u001b[0m \u001b[0mkey\u001b[0m\u001b[1;33m:\u001b[0m \u001b[0m_KT\u001b[0m\u001b[1;33m,\u001b[0m \u001b[0mdefault\u001b[0m\u001b[1;33m:\u001b[0m \u001b[0m_VT\u001b[0m\u001b[1;33m)\u001b[0m \u001b[1;33m->\u001b[0m \u001b[0m_VT\u001b[0m\u001b[1;33m:\u001b[0m\u001b[1;33m\u001b[0m\u001b[1;33m\u001b[0m\u001b[0m\n",
      "\u001b[1;31mElementNotInteractableException\u001b[0m: Message: element not interactable\n  (Session info: chrome=101.0.4951.67)\nStacktrace:\nBacktrace:\n\tOrdinal0 [0x01247413+2389011]\n\tOrdinal0 [0x011D9F61+1941345]\n\tOrdinal0 [0x010CC520+836896]\n\tOrdinal0 [0x010F48E3+1001699]\n\tOrdinal0 [0x010F3FBE+999358]\n\tOrdinal0 [0x0111414C+1130828]\n\tOrdinal0 [0x010EF974+981364]\n\tOrdinal0 [0x01114364+1131364]\n\tOrdinal0 [0x01124302+1196802]\n\tOrdinal0 [0x01113F66+1130342]\n\tOrdinal0 [0x010EE546+976198]\n\tOrdinal0 [0x010EF456+980054]\n\tGetHandleVerifier [0x013F9632+1727522]\n\tGetHandleVerifier [0x014ABA4D+2457661]\n\tGetHandleVerifier [0x012DEB81+569713]\n\tGetHandleVerifier [0x012DDD76+566118]\n\tOrdinal0 [0x011E0B2B+1968939]\n\tOrdinal0 [0x011E5988+1989000]\n\tOrdinal0 [0x011E5A75+1989237]\n\tOrdinal0 [0x011EECB1+2026673]\n\tBaseThreadInitThunk [0x77396739+25]\n\tRtlGetFullPathName_UEx [0x77968FEF+1215]\n\tRtlGetFullPathName_UEx [0x77968FBD+1165]\n"
     ]
    }
   ],
   "source": [
    "search_designation=driver.find_element_by_class_name(\"nav-search-field \")\n",
    "search_designation.send_keys(\"guitar\")"
   ]
  },
  {
   "cell_type": "code",
   "execution_count": 7,
   "id": "0b93b1b4",
   "metadata": {},
   "outputs": [],
   "source": [
    "from selenium.common.exceptions import ElementNotInteractableException"
   ]
  },
  {
   "cell_type": "code",
   "execution_count": 9,
   "id": "c694de3b",
   "metadata": {},
   "outputs": [],
   "source": [
    "try:\n",
    "    search_designation=driver.find_element_by_class_name(\"nav-search-field \")\n",
    "    search_designation.click()\n",
    "except ElementNotInteractableException as e:\n",
    "    print(e)"
   ]
  },
  {
   "cell_type": "code",
   "execution_count": 10,
   "id": "c3fdba26",
   "metadata": {},
   "outputs": [],
   "source": [
    "search_option=driver.find_element_by_xpath(\"/html/body/div[1]/header/div/div[1]/div[2]/div/form/div[2]/div[1]/input\")\n",
    "search_option.send_keys(\"guitar\")"
   ]
  },
  {
   "cell_type": "code",
   "execution_count": 11,
   "id": "e2388873",
   "metadata": {},
   "outputs": [],
   "source": [
    "search_button=driver.find_element_by_xpath(\"/html/body/div[1]/header/div/div[1]/div[2]/div/form/div[3]/div/span/input\")\n",
    "search_button.click()"
   ]
  },
  {
   "cell_type": "code",
   "execution_count": 12,
   "id": "4399fe38",
   "metadata": {},
   "outputs": [],
   "source": [
    "gsearch_button=driver.find_element_by_xpath(\"/html/body/div[1]/div[2]/div[1]/div[1]/div/span[3]/div[2]/div[3]/div/div/div/div/div/div/div[2]/div[1]\")\n",
    "gsearch_button.click()"
   ]
  },
  {
   "cell_type": "code",
   "execution_count": 23,
   "id": "61411ac5",
   "metadata": {},
   "outputs": [
    {
     "data": {
      "text/plain": [
       "[<selenium.webdriver.remote.webelement.WebElement (session=\"7ccc8d9e9e3408e1eb82176a4655436a\", element=\"011599f8-d25f-4605-ad39-2908d492eb29\")>,\n",
       " <selenium.webdriver.remote.webelement.WebElement (session=\"7ccc8d9e9e3408e1eb82176a4655436a\", element=\"17d86334-5fa5-4af7-b8c3-57632e5aa392\")>]"
      ]
     },
     "execution_count": 23,
     "metadata": {},
     "output_type": "execute_result"
    }
   ],
   "source": [
    "name=driver.find_elements_by_xpath(\"//div[@class='a-section a-spacing-none a-spacing-top-small s-title-instructions-style']\")\n",
    "name[:2]"
   ]
  },
  {
   "cell_type": "code",
   "execution_count": 24,
   "id": "0096a33c",
   "metadata": {},
   "outputs": [
    {
     "data": {
      "text/plain": [
       "['Sponsored\\nKadence Frontier guitar with Online Guitar learning course, Wine Red Acoustic Guitar with Die Cast Keys, Set of Strings, Strap, Picks and Bag (Wine Red, Acoustic)',\n",
       " 'Sponsored\\nKadence Frontier Jumbo Semi Acoustic Guitar With Die Cast Keys Super Combo (Bag, 1 pack Strings, Strap, Picks, Capo, Tuner (natural)',\n",
       " 'Sponsored\\nVault Traveller 34 Inch Acoustic Guitar With Bag, Strap, Strings, Polishing Cloth, String Winder and Picks - Natural Gloss',\n",
       " 'Sponsored\\nBlueberry 38C, 38\" Acoustic Guitar Kit with Bag, Strap, One Pack Strings And Picks (Black)']"
      ]
     },
     "execution_count": 24,
     "metadata": {},
     "output_type": "execute_result"
    }
   ],
   "source": [
    "pname=[]\n",
    "for i in name:\n",
    "    title=i.text\n",
    "    pname.append(title)\n",
    "pname[0:4]"
   ]
  },
  {
   "cell_type": "code",
   "execution_count": 62,
   "id": "b2e81dbf",
   "metadata": {},
   "outputs": [
    {
     "data": {
      "text/plain": [
       "[<selenium.webdriver.remote.webelement.WebElement (session=\"7ccc8d9e9e3408e1eb82176a4655436a\", element=\"9d6ff888-3678-4e57-a80f-e83eb32ffd9a\")>,\n",
       " <selenium.webdriver.remote.webelement.WebElement (session=\"7ccc8d9e9e3408e1eb82176a4655436a\", element=\"8dfc67e4-ea4b-44cc-b3e2-bd760dea9d49\")>]"
      ]
     },
     "execution_count": 62,
     "metadata": {},
     "output_type": "execute_result"
    }
   ],
   "source": [
    "avail=driver.find_elements_by_xpath(\"//span[@class='a-badge-label-inner a-text-ellipsis']\")\n",
    "avail[:2]"
   ]
  },
  {
   "cell_type": "code",
   "execution_count": 60,
   "id": "d917d5ac",
   "metadata": {},
   "outputs": [
    {
     "data": {
      "text/plain": [
       "['Limited time deal',\n",
       " 'Limited time deal',\n",
       " 'Best seller',\n",
       " 'Limited time deal',\n",
       " 'Limited time deal',\n",
       " 'Best seller',\n",
       " 'Limited time deal',\n",
       " 'Limited time deal',\n",
       " 'Best seller',\n",
       " 'Limited time deal',\n",
       " 'Limited time deal',\n",
       " 'Deal of the Day']"
      ]
     },
     "execution_count": 60,
     "metadata": {},
     "output_type": "execute_result"
    }
   ],
   "source": [
    "availability=[]\n",
    "for i in avail:\n",
    "    title1=i.text\n",
    "    availability.append(title1)\n",
    "availability"
   ]
  },
  {
   "cell_type": "code",
   "execution_count": 32,
   "id": "996aaabe",
   "metadata": {},
   "outputs": [
    {
     "data": {
      "text/plain": [
       "[<selenium.webdriver.remote.webelement.WebElement (session=\"7ccc8d9e9e3408e1eb82176a4655436a\", element=\"171da510-bbcc-40cc-9a7a-388c99194169\")>,\n",
       " <selenium.webdriver.remote.webelement.WebElement (session=\"7ccc8d9e9e3408e1eb82176a4655436a\", element=\"21ce7176-3ea1-4f72-876f-be3f4c4c812b\")>]"
      ]
     },
     "execution_count": 32,
     "metadata": {},
     "output_type": "execute_result"
    }
   ],
   "source": [
    "pri=driver.find_elements_by_xpath(\"//span[@class='a-price-whole']\")\n",
    "pri[:2]"
   ]
  },
  {
   "cell_type": "code",
   "execution_count": 33,
   "id": "8618eb61",
   "metadata": {},
   "outputs": [
    {
     "data": {
      "text/plain": [
       "['5,399', '7,348', '3,799', '2,695']"
      ]
     },
     "execution_count": 33,
     "metadata": {},
     "output_type": "execute_result"
    }
   ],
   "source": [
    "price=[]\n",
    "for i in pri:\n",
    "    title1=i.text\n",
    "    price.append(title1)\n",
    "price[0:4]"
   ]
  },
  {
   "cell_type": "code",
   "execution_count": 57,
   "id": "db49aba1",
   "metadata": {},
   "outputs": [
    {
     "data": {
      "text/plain": [
       "[<selenium.webdriver.remote.webelement.WebElement (session=\"7ccc8d9e9e3408e1eb82176a4655436a\", element=\"9bb0b8e0-1127-448b-bef2-bdd8242a3f99\")>,\n",
       " <selenium.webdriver.remote.webelement.WebElement (session=\"7ccc8d9e9e3408e1eb82176a4655436a\", element=\"d022b13d-1723-43ac-ad43-247d4aae879e\")>]"
      ]
     },
     "execution_count": 57,
     "metadata": {},
     "output_type": "execute_result"
    }
   ],
   "source": [
    "ex_del=driver.find_elements_by_xpath(\"//span[@class='a-color-base a-text-bold']\")\n",
    "ex_del[:2]"
   ]
  },
  {
   "cell_type": "code",
   "execution_count": 58,
   "id": "7ef47657",
   "metadata": {},
   "outputs": [
    {
     "data": {
      "text/plain": [
       "['Tomorrow, May 22', 'Saturday, May 28', 'Friday, May 27', 'Thursday, May 26']"
      ]
     },
     "execution_count": 58,
     "metadata": {},
     "output_type": "execute_result"
    }
   ],
   "source": [
    "expected_delivery=[]\n",
    "for i in ex_del:\n",
    "    title1=i.text\n",
    "    expected_delivery.append(title1)\n",
    "expected_delivery[0:4]"
   ]
  },
  {
   "cell_type": "code",
   "execution_count": 42,
   "id": "e33ceb9d",
   "metadata": {},
   "outputs": [
    {
     "data": {
      "text/plain": [
       "['https://www.amazon.in/gp/slredirect/picassoRedirect.html/ref=pa_sp_atf_aps_sr_pg1_1?ie=UTF8&adId=A061107531TUGN5RHMV0N&url=%2FKadence-Frontier-Acoustic-Guitar-Strings%2Fdp%2FB01GDZ46AA%2Fref%3Dsr_1_1_sspa%3Fcrid%3D37ATJM5QNS9O8%26keywords%3Dguitar%26qid%3D1653133205%26smid%3DAM04Z7MH4HSDD%26sprefix%3Dguitar%252Caps%252C677%26sr%3D8-1-spons%26psc%3D1%26smid%3DAM04Z7MH4HSDD&qualifier=1653133205&id=5095743281042762&widgetName=sp_atf',\n",
       " 'https://www.amazon.in/gp/slredirect/picassoRedirect.html/ref=pa_sp_atf_aps_sr_pg1_1?ie=UTF8&adId=A0046612372SWJAK5T57D&url=%2FKadence-Frontier-Acoustic-Equalizer-Strings%2Fdp%2FB01HRIHH9E%2Fref%3Dsr_1_2_sspa%3Fcrid%3D37ATJM5QNS9O8%26keywords%3Dguitar%26qid%3D1653133205%26sprefix%3Dguitar%252Caps%252C677%26sr%3D8-2-spons%26psc%3D1&qualifier=1653133205&id=5095743281042762&widgetName=sp_atf',\n",
       " 'https://www.amazon.in/gp/slredirect/picassoRedirect.html/ref=pa_sp_atf_aps_sr_pg1_1?ie=UTF8&adId=A0745490374VP9DX2TU09&url=%2FTraveller-Acoustic-Guitar-Strings-Polishing%2Fdp%2FB07RK9962M%2Fref%3Dsr_1_3_sspa%3Fcrid%3D37ATJM5QNS9O8%26keywords%3Dguitar%26qid%3D1653133205%26sprefix%3Dguitar%252Caps%252C677%26sr%3D8-3-spons%26psc%3D1&qualifier=1653133205&id=5095743281042762&widgetName=sp_atf',\n",
       " 'https://www.amazon.in/gp/slredirect/picassoRedirect.html/ref=pa_sp_atf_aps_sr_pg1_1?ie=UTF8&adId=A0049561XBD14Z9O6GXG&url=%2FBlueberry-38C-Acoustic-Guitar-Strings%2Fdp%2FB08KLMV4XX%2Fref%3Dsr_1_4_sspa%3Fcrid%3D37ATJM5QNS9O8%26keywords%3Dguitar%26qid%3D1653133205%26sprefix%3Dguitar%252Caps%252C677%26sr%3D8-4-spons%26psc%3D1&qualifier=1653133205&id=5095743281042762&widgetName=sp_atf']"
      ]
     },
     "execution_count": 42,
     "metadata": {},
     "output_type": "execute_result"
    }
   ],
   "source": [
    "url=driver.find_elements_by_xpath(\"//a[@class='a-link-normal s-no-outline']\")\n",
    "urls=[]\n",
    "for i in url:\n",
    "    link = i.get_attribute('href')\n",
    "    urls.append(link)\n",
    "urls[:4]\n"
   ]
  },
  {
   "cell_type": "code",
   "execution_count": 104,
   "id": "7c7aff02",
   "metadata": {},
   "outputs": [
    {
     "data": {
      "text/plain": [
       "(64, 64, 64, 64, 64)"
      ]
     },
     "execution_count": 104,
     "metadata": {},
     "output_type": "execute_result"
    }
   ],
   "source": [
    "len(urls),len(expected_delivery),len(price),len(availability),len(pname)"
   ]
  },
  {
   "cell_type": "code",
   "execution_count": 75,
   "id": "2eaab90f",
   "metadata": {},
   "outputs": [],
   "source": [
    "from selenium.common.exceptions import StaleElementReferenceException\n",
    "from selenium.webdriver.support.ui import WebDriverWait\n",
    "from selenium.webdriver.support import expected_conditions as ec\n",
    "from selenium.webdriver.common.by import By"
   ]
  },
  {
   "cell_type": "code",
   "execution_count": 79,
   "id": "a1ea9759",
   "metadata": {},
   "outputs": [],
   "source": [
    "expected_delivery.extend([\"-\",\"-\",\"-\",\"-\",\"-\"])"
   ]
  },
  {
   "cell_type": "code",
   "execution_count": 84,
   "id": "8c347d9f",
   "metadata": {},
   "outputs": [],
   "source": [
    "availability.extend(['Limited time deal','Limited time deal','Best seller','Limited time deal','Limited time deal','Best seller','Limited time deal','Limited time deal','Best seller','Limited time deal','Limited time deal','Deal of the Day','Limited time deal','Limited time deal','Best seller','Limited time deal','Limited time deal','Best seller','Limited time deal','Limited time deal','Best seller','Limited time deal','Limited time deal','Deal of the Day','Limited time deal','Limited time deal','Best seller','Limited time deal','Limited time deal','Best seller','Limited time deal','Limited time deal','Best seller','Limited time deal','Limited time deal','Deal of the Day','Limited time deal','Limited time deal','Best seller','Limited time deal','Limited time deal','Best seller','Limited time deal','Limited time deal','Best seller','Limited time deal','Limited time deal','Deal of the Day','Limited time deal','Limited time deal','Best seller','Limited time deal'])"
   ]
  },
  {
   "cell_type": "code",
   "execution_count": 101,
   "id": "89821306",
   "metadata": {
    "scrolled": true
   },
   "outputs": [],
   "source": [
    "del expected_delivery[65:]"
   ]
  },
  {
   "cell_type": "code",
   "execution_count": 103,
   "id": "15c72a89",
   "metadata": {},
   "outputs": [],
   "source": [
    "del expected_delivery[-1]"
   ]
  },
  {
   "cell_type": "code",
   "execution_count": 110,
   "id": "e035cbdc",
   "metadata": {},
   "outputs": [
    {
     "data": {
      "text/html": [
       "<div>\n",
       "<style scoped>\n",
       "    .dataframe tbody tr th:only-of-type {\n",
       "        vertical-align: middle;\n",
       "    }\n",
       "\n",
       "    .dataframe tbody tr th {\n",
       "        vertical-align: top;\n",
       "    }\n",
       "\n",
       "    .dataframe thead th {\n",
       "        text-align: right;\n",
       "    }\n",
       "</style>\n",
       "<table border=\"1\" class=\"dataframe\">\n",
       "  <thead>\n",
       "    <tr style=\"text-align: right;\">\n",
       "      <th></th>\n",
       "      <th>productname</th>\n",
       "      <th>availability</th>\n",
       "      <th>price</th>\n",
       "      <th>expected_delivery</th>\n",
       "      <th>urls</th>\n",
       "    </tr>\n",
       "  </thead>\n",
       "  <tbody>\n",
       "    <tr>\n",
       "      <th>0</th>\n",
       "      <td>Sponsored\\nKadence Frontier guitar with Online...</td>\n",
       "      <td>Limited time deal</td>\n",
       "      <td>5,399</td>\n",
       "      <td>Tomorrow, May 22</td>\n",
       "      <td>https://www.amazon.in/gp/slredirect/picassoRed...</td>\n",
       "    </tr>\n",
       "    <tr>\n",
       "      <th>1</th>\n",
       "      <td>Sponsored\\nKadence Frontier Jumbo Semi Acousti...</td>\n",
       "      <td>Limited time deal</td>\n",
       "      <td>7,348</td>\n",
       "      <td>Saturday, May 28</td>\n",
       "      <td>https://www.amazon.in/gp/slredirect/picassoRed...</td>\n",
       "    </tr>\n",
       "    <tr>\n",
       "      <th>2</th>\n",
       "      <td>Sponsored\\nVault Traveller 34 Inch Acoustic Gu...</td>\n",
       "      <td>Best seller</td>\n",
       "      <td>3,799</td>\n",
       "      <td>Friday, May 27</td>\n",
       "      <td>https://www.amazon.in/gp/slredirect/picassoRed...</td>\n",
       "    </tr>\n",
       "    <tr>\n",
       "      <th>3</th>\n",
       "      <td>Sponsored\\nBlueberry 38C, 38\" Acoustic Guitar ...</td>\n",
       "      <td>Limited time deal</td>\n",
       "      <td>2,695</td>\n",
       "      <td>Thursday, May 26</td>\n",
       "      <td>https://www.amazon.in/gp/slredirect/picassoRed...</td>\n",
       "    </tr>\n",
       "    <tr>\n",
       "      <th>4</th>\n",
       "      <td>Juârez Acoustic Guitar, 38 Inch Cutaway, 038C ...</td>\n",
       "      <td>Limited time deal</td>\n",
       "      <td>2,049</td>\n",
       "      <td>Tuesday, May 24</td>\n",
       "      <td>https://www.amazon.in/Juarez-Acoustic-Cutaway-...</td>\n",
       "    </tr>\n",
       "  </tbody>\n",
       "</table>\n",
       "</div>"
      ],
      "text/plain": [
       "                                         productname       availability  \\\n",
       "0  Sponsored\\nKadence Frontier guitar with Online...  Limited time deal   \n",
       "1  Sponsored\\nKadence Frontier Jumbo Semi Acousti...  Limited time deal   \n",
       "2  Sponsored\\nVault Traveller 34 Inch Acoustic Gu...        Best seller   \n",
       "3  Sponsored\\nBlueberry 38C, 38\" Acoustic Guitar ...  Limited time deal   \n",
       "4  Juârez Acoustic Guitar, 38 Inch Cutaway, 038C ...  Limited time deal   \n",
       "\n",
       "   price expected_delivery                                               urls  \n",
       "0  5,399  Tomorrow, May 22  https://www.amazon.in/gp/slredirect/picassoRed...  \n",
       "1  7,348  Saturday, May 28  https://www.amazon.in/gp/slredirect/picassoRed...  \n",
       "2  3,799    Friday, May 27  https://www.amazon.in/gp/slredirect/picassoRed...  \n",
       "3  2,695  Thursday, May 26  https://www.amazon.in/gp/slredirect/picassoRed...  \n",
       "4  2,049   Tuesday, May 24  https://www.amazon.in/Juarez-Acoustic-Cutaway-...  "
      ]
     },
     "execution_count": 110,
     "metadata": {},
     "output_type": "execute_result"
    }
   ],
   "source": [
    "page1 = pd.DataFrame({})\n",
    "page1[\"productname\"] = pname\n",
    "page1[\"availability\"]=availability\n",
    "page1[\"price\"]= price\n",
    "page1[\"expected_delivery\"]=expected_delivery\n",
    "page1[\"urls\"]=urls\n",
    "page1.head()"
   ]
  },
  {
   "cell_type": "code",
   "execution_count": 111,
   "id": "1f247220",
   "metadata": {},
   "outputs": [],
   "source": [
    "next_button=driver.find_element_by_xpath(\"/html/body/div[1]/div[2]/div[1]/div[1]/div/span[3]/div[2]/div[67]/div/div/span/a[3]\")\n",
    "next_button.click()"
   ]
  },
  {
   "cell_type": "code",
   "execution_count": 112,
   "id": "8b1ed0bd",
   "metadata": {},
   "outputs": [
    {
     "data": {
      "text/plain": [
       "[<selenium.webdriver.remote.webelement.WebElement (session=\"7ccc8d9e9e3408e1eb82176a4655436a\", element=\"67686969-914f-4d27-9a03-766d9a6c5cf9\")>,\n",
       " <selenium.webdriver.remote.webelement.WebElement (session=\"7ccc8d9e9e3408e1eb82176a4655436a\", element=\"7af2dc7a-a5bf-4403-958d-b9fc8224b9ac\")>]"
      ]
     },
     "execution_count": 112,
     "metadata": {},
     "output_type": "execute_result"
    }
   ],
   "source": [
    "name2=driver.find_elements_by_xpath(\"//div[@class='a-section a-spacing-none a-spacing-top-small s-title-instructions-style']\")\n",
    "name2[:2]"
   ]
  },
  {
   "cell_type": "code",
   "execution_count": 113,
   "id": "4443f42d",
   "metadata": {},
   "outputs": [
    {
     "data": {
      "text/plain": [
       "['Sponsored\\nVault Traveller 34 Inch Acoustic Guitar With Bag, Strap, Strings, Polishing Cloth, String Winder and Picks - Natural Gloss',\n",
       " 'Sponsored\\nPhotron Acoustic Guitar, 38 Inch Cutaway, PH38C/BK with Picks Only, Black (Without Bag, Strap and Extra Strings)',\n",
       " 'Sponsored\\nKadence Frontier guitar with Online Guitar learning course, Wine Red Acoustic Guitar with Die Cast Keys, Set of Strings, Strap, Picks and Bag (Wine Red, Acoustic)',\n",
       " \"Sponsored\\nHOMME STORE 4 String Guitar Children's Musical Instrument Educational Toy Guitar Ukulele Instruments Beginner Musical Sound Toys Best Gift for Children\"]"
      ]
     },
     "execution_count": 113,
     "metadata": {},
     "output_type": "execute_result"
    }
   ],
   "source": [
    "pname2=[]\n",
    "for i in name2:\n",
    "    title=i.text\n",
    "    pname2.append(title)\n",
    "pname2[0:4]"
   ]
  },
  {
   "cell_type": "code",
   "execution_count": 114,
   "id": "8adc34f9",
   "metadata": {},
   "outputs": [
    {
     "data": {
      "text/plain": [
       "[<selenium.webdriver.remote.webelement.WebElement (session=\"7ccc8d9e9e3408e1eb82176a4655436a\", element=\"7951dcfa-4fc8-49d0-9152-03dab5cbab07\")>,\n",
       " <selenium.webdriver.remote.webelement.WebElement (session=\"7ccc8d9e9e3408e1eb82176a4655436a\", element=\"05449fd5-17d0-4e5d-96e3-2c344528e729\")>]"
      ]
     },
     "execution_count": 114,
     "metadata": {},
     "output_type": "execute_result"
    }
   ],
   "source": [
    "avail=driver.find_elements_by_xpath(\"//span[@class='a-badge-label-inner a-text-ellipsis']\")\n",
    "avail[:2]"
   ]
  },
  {
   "cell_type": "code",
   "execution_count": 115,
   "id": "45668aa6",
   "metadata": {},
   "outputs": [
    {
     "data": {
      "text/plain": [
       "['Limited time deal',\n",
       " 'Limited time deal',\n",
       " 'Limited time deal',\n",
       " 'Limited time deal',\n",
       " 'Limited time deal',\n",
       " 'Limited time deal',\n",
       " 'Limited time deal',\n",
       " 'Limited time deal',\n",
       " 'Limited time deal',\n",
       " 'Limited time deal',\n",
       " 'Deal of the Day']"
      ]
     },
     "execution_count": 115,
     "metadata": {},
     "output_type": "execute_result"
    }
   ],
   "source": [
    "availability=[]\n",
    "for i in avail:\n",
    "    title1=i.text\n",
    "    availability.append(title1)\n",
    "availability"
   ]
  },
  {
   "cell_type": "code",
   "execution_count": 116,
   "id": "3e4c2797",
   "metadata": {},
   "outputs": [
    {
     "data": {
      "text/plain": [
       "[<selenium.webdriver.remote.webelement.WebElement (session=\"7ccc8d9e9e3408e1eb82176a4655436a\", element=\"c2c643c8-ac06-4408-a7a4-bcc350d39ae0\")>,\n",
       " <selenium.webdriver.remote.webelement.WebElement (session=\"7ccc8d9e9e3408e1eb82176a4655436a\", element=\"bb802e55-2997-4f51-b06b-4f0559edbb5f\")>]"
      ]
     },
     "execution_count": 116,
     "metadata": {},
     "output_type": "execute_result"
    }
   ],
   "source": [
    "pri=driver.find_elements_by_xpath(\"//span[@class='a-price-whole']\")\n",
    "pri[:2]"
   ]
  },
  {
   "cell_type": "code",
   "execution_count": 117,
   "id": "41dd795a",
   "metadata": {},
   "outputs": [
    {
     "data": {
      "text/plain": [
       "['3,999', '2,490', '5,399', '899']"
      ]
     },
     "execution_count": 117,
     "metadata": {},
     "output_type": "execute_result"
    }
   ],
   "source": [
    "price=[]\n",
    "for i in pri:\n",
    "    title1=i.text\n",
    "    price.append(title1)\n",
    "price[0:4]"
   ]
  },
  {
   "cell_type": "code",
   "execution_count": 118,
   "id": "09eb2366",
   "metadata": {},
   "outputs": [
    {
     "data": {
      "text/plain": [
       "[<selenium.webdriver.remote.webelement.WebElement (session=\"7ccc8d9e9e3408e1eb82176a4655436a\", element=\"83e30b93-cc90-48e3-8b64-a07f8a70eba9\")>,\n",
       " <selenium.webdriver.remote.webelement.WebElement (session=\"7ccc8d9e9e3408e1eb82176a4655436a\", element=\"73eb6a31-c32d-42a1-8eb8-0983b2766d14\")>]"
      ]
     },
     "execution_count": 118,
     "metadata": {},
     "output_type": "execute_result"
    }
   ],
   "source": [
    "ex_del=driver.find_elements_by_xpath(\"//span[@class='a-color-base a-text-bold']\")\n",
    "ex_del[:2]"
   ]
  },
  {
   "cell_type": "code",
   "execution_count": 119,
   "id": "4e6d5dc4",
   "metadata": {},
   "outputs": [
    {
     "data": {
      "text/plain": [
       "['Saturday, May 28', 'Friday, May 27', 'Tuesday, May 24', 'Friday, May 27']"
      ]
     },
     "execution_count": 119,
     "metadata": {},
     "output_type": "execute_result"
    }
   ],
   "source": [
    "expected_delivery=[]\n",
    "for i in ex_del:\n",
    "    title1=i.text\n",
    "    expected_delivery.append(title1)\n",
    "expected_delivery[0:4]"
   ]
  },
  {
   "cell_type": "code",
   "execution_count": 120,
   "id": "cbe0522a",
   "metadata": {},
   "outputs": [
    {
     "data": {
      "text/plain": [
       "['https://www.amazon.in/gp/slredirect/picassoRedirect.html/ref=pa_sp_atf_next_aps_sr_pg2_1?ie=UTF8&adId=A0678391WRHYPDYJEURE&url=%2FTraveller-Acoustic-Guitar-Strings-Polishing%2Fdp%2FB07RK9962M%2Fref%3Dsr_1_49_sspa%3Fcrid%3D37ATJM5QNS9O8%26keywords%3Dguitar%26qid%3D1653215509%26sprefix%3Dguitar%252Caps%252C677%26sr%3D8-49-spons%26psc%3D1&qualifier=1653215509&id=4449640152570354&widgetName=sp_atf_next',\n",
       " 'https://www.amazon.in/gp/slredirect/picassoRedirect.html/ref=pa_sp_atf_next_aps_sr_pg2_1?ie=UTF8&adId=A06072772I2LJ344EB41Y&url=%2FPhotron-Acoustic-Cutaway-PH38C-BK%2Fdp%2FB076T8V8NB%2Fref%3Dsr_1_50_sspa%3Fcrid%3D37ATJM5QNS9O8%26keywords%3Dguitar%26qid%3D1653215509%26sprefix%3Dguitar%252Caps%252C677%26sr%3D8-50-spons%26psc%3D1&qualifier=1653215509&id=4449640152570354&widgetName=sp_atf_next',\n",
       " 'https://www.amazon.in/gp/slredirect/picassoRedirect.html/ref=pa_sp_atf_next_aps_sr_pg2_1?ie=UTF8&adId=A061107531TUGN5RHMV0N&url=%2FKadence-Frontier-Acoustic-Guitar-Strings%2Fdp%2FB01GDZ46AA%2Fref%3Dsr_1_51_sspa%3Fcrid%3D37ATJM5QNS9O8%26keywords%3Dguitar%26qid%3D1653215509%26smid%3DAM04Z7MH4HSDD%26sprefix%3Dguitar%252Caps%252C677%26sr%3D8-51-spons%26psc%3D1%26smid%3DAM04Z7MH4HSDD&qualifier=1653215509&id=4449640152570354&widgetName=sp_atf_next',\n",
       " 'https://www.amazon.in/gp/slredirect/picassoRedirect.html/ref=pa_sp_atf_next_aps_sr_pg2_1?ie=UTF8&adId=A0781470356P60BY9NFAO&url=%2FHOMME-STORE-Instrument-Educational-Instruments%2Fdp%2FB09MM9NBZC%2Fref%3Dsr_1_52_sspa%3Fcrid%3D37ATJM5QNS9O8%26keywords%3Dguitar%26qid%3D1653215509%26sprefix%3Dguitar%252Caps%252C677%26sr%3D8-52-spons%26psc%3D1&qualifier=1653215509&id=4449640152570354&widgetName=sp_atf_next']"
      ]
     },
     "execution_count": 120,
     "metadata": {},
     "output_type": "execute_result"
    }
   ],
   "source": [
    "url=driver.find_elements_by_xpath(\"//a[@class='a-link-normal s-no-outline']\")\n",
    "urls=[]\n",
    "for i in url:\n",
    "    link = i.get_attribute('href')\n",
    "    urls.append(link)\n",
    "urls[:4]"
   ]
  },
  {
   "cell_type": "code",
   "execution_count": 125,
   "id": "7e6ce61a",
   "metadata": {},
   "outputs": [
    {
     "data": {
      "text/plain": [
       "(60, 60, 60, 60, 60)"
      ]
     },
     "execution_count": 125,
     "metadata": {},
     "output_type": "execute_result"
    }
   ],
   "source": [
    "len(urls),len(expected_delivery),len(price),len(availability),len(pname2)"
   ]
  },
  {
   "cell_type": "code",
   "execution_count": 122,
   "id": "7a520280",
   "metadata": {},
   "outputs": [],
   "source": [
    "expected_delivery.extend([\"-\",\"-\",\"-\",\"-\",\"-\",\"-\"])\n",
    "price.extend([\"-\",\"-\"])\n",
    "availability.extend([\"-\",\"-\",\"-\",\"-\",\"-\",\"-\",\"-\",\"-\",\"-\",\"-\",\"-\",\"-\",\"-\",\"-\",\"-\",\"-\",\"-\",\"-\",\"-\",\"-\",\"-\",\"-\",\"-\",\"-\",\"-\",\"-\",\"-\",\"-\",\"-\",\"-\",\"-\",\"-\",\"-\",\"-\",\"-\",\"-\",\"-\",\"-\",\"-\",\"-\",\"-\",\"-\",\"-\",\"-\",\"-\",\"-\",\"-\",\"-\",\"-\",\"-\"])\n"
   ]
  },
  {
   "cell_type": "code",
   "execution_count": 124,
   "id": "d8872978",
   "metadata": {},
   "outputs": [],
   "source": [
    "del availability [-1]"
   ]
  },
  {
   "cell_type": "code",
   "execution_count": 126,
   "id": "650a9043",
   "metadata": {},
   "outputs": [
    {
     "data": {
      "text/html": [
       "<div>\n",
       "<style scoped>\n",
       "    .dataframe tbody tr th:only-of-type {\n",
       "        vertical-align: middle;\n",
       "    }\n",
       "\n",
       "    .dataframe tbody tr th {\n",
       "        vertical-align: top;\n",
       "    }\n",
       "\n",
       "    .dataframe thead th {\n",
       "        text-align: right;\n",
       "    }\n",
       "</style>\n",
       "<table border=\"1\" class=\"dataframe\">\n",
       "  <thead>\n",
       "    <tr style=\"text-align: right;\">\n",
       "      <th></th>\n",
       "      <th>productname</th>\n",
       "      <th>availability</th>\n",
       "      <th>price</th>\n",
       "      <th>expected_delivery</th>\n",
       "      <th>urls</th>\n",
       "    </tr>\n",
       "  </thead>\n",
       "  <tbody>\n",
       "    <tr>\n",
       "      <th>0</th>\n",
       "      <td>Sponsored\\nVault Traveller 34 Inch Acoustic Gu...</td>\n",
       "      <td>Limited time deal</td>\n",
       "      <td>3,999</td>\n",
       "      <td>Saturday, May 28</td>\n",
       "      <td>https://www.amazon.in/gp/slredirect/picassoRed...</td>\n",
       "    </tr>\n",
       "    <tr>\n",
       "      <th>1</th>\n",
       "      <td>Sponsored\\nPhotron Acoustic Guitar, 38 Inch Cu...</td>\n",
       "      <td>Limited time deal</td>\n",
       "      <td>2,490</td>\n",
       "      <td>Friday, May 27</td>\n",
       "      <td>https://www.amazon.in/gp/slredirect/picassoRed...</td>\n",
       "    </tr>\n",
       "    <tr>\n",
       "      <th>2</th>\n",
       "      <td>Sponsored\\nKadence Frontier guitar with Online...</td>\n",
       "      <td>Limited time deal</td>\n",
       "      <td>5,399</td>\n",
       "      <td>Tuesday, May 24</td>\n",
       "      <td>https://www.amazon.in/gp/slredirect/picassoRed...</td>\n",
       "    </tr>\n",
       "    <tr>\n",
       "      <th>3</th>\n",
       "      <td>Sponsored\\nHOMME STORE 4 String Guitar Childre...</td>\n",
       "      <td>Limited time deal</td>\n",
       "      <td>899</td>\n",
       "      <td>Friday, May 27</td>\n",
       "      <td>https://www.amazon.in/gp/slredirect/picassoRed...</td>\n",
       "    </tr>\n",
       "    <tr>\n",
       "      <th>4</th>\n",
       "      <td>Juârez Acoustic Guitar, 38 Inch Cutaway, 038C ...</td>\n",
       "      <td>Limited time deal</td>\n",
       "      <td>2,394</td>\n",
       "      <td>Friday, May 27</td>\n",
       "      <td>https://www.amazon.in/Ju%C3%A2rez-Acoustic-038...</td>\n",
       "    </tr>\n",
       "  </tbody>\n",
       "</table>\n",
       "</div>"
      ],
      "text/plain": [
       "                                         productname       availability  \\\n",
       "0  Sponsored\\nVault Traveller 34 Inch Acoustic Gu...  Limited time deal   \n",
       "1  Sponsored\\nPhotron Acoustic Guitar, 38 Inch Cu...  Limited time deal   \n",
       "2  Sponsored\\nKadence Frontier guitar with Online...  Limited time deal   \n",
       "3  Sponsored\\nHOMME STORE 4 String Guitar Childre...  Limited time deal   \n",
       "4  Juârez Acoustic Guitar, 38 Inch Cutaway, 038C ...  Limited time deal   \n",
       "\n",
       "   price expected_delivery                                               urls  \n",
       "0  3,999  Saturday, May 28  https://www.amazon.in/gp/slredirect/picassoRed...  \n",
       "1  2,490    Friday, May 27  https://www.amazon.in/gp/slredirect/picassoRed...  \n",
       "2  5,399   Tuesday, May 24  https://www.amazon.in/gp/slredirect/picassoRed...  \n",
       "3    899    Friday, May 27  https://www.amazon.in/gp/slredirect/picassoRed...  \n",
       "4  2,394    Friday, May 27  https://www.amazon.in/Ju%C3%A2rez-Acoustic-038...  "
      ]
     },
     "execution_count": 126,
     "metadata": {},
     "output_type": "execute_result"
    }
   ],
   "source": [
    "page2 = pd.DataFrame({})\n",
    "page2[\"productname\"] = pname2\n",
    "page2[\"availability\"]=availability\n",
    "page2[\"price\"]= price\n",
    "page2[\"expected_delivery\"]=expected_delivery\n",
    "page2[\"urls\"]=urls\n",
    "page2.head()"
   ]
  },
  {
   "cell_type": "code",
   "execution_count": 128,
   "id": "57b8afb9",
   "metadata": {},
   "outputs": [],
   "source": [
    "next_button=driver.find_element_by_xpath(\"/html/body/div[1]/div[2]/div[1]/div[1]/div/span[3]/div[2]/div[65]/div/div/span/a[4]\")\n",
    "next_button.click()"
   ]
  },
  {
   "cell_type": "code",
   "execution_count": 129,
   "id": "27e251fa",
   "metadata": {},
   "outputs": [
    {
     "data": {
      "text/plain": [
       "[<selenium.webdriver.remote.webelement.WebElement (session=\"7ccc8d9e9e3408e1eb82176a4655436a\", element=\"827b26d6-86eb-4ecf-bc5f-91f315df6bdb\")>,\n",
       " <selenium.webdriver.remote.webelement.WebElement (session=\"7ccc8d9e9e3408e1eb82176a4655436a\", element=\"ac90ff96-f936-4fa6-ab74-163a32b2567b\")>]"
      ]
     },
     "execution_count": 129,
     "metadata": {},
     "output_type": "execute_result"
    }
   ],
   "source": [
    "name2=driver.find_elements_by_xpath(\"//div[@class='a-section a-spacing-none a-spacing-top-small s-title-instructions-style']\")\n",
    "name2[:2]"
   ]
  },
  {
   "cell_type": "code",
   "execution_count": 130,
   "id": "42843327",
   "metadata": {},
   "outputs": [
    {
     "data": {
      "text/plain": [
       "['Sponsored\\nVault EA40 41 inch Premium Solid Spruce-Top Cutaway Acoustic Guitar',\n",
       " 'Sponsored\\nFestra R-40- Trussrod Acoustic Guitar Kit with Bag, Strap, One Pack Strings and Picks (Classic Maroon)',\n",
       " 'Sponsored\\nBlueberry D38 TrussRod Acoustic Guitar Kit with Bag, String,Belt & Picks (Sunburst)',\n",
       " 'Sponsored\\nSHARE BY Blueberry R-40- Trussrod Acoustic Guitar Kit with Bag, Strap, One Pack Strings and Picks (Natural)']"
      ]
     },
     "execution_count": 130,
     "metadata": {},
     "output_type": "execute_result"
    }
   ],
   "source": [
    "pname2=[]\n",
    "for i in name2:\n",
    "    title=i.text\n",
    "    pname2.append(title)\n",
    "pname2[0:4]"
   ]
  },
  {
   "cell_type": "code",
   "execution_count": 131,
   "id": "5e78a188",
   "metadata": {},
   "outputs": [
    {
     "data": {
      "text/plain": [
       "[<selenium.webdriver.remote.webelement.WebElement (session=\"7ccc8d9e9e3408e1eb82176a4655436a\", element=\"1cab251a-5350-40ba-891f-102984d0a1b6\")>,\n",
       " <selenium.webdriver.remote.webelement.WebElement (session=\"7ccc8d9e9e3408e1eb82176a4655436a\", element=\"a948cc76-672b-40dc-89ac-41c536a1ec8b\")>]"
      ]
     },
     "execution_count": 131,
     "metadata": {},
     "output_type": "execute_result"
    }
   ],
   "source": [
    "avail=driver.find_elements_by_xpath(\"//span[@class='a-badge-label-inner a-text-ellipsis']\")\n",
    "avail[:2]"
   ]
  },
  {
   "cell_type": "code",
   "execution_count": 132,
   "id": "4b6bebe3",
   "metadata": {},
   "outputs": [
    {
     "data": {
      "text/plain": [
       "['Deal of the Day',\n",
       " 'Limited time deal',\n",
       " 'Limited time deal',\n",
       " 'Best seller',\n",
       " 'Limited time deal',\n",
       " 'Best seller']"
      ]
     },
     "execution_count": 132,
     "metadata": {},
     "output_type": "execute_result"
    }
   ],
   "source": [
    "availability=[]\n",
    "for i in avail:\n",
    "    title1=i.text\n",
    "    availability.append(title1)\n",
    "availability"
   ]
  },
  {
   "cell_type": "code",
   "execution_count": 133,
   "id": "aa41c05d",
   "metadata": {},
   "outputs": [
    {
     "data": {
      "text/plain": [
       "[<selenium.webdriver.remote.webelement.WebElement (session=\"7ccc8d9e9e3408e1eb82176a4655436a\", element=\"9e38d51b-4cbc-4690-9c97-2f7c466db702\")>,\n",
       " <selenium.webdriver.remote.webelement.WebElement (session=\"7ccc8d9e9e3408e1eb82176a4655436a\", element=\"6922213d-6e47-43a9-961c-41e918760290\")>]"
      ]
     },
     "execution_count": 133,
     "metadata": {},
     "output_type": "execute_result"
    }
   ],
   "source": [
    "pri=driver.find_elements_by_xpath(\"//span[@class='a-price-whole']\")\n",
    "pri[:2]"
   ]
  },
  {
   "cell_type": "code",
   "execution_count": 134,
   "id": "3d6df663",
   "metadata": {},
   "outputs": [
    {
     "data": {
      "text/plain": [
       "['7,499', '7,499', '', '6,890']"
      ]
     },
     "execution_count": 134,
     "metadata": {},
     "output_type": "execute_result"
    }
   ],
   "source": [
    "price=[]\n",
    "for i in pri:\n",
    "    title1=i.text\n",
    "    price.append(title1)\n",
    "price[0:4]"
   ]
  },
  {
   "cell_type": "code",
   "execution_count": 135,
   "id": "0acea773",
   "metadata": {},
   "outputs": [
    {
     "data": {
      "text/plain": [
       "[<selenium.webdriver.remote.webelement.WebElement (session=\"7ccc8d9e9e3408e1eb82176a4655436a\", element=\"a226eab5-2fea-4d14-b0c4-98afdeb768bb\")>,\n",
       " <selenium.webdriver.remote.webelement.WebElement (session=\"7ccc8d9e9e3408e1eb82176a4655436a\", element=\"ce61f214-6f36-4008-acb0-7a81ae9c37a7\")>]"
      ]
     },
     "execution_count": 135,
     "metadata": {},
     "output_type": "execute_result"
    }
   ],
   "source": [
    "ex_del=driver.find_elements_by_xpath(\"//span[@class='a-color-base a-text-bold']\")\n",
    "ex_del[:2]"
   ]
  },
  {
   "cell_type": "code",
   "execution_count": 136,
   "id": "a44d65a5",
   "metadata": {},
   "outputs": [
    {
     "data": {
      "text/plain": [
       "['Thursday, May 26', 'Friday, May 27', 'Friday, May 27', 'Friday, May 27']"
      ]
     },
     "execution_count": 136,
     "metadata": {},
     "output_type": "execute_result"
    }
   ],
   "source": [
    "expected_delivery=[]\n",
    "for i in ex_del:\n",
    "    title1=i.text\n",
    "    expected_delivery.append(title1)\n",
    "expected_delivery[0:4]"
   ]
  },
  {
   "cell_type": "code",
   "execution_count": 137,
   "id": "2394c979",
   "metadata": {},
   "outputs": [
    {
     "data": {
      "text/plain": [
       "['https://www.amazon.in/gp/slredirect/picassoRedirect.html/ref=pa_sp_atf_next_aps_sr_pg3_1?ie=UTF8&adId=A07400101YBINYLP9UEXI&url=%2FPremium-Spruce-Top-Cutaway-Acoustic-Guitar%2Fdp%2FB08FFZY6BJ%2Fref%3Dsr_1_97_sspa%3Fcrid%3D37ATJM5QNS9O8%26keywords%3Dguitar%26qid%3D1653216381%26sprefix%3Dguitar%252Caps%252C677%26sr%3D8-97-spons%26psc%3D1&qualifier=1653216381&id=6041077697522909&widgetName=sp_atf_next',\n",
       " 'https://www.amazon.in/gp/slredirect/picassoRedirect.html/ref=pa_sp_atf_next_aps_sr_pg3_1?ie=UTF8&adId=A0429543ZYH6NWVXS8UU&url=%2FFestra-Trussrod-Acoustic-Strings-Classic%2Fdp%2FB09VLDCT9H%2Fref%3Dsr_1_98_sspa%3Fcrid%3D37ATJM5QNS9O8%26keywords%3Dguitar%26qid%3D1653216381%26sprefix%3Dguitar%252Caps%252C677%26sr%3D8-98-spons%26psc%3D1&qualifier=1653216381&id=6041077697522909&widgetName=sp_atf_next',\n",
       " 'https://www.amazon.in/gp/slredirect/picassoRedirect.html/ref=pa_sp_atf_next_aps_sr_pg3_1?ie=UTF8&adId=A00511333B6LTZW3VVAX9&url=%2FBlueberry-Trussrod-Acoustic-Guitar-Sunburst%2Fdp%2FB08WH5553T%2Fref%3Dsr_1_99_sspa%3Fcrid%3D37ATJM5QNS9O8%26keywords%3Dguitar%26qid%3D1653216381%26sprefix%3Dguitar%252Caps%252C677%26sr%3D8-99-spons%26psc%3D1&qualifier=1653216381&id=6041077697522909&widgetName=sp_atf_next',\n",
       " 'https://www.amazon.in/gp/slredirect/picassoRedirect.html/ref=pa_sp_atf_next_aps_sr_pg3_1?ie=UTF8&adId=A0051781CZ5EMAAQHR9T&url=%2FBlueberry-Trussrod-Acoustic-Strings-Natural%2Fdp%2FB09WLNQFC9%2Fref%3Dsr_1_100_sspa%3Fcrid%3D37ATJM5QNS9O8%26keywords%3Dguitar%26qid%3D1653216381%26sprefix%3Dguitar%252Caps%252C677%26sr%3D8-100-spons%26psc%3D1&qualifier=1653216381&id=6041077697522909&widgetName=sp_atf_next']"
      ]
     },
     "execution_count": 137,
     "metadata": {},
     "output_type": "execute_result"
    }
   ],
   "source": [
    "url=driver.find_elements_by_xpath(\"//a[@class='a-link-normal s-no-outline']\")\n",
    "urls=[]\n",
    "for i in url:\n",
    "    link = i.get_attribute('href')\n",
    "    urls.append(link)\n",
    "urls[:4]"
   ]
  },
  {
   "cell_type": "code",
   "execution_count": 140,
   "id": "4c8b162a",
   "metadata": {},
   "outputs": [
    {
     "data": {
      "text/plain": [
       "(64, 64, 64, 64, 64)"
      ]
     },
     "execution_count": 140,
     "metadata": {},
     "output_type": "execute_result"
    }
   ],
   "source": [
    "len(urls),len(expected_delivery),len(price),len(availability),len(pname2)"
   ]
  },
  {
   "cell_type": "code",
   "execution_count": 139,
   "id": "c8b0deb1",
   "metadata": {},
   "outputs": [],
   "source": [
    "pname2.extend([\"-\",\"-\",\"-\",\"-\"])\n",
    "urls.extend([\"-\",\"-\",\"-\",\"-\"])\n",
    "price.extend([\"-\"])\n",
    "availability.extend([\"-\",\"-\",\"-\",\"-\",\"-\",\"-\",\"-\",\"-\",\"-\",\"-\",\"-\",\"-\",\"-\",\"-\",\"-\",\"-\",\"-\",\"-\",\"-\",\"-\",\"-\",\"-\",\"-\",\"-\",\"-\",\"-\",\"-\",\"-\",\"-\",\"-\",\"-\",\"-\",\"-\",\"-\",\"-\",\"-\",\"-\",\"-\",\"-\",\"-\",\"-\",\"-\",\"-\",\"-\",\"-\",\"-\",\"-\",\"-\",\"-\",\"-\",\"-\",\"-\",\"-\",\"-\",\"-\",\"-\",\"-\",\"-\"])"
   ]
  },
  {
   "cell_type": "code",
   "execution_count": 141,
   "id": "e5983e78",
   "metadata": {},
   "outputs": [
    {
     "data": {
      "text/html": [
       "<div>\n",
       "<style scoped>\n",
       "    .dataframe tbody tr th:only-of-type {\n",
       "        vertical-align: middle;\n",
       "    }\n",
       "\n",
       "    .dataframe tbody tr th {\n",
       "        vertical-align: top;\n",
       "    }\n",
       "\n",
       "    .dataframe thead th {\n",
       "        text-align: right;\n",
       "    }\n",
       "</style>\n",
       "<table border=\"1\" class=\"dataframe\">\n",
       "  <thead>\n",
       "    <tr style=\"text-align: right;\">\n",
       "      <th></th>\n",
       "      <th>productname</th>\n",
       "      <th>availability</th>\n",
       "      <th>price</th>\n",
       "      <th>expected_delivery</th>\n",
       "      <th>urls</th>\n",
       "    </tr>\n",
       "  </thead>\n",
       "  <tbody>\n",
       "    <tr>\n",
       "      <th>0</th>\n",
       "      <td>Sponsored\\nVault EA40 41 inch Premium Solid Sp...</td>\n",
       "      <td>Deal of the Day</td>\n",
       "      <td>7,499</td>\n",
       "      <td>Thursday, May 26</td>\n",
       "      <td>https://www.amazon.in/gp/slredirect/picassoRed...</td>\n",
       "    </tr>\n",
       "    <tr>\n",
       "      <th>1</th>\n",
       "      <td>Sponsored\\nFestra R-40- Trussrod Acoustic Guit...</td>\n",
       "      <td>Limited time deal</td>\n",
       "      <td>7,499</td>\n",
       "      <td>Friday, May 27</td>\n",
       "      <td>https://www.amazon.in/gp/slredirect/picassoRed...</td>\n",
       "    </tr>\n",
       "    <tr>\n",
       "      <th>2</th>\n",
       "      <td>Sponsored\\nBlueberry D38 TrussRod Acoustic Gui...</td>\n",
       "      <td>Limited time deal</td>\n",
       "      <td></td>\n",
       "      <td>Friday, May 27</td>\n",
       "      <td>https://www.amazon.in/gp/slredirect/picassoRed...</td>\n",
       "    </tr>\n",
       "    <tr>\n",
       "      <th>3</th>\n",
       "      <td>Sponsored\\nSHARE BY Blueberry R-40- Trussrod A...</td>\n",
       "      <td>Best seller</td>\n",
       "      <td>6,890</td>\n",
       "      <td>Friday, May 27</td>\n",
       "      <td>https://www.amazon.in/gp/slredirect/picassoRed...</td>\n",
       "    </tr>\n",
       "    <tr>\n",
       "      <th>4</th>\n",
       "      <td>Epiphone Les Paul Express\"Travel-Size\" Electri...</td>\n",
       "      <td>Limited time deal</td>\n",
       "      <td>4,080</td>\n",
       "      <td>Thursday, May 26</td>\n",
       "      <td>https://www.amazon.in/Epiphone-Express-Travel-...</td>\n",
       "    </tr>\n",
       "  </tbody>\n",
       "</table>\n",
       "</div>"
      ],
      "text/plain": [
       "                                         productname       availability  \\\n",
       "0  Sponsored\\nVault EA40 41 inch Premium Solid Sp...    Deal of the Day   \n",
       "1  Sponsored\\nFestra R-40- Trussrod Acoustic Guit...  Limited time deal   \n",
       "2  Sponsored\\nBlueberry D38 TrussRod Acoustic Gui...  Limited time deal   \n",
       "3  Sponsored\\nSHARE BY Blueberry R-40- Trussrod A...        Best seller   \n",
       "4  Epiphone Les Paul Express\"Travel-Size\" Electri...  Limited time deal   \n",
       "\n",
       "   price expected_delivery                                               urls  \n",
       "0  7,499  Thursday, May 26  https://www.amazon.in/gp/slredirect/picassoRed...  \n",
       "1  7,499    Friday, May 27  https://www.amazon.in/gp/slredirect/picassoRed...  \n",
       "2           Friday, May 27  https://www.amazon.in/gp/slredirect/picassoRed...  \n",
       "3  6,890    Friday, May 27  https://www.amazon.in/gp/slredirect/picassoRed...  \n",
       "4  4,080  Thursday, May 26  https://www.amazon.in/Epiphone-Express-Travel-...  "
      ]
     },
     "execution_count": 141,
     "metadata": {},
     "output_type": "execute_result"
    }
   ],
   "source": [
    "page3 = pd.DataFrame({})\n",
    "page3[\"productname\"] = pname2\n",
    "page3[\"availability\"]=availability\n",
    "page3[\"price\"]= price\n",
    "page3[\"expected_delivery\"]=expected_delivery\n",
    "page3[\"urls\"]=urls\n",
    "page3.head()"
   ]
  },
  {
   "cell_type": "code",
   "execution_count": 144,
   "id": "2d1f67e6",
   "metadata": {},
   "outputs": [
    {
     "data": {
      "text/html": [
       "<div>\n",
       "<style scoped>\n",
       "    .dataframe tbody tr th:only-of-type {\n",
       "        vertical-align: middle;\n",
       "    }\n",
       "\n",
       "    .dataframe tbody tr th {\n",
       "        vertical-align: top;\n",
       "    }\n",
       "\n",
       "    .dataframe thead th {\n",
       "        text-align: right;\n",
       "    }\n",
       "</style>\n",
       "<table border=\"1\" class=\"dataframe\">\n",
       "  <thead>\n",
       "    <tr style=\"text-align: right;\">\n",
       "      <th></th>\n",
       "      <th>productname</th>\n",
       "      <th>availability</th>\n",
       "      <th>price</th>\n",
       "      <th>expected_delivery</th>\n",
       "      <th>urls</th>\n",
       "    </tr>\n",
       "  </thead>\n",
       "  <tbody>\n",
       "    <tr>\n",
       "      <th>0</th>\n",
       "      <td>Sponsored\\nKadence Frontier guitar with Online...</td>\n",
       "      <td>Limited time deal</td>\n",
       "      <td>5,399</td>\n",
       "      <td>Tomorrow, May 22</td>\n",
       "      <td>https://www.amazon.in/gp/slredirect/picassoRed...</td>\n",
       "    </tr>\n",
       "    <tr>\n",
       "      <th>1</th>\n",
       "      <td>Sponsored\\nKadence Frontier Jumbo Semi Acousti...</td>\n",
       "      <td>Limited time deal</td>\n",
       "      <td>7,348</td>\n",
       "      <td>Saturday, May 28</td>\n",
       "      <td>https://www.amazon.in/gp/slredirect/picassoRed...</td>\n",
       "    </tr>\n",
       "    <tr>\n",
       "      <th>2</th>\n",
       "      <td>Sponsored\\nVault Traveller 34 Inch Acoustic Gu...</td>\n",
       "      <td>Best seller</td>\n",
       "      <td>3,799</td>\n",
       "      <td>Friday, May 27</td>\n",
       "      <td>https://www.amazon.in/gp/slredirect/picassoRed...</td>\n",
       "    </tr>\n",
       "    <tr>\n",
       "      <th>3</th>\n",
       "      <td>Sponsored\\nBlueberry 38C, 38\" Acoustic Guitar ...</td>\n",
       "      <td>Limited time deal</td>\n",
       "      <td>2,695</td>\n",
       "      <td>Thursday, May 26</td>\n",
       "      <td>https://www.amazon.in/gp/slredirect/picassoRed...</td>\n",
       "    </tr>\n",
       "    <tr>\n",
       "      <th>4</th>\n",
       "      <td>Juârez Acoustic Guitar, 38 Inch Cutaway, 038C ...</td>\n",
       "      <td>Limited time deal</td>\n",
       "      <td>2,049</td>\n",
       "      <td>Tuesday, May 24</td>\n",
       "      <td>https://www.amazon.in/Juarez-Acoustic-Cutaway-...</td>\n",
       "    </tr>\n",
       "  </tbody>\n",
       "</table>\n",
       "</div>"
      ],
      "text/plain": [
       "                                         productname       availability  \\\n",
       "0  Sponsored\\nKadence Frontier guitar with Online...  Limited time deal   \n",
       "1  Sponsored\\nKadence Frontier Jumbo Semi Acousti...  Limited time deal   \n",
       "2  Sponsored\\nVault Traveller 34 Inch Acoustic Gu...        Best seller   \n",
       "3  Sponsored\\nBlueberry 38C, 38\" Acoustic Guitar ...  Limited time deal   \n",
       "4  Juârez Acoustic Guitar, 38 Inch Cutaway, 038C ...  Limited time deal   \n",
       "\n",
       "   price expected_delivery                                               urls  \n",
       "0  5,399  Tomorrow, May 22  https://www.amazon.in/gp/slredirect/picassoRed...  \n",
       "1  7,348  Saturday, May 28  https://www.amazon.in/gp/slredirect/picassoRed...  \n",
       "2  3,799    Friday, May 27  https://www.amazon.in/gp/slredirect/picassoRed...  \n",
       "3  2,695  Thursday, May 26  https://www.amazon.in/gp/slredirect/picassoRed...  \n",
       "4  2,049   Tuesday, May 24  https://www.amazon.in/Juarez-Acoustic-Cutaway-...  "
      ]
     },
     "execution_count": 144,
     "metadata": {},
     "output_type": "execute_result"
    }
   ],
   "source": [
    "guitar = pd.concat([page1,page2,page3])\n",
    "guitar.head()"
   ]
  },
  {
   "cell_type": "markdown",
   "id": "e21d1d29",
   "metadata": {},
   "source": [
    "3. Write a python program to access the search bar and search button on images.google.com and scrape 10\n",
    "images each for keywords ‘fruits’, ‘cars’ and ‘Machine Learning’, ‘Guitar’, ‘Cakes’."
   ]
  },
  {
   "cell_type": "code",
   "execution_count": 156,
   "id": "2b954e73",
   "metadata": {},
   "outputs": [],
   "source": [
    "driver.get(\"https://www.google.com/\")"
   ]
  },
  {
   "cell_type": "code",
   "execution_count": 147,
   "id": "87bcb598",
   "metadata": {},
   "outputs": [
    {
     "ename": "NoSuchElementException",
     "evalue": "Message: no such element: Unable to locate element: {\"method\":\"css selector\",\"selector\":\".gLFyf gsfi\"}\n  (Session info: chrome=101.0.4951.67)\nStacktrace:\nBacktrace:\n\tOrdinal0 [0x01247413+2389011]\n\tOrdinal0 [0x011D9F61+1941345]\n\tOrdinal0 [0x010CC658+837208]\n\tOrdinal0 [0x010F91DD+1020381]\n\tOrdinal0 [0x010F949B+1021083]\n\tOrdinal0 [0x01126032+1204274]\n\tOrdinal0 [0x01114194+1130900]\n\tOrdinal0 [0x01124302+1196802]\n\tOrdinal0 [0x01113F66+1130342]\n\tOrdinal0 [0x010EE546+976198]\n\tOrdinal0 [0x010EF456+980054]\n\tGetHandleVerifier [0x013F9632+1727522]\n\tGetHandleVerifier [0x014ABA4D+2457661]\n\tGetHandleVerifier [0x012DEB81+569713]\n\tGetHandleVerifier [0x012DDD76+566118]\n\tOrdinal0 [0x011E0B2B+1968939]\n\tOrdinal0 [0x011E5988+1989000]\n\tOrdinal0 [0x011E5A75+1989237]\n\tOrdinal0 [0x011EECB1+2026673]\n\tBaseThreadInitThunk [0x77396739+25]\n\tRtlGetFullPathName_UEx [0x77968FEF+1215]\n\tRtlGetFullPathName_UEx [0x77968FBD+1165]\n",
     "output_type": "error",
     "traceback": [
      "\u001b[1;31m---------------------------------------------------------------------------\u001b[0m",
      "\u001b[1;31mNoSuchElementException\u001b[0m                    Traceback (most recent call last)",
      "\u001b[1;32m~\\AppData\\Local\\Temp/ipykernel_2576/3559894343.py\u001b[0m in \u001b[0;36m<module>\u001b[1;34m\u001b[0m\n\u001b[1;32m----> 1\u001b[1;33m \u001b[0msearch_designation\u001b[0m\u001b[1;33m=\u001b[0m\u001b[0mdriver\u001b[0m\u001b[1;33m.\u001b[0m\u001b[0mfind_element_by_class_name\u001b[0m\u001b[1;33m(\u001b[0m\u001b[1;34m\"gLFyf gsfi\"\u001b[0m\u001b[1;33m)\u001b[0m\u001b[1;33m\u001b[0m\u001b[1;33m\u001b[0m\u001b[0m\n\u001b[0m\u001b[0;32m      2\u001b[0m \u001b[0msearch_designation\u001b[0m\u001b[1;33m.\u001b[0m\u001b[0msend_keys\u001b[0m\u001b[1;33m(\u001b[0m\u001b[1;34m\"images\"\u001b[0m\u001b[1;33m)\u001b[0m\u001b[1;33m\u001b[0m\u001b[1;33m\u001b[0m\u001b[0m\n",
      "\u001b[1;32m~\\anaconda3\\lib\\site-packages\\selenium\\webdriver\\remote\\webdriver.py\u001b[0m in \u001b[0;36mfind_element_by_class_name\u001b[1;34m(self, name)\u001b[0m\n\u001b[0;32m    759\u001b[0m             \u001b[0mstacklevel\u001b[0m\u001b[1;33m=\u001b[0m\u001b[1;36m2\u001b[0m\u001b[1;33m,\u001b[0m\u001b[1;33m\u001b[0m\u001b[1;33m\u001b[0m\u001b[0m\n\u001b[0;32m    760\u001b[0m         )\n\u001b[1;32m--> 761\u001b[1;33m         \u001b[1;32mreturn\u001b[0m \u001b[0mself\u001b[0m\u001b[1;33m.\u001b[0m\u001b[0mfind_element\u001b[0m\u001b[1;33m(\u001b[0m\u001b[0mby\u001b[0m\u001b[1;33m=\u001b[0m\u001b[0mBy\u001b[0m\u001b[1;33m.\u001b[0m\u001b[0mCLASS_NAME\u001b[0m\u001b[1;33m,\u001b[0m \u001b[0mvalue\u001b[0m\u001b[1;33m=\u001b[0m\u001b[0mname\u001b[0m\u001b[1;33m)\u001b[0m\u001b[1;33m\u001b[0m\u001b[1;33m\u001b[0m\u001b[0m\n\u001b[0m\u001b[0;32m    762\u001b[0m \u001b[1;33m\u001b[0m\u001b[0m\n\u001b[0;32m    763\u001b[0m     \u001b[1;32mdef\u001b[0m \u001b[0mfind_elements_by_class_name\u001b[0m\u001b[1;33m(\u001b[0m\u001b[0mself\u001b[0m\u001b[1;33m,\u001b[0m \u001b[0mname\u001b[0m\u001b[1;33m)\u001b[0m \u001b[1;33m->\u001b[0m \u001b[0mList\u001b[0m\u001b[1;33m[\u001b[0m\u001b[0mWebElement\u001b[0m\u001b[1;33m]\u001b[0m\u001b[1;33m:\u001b[0m\u001b[1;33m\u001b[0m\u001b[1;33m\u001b[0m\u001b[0m\n",
      "\u001b[1;32m~\\anaconda3\\lib\\site-packages\\selenium\\webdriver\\remote\\webdriver.py\u001b[0m in \u001b[0;36mfind_element\u001b[1;34m(self, by, value)\u001b[0m\n\u001b[0;32m   1246\u001b[0m             \u001b[0mvalue\u001b[0m \u001b[1;33m=\u001b[0m \u001b[1;34m'[name=\"%s\"]'\u001b[0m \u001b[1;33m%\u001b[0m \u001b[0mvalue\u001b[0m\u001b[1;33m\u001b[0m\u001b[1;33m\u001b[0m\u001b[0m\n\u001b[0;32m   1247\u001b[0m \u001b[1;33m\u001b[0m\u001b[0m\n\u001b[1;32m-> 1248\u001b[1;33m         return self.execute(Command.FIND_ELEMENT, {\n\u001b[0m\u001b[0;32m   1249\u001b[0m             \u001b[1;34m'using'\u001b[0m\u001b[1;33m:\u001b[0m \u001b[0mby\u001b[0m\u001b[1;33m,\u001b[0m\u001b[1;33m\u001b[0m\u001b[1;33m\u001b[0m\u001b[0m\n\u001b[0;32m   1250\u001b[0m             'value': value})['value']\n",
      "\u001b[1;32m~\\anaconda3\\lib\\site-packages\\selenium\\webdriver\\remote\\webdriver.py\u001b[0m in \u001b[0;36mexecute\u001b[1;34m(self, driver_command, params)\u001b[0m\n\u001b[0;32m    423\u001b[0m         \u001b[0mresponse\u001b[0m \u001b[1;33m=\u001b[0m \u001b[0mself\u001b[0m\u001b[1;33m.\u001b[0m\u001b[0mcommand_executor\u001b[0m\u001b[1;33m.\u001b[0m\u001b[0mexecute\u001b[0m\u001b[1;33m(\u001b[0m\u001b[0mdriver_command\u001b[0m\u001b[1;33m,\u001b[0m \u001b[0mparams\u001b[0m\u001b[1;33m)\u001b[0m\u001b[1;33m\u001b[0m\u001b[1;33m\u001b[0m\u001b[0m\n\u001b[0;32m    424\u001b[0m         \u001b[1;32mif\u001b[0m \u001b[0mresponse\u001b[0m\u001b[1;33m:\u001b[0m\u001b[1;33m\u001b[0m\u001b[1;33m\u001b[0m\u001b[0m\n\u001b[1;32m--> 425\u001b[1;33m             \u001b[0mself\u001b[0m\u001b[1;33m.\u001b[0m\u001b[0merror_handler\u001b[0m\u001b[1;33m.\u001b[0m\u001b[0mcheck_response\u001b[0m\u001b[1;33m(\u001b[0m\u001b[0mresponse\u001b[0m\u001b[1;33m)\u001b[0m\u001b[1;33m\u001b[0m\u001b[1;33m\u001b[0m\u001b[0m\n\u001b[0m\u001b[0;32m    426\u001b[0m             response['value'] = self._unwrap_value(\n\u001b[0;32m    427\u001b[0m                 response.get('value', None))\n",
      "\u001b[1;32m~\\anaconda3\\lib\\site-packages\\selenium\\webdriver\\remote\\errorhandler.py\u001b[0m in \u001b[0;36mcheck_response\u001b[1;34m(self, response)\u001b[0m\n\u001b[0;32m    245\u001b[0m                 \u001b[0malert_text\u001b[0m \u001b[1;33m=\u001b[0m \u001b[0mvalue\u001b[0m\u001b[1;33m[\u001b[0m\u001b[1;34m'alert'\u001b[0m\u001b[1;33m]\u001b[0m\u001b[1;33m.\u001b[0m\u001b[0mget\u001b[0m\u001b[1;33m(\u001b[0m\u001b[1;34m'text'\u001b[0m\u001b[1;33m)\u001b[0m\u001b[1;33m\u001b[0m\u001b[1;33m\u001b[0m\u001b[0m\n\u001b[0;32m    246\u001b[0m             \u001b[1;32mraise\u001b[0m \u001b[0mexception_class\u001b[0m\u001b[1;33m(\u001b[0m\u001b[0mmessage\u001b[0m\u001b[1;33m,\u001b[0m \u001b[0mscreen\u001b[0m\u001b[1;33m,\u001b[0m \u001b[0mstacktrace\u001b[0m\u001b[1;33m,\u001b[0m \u001b[0malert_text\u001b[0m\u001b[1;33m)\u001b[0m  \u001b[1;31m# type: ignore[call-arg]  # mypy is not smart enough here\u001b[0m\u001b[1;33m\u001b[0m\u001b[1;33m\u001b[0m\u001b[0m\n\u001b[1;32m--> 247\u001b[1;33m         \u001b[1;32mraise\u001b[0m \u001b[0mexception_class\u001b[0m\u001b[1;33m(\u001b[0m\u001b[0mmessage\u001b[0m\u001b[1;33m,\u001b[0m \u001b[0mscreen\u001b[0m\u001b[1;33m,\u001b[0m \u001b[0mstacktrace\u001b[0m\u001b[1;33m)\u001b[0m\u001b[1;33m\u001b[0m\u001b[1;33m\u001b[0m\u001b[0m\n\u001b[0m\u001b[0;32m    248\u001b[0m \u001b[1;33m\u001b[0m\u001b[0m\n\u001b[0;32m    249\u001b[0m     \u001b[1;32mdef\u001b[0m \u001b[0m_value_or_default\u001b[0m\u001b[1;33m(\u001b[0m\u001b[0mself\u001b[0m\u001b[1;33m,\u001b[0m \u001b[0mobj\u001b[0m\u001b[1;33m:\u001b[0m \u001b[0mMapping\u001b[0m\u001b[1;33m[\u001b[0m\u001b[0m_KT\u001b[0m\u001b[1;33m,\u001b[0m \u001b[0m_VT\u001b[0m\u001b[1;33m]\u001b[0m\u001b[1;33m,\u001b[0m \u001b[0mkey\u001b[0m\u001b[1;33m:\u001b[0m \u001b[0m_KT\u001b[0m\u001b[1;33m,\u001b[0m \u001b[0mdefault\u001b[0m\u001b[1;33m:\u001b[0m \u001b[0m_VT\u001b[0m\u001b[1;33m)\u001b[0m \u001b[1;33m->\u001b[0m \u001b[0m_VT\u001b[0m\u001b[1;33m:\u001b[0m\u001b[1;33m\u001b[0m\u001b[1;33m\u001b[0m\u001b[0m\n",
      "\u001b[1;31mNoSuchElementException\u001b[0m: Message: no such element: Unable to locate element: {\"method\":\"css selector\",\"selector\":\".gLFyf gsfi\"}\n  (Session info: chrome=101.0.4951.67)\nStacktrace:\nBacktrace:\n\tOrdinal0 [0x01247413+2389011]\n\tOrdinal0 [0x011D9F61+1941345]\n\tOrdinal0 [0x010CC658+837208]\n\tOrdinal0 [0x010F91DD+1020381]\n\tOrdinal0 [0x010F949B+1021083]\n\tOrdinal0 [0x01126032+1204274]\n\tOrdinal0 [0x01114194+1130900]\n\tOrdinal0 [0x01124302+1196802]\n\tOrdinal0 [0x01113F66+1130342]\n\tOrdinal0 [0x010EE546+976198]\n\tOrdinal0 [0x010EF456+980054]\n\tGetHandleVerifier [0x013F9632+1727522]\n\tGetHandleVerifier [0x014ABA4D+2457661]\n\tGetHandleVerifier [0x012DEB81+569713]\n\tGetHandleVerifier [0x012DDD76+566118]\n\tOrdinal0 [0x011E0B2B+1968939]\n\tOrdinal0 [0x011E5988+1989000]\n\tOrdinal0 [0x011E5A75+1989237]\n\tOrdinal0 [0x011EECB1+2026673]\n\tBaseThreadInitThunk [0x77396739+25]\n\tRtlGetFullPathName_UEx [0x77968FEF+1215]\n\tRtlGetFullPathName_UEx [0x77968FBD+1165]\n"
     ]
    }
   ],
   "source": [
    "search_designation=driver.find_element_by_class_name(\"gLFyf gsfi\")\n",
    "search_designation.send_keys(\"images\")"
   ]
  },
  {
   "cell_type": "code",
   "execution_count": 148,
   "id": "1d9affc5",
   "metadata": {},
   "outputs": [],
   "source": [
    "from selenium.common.exceptions import NoSuchElementException"
   ]
  },
  {
   "cell_type": "code",
   "execution_count": 157,
   "id": "d2f03a91",
   "metadata": {},
   "outputs": [],
   "source": [
    "try:\n",
    "    search_designation=driver.find_element_by_xpath(\"/html/body/div[1]/div[3]/form/div[1]/div[1]/div[1]/div/div[2]/input\")\n",
    "    search_designation.click()\n",
    "except NoSuchElementException as e:\n",
    "    print(e)"
   ]
  },
  {
   "cell_type": "code",
   "execution_count": 158,
   "id": "9892bc8a",
   "metadata": {},
   "outputs": [],
   "source": [
    "search_option=driver.find_element_by_xpath(\"/html/body/div[1]/div[3]/form/div[1]/div[1]/div[1]/div/div[2]/input\")\n",
    "search_option.send_keys(\"fruits\")"
   ]
  },
  {
   "cell_type": "code",
   "execution_count": 160,
   "id": "928b6cc3",
   "metadata": {},
   "outputs": [],
   "source": [
    "try:\n",
    "    search_button=driver.find_element_by_xpath(\"/html/body/div[1]/div[3]/form/div[1]/div[1]/div[3]/center/input[1]\")\n",
    "    search_button.click()\n",
    "except NoSuchElementException as e:\n",
    "    print(e)\n"
   ]
  },
  {
   "cell_type": "code",
   "execution_count": 161,
   "id": "71ede634",
   "metadata": {},
   "outputs": [],
   "source": [
    "images=driver.find_element_by_xpath(\"/html/body/div[7]/div/div[4]/div/div[1]/div/div[1]/div/div[2]/a\")\n",
    "images.click()"
   ]
  },
  {
   "cell_type": "code",
   "execution_count": 162,
   "id": "456d28d7",
   "metadata": {},
   "outputs": [
    {
     "data": {
      "text/plain": [
       "[<selenium.webdriver.remote.webelement.WebElement (session=\"7ccc8d9e9e3408e1eb82176a4655436a\", element=\"c50856ff-6211-49d8-b930-fe8b73396d31\")>,\n",
       " <selenium.webdriver.remote.webelement.WebElement (session=\"7ccc8d9e9e3408e1eb82176a4655436a\", element=\"183482df-6912-45c2-b3c7-0464d8c14a6a\")>]"
      ]
     },
     "execution_count": 162,
     "metadata": {},
     "output_type": "execute_result"
    }
   ],
   "source": [
    "image=driver.find_elements_by_xpath(\"//img[@class='rg_i Q4LuWd']\")\n",
    "image[:2]"
   ]
  },
  {
   "cell_type": "code",
   "execution_count": 163,
   "id": "e90724b9",
   "metadata": {},
   "outputs": [
    {
     "data": {
      "text/plain": [
       "['', '', '', '']"
      ]
     },
     "execution_count": 163,
     "metadata": {},
     "output_type": "execute_result"
    }
   ],
   "source": [
    "fruits=[]\n",
    "for i in image:\n",
    "    title1=i.text\n",
    "    fruits.append(title1)\n",
    "fruits[0:4]"
   ]
  },
  {
   "cell_type": "code",
   "execution_count": 164,
   "id": "758ff99d",
   "metadata": {},
   "outputs": [
    {
     "data": {
      "text/plain": [
       "['data:image/jpeg;base64,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',\n",
       " 'data:image/jpeg;base64,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',\n",
       " 'data:image/jpeg;base64,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',\n",
       " 'data:image/jpeg;base64,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']"
      ]
     },
     "execution_count": 164,
     "metadata": {},
     "output_type": "execute_result"
    }
   ],
   "source": [
    "url=driver.find_elements_by_xpath(\"//img[@class='rg_i Q4LuWd']\")\n",
    "urls=[]\n",
    "for i in url:\n",
    "    link = i.get_attribute('src')\n",
    "    urls.append(link)\n",
    "urls[:4]"
   ]
  },
  {
   "cell_type": "code",
   "execution_count": 176,
   "id": "6792262a",
   "metadata": {},
   "outputs": [],
   "source": [
    "driver.get(\"https://www.google.com/\")"
   ]
  },
  {
   "cell_type": "code",
   "execution_count": 177,
   "id": "d569afcb",
   "metadata": {},
   "outputs": [],
   "source": [
    "try:\n",
    "    search_designation=driver.find_element_by_xpath(\"/html/body/div[1]/div[3]/form/div[1]/div[1]/div[1]/div/div[2]/input\")\n",
    "    search_designation.click()\n",
    "except NoSuchElementException as e:\n",
    "    print(e)"
   ]
  },
  {
   "cell_type": "code",
   "execution_count": 178,
   "id": "e1d2fbb2",
   "metadata": {},
   "outputs": [],
   "source": [
    "search_option=driver.find_element_by_xpath(\"/html/body/div[1]/div[3]/form/div[1]/div[1]/div[1]/div/div[2]/input\")\n",
    "search_option.send_keys(\"guitar\")"
   ]
  },
  {
   "cell_type": "code",
   "execution_count": 181,
   "id": "b3ce1a1f",
   "metadata": {},
   "outputs": [],
   "source": [
    "from selenium.common.exceptions import ElementClickInterceptedException\n",
    "try:\n",
    "    search_button=driver.find_element_by_xpath(\"/html/body/div[1]/div[3]/form/div[1]/div[1]/div[2]/div[2]/div[5]/center/input[1]\")\n",
    "    search_button.click()\n",
    "except ElementClickInterceptedException as e:\n",
    "    print(e)"
   ]
  },
  {
   "cell_type": "code",
   "execution_count": 182,
   "id": "35581720",
   "metadata": {},
   "outputs": [],
   "source": [
    "images=driver.find_element_by_xpath(\"/html/body/div[7]/div/div[4]/div/div[1]/div/div[1]/div/div[3]/a\")\n",
    "images.click()"
   ]
  },
  {
   "cell_type": "code",
   "execution_count": 183,
   "id": "53a500b9",
   "metadata": {},
   "outputs": [
    {
     "data": {
      "text/plain": [
       "['data:image/jpeg;base64,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',\n",
       " 'data:image/jpeg;base64,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',\n",
       " 'data:image/jpeg;base64,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',\n",
       " 'data:image/jpeg;base64,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']"
      ]
     },
     "execution_count": 183,
     "metadata": {},
     "output_type": "execute_result"
    }
   ],
   "source": [
    "guitar=driver.find_elements_by_xpath(\"//img[@class='rg_i Q4LuWd']\")\n",
    "guitars=[]\n",
    "for i in guitar:\n",
    "    link = i.get_attribute('src')\n",
    "    guitars.append(link)\n",
    "guitars[:4]"
   ]
  },
  {
   "cell_type": "code",
   "execution_count": 184,
   "id": "a8b30d5a",
   "metadata": {},
   "outputs": [],
   "source": [
    "driver.get(\"https://www.google.com/\")"
   ]
  },
  {
   "cell_type": "code",
   "execution_count": 185,
   "id": "020cd46a",
   "metadata": {},
   "outputs": [],
   "source": [
    "try:\n",
    "    search_designation=driver.find_element_by_xpath(\"/html/body/div[1]/div[3]/form/div[1]/div[1]/div[1]/div/div[2]/input\")\n",
    "    search_designation.click()\n",
    "except NoSuchElementException as e:\n",
    "    print(e)"
   ]
  },
  {
   "cell_type": "code",
   "execution_count": 186,
   "id": "d20ab228",
   "metadata": {},
   "outputs": [],
   "source": [
    "search_option=driver.find_element_by_xpath(\"/html/body/div[1]/div[3]/form/div[1]/div[1]/div[1]/div/div[2]/input\")\n",
    "search_option.send_keys(\"car\")"
   ]
  },
  {
   "cell_type": "code",
   "execution_count": 187,
   "id": "605dd0eb",
   "metadata": {},
   "outputs": [],
   "source": [
    "try:\n",
    "    search_button=driver.find_element_by_xpath(\"/html/body/div[1]/div[3]/form/div[1]/div[1]/div[2]/div[2]/div[5]/center/input[1]\")\n",
    "    search_button.click()\n",
    "except ElementClickInterceptedException as e:\n",
    "    print(e)"
   ]
  },
  {
   "cell_type": "code",
   "execution_count": 188,
   "id": "8a0625ad",
   "metadata": {},
   "outputs": [],
   "source": [
    "images=driver.find_element_by_xpath(\"/html/body/div[7]/div/div[4]/div/div[1]/div/div[1]/div/div[2]/a\")\n",
    "images.click()"
   ]
  },
  {
   "cell_type": "code",
   "execution_count": 189,
   "id": "edcc937e",
   "metadata": {},
   "outputs": [
    {
     "data": {
      "text/plain": [
       "['data:image/jpeg;base64,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',\n",
       " 'data:image/jpeg;base64,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',\n",
       " 'data:image/jpeg;base64,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',\n",
       " 'data:image/jpeg;base64,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']"
      ]
     },
     "execution_count": 189,
     "metadata": {},
     "output_type": "execute_result"
    }
   ],
   "source": [
    "car=driver.find_elements_by_xpath(\"//img[@class='rg_i Q4LuWd']\")\n",
    "cars=[]\n",
    "for i in car:\n",
    "    link = i.get_attribute('src')\n",
    "    cars.append(link)\n",
    "cars[:4]"
   ]
  },
  {
   "cell_type": "code",
   "execution_count": 190,
   "id": "163fb05b",
   "metadata": {},
   "outputs": [],
   "source": [
    "driver.get(\"https://www.google.com/\")"
   ]
  },
  {
   "cell_type": "code",
   "execution_count": 191,
   "id": "af941d8e",
   "metadata": {},
   "outputs": [],
   "source": [
    "try:\n",
    "    search_designation=driver.find_element_by_xpath(\"/html/body/div[1]/div[3]/form/div[1]/div[1]/div[1]/div/div[2]/input\")\n",
    "    search_designation.click()\n",
    "except NoSuchElementException as e:\n",
    "    print(e)"
   ]
  },
  {
   "cell_type": "code",
   "execution_count": 192,
   "id": "27aa1b72",
   "metadata": {},
   "outputs": [],
   "source": [
    "search_option=driver.find_element_by_xpath(\"/html/body/div[1]/div[3]/form/div[1]/div[1]/div[1]/div/div[2]/input\")\n",
    "search_option.send_keys(\"Machine learning\")"
   ]
  },
  {
   "cell_type": "code",
   "execution_count": 193,
   "id": "06bbfff0",
   "metadata": {},
   "outputs": [],
   "source": [
    "try:\n",
    "    search_button=driver.find_element_by_xpath(\"/html/body/div[1]/div[3]/form/div[1]/div[1]/div[2]/div[2]/div[5]/center/input[1]\")\n",
    "    search_button.click()\n",
    "except ElementClickInterceptedException as e:\n",
    "    print(e)"
   ]
  },
  {
   "cell_type": "code",
   "execution_count": 194,
   "id": "f5498171",
   "metadata": {},
   "outputs": [],
   "source": [
    "images=driver.find_element_by_xpath(\"/html/body/div[7]/div/div[4]/div/div[1]/div/div[1]/div/div[3]/a\")\n",
    "images.click()"
   ]
  },
  {
   "cell_type": "code",
   "execution_count": 195,
   "id": "5359de0f",
   "metadata": {},
   "outputs": [
    {
     "data": {
      "text/plain": [
       "['data:image/png;base64,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',\n",
       " 'data:image/jpeg;base64,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',\n",
       " 'data:image/jpeg;base64,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',\n",
       " 'data:image/jpeg;base64,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']"
      ]
     },
     "execution_count": 195,
     "metadata": {},
     "output_type": "execute_result"
    }
   ],
   "source": [
    "ml=driver.find_elements_by_xpath(\"//img[@class='rg_i Q4LuWd']\")\n",
    "machine_learning=[]\n",
    "for i in ml:\n",
    "    link = i.get_attribute('src')\n",
    "    machine_learning.append(link)\n",
    "machine_learning[:4]"
   ]
  },
  {
   "cell_type": "code",
   "execution_count": 196,
   "id": "f1c716f8",
   "metadata": {},
   "outputs": [],
   "source": [
    "driver.get(\"https://www.google.com/\")"
   ]
  },
  {
   "cell_type": "code",
   "execution_count": 197,
   "id": "eb9f636f",
   "metadata": {},
   "outputs": [],
   "source": [
    "try:\n",
    "    search_designation=driver.find_element_by_xpath(\"/html/body/div[1]/div[3]/form/div[1]/div[1]/div[1]/div/div[2]/input\")\n",
    "    search_designation.click()\n",
    "except NoSuchElementException as e:\n",
    "    print(e)"
   ]
  },
  {
   "cell_type": "code",
   "execution_count": 198,
   "id": "322aed0d",
   "metadata": {},
   "outputs": [],
   "source": [
    "search_option=driver.find_element_by_xpath(\"/html/body/div[1]/div[3]/form/div[1]/div[1]/div[1]/div/div[2]/input\")\n",
    "search_option.send_keys(\"cakes\")"
   ]
  },
  {
   "cell_type": "code",
   "execution_count": 199,
   "id": "d1b6b7ae",
   "metadata": {},
   "outputs": [],
   "source": [
    "try:\n",
    "    search_button=driver.find_element_by_xpath(\"/html/body/div[1]/div[3]/form/div[1]/div[1]/div[2]/div[2]/div[5]/center/input[1]\")\n",
    "    search_button.click()\n",
    "except ElementClickInterceptedException as e:\n",
    "    print(e)"
   ]
  },
  {
   "cell_type": "code",
   "execution_count": 200,
   "id": "39834485",
   "metadata": {},
   "outputs": [],
   "source": [
    "images=driver.find_element_by_xpath(\"/html/body/div[7]/div/div[4]/div/div[1]/div/div[1]/div/div[2]/a\")\n",
    "images.click()"
   ]
  },
  {
   "cell_type": "code",
   "execution_count": 201,
   "id": "a150c6f7",
   "metadata": {},
   "outputs": [
    {
     "data": {
      "text/plain": [
       "['data:image/jpeg;base64,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',\n",
       " 'data:image/jpeg;base64,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',\n",
       " 'data:image/jpeg;base64,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',\n",
       " 'data:image/jpeg;base64,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']"
      ]
     },
     "execution_count": 201,
     "metadata": {},
     "output_type": "execute_result"
    }
   ],
   "source": [
    "cake=driver.find_elements_by_xpath(\"//img[@class='rg_i Q4LuWd']\")\n",
    "cakes=[]\n",
    "for i in cake:\n",
    "    link = i.get_attribute('src')\n",
    "    cakes.append(link)\n",
    "cakes[:4]"
   ]
  },
  {
   "cell_type": "code",
   "execution_count": 203,
   "id": "1c231546",
   "metadata": {},
   "outputs": [
    {
     "data": {
      "text/plain": [
       "(48, 48, 48, 48, 48)"
      ]
     },
     "execution_count": 203,
     "metadata": {},
     "output_type": "execute_result"
    }
   ],
   "source": [
    "len(urls),len(cars),len(cakes),len(machine_learning),len(guitars)"
   ]
  },
  {
   "cell_type": "code",
   "execution_count": 204,
   "id": "47ee13fc",
   "metadata": {},
   "outputs": [
    {
     "data": {
      "text/html": [
       "<div>\n",
       "<style scoped>\n",
       "    .dataframe tbody tr th:only-of-type {\n",
       "        vertical-align: middle;\n",
       "    }\n",
       "\n",
       "    .dataframe tbody tr th {\n",
       "        vertical-align: top;\n",
       "    }\n",
       "\n",
       "    .dataframe thead th {\n",
       "        text-align: right;\n",
       "    }\n",
       "</style>\n",
       "<table border=\"1\" class=\"dataframe\">\n",
       "  <thead>\n",
       "    <tr style=\"text-align: right;\">\n",
       "      <th></th>\n",
       "      <th>fruits</th>\n",
       "      <th>cars</th>\n",
       "      <th>cakes</th>\n",
       "      <th>machine_learning</th>\n",
       "      <th>guitars</th>\n",
       "    </tr>\n",
       "  </thead>\n",
       "  <tbody>\n",
       "    <tr>\n",
       "      <th>0</th>\n",
       "      <td>data:image/jpeg;base64,/9j/4AAQSkZJRgABAQAAAQA...</td>\n",
       "      <td>data:image/jpeg;base64,/9j/4AAQSkZJRgABAQAAAQA...</td>\n",
       "      <td>data:image/jpeg;base64,/9j/4AAQSkZJRgABAQAAAQA...</td>\n",
       "      <td>data:image/png;base64,iVBORw0KGgoAAAANSUhEUgAA...</td>\n",
       "      <td>data:image/jpeg;base64,/9j/4AAQSkZJRgABAQAAAQA...</td>\n",
       "    </tr>\n",
       "    <tr>\n",
       "      <th>1</th>\n",
       "      <td>data:image/jpeg;base64,/9j/4AAQSkZJRgABAQAAAQA...</td>\n",
       "      <td>data:image/jpeg;base64,/9j/4AAQSkZJRgABAQAAAQA...</td>\n",
       "      <td>data:image/jpeg;base64,/9j/4AAQSkZJRgABAQAAAQA...</td>\n",
       "      <td>data:image/jpeg;base64,/9j/4AAQSkZJRgABAQAAAQA...</td>\n",
       "      <td>data:image/jpeg;base64,/9j/4AAQSkZJRgABAQAAAQA...</td>\n",
       "    </tr>\n",
       "    <tr>\n",
       "      <th>2</th>\n",
       "      <td>data:image/jpeg;base64,/9j/4AAQSkZJRgABAQAAAQA...</td>\n",
       "      <td>data:image/jpeg;base64,/9j/4AAQSkZJRgABAQAAAQA...</td>\n",
       "      <td>data:image/jpeg;base64,/9j/4AAQSkZJRgABAQAAAQA...</td>\n",
       "      <td>data:image/jpeg;base64,/9j/4AAQSkZJRgABAQAAAQA...</td>\n",
       "      <td>data:image/jpeg;base64,/9j/4AAQSkZJRgABAQAAAQA...</td>\n",
       "    </tr>\n",
       "    <tr>\n",
       "      <th>3</th>\n",
       "      <td>data:image/jpeg;base64,/9j/4AAQSkZJRgABAQAAAQA...</td>\n",
       "      <td>data:image/jpeg;base64,/9j/4AAQSkZJRgABAQAAAQA...</td>\n",
       "      <td>data:image/jpeg;base64,/9j/4AAQSkZJRgABAQAAAQA...</td>\n",
       "      <td>data:image/jpeg;base64,/9j/4AAQSkZJRgABAQAAAQA...</td>\n",
       "      <td>data:image/jpeg;base64,/9j/4AAQSkZJRgABAQAAAQA...</td>\n",
       "    </tr>\n",
       "    <tr>\n",
       "      <th>4</th>\n",
       "      <td>data:image/jpeg;base64,/9j/4AAQSkZJRgABAQAAAQA...</td>\n",
       "      <td>data:image/jpeg;base64,/9j/4AAQSkZJRgABAQAAAQA...</td>\n",
       "      <td>data:image/jpeg;base64,/9j/4AAQSkZJRgABAQAAAQA...</td>\n",
       "      <td>data:image/jpeg;base64,/9j/4AAQSkZJRgABAQAAAQA...</td>\n",
       "      <td>data:image/jpeg;base64,/9j/4AAQSkZJRgABAQAAAQA...</td>\n",
       "    </tr>\n",
       "    <tr>\n",
       "      <th>5</th>\n",
       "      <td>data:image/jpeg;base64,/9j/4AAQSkZJRgABAQAAAQA...</td>\n",
       "      <td>data:image/jpeg;base64,/9j/4AAQSkZJRgABAQAAAQA...</td>\n",
       "      <td>data:image/jpeg;base64,/9j/4AAQSkZJRgABAQAAAQA...</td>\n",
       "      <td>data:image/jpeg;base64,/9j/4AAQSkZJRgABAQAAAQA...</td>\n",
       "      <td>data:image/jpeg;base64,/9j/4AAQSkZJRgABAQAAAQA...</td>\n",
       "    </tr>\n",
       "    <tr>\n",
       "      <th>6</th>\n",
       "      <td>data:image/jpeg;base64,/9j/4AAQSkZJRgABAQAAAQA...</td>\n",
       "      <td>data:image/jpeg;base64,/9j/4AAQSkZJRgABAQAAAQA...</td>\n",
       "      <td>data:image/jpeg;base64,/9j/4AAQSkZJRgABAQAAAQA...</td>\n",
       "      <td>data:image/jpeg;base64,/9j/4AAQSkZJRgABAQAAAQA...</td>\n",
       "      <td>data:image/jpeg;base64,/9j/4AAQSkZJRgABAQAAAQA...</td>\n",
       "    </tr>\n",
       "    <tr>\n",
       "      <th>7</th>\n",
       "      <td>data:image/jpeg;base64,/9j/4AAQSkZJRgABAQAAAQA...</td>\n",
       "      <td>data:image/jpeg;base64,/9j/4AAQSkZJRgABAQAAAQA...</td>\n",
       "      <td>data:image/jpeg;base64,/9j/4AAQSkZJRgABAQAAAQA...</td>\n",
       "      <td>data:image/jpeg;base64,/9j/4AAQSkZJRgABAQAAAQA...</td>\n",
       "      <td>data:image/jpeg;base64,/9j/4AAQSkZJRgABAQAAAQA...</td>\n",
       "    </tr>\n",
       "    <tr>\n",
       "      <th>8</th>\n",
       "      <td>data:image/jpeg;base64,/9j/4AAQSkZJRgABAQAAAQA...</td>\n",
       "      <td>data:image/jpeg;base64,/9j/4AAQSkZJRgABAQAAAQA...</td>\n",
       "      <td>data:image/jpeg;base64,/9j/4AAQSkZJRgABAQAAAQA...</td>\n",
       "      <td>data:image/png;base64,iVBORw0KGgoAAAANSUhEUgAA...</td>\n",
       "      <td>data:image/jpeg;base64,/9j/4AAQSkZJRgABAQAAAQA...</td>\n",
       "    </tr>\n",
       "    <tr>\n",
       "      <th>9</th>\n",
       "      <td>data:image/jpeg;base64,/9j/4AAQSkZJRgABAQAAAQA...</td>\n",
       "      <td>data:image/jpeg;base64,/9j/4AAQSkZJRgABAQAAAQA...</td>\n",
       "      <td>data:image/jpeg;base64,/9j/4AAQSkZJRgABAQAAAQA...</td>\n",
       "      <td>data:image/jpeg;base64,/9j/4AAQSkZJRgABAQAAAQA...</td>\n",
       "      <td>data:image/jpeg;base64,/9j/4AAQSkZJRgABAQAAAQA...</td>\n",
       "    </tr>\n",
       "  </tbody>\n",
       "</table>\n",
       "</div>"
      ],
      "text/plain": [
       "                                              fruits  \\\n",
       "0  data:image/jpeg;base64,/9j/4AAQSkZJRgABAQAAAQA...   \n",
       "1  data:image/jpeg;base64,/9j/4AAQSkZJRgABAQAAAQA...   \n",
       "2  data:image/jpeg;base64,/9j/4AAQSkZJRgABAQAAAQA...   \n",
       "3  data:image/jpeg;base64,/9j/4AAQSkZJRgABAQAAAQA...   \n",
       "4  data:image/jpeg;base64,/9j/4AAQSkZJRgABAQAAAQA...   \n",
       "5  data:image/jpeg;base64,/9j/4AAQSkZJRgABAQAAAQA...   \n",
       "6  data:image/jpeg;base64,/9j/4AAQSkZJRgABAQAAAQA...   \n",
       "7  data:image/jpeg;base64,/9j/4AAQSkZJRgABAQAAAQA...   \n",
       "8  data:image/jpeg;base64,/9j/4AAQSkZJRgABAQAAAQA...   \n",
       "9  data:image/jpeg;base64,/9j/4AAQSkZJRgABAQAAAQA...   \n",
       "\n",
       "                                                cars  \\\n",
       "0  data:image/jpeg;base64,/9j/4AAQSkZJRgABAQAAAQA...   \n",
       "1  data:image/jpeg;base64,/9j/4AAQSkZJRgABAQAAAQA...   \n",
       "2  data:image/jpeg;base64,/9j/4AAQSkZJRgABAQAAAQA...   \n",
       "3  data:image/jpeg;base64,/9j/4AAQSkZJRgABAQAAAQA...   \n",
       "4  data:image/jpeg;base64,/9j/4AAQSkZJRgABAQAAAQA...   \n",
       "5  data:image/jpeg;base64,/9j/4AAQSkZJRgABAQAAAQA...   \n",
       "6  data:image/jpeg;base64,/9j/4AAQSkZJRgABAQAAAQA...   \n",
       "7  data:image/jpeg;base64,/9j/4AAQSkZJRgABAQAAAQA...   \n",
       "8  data:image/jpeg;base64,/9j/4AAQSkZJRgABAQAAAQA...   \n",
       "9  data:image/jpeg;base64,/9j/4AAQSkZJRgABAQAAAQA...   \n",
       "\n",
       "                                               cakes  \\\n",
       "0  data:image/jpeg;base64,/9j/4AAQSkZJRgABAQAAAQA...   \n",
       "1  data:image/jpeg;base64,/9j/4AAQSkZJRgABAQAAAQA...   \n",
       "2  data:image/jpeg;base64,/9j/4AAQSkZJRgABAQAAAQA...   \n",
       "3  data:image/jpeg;base64,/9j/4AAQSkZJRgABAQAAAQA...   \n",
       "4  data:image/jpeg;base64,/9j/4AAQSkZJRgABAQAAAQA...   \n",
       "5  data:image/jpeg;base64,/9j/4AAQSkZJRgABAQAAAQA...   \n",
       "6  data:image/jpeg;base64,/9j/4AAQSkZJRgABAQAAAQA...   \n",
       "7  data:image/jpeg;base64,/9j/4AAQSkZJRgABAQAAAQA...   \n",
       "8  data:image/jpeg;base64,/9j/4AAQSkZJRgABAQAAAQA...   \n",
       "9  data:image/jpeg;base64,/9j/4AAQSkZJRgABAQAAAQA...   \n",
       "\n",
       "                                    machine_learning  \\\n",
       "0  data:image/png;base64,iVBORw0KGgoAAAANSUhEUgAA...   \n",
       "1  data:image/jpeg;base64,/9j/4AAQSkZJRgABAQAAAQA...   \n",
       "2  data:image/jpeg;base64,/9j/4AAQSkZJRgABAQAAAQA...   \n",
       "3  data:image/jpeg;base64,/9j/4AAQSkZJRgABAQAAAQA...   \n",
       "4  data:image/jpeg;base64,/9j/4AAQSkZJRgABAQAAAQA...   \n",
       "5  data:image/jpeg;base64,/9j/4AAQSkZJRgABAQAAAQA...   \n",
       "6  data:image/jpeg;base64,/9j/4AAQSkZJRgABAQAAAQA...   \n",
       "7  data:image/jpeg;base64,/9j/4AAQSkZJRgABAQAAAQA...   \n",
       "8  data:image/png;base64,iVBORw0KGgoAAAANSUhEUgAA...   \n",
       "9  data:image/jpeg;base64,/9j/4AAQSkZJRgABAQAAAQA...   \n",
       "\n",
       "                                             guitars  \n",
       "0  data:image/jpeg;base64,/9j/4AAQSkZJRgABAQAAAQA...  \n",
       "1  data:image/jpeg;base64,/9j/4AAQSkZJRgABAQAAAQA...  \n",
       "2  data:image/jpeg;base64,/9j/4AAQSkZJRgABAQAAAQA...  \n",
       "3  data:image/jpeg;base64,/9j/4AAQSkZJRgABAQAAAQA...  \n",
       "4  data:image/jpeg;base64,/9j/4AAQSkZJRgABAQAAAQA...  \n",
       "5  data:image/jpeg;base64,/9j/4AAQSkZJRgABAQAAAQA...  \n",
       "6  data:image/jpeg;base64,/9j/4AAQSkZJRgABAQAAAQA...  \n",
       "7  data:image/jpeg;base64,/9j/4AAQSkZJRgABAQAAAQA...  \n",
       "8  data:image/jpeg;base64,/9j/4AAQSkZJRgABAQAAAQA...  \n",
       "9  data:image/jpeg;base64,/9j/4AAQSkZJRgABAQAAAQA...  "
      ]
     },
     "execution_count": 204,
     "metadata": {},
     "output_type": "execute_result"
    }
   ],
   "source": [
    "various_images = pd.DataFrame({})\n",
    "various_images[\"fruits\"] = urls\n",
    "various_images[\"cars\"]=cars\n",
    "various_images[\"cakes\"]= cakes\n",
    "various_images[\"machine_learning\"]=machine_learning\n",
    "various_images[\"guitars\"]=guitars\n",
    "various_images.head(10)"
   ]
  },
  {
   "cell_type": "markdown",
   "id": "5bfb74d6",
   "metadata": {},
   "source": [
    "4. Write a python program to search for a smartphone(e.g.: Oneplus Nord, pixel 4A, etc.) on\n",
    "www.flipkart.com and scrape following details for all the search results displayed on 1st page. Details to be \n",
    "scraped: “Brand Name”, “Smartphone name”, “Colour”, “RAM”, “Storage(ROM)”, “Primary Camera”, \n",
    "“Secondary Camera”, “Display Size”, “Battery Capacity”, “Price”, “Product URL”. Incase if any of the \n",
    "details is missing then replace it by “- “. Save your results in a dataframe and CSV.\n"
   ]
  },
  {
   "cell_type": "code",
   "execution_count": 205,
   "id": "bbec7a7a",
   "metadata": {},
   "outputs": [],
   "source": [
    "driver.get(\"http://www.flipkart.com/\")"
   ]
  },
  {
   "cell_type": "code",
   "execution_count": 206,
   "id": "93131af5",
   "metadata": {},
   "outputs": [],
   "source": [
    "try:\n",
    "    search_designation=driver.find_element_by_class_name(\"_3704LK\")\n",
    "    search_designation.click()\n",
    "except ElementNotInteractableException as e:\n",
    "    print(e)"
   ]
  },
  {
   "cell_type": "code",
   "execution_count": 207,
   "id": "956d6a80",
   "metadata": {},
   "outputs": [],
   "source": [
    "search_option=driver.find_element_by_xpath(\"/html/body/div[1]/div/div[1]/div[1]/div[2]/div[2]/form/div/div/input\")\n",
    "search_option.send_keys(\"Oneplus Nord, pixel 4A\")"
   ]
  },
  {
   "cell_type": "code",
   "execution_count": 209,
   "id": "a04894af",
   "metadata": {},
   "outputs": [],
   "source": [
    "search_button=driver.find_element_by_class_name(\"L0Z3Pu\")\n",
    "search_button.click()"
   ]
  },
  {
   "cell_type": "code",
   "execution_count": 210,
   "id": "e04718c7",
   "metadata": {},
   "outputs": [
    {
     "data": {
      "text/plain": [
       "[<selenium.webdriver.remote.webelement.WebElement (session=\"7ccc8d9e9e3408e1eb82176a4655436a\", element=\"dcba572e-2577-4edb-8750-74fd2127583e\")>,\n",
       " <selenium.webdriver.remote.webelement.WebElement (session=\"7ccc8d9e9e3408e1eb82176a4655436a\", element=\"649f4408-1558-424d-bed4-d32f80a2c31a\")>]"
      ]
     },
     "execution_count": 210,
     "metadata": {},
     "output_type": "execute_result"
    }
   ],
   "source": [
    "name=driver.find_elements_by_xpath(\"//div[@class='_4rR01T']\")\n",
    "name[:2]"
   ]
  },
  {
   "cell_type": "code",
   "execution_count": 211,
   "id": "ee3322ac",
   "metadata": {},
   "outputs": [
    {
     "data": {
      "text/plain": [
       "['OnePlus Nord 2 5G (Gray Sierra, 128 GB)',\n",
       " 'OnePlus Nord 2 5G (Blue Haze, 256 GB)',\n",
       " 'OnePlus Nord 2 5G (Blue Haze, 128 GB)',\n",
       " 'OnePlus 9RT 5G (Nano Silver, 128 GB)']"
      ]
     },
     "execution_count": 211,
     "metadata": {},
     "output_type": "execute_result"
    }
   ],
   "source": [
    "product_name=[]\n",
    "for i in name:\n",
    "    title1=i.text\n",
    "    product_name.append(title1)\n",
    "product_name[0:4]"
   ]
  },
  {
   "cell_type": "code",
   "execution_count": 212,
   "id": "b9e511fa",
   "metadata": {},
   "outputs": [
    {
     "data": {
      "text/plain": [
       "[<selenium.webdriver.remote.webelement.WebElement (session=\"7ccc8d9e9e3408e1eb82176a4655436a\", element=\"16988b96-dbed-44bd-8947-a406b26ea82f\")>,\n",
       " <selenium.webdriver.remote.webelement.WebElement (session=\"7ccc8d9e9e3408e1eb82176a4655436a\", element=\"c474663e-cbdc-441e-be8c-417607bfceb4\")>]"
      ]
     },
     "execution_count": 212,
     "metadata": {},
     "output_type": "execute_result"
    }
   ],
   "source": [
    "price=driver.find_elements_by_xpath(\"//div[@class='_30jeq3 _1_WHN1']\")\n",
    "price[:2]"
   ]
  },
  {
   "cell_type": "code",
   "execution_count": 213,
   "id": "46914bb4",
   "metadata": {},
   "outputs": [
    {
     "data": {
      "text/plain": [
       "['₹29,197', '₹34,987', '₹29,563', '₹40,999']"
      ]
     },
     "execution_count": 213,
     "metadata": {},
     "output_type": "execute_result"
    }
   ],
   "source": [
    "product_price=[]\n",
    "for i in price:\n",
    "    title1=i.text\n",
    "    product_price.append(title1)\n",
    "product_price[0:4]"
   ]
  },
  {
   "cell_type": "code",
   "execution_count": 214,
   "id": "2b19f2d3",
   "metadata": {},
   "outputs": [
    {
     "data": {
      "text/plain": [
       "[<selenium.webdriver.remote.webelement.WebElement (session=\"7ccc8d9e9e3408e1eb82176a4655436a\", element=\"4a07b3aa-04cb-496b-ba11-ce7b901c6815\")>,\n",
       " <selenium.webdriver.remote.webelement.WebElement (session=\"7ccc8d9e9e3408e1eb82176a4655436a\", element=\"62773bc9-9846-4460-97e4-d94f946b4919\")>]"
      ]
     },
     "execution_count": 214,
     "metadata": {},
     "output_type": "execute_result"
    }
   ],
   "source": [
    "ram_rom=driver.find_elements_by_xpath(\"//li[@class='rgWa7D']\")\n",
    "ram_rom[:2]"
   ]
  },
  {
   "cell_type": "code",
   "execution_count": 218,
   "id": "051a4c43",
   "metadata": {},
   "outputs": [
    {
     "data": {
      "text/plain": [
       "['8 GB RAM | 128 GB ROM',\n",
       " '16.33 cm (6.43 inch) Display',\n",
       " '50MP Rear Camera',\n",
       " '4500 mAh Battery',\n",
       " '1 year Warranty',\n",
       " '12 GB RAM | 256 GB ROM',\n",
       " '16.33 cm (6.43 inch) Display',\n",
       " '50MP Rear Camera',\n",
       " '4500 mAh Battery',\n",
       " '1 year Warranty',\n",
       " '8 GB RAM | 128 GB ROM',\n",
       " '16.33 cm (6.43 inch) Display',\n",
       " '50MP Rear Camera',\n",
       " '4500 mAh Battery',\n",
       " '1 year Warranty',\n",
       " '8 GB RAM | 128 GB ROM',\n",
       " '16.81 cm (6.62 inch) Display',\n",
       " '50MP Rear Camera',\n",
       " '4500 mAh Battery',\n",
       " '12 months',\n",
       " '12 GB RAM | 256 GB ROM',\n",
       " '16.64 cm (6.55 inch) Display',\n",
       " '48MP Rear Camera',\n",
       " '4500 mAh Battery',\n",
       " '12 months',\n",
       " '12 GB RAM | 256 GB ROM',\n",
       " '16.81 cm (6.62 inch) Display',\n",
       " '50MP Rear Camera',\n",
       " '4500 mAh Battery',\n",
       " '12 months',\n",
       " '8 GB RAM | 128 GB ROM',\n",
       " '16.33 cm (6.43 inch) Display',\n",
       " '64MP Rear Camera',\n",
       " '4500 mAh Battery',\n",
       " '1 Year Warranty',\n",
       " '12 GB RAM | 256 GB ROM',\n",
       " '17.02 cm (6.7 inch) Display',\n",
       " '48MP Rear Camera',\n",
       " '4500 mAh Battery',\n",
       " '1 Year',\n",
       " '12 GB RAM | 256 GB ROM',\n",
       " '16.64 cm (6.55 inch) Display',\n",
       " '48MP Rear Camera',\n",
       " '4500 mAh Battery',\n",
       " '12 months',\n",
       " '8 GB RAM | 128 GB ROM',\n",
       " '16.81 cm (6.62 inch) Display',\n",
       " '50MP Rear Camera',\n",
       " '4500 mAh Battery',\n",
       " '12 months',\n",
       " '12 GB RAM | 256 GB ROM',\n",
       " '16.64 cm (6.55 inch) Display',\n",
       " '48MP + 2MP + 16MP',\n",
       " '4300 mAh Battery',\n",
       " 'Qualcomm Snapdragon 865 Processor',\n",
       " '1 year manufacturer warranty for device and 6 months manufacturer warranty for in-box accessories',\n",
       " '12 GB RAM | 256 GB ROM',\n",
       " '17.02 cm (6.7 inch) Display',\n",
       " '48MP Rear Camera',\n",
       " '4500 mAh Battery',\n",
       " '1 Year',\n",
       " '12 GB RAM | 256 GB ROM',\n",
       " '16.64 cm (6.55 inch) Display',\n",
       " '48MP Rear Camera',\n",
       " '4500 mAh Battery',\n",
       " '1 Year',\n",
       " '8 GB RAM | 128 GB ROM',\n",
       " '16.64 cm (6.55 inch) Display',\n",
       " '48MP Rear Camera',\n",
       " '4500 mAh Battery',\n",
       " '12 months',\n",
       " '8 GB RAM | 128 GB ROM',\n",
       " '16.64 cm (6.55 inch) Display',\n",
       " '48MP Rear Camera',\n",
       " '4500 mAh Battery',\n",
       " '12 months',\n",
       " '12 GB RAM | 256 GB ROM',\n",
       " '16.81 cm (6.62 inch) Display',\n",
       " '48MP Rear Camera',\n",
       " '4500 mAh Battery',\n",
       " '12 months',\n",
       " '8 GB RAM | 128 GB ROM',\n",
       " '16.64 cm (6.55 inch) Display',\n",
       " '48MP Rear Camera',\n",
       " '4500 mAh Battery',\n",
       " '12 months',\n",
       " '8 GB RAM | 128 GB ROM',\n",
       " '17.02 cm (6.7 inch) Display',\n",
       " '48MP Rear Camera',\n",
       " '4500 mAh Battery',\n",
       " '1 Year',\n",
       " '32 MB RAM | 64 MB ROM',\n",
       " '3.66 cm (1.44 inch) Display',\n",
       " '0.2MP Rear Camera',\n",
       " '400 mAh Battery',\n",
       " '0 0 0 0MHz Processor',\n",
       " '1 year brand Service Center Warranty',\n",
       " '4 GB RAM | 32 GB ROM | Expandable Upto 256 GB',\n",
       " '13.97 cm (5.5 inch) Full HD Display',\n",
       " '23MP Rear Camera | 8MP Front Camera',\n",
       " '3430 mAh Battery',\n",
       " 'Helio P20 Octa Core 64bit Processor',\n",
       " '1 Year Manufacturer Warranty',\n",
       " '3 GB RAM | 32 GB ROM',\n",
       " '16.51 cm (6.5 inch) HD+ Display',\n",
       " '8MP + 2MP | 5MP Front Camera',\n",
       " '4950 mAh Li-ion Battery',\n",
       " 'Unisoc SC9863A Processor',\n",
       " '1 year replacement guarantee',\n",
       " 'Jio Exclusive up to 10% price support. Jio customers can also get additional benefits worth ?4000',\n",
       " 'V-notch screen',\n",
       " 'LED flash',\n",
       " 'expandable up to 128GB',\n",
       " 'up to 2-days battery life with a 5000 mAh battery',\n",
       " 'Android 11 Go Edition with 2 years of quarterly security updates',\n",
       " '1 Year Manufacturer Warranty For Device and Battery and 6 Months Manufacturer Warranty for In-box Accessories From the Date of Purchase',\n",
       " '2 GB RAM | 32 GB ROM',\n",
       " '16.51 cm (6.5 inch) HD+ Display',\n",
       " '8MP + 2MP | 5MP Front Camera',\n",
       " '5000 mAh Li-ion Battery',\n",
       " 'Unisoc SC9863A Processor',\n",
       " '1 year replacement guarantee',\n",
       " 'Jio Exclusive up to 10% price support. Jio customers can also get additional benefits worth ?4000',\n",
       " 'V-notch screen',\n",
       " 'LED flash',\n",
       " 'expandable up to 128GB',\n",
       " 'up to 2-days battery life with a 5000 mAh battery',\n",
       " 'Android 11 Go Edition with 2 years of quarterly security updates',\n",
       " '1 Year Manufacturer Warranty For Device and Battery and 6 Months Manufacturer Warranty for In-box Accessories From the Date of Purchase',\n",
       " '32 MB RAM | 32 MB ROM',\n",
       " '6.1 cm (2.4 inch) Display',\n",
       " '1.3MP Rear Camera',\n",
       " '2700 mAh Battery',\n",
       " '1 Year',\n",
       " '2 GB RAM | 32 GB ROM',\n",
       " '16.51 cm (6.5 inch) HD+ Display',\n",
       " '8MP + 2MP | 5MP Front Camera',\n",
       " '5000 mAh Li-ion Battery',\n",
       " 'Unisoc SC9863A Processor',\n",
       " '1 year replacement guarantee',\n",
       " 'Jio Exclusive up to 10% price support. Jio customers can also get additional benefits worth ?4000',\n",
       " 'V-notch screen',\n",
       " 'LED flash',\n",
       " 'expandable up to 128GB',\n",
       " 'up to 2-days battery life with a 5000 mAh battery',\n",
       " 'Android 11 Go Edition with 2 years of quarterly security updates',\n",
       " '1 Year Manufacturer Warranty For Device and Battery and 6 Months Manufacturer Warranty for In-box Accessories From the Date of Purchase']"
      ]
     },
     "execution_count": 218,
     "metadata": {},
     "output_type": "execute_result"
    }
   ],
   "source": [
    "ram_rom_size=[]\n",
    "for i in ram_rom:\n",
    "    title1=i.text\n",
    "    ram_rom_size.append(title1)\n",
    "ram_rom_size"
   ]
  },
  {
   "cell_type": "code",
   "execution_count": null,
   "id": "54228dbe",
   "metadata": {},
   "outputs": [],
   "source": [
    "ram_rom_size."
   ]
  },
  {
   "cell_type": "code",
   "execution_count": 216,
   "id": "d75dc3b8",
   "metadata": {},
   "outputs": [
    {
     "data": {
      "text/plain": [
       "(147, 24, 24)"
      ]
     },
     "execution_count": 216,
     "metadata": {},
     "output_type": "execute_result"
    }
   ],
   "source": [
    "len(ram_rom_size),len(product_price),len(product_name)"
   ]
  },
  {
   "cell_type": "code",
   "execution_count": 217,
   "id": "9d1420e4",
   "metadata": {},
   "outputs": [
    {
     "data": {
      "text/plain": [
       "6.125"
      ]
     },
     "execution_count": 217,
     "metadata": {},
     "output_type": "execute_result"
    }
   ],
   "source": [
    "147/24\n"
   ]
  },
  {
   "cell_type": "code",
   "execution_count": 221,
   "id": "81f757f0",
   "metadata": {},
   "outputs": [],
   "source": [
    "l=[['8 GB RAM | 128 GB ROM',\n",
    " '16.33 cm (6.43 inch) Display',\n",
    " '50MP Rear Camera',\n",
    " '4500 mAh Battery',\n",
    " '1 year Warranty'],\n",
    " ['12 GB RAM | 256 GB ROM',\n",
    " '16.33 cm (6.43 inch) Display',\n",
    " '50MP Rear Camera',\n",
    " '4500 mAh Battery',\n",
    " '1 year Warranty'],\n",
    " ['8 GB RAM | 128 GB ROM',\n",
    " '16.33 cm (6.43 inch) Display',\n",
    " '50MP Rear Camera',\n",
    " '4500 mAh Battery',\n",
    " '1 year Warranty'],\n",
    " ['8 GB RAM | 128 GB ROM',\n",
    " '16.81 cm (6.62 inch) Display',\n",
    " '50MP Rear Camera',\n",
    " '4500 mAh Battery',\n",
    " '12 months'],\n",
    " ['12 GB RAM | 256 GB ROM',\n",
    " '16.64 cm (6.55 inch) Display',\n",
    " '48MP Rear Camera',\n",
    " '4500 mAh Battery',\n",
    " '12 months'],\n",
    " ['12 GB RAM | 256 GB ROM',\n",
    " '16.81 cm (6.62 inch) Display',\n",
    " '50MP Rear Camera',\n",
    " '4500 mAh Battery',\n",
    " '12 months'],\n",
    " ['8 GB RAM | 128 GB ROM',\n",
    " '16.33 cm (6.43 inch) Display',\n",
    " '64MP Rear Camera',\n",
    " '4500 mAh Battery',\n",
    " '1 Year Warranty'],\n",
    " ['12 GB RAM | 256 GB ROM',\n",
    " '17.02 cm (6.7 inch) Display',\n",
    " '48MP Rear Camera',\n",
    " '4500 mAh Battery',\n",
    " '1 Year'],\n",
    " ['12 GB RAM | 256 GB ROM',\n",
    " '16.64 cm (6.55 inch) Display',\n",
    " '48MP Rear Camera',\n",
    " '4500 mAh Battery',\n",
    " '12 months'],\n",
    " ['8 GB RAM | 128 GB ROM',\n",
    " '16.81 cm (6.62 inch) Display',\n",
    " '50MP Rear Camera',\n",
    " '4500 mAh Battery',\n",
    " '12 months'],\n",
    " ['12 GB RAM | 256 GB ROM',\n",
    " '16.64 cm (6.55 inch) Display',\n",
    " '48MP + 2MP + 16MP',\n",
    " '4300 mAh Battery',\n",
    " 'Qualcomm Snapdragon 865 Processor',\n",
    " '1 year manufacturer warranty for device and 6 months manufacturer warranty for in-box accessories'],\n",
    " ['12 GB RAM | 256 GB ROM',\n",
    " '17.02 cm (6.7 inch) Display',\n",
    " '48MP Rear Camera',\n",
    " '4500 mAh Battery',\n",
    " '1 Year'],\n",
    " ['12 GB RAM | 256 GB ROM',\n",
    " '16.64 cm (6.55 inch) Display',\n",
    " '48MP Rear Camera',\n",
    " '4500 mAh Battery',\n",
    " '1 Year'],\n",
    " ['8 GB RAM | 128 GB ROM',\n",
    " '16.64 cm (6.55 inch) Display',\n",
    " '48MP Rear Camera',\n",
    " '4500 mAh Battery',\n",
    " '12 months'],\n",
    " ['8 GB RAM | 128 GB ROM',\n",
    " '16.64 cm (6.55 inch) Display',\n",
    " '48MP Rear Camera',\n",
    " '4500 mAh Battery',\n",
    " '12 months'],\n",
    " ['12 GB RAM | 256 GB ROM',\n",
    " '16.81 cm (6.62 inch) Display',\n",
    " '48MP Rear Camera',\n",
    " '4500 mAh Battery',\n",
    " '12 months'],\n",
    " ['8 GB RAM | 128 GB ROM',\n",
    " '16.64 cm (6.55 inch) Display',\n",
    " '48MP Rear Camera',\n",
    " '4500 mAh Battery',\n",
    " '12 months'],\n",
    " ['8 GB RAM | 128 GB ROM',\n",
    " '17.02 cm (6.7 inch) Display',\n",
    " '48MP Rear Camera',\n",
    " '4500 mAh Battery',\n",
    " '1 Year'],\n",
    " ['32 MB RAM | 64 MB ROM',\n",
    " '3.66 cm (1.44 inch) Display',\n",
    " '0.2MP Rear Camera',\n",
    " '400 mAh Battery',\n",
    " '0 0 0 0MHz Processor',\n",
    " '1 year brand Service Center Warranty'],\n",
    " ['4 GB RAM | 32 GB ROM | Expandable Upto 256 GB',\n",
    " '13.97 cm (5.5 inch) Full HD Display',\n",
    " '23MP Rear Camera | 8MP Front Camera',\n",
    " '3430 mAh Battery',\n",
    " 'Helio P20 Octa Core 64bit Processor',\n",
    " '1 Year Manufacturer Warranty'],\n",
    " ['3 GB RAM | 32 GB ROM',\n",
    " '16.51 cm (6.5 inch) HD+ Display',\n",
    " '8MP + 2MP | 5MP Front Camera',\n",
    " '4950 mAh Li-ion Battery',\n",
    " 'Unisoc SC9863A Processor',\n",
    " '1 year replacement guarantee',\n",
    " 'Jio Exclusive up to 10% price support. Jio customers can also get additional benefits worth ?4000',\n",
    " 'V-notch screen',\n",
    " 'LED flash',\n",
    " 'expandable up to 128GB',\n",
    " 'up to 2-days battery life with a 5000 mAh battery',\n",
    " 'Android 11 Go Edition with 2 years of quarterly security updates',\n",
    " '1 Year Manufacturer Warranty For Device and Battery and 6 Months Manufacturer Warranty for In-box Accessories From the Date of Purchase'],\n",
    " ['2 GB RAM | 32 GB ROM',\n",
    " '16.51 cm (6.5 inch) HD+ Display',\n",
    " '8MP + 2MP | 5MP Front Camera',\n",
    " '5000 mAh Li-ion Battery',\n",
    " 'Unisoc SC9863A Processor',\n",
    " '1 year replacement guarantee',\n",
    " 'Jio Exclusive up to 10% price support. Jio customers can also get additional benefits worth ?4000',\n",
    " 'V-notch screen',\n",
    " 'LED flash',\n",
    " 'expandable up to 128GB',\n",
    " 'up to 2-days battery life with a 5000 mAh battery',\n",
    " 'Android 11 Go Edition with 2 years of quarterly security updates',\n",
    " '1 Year Manufacturer Warranty For Device and Battery and 6 Months Manufacturer Warranty for In-box Accessories From the Date of Purchase'],\n",
    " ['32 MB RAM | 32 MB ROM',\n",
    " '6.1 cm (2.4 inch) Display',\n",
    " '1.3MP Rear Camera',\n",
    " '2700 mAh Battery',\n",
    " '1 Year'],\n",
    " ['2 GB RAM | 32 GB ROM',\n",
    " '16.51 cm (6.5 inch) HD+ Display',\n",
    " '8MP + 2MP | 5MP Front Camera',\n",
    " '5000 mAh Li-ion Battery',\n",
    " 'Unisoc SC9863A Processor',\n",
    " '1 year replacement guarantee',\n",
    " 'Jio Exclusive up to 10% price support. Jio customers can also get additional benefits worth ?4000',\n",
    " 'V-notch screen',\n",
    " 'LED flash',\n",
    " 'expandable up to 128GB',\n",
    " 'up to 2-days battery life with a 5000 mAh battery',\n",
    " 'Android 11 Go Edition with 2 years of quarterly security updates',\n",
    " '1 Year Manufacturer Warranty For Device and Battery and 6 Months Manufacturer Warranty for In-box Accessories From the Date of Purchase']]"
   ]
  },
  {
   "cell_type": "code",
   "execution_count": 222,
   "id": "4437b320",
   "metadata": {},
   "outputs": [
    {
     "data": {
      "text/plain": [
       "24"
      ]
     },
     "execution_count": 222,
     "metadata": {},
     "output_type": "execute_result"
    }
   ],
   "source": [
    "len(l)"
   ]
  },
  {
   "cell_type": "code",
   "execution_count": 223,
   "id": "79f34dcc",
   "metadata": {},
   "outputs": [
    {
     "data": {
      "text/html": [
       "<div>\n",
       "<style scoped>\n",
       "    .dataframe tbody tr th:only-of-type {\n",
       "        vertical-align: middle;\n",
       "    }\n",
       "\n",
       "    .dataframe tbody tr th {\n",
       "        vertical-align: top;\n",
       "    }\n",
       "\n",
       "    .dataframe thead th {\n",
       "        text-align: right;\n",
       "    }\n",
       "</style>\n",
       "<table border=\"1\" class=\"dataframe\">\n",
       "  <thead>\n",
       "    <tr style=\"text-align: right;\">\n",
       "      <th></th>\n",
       "      <th>product name and color</th>\n",
       "      <th>price</th>\n",
       "      <th>ram / rom / camera / processor / battery</th>\n",
       "    </tr>\n",
       "  </thead>\n",
       "  <tbody>\n",
       "    <tr>\n",
       "      <th>0</th>\n",
       "      <td>OnePlus Nord 2 5G (Gray Sierra, 128 GB)</td>\n",
       "      <td>₹29,197</td>\n",
       "      <td>[8 GB RAM | 128 GB ROM, 16.33 cm (6.43 inch) D...</td>\n",
       "    </tr>\n",
       "    <tr>\n",
       "      <th>1</th>\n",
       "      <td>OnePlus Nord 2 5G (Blue Haze, 256 GB)</td>\n",
       "      <td>₹34,987</td>\n",
       "      <td>[12 GB RAM | 256 GB ROM, 16.33 cm (6.43 inch) ...</td>\n",
       "    </tr>\n",
       "    <tr>\n",
       "      <th>2</th>\n",
       "      <td>OnePlus Nord 2 5G (Blue Haze, 128 GB)</td>\n",
       "      <td>₹29,563</td>\n",
       "      <td>[8 GB RAM | 128 GB ROM, 16.33 cm (6.43 inch) D...</td>\n",
       "    </tr>\n",
       "    <tr>\n",
       "      <th>3</th>\n",
       "      <td>OnePlus 9RT 5G (Nano Silver, 128 GB)</td>\n",
       "      <td>₹40,999</td>\n",
       "      <td>[8 GB RAM | 128 GB ROM, 16.81 cm (6.62 inch) D...</td>\n",
       "    </tr>\n",
       "    <tr>\n",
       "      <th>4</th>\n",
       "      <td>OnePlus 9R 5G (Carbon Black, 256 GB)</td>\n",
       "      <td>₹42,490</td>\n",
       "      <td>[12 GB RAM | 256 GB ROM, 16.64 cm (6.55 inch) ...</td>\n",
       "    </tr>\n",
       "    <tr>\n",
       "      <th>5</th>\n",
       "      <td>OnePlus 9RT 5G (Hacker Black, 256 GB)</td>\n",
       "      <td>₹44,299</td>\n",
       "      <td>[12 GB RAM | 256 GB ROM, 16.81 cm (6.62 inch) ...</td>\n",
       "    </tr>\n",
       "    <tr>\n",
       "      <th>6</th>\n",
       "      <td>OnePlus Nord CE 2 5G (Bahama Blue, 128 GB)</td>\n",
       "      <td>₹24,998</td>\n",
       "      <td>[8 GB RAM | 128 GB ROM, 16.33 cm (6.43 inch) D...</td>\n",
       "    </tr>\n",
       "    <tr>\n",
       "      <th>7</th>\n",
       "      <td>OnePlus 9 Pro 5G (Pine Green, 256 GB)</td>\n",
       "      <td>₹53,161</td>\n",
       "      <td>[12 GB RAM | 256 GB ROM, 17.02 cm (6.7 inch) D...</td>\n",
       "    </tr>\n",
       "    <tr>\n",
       "      <th>8</th>\n",
       "      <td>OnePlus 9 5G (Arctic Sky, 256 GB)</td>\n",
       "      <td>₹44,300</td>\n",
       "      <td>[12 GB RAM | 256 GB ROM, 16.64 cm (6.55 inch) ...</td>\n",
       "    </tr>\n",
       "    <tr>\n",
       "      <th>9</th>\n",
       "      <td>OnePlus 9RT 5G (Hacker Black, 128 GB)</td>\n",
       "      <td>₹40,800</td>\n",
       "      <td>[8 GB RAM | 128 GB ROM, 16.81 cm (6.62 inch) D...</td>\n",
       "    </tr>\n",
       "    <tr>\n",
       "      <th>10</th>\n",
       "      <td>OnePlus 8 (Glacial Green, 256 GB)</td>\n",
       "      <td>₹39,999</td>\n",
       "      <td>[12 GB RAM | 256 GB ROM, 16.64 cm (6.55 inch) ...</td>\n",
       "    </tr>\n",
       "    <tr>\n",
       "      <th>11</th>\n",
       "      <td>OnePlus 9 Pro 5G (Morning Mist, 256 GB)</td>\n",
       "      <td>₹56,999</td>\n",
       "      <td>[12 GB RAM | 256 GB ROM, 17.02 cm (6.7 inch) D...</td>\n",
       "    </tr>\n",
       "    <tr>\n",
       "      <th>12</th>\n",
       "      <td>OnePlus 9 5G (Winter Mist, 256 GB)</td>\n",
       "      <td>₹42,939</td>\n",
       "      <td>[12 GB RAM | 256 GB ROM, 16.64 cm (6.55 inch) ...</td>\n",
       "    </tr>\n",
       "    <tr>\n",
       "      <th>13</th>\n",
       "      <td>OnePlus 9 5G (Arctic Sky, 128 GB)</td>\n",
       "      <td>₹37,297</td>\n",
       "      <td>[8 GB RAM | 128 GB ROM, 16.64 cm (6.55 inch) D...</td>\n",
       "    </tr>\n",
       "    <tr>\n",
       "      <th>14</th>\n",
       "      <td>OnePlus 8T 5G (Aquamarine Green, 128 GB)</td>\n",
       "      <td>₹39,890</td>\n",
       "      <td>[8 GB RAM | 128 GB ROM, 16.64 cm (6.55 inch) D...</td>\n",
       "    </tr>\n",
       "    <tr>\n",
       "      <th>15</th>\n",
       "      <td>OnePlus 9 5G (Astral Black, 256 GB)</td>\n",
       "      <td>₹44,990</td>\n",
       "      <td>[12 GB RAM | 256 GB ROM, 16.81 cm (6.62 inch) ...</td>\n",
       "    </tr>\n",
       "    <tr>\n",
       "      <th>16</th>\n",
       "      <td>OnePlus 9 5G (Astral Black, 128 GB)</td>\n",
       "      <td>₹37,490</td>\n",
       "      <td>[8 GB RAM | 128 GB ROM, 16.64 cm (6.55 inch) D...</td>\n",
       "    </tr>\n",
       "    <tr>\n",
       "      <th>17</th>\n",
       "      <td>OnePlus 9 Pro (Pine Green, 128 GB)</td>\n",
       "      <td>₹49,999</td>\n",
       "      <td>[8 GB RAM | 128 GB ROM, 17.02 cm (6.7 inch) Di...</td>\n",
       "    </tr>\n",
       "    <tr>\n",
       "      <th>18</th>\n",
       "      <td>Kechaoda K66 The Music House 4</td>\n",
       "      <td>₹1,300</td>\n",
       "      <td>[32 MB RAM | 64 MB ROM, 3.66 cm (1.44 inch) Di...</td>\n",
       "    </tr>\n",
       "    <tr>\n",
       "      <th>19</th>\n",
       "      <td>SONY Xperia XA1 Plus (Black, 32 GB)</td>\n",
       "      <td>₹19,990</td>\n",
       "      <td>[4 GB RAM | 32 GB ROM | Expandable Upto 256 GB...</td>\n",
       "    </tr>\n",
       "    <tr>\n",
       "      <th>20</th>\n",
       "      <td>Nokia C20 Plus Smartphone (Ocean Blue, 32 GB)</td>\n",
       "      <td>₹8,999</td>\n",
       "      <td>[3 GB RAM | 32 GB ROM, 16.51 cm (6.5 inch) HD+...</td>\n",
       "    </tr>\n",
       "    <tr>\n",
       "      <th>21</th>\n",
       "      <td>Nokia C20 Plus Smartphone (Ocean Blue, 32 GB)</td>\n",
       "      <td>₹7,999</td>\n",
       "      <td>[2 GB RAM | 32 GB ROM, 16.51 cm (6.5 inch) HD+...</td>\n",
       "    </tr>\n",
       "    <tr>\n",
       "      <th>22</th>\n",
       "      <td>Salora KT24+ Vishaal</td>\n",
       "      <td>₹1,699</td>\n",
       "      <td>[32 MB RAM | 32 MB ROM, 6.1 cm (2.4 inch) Disp...</td>\n",
       "    </tr>\n",
       "    <tr>\n",
       "      <th>23</th>\n",
       "      <td>Nokia C20 Plus Smartphone (Dark Grey, 32 GB)</td>\n",
       "      <td>₹7,999</td>\n",
       "      <td>[2 GB RAM | 32 GB ROM, 16.51 cm (6.5 inch) HD+...</td>\n",
       "    </tr>\n",
       "  </tbody>\n",
       "</table>\n",
       "</div>"
      ],
      "text/plain": [
       "                           product name and color    price  \\\n",
       "0         OnePlus Nord 2 5G (Gray Sierra, 128 GB)  ₹29,197   \n",
       "1           OnePlus Nord 2 5G (Blue Haze, 256 GB)  ₹34,987   \n",
       "2           OnePlus Nord 2 5G (Blue Haze, 128 GB)  ₹29,563   \n",
       "3            OnePlus 9RT 5G (Nano Silver, 128 GB)  ₹40,999   \n",
       "4            OnePlus 9R 5G (Carbon Black, 256 GB)  ₹42,490   \n",
       "5           OnePlus 9RT 5G (Hacker Black, 256 GB)  ₹44,299   \n",
       "6      OnePlus Nord CE 2 5G (Bahama Blue, 128 GB)  ₹24,998   \n",
       "7           OnePlus 9 Pro 5G (Pine Green, 256 GB)  ₹53,161   \n",
       "8               OnePlus 9 5G (Arctic Sky, 256 GB)  ₹44,300   \n",
       "9           OnePlus 9RT 5G (Hacker Black, 128 GB)  ₹40,800   \n",
       "10              OnePlus 8 (Glacial Green, 256 GB)  ₹39,999   \n",
       "11        OnePlus 9 Pro 5G (Morning Mist, 256 GB)  ₹56,999   \n",
       "12             OnePlus 9 5G (Winter Mist, 256 GB)  ₹42,939   \n",
       "13              OnePlus 9 5G (Arctic Sky, 128 GB)  ₹37,297   \n",
       "14       OnePlus 8T 5G (Aquamarine Green, 128 GB)  ₹39,890   \n",
       "15            OnePlus 9 5G (Astral Black, 256 GB)  ₹44,990   \n",
       "16            OnePlus 9 5G (Astral Black, 128 GB)  ₹37,490   \n",
       "17             OnePlus 9 Pro (Pine Green, 128 GB)  ₹49,999   \n",
       "18                 Kechaoda K66 The Music House 4   ₹1,300   \n",
       "19            SONY Xperia XA1 Plus (Black, 32 GB)  ₹19,990   \n",
       "20  Nokia C20 Plus Smartphone (Ocean Blue, 32 GB)   ₹8,999   \n",
       "21  Nokia C20 Plus Smartphone (Ocean Blue, 32 GB)   ₹7,999   \n",
       "22                           Salora KT24+ Vishaal   ₹1,699   \n",
       "23   Nokia C20 Plus Smartphone (Dark Grey, 32 GB)   ₹7,999   \n",
       "\n",
       "             ram / rom / camera / processor / battery  \n",
       "0   [8 GB RAM | 128 GB ROM, 16.33 cm (6.43 inch) D...  \n",
       "1   [12 GB RAM | 256 GB ROM, 16.33 cm (6.43 inch) ...  \n",
       "2   [8 GB RAM | 128 GB ROM, 16.33 cm (6.43 inch) D...  \n",
       "3   [8 GB RAM | 128 GB ROM, 16.81 cm (6.62 inch) D...  \n",
       "4   [12 GB RAM | 256 GB ROM, 16.64 cm (6.55 inch) ...  \n",
       "5   [12 GB RAM | 256 GB ROM, 16.81 cm (6.62 inch) ...  \n",
       "6   [8 GB RAM | 128 GB ROM, 16.33 cm (6.43 inch) D...  \n",
       "7   [12 GB RAM | 256 GB ROM, 17.02 cm (6.7 inch) D...  \n",
       "8   [12 GB RAM | 256 GB ROM, 16.64 cm (6.55 inch) ...  \n",
       "9   [8 GB RAM | 128 GB ROM, 16.81 cm (6.62 inch) D...  \n",
       "10  [12 GB RAM | 256 GB ROM, 16.64 cm (6.55 inch) ...  \n",
       "11  [12 GB RAM | 256 GB ROM, 17.02 cm (6.7 inch) D...  \n",
       "12  [12 GB RAM | 256 GB ROM, 16.64 cm (6.55 inch) ...  \n",
       "13  [8 GB RAM | 128 GB ROM, 16.64 cm (6.55 inch) D...  \n",
       "14  [8 GB RAM | 128 GB ROM, 16.64 cm (6.55 inch) D...  \n",
       "15  [12 GB RAM | 256 GB ROM, 16.81 cm (6.62 inch) ...  \n",
       "16  [8 GB RAM | 128 GB ROM, 16.64 cm (6.55 inch) D...  \n",
       "17  [8 GB RAM | 128 GB ROM, 17.02 cm (6.7 inch) Di...  \n",
       "18  [32 MB RAM | 64 MB ROM, 3.66 cm (1.44 inch) Di...  \n",
       "19  [4 GB RAM | 32 GB ROM | Expandable Upto 256 GB...  \n",
       "20  [3 GB RAM | 32 GB ROM, 16.51 cm (6.5 inch) HD+...  \n",
       "21  [2 GB RAM | 32 GB ROM, 16.51 cm (6.5 inch) HD+...  \n",
       "22  [32 MB RAM | 32 MB ROM, 6.1 cm (2.4 inch) Disp...  \n",
       "23  [2 GB RAM | 32 GB ROM, 16.51 cm (6.5 inch) HD+...  "
      ]
     },
     "execution_count": 223,
     "metadata": {},
     "output_type": "execute_result"
    }
   ],
   "source": [
    "phone_details = pd.DataFrame({})\n",
    "phone_details[\"product name and color\"] = product_name\n",
    "phone_details[\"price\"]=product_price\n",
    "phone_details[\"ram / rom / camera / processor / battery\"]= l\n",
    "phone_details"
   ]
  },
  {
   "cell_type": "markdown",
   "id": "b3675ea1",
   "metadata": {},
   "source": [
    "5. Write a program to scrap geospatial coordinates (latitude, longitude) of a city searched on google\n",
    "maps.\n"
   ]
  },
  {
   "cell_type": "code",
   "execution_count": 231,
   "id": "86d687e8",
   "metadata": {},
   "outputs": [],
   "source": [
    "driver.get(\"https://www.google.com/\")"
   ]
  },
  {
   "cell_type": "code",
   "execution_count": 232,
   "id": "55b6925a",
   "metadata": {},
   "outputs": [],
   "source": [
    "try:\n",
    "    search_designation=driver.find_element_by_xpath(\"/html/body/div[1]/div[3]/form/div[1]/div[1]/div[1]/div/div[2]/input\")\n",
    "    search_designation.click()\n",
    "except NoSuchElementException as e:\n",
    "    print(e)"
   ]
  },
  {
   "cell_type": "code",
   "execution_count": 233,
   "id": "144d1621",
   "metadata": {},
   "outputs": [],
   "source": [
    "search_option=driver.find_element_by_xpath(\"/html/body/div[1]/div[3]/form/div[1]/div[1]/div[1]/div/div[2]/input\")\n",
    "search_option.send_keys(\"murshidabad google map\")"
   ]
  },
  {
   "cell_type": "code",
   "execution_count": 234,
   "id": "dd42fd18",
   "metadata": {},
   "outputs": [],
   "source": [
    "try:\n",
    "    search_button=driver.find_element_by_xpath(\"/html/body/div[1]/div[3]/form/div[1]/div[1]/div[2]/div[2]/div[5]/center/input[1]\")\n",
    "    search_button.click()\n",
    "except ElementClickInterceptedException as e:\n",
    "    print(e)"
   ]
  },
  {
   "cell_type": "code",
   "execution_count": 235,
   "id": "756d89d7",
   "metadata": {},
   "outputs": [],
   "source": [
    "maps=driver.find_element_by_xpath(\"/html/body/div[7]/div/div[4]/div/div[1]/div/div[1]/div/div[2]/a\")\n",
    "maps.click()"
   ]
  },
  {
   "cell_type": "code",
   "execution_count": 236,
   "id": "89847fd6",
   "metadata": {},
   "outputs": [],
   "source": [
    "right=driver.find_element_by_xpath(\"/html/body/div[3]/div[3]/div[1]/ul/li[4]\")\n",
    "right.click()"
   ]
  },
  {
   "cell_type": "code",
   "execution_count": 239,
   "id": "83802703",
   "metadata": {},
   "outputs": [
    {
     "data": {
      "text/plain": [
       "[<selenium.webdriver.remote.webelement.WebElement (session=\"7ccc8d9e9e3408e1eb82176a4655436a\", element=\"4dfce219-efd5-4d30-a3e8-183f54d8b1f8\")>]"
      ]
     },
     "execution_count": 239,
     "metadata": {},
     "output_type": "execute_result"
    }
   ],
   "source": [
    "location=driver.find_elements_by_xpath(\"//button[@class='ZqLNQd t9f27']\")\n",
    "location"
   ]
  },
  {
   "cell_type": "code",
   "execution_count": 241,
   "id": "de3866c5",
   "metadata": {},
   "outputs": [
    {
     "data": {
      "text/plain": [
       "['24.174783, 88.280382']"
      ]
     },
     "execution_count": 241,
     "metadata": {},
     "output_type": "execute_result"
    }
   ],
   "source": [
    "latitude_longitude=[]\n",
    "for i in location:\n",
    "    title1=i.text\n",
    "    latitude_longitude.append(title1)\n",
    "latitude_longitude"
   ]
  },
  {
   "cell_type": "markdown",
   "id": "953065c6",
   "metadata": {},
   "source": [
    "6. Write a program to scrap details of all the funding deals for second quarter (i.e Jan 21 – March 21) \n",
    "from trak.in."
   ]
  },
  {
   "cell_type": "code",
   "execution_count": 242,
   "id": "1efac952",
   "metadata": {},
   "outputs": [],
   "source": [
    " driver.get(\"https://www.google.com/\")"
   ]
  },
  {
   "cell_type": "code",
   "execution_count": 243,
   "id": "d9b27912",
   "metadata": {},
   "outputs": [],
   "source": [
    "try:\n",
    "    search_designation=driver.find_element_by_xpath(\"/html/body/div[1]/div[3]/form/div[1]/div[1]/div[1]/div/div[2]/input\")\n",
    "    search_designation.click()\n",
    "except NoSuchElementException as e:\n",
    "    print(e)"
   ]
  },
  {
   "cell_type": "code",
   "execution_count": 244,
   "id": "f2ec58c2",
   "metadata": {},
   "outputs": [],
   "source": [
    "search_option=driver.find_element_by_xpath(\"/html/body/div[1]/div[3]/form/div[1]/div[1]/div[1]/div/div[2]/input\")\n",
    "search_option.send_keys(\"trak.in\")"
   ]
  },
  {
   "cell_type": "code",
   "execution_count": 245,
   "id": "c16c9ac6",
   "metadata": {},
   "outputs": [],
   "source": [
    "try:\n",
    "    search_button=driver.find_element_by_xpath(\"/html/body/div[1]/div[3]/form/div[1]/div[1]/div[2]/div[2]/div[5]/center/input[1]\")\n",
    "    search_button.click()\n",
    "except ElementClickInterceptedException as e:\n",
    "    print(e)"
   ]
  },
  {
   "cell_type": "code",
   "execution_count": 246,
   "id": "f7a96481",
   "metadata": {},
   "outputs": [],
   "source": [
    "trak=driver.find_element_by_xpath(\"/html/body/div[7]/div/div[10]/div/div[2]/div[2]/div/div/div[1]/div/div/div/div/div/div/div[1]/a/h3\")\n",
    "trak.click()"
   ]
  },
  {
   "cell_type": "code",
   "execution_count": 247,
   "id": "0b913cb6",
   "metadata": {},
   "outputs": [],
   "source": [
    "more=driver.find_element_by_xpath(\"/html/body/div[1]/header/div[2]/div/div/div/div/nav/ul/li[9]/a\")\n",
    "more.click()"
   ]
  },
  {
   "cell_type": "code",
   "execution_count": 250,
   "id": "e2ef5112",
   "metadata": {},
   "outputs": [],
   "source": [
    "fund=driver.find_element_by_xpath(\"/html/body/div[1]/header/div[2]/div/div/div/div/nav/ul/li[9]\")\n",
    "fund.click()"
   ]
  },
  {
   "cell_type": "code",
   "execution_count": 259,
   "id": "578cffa5",
   "metadata": {},
   "outputs": [
    {
     "name": "stdout",
     "output_type": "stream",
     "text": [
      "Message: element not interactable\n",
      "  (Session info: chrome=101.0.4951.67)\n",
      "Stacktrace:\n",
      "Backtrace:\n",
      "\tOrdinal0 [0x01247413+2389011]\n",
      "\tOrdinal0 [0x011D9F61+1941345]\n",
      "\tOrdinal0 [0x010CC520+836896]\n",
      "\tOrdinal0 [0x010FA1F3+1024499]\n",
      "\tOrdinal0 [0x010EFF93+982931]\n",
      "\tOrdinal0 [0x0111414C+1130828]\n",
      "\tOrdinal0 [0x010EF974+981364]\n",
      "\tOrdinal0 [0x01114364+1131364]\n",
      "\tOrdinal0 [0x01124302+1196802]\n",
      "\tOrdinal0 [0x01113F66+1130342]\n",
      "\tOrdinal0 [0x010EE546+976198]\n",
      "\tOrdinal0 [0x010EF456+980054]\n",
      "\tGetHandleVerifier [0x013F9632+1727522]\n",
      "\tGetHandleVerifier [0x014ABA4D+2457661]\n",
      "\tGetHandleVerifier [0x012DEB81+569713]\n",
      "\tGetHandleVerifier [0x012DDD76+566118]\n",
      "\tOrdinal0 [0x011E0B2B+1968939]\n",
      "\tOrdinal0 [0x011E5988+1989000]\n",
      "\tOrdinal0 [0x011E5A75+1989237]\n",
      "\tOrdinal0 [0x011EECB1+2026673]\n",
      "\tBaseThreadInitThunk [0x77396739+25]\n",
      "\tRtlGetFullPathName_UEx [0x77968FEF+1215]\n",
      "\tRtlGetFullPathName_UEx [0x77968FBD+1165]\n",
      "\n"
     ]
    },
    {
     "ename": "NoSuchElementException",
     "evalue": "Message: no such element: Unable to locate element: {\"method\":\"css selector\",\"selector\":\".sub-menu bs-pretty-tabs-elements\"}\n  (Session info: chrome=101.0.4951.67)\nStacktrace:\nBacktrace:\n\tOrdinal0 [0x01247413+2389011]\n\tOrdinal0 [0x011D9F61+1941345]\n\tOrdinal0 [0x010CC658+837208]\n\tOrdinal0 [0x010F91DD+1020381]\n\tOrdinal0 [0x010F949B+1021083]\n\tOrdinal0 [0x01126032+1204274]\n\tOrdinal0 [0x01114194+1130900]\n\tOrdinal0 [0x01124302+1196802]\n\tOrdinal0 [0x01113F66+1130342]\n\tOrdinal0 [0x010EE546+976198]\n\tOrdinal0 [0x010EF456+980054]\n\tGetHandleVerifier [0x013F9632+1727522]\n\tGetHandleVerifier [0x014ABA4D+2457661]\n\tGetHandleVerifier [0x012DEB81+569713]\n\tGetHandleVerifier [0x012DDD76+566118]\n\tOrdinal0 [0x011E0B2B+1968939]\n\tOrdinal0 [0x011E5988+1989000]\n\tOrdinal0 [0x011E5A75+1989237]\n\tOrdinal0 [0x011EECB1+2026673]\n\tBaseThreadInitThunk [0x77396739+25]\n\tRtlGetFullPathName_UEx [0x77968FEF+1215]\n\tRtlGetFullPathName_UEx [0x77968FBD+1165]\n",
     "output_type": "error",
     "traceback": [
      "\u001b[1;31m---------------------------------------------------------------------------\u001b[0m",
      "\u001b[1;31mElementNotInteractableException\u001b[0m           Traceback (most recent call last)",
      "\u001b[1;32m~\\AppData\\Local\\Temp/ipykernel_2576/3332721918.py\u001b[0m in \u001b[0;36m<module>\u001b[1;34m\u001b[0m\n\u001b[0;32m      3\u001b[0m     \u001b[0msearch_designation\u001b[0m\u001b[1;33m=\u001b[0m\u001b[0mdriver\u001b[0m\u001b[1;33m.\u001b[0m\u001b[0mfind_element_by_xpath\u001b[0m\u001b[1;33m(\u001b[0m\u001b[1;34m\"/html/body/div[1]/header/div[2]/div/div/div/div/nav/ul/li[9]/ul\"\u001b[0m\u001b[1;33m)\u001b[0m\u001b[1;33m\u001b[0m\u001b[1;33m\u001b[0m\u001b[0m\n\u001b[1;32m----> 4\u001b[1;33m     \u001b[0msearch_designation\u001b[0m\u001b[1;33m.\u001b[0m\u001b[0mclick\u001b[0m\u001b[1;33m(\u001b[0m\u001b[1;33m)\u001b[0m\u001b[1;33m\u001b[0m\u001b[1;33m\u001b[0m\u001b[0m\n\u001b[0m\u001b[0;32m      5\u001b[0m \u001b[1;32mexcept\u001b[0m \u001b[0mElementNotInteractableException\u001b[0m \u001b[1;32mas\u001b[0m \u001b[0me\u001b[0m\u001b[1;33m:\u001b[0m\u001b[1;33m\u001b[0m\u001b[1;33m\u001b[0m\u001b[0m\n",
      "\u001b[1;32m~\\anaconda3\\lib\\site-packages\\selenium\\webdriver\\remote\\webelement.py\u001b[0m in \u001b[0;36mclick\u001b[1;34m(self)\u001b[0m\n\u001b[0;32m     80\u001b[0m         \u001b[1;34m\"\"\"Clicks the element.\"\"\"\u001b[0m\u001b[1;33m\u001b[0m\u001b[1;33m\u001b[0m\u001b[0m\n\u001b[1;32m---> 81\u001b[1;33m         \u001b[0mself\u001b[0m\u001b[1;33m.\u001b[0m\u001b[0m_execute\u001b[0m\u001b[1;33m(\u001b[0m\u001b[0mCommand\u001b[0m\u001b[1;33m.\u001b[0m\u001b[0mCLICK_ELEMENT\u001b[0m\u001b[1;33m)\u001b[0m\u001b[1;33m\u001b[0m\u001b[1;33m\u001b[0m\u001b[0m\n\u001b[0m\u001b[0;32m     82\u001b[0m \u001b[1;33m\u001b[0m\u001b[0m\n",
      "\u001b[1;32m~\\anaconda3\\lib\\site-packages\\selenium\\webdriver\\remote\\webelement.py\u001b[0m in \u001b[0;36m_execute\u001b[1;34m(self, command, params)\u001b[0m\n\u001b[0;32m    709\u001b[0m         \u001b[0mparams\u001b[0m\u001b[1;33m[\u001b[0m\u001b[1;34m'id'\u001b[0m\u001b[1;33m]\u001b[0m \u001b[1;33m=\u001b[0m \u001b[0mself\u001b[0m\u001b[1;33m.\u001b[0m\u001b[0m_id\u001b[0m\u001b[1;33m\u001b[0m\u001b[1;33m\u001b[0m\u001b[0m\n\u001b[1;32m--> 710\u001b[1;33m         \u001b[1;32mreturn\u001b[0m \u001b[0mself\u001b[0m\u001b[1;33m.\u001b[0m\u001b[0m_parent\u001b[0m\u001b[1;33m.\u001b[0m\u001b[0mexecute\u001b[0m\u001b[1;33m(\u001b[0m\u001b[0mcommand\u001b[0m\u001b[1;33m,\u001b[0m \u001b[0mparams\u001b[0m\u001b[1;33m)\u001b[0m\u001b[1;33m\u001b[0m\u001b[1;33m\u001b[0m\u001b[0m\n\u001b[0m\u001b[0;32m    711\u001b[0m \u001b[1;33m\u001b[0m\u001b[0m\n",
      "\u001b[1;32m~\\anaconda3\\lib\\site-packages\\selenium\\webdriver\\remote\\webdriver.py\u001b[0m in \u001b[0;36mexecute\u001b[1;34m(self, driver_command, params)\u001b[0m\n\u001b[0;32m    424\u001b[0m         \u001b[1;32mif\u001b[0m \u001b[0mresponse\u001b[0m\u001b[1;33m:\u001b[0m\u001b[1;33m\u001b[0m\u001b[1;33m\u001b[0m\u001b[0m\n\u001b[1;32m--> 425\u001b[1;33m             \u001b[0mself\u001b[0m\u001b[1;33m.\u001b[0m\u001b[0merror_handler\u001b[0m\u001b[1;33m.\u001b[0m\u001b[0mcheck_response\u001b[0m\u001b[1;33m(\u001b[0m\u001b[0mresponse\u001b[0m\u001b[1;33m)\u001b[0m\u001b[1;33m\u001b[0m\u001b[1;33m\u001b[0m\u001b[0m\n\u001b[0m\u001b[0;32m    426\u001b[0m             response['value'] = self._unwrap_value(\n",
      "\u001b[1;32m~\\anaconda3\\lib\\site-packages\\selenium\\webdriver\\remote\\errorhandler.py\u001b[0m in \u001b[0;36mcheck_response\u001b[1;34m(self, response)\u001b[0m\n\u001b[0;32m    246\u001b[0m             \u001b[1;32mraise\u001b[0m \u001b[0mexception_class\u001b[0m\u001b[1;33m(\u001b[0m\u001b[0mmessage\u001b[0m\u001b[1;33m,\u001b[0m \u001b[0mscreen\u001b[0m\u001b[1;33m,\u001b[0m \u001b[0mstacktrace\u001b[0m\u001b[1;33m,\u001b[0m \u001b[0malert_text\u001b[0m\u001b[1;33m)\u001b[0m  \u001b[1;31m# type: ignore[call-arg]  # mypy is not smart enough here\u001b[0m\u001b[1;33m\u001b[0m\u001b[1;33m\u001b[0m\u001b[0m\n\u001b[1;32m--> 247\u001b[1;33m         \u001b[1;32mraise\u001b[0m \u001b[0mexception_class\u001b[0m\u001b[1;33m(\u001b[0m\u001b[0mmessage\u001b[0m\u001b[1;33m,\u001b[0m \u001b[0mscreen\u001b[0m\u001b[1;33m,\u001b[0m \u001b[0mstacktrace\u001b[0m\u001b[1;33m)\u001b[0m\u001b[1;33m\u001b[0m\u001b[1;33m\u001b[0m\u001b[0m\n\u001b[0m\u001b[0;32m    248\u001b[0m \u001b[1;33m\u001b[0m\u001b[0m\n",
      "\u001b[1;31mElementNotInteractableException\u001b[0m: Message: element not interactable\n  (Session info: chrome=101.0.4951.67)\nStacktrace:\nBacktrace:\n\tOrdinal0 [0x01247413+2389011]\n\tOrdinal0 [0x011D9F61+1941345]\n\tOrdinal0 [0x010CC520+836896]\n\tOrdinal0 [0x010FA1F3+1024499]\n\tOrdinal0 [0x010EFF93+982931]\n\tOrdinal0 [0x0111414C+1130828]\n\tOrdinal0 [0x010EF974+981364]\n\tOrdinal0 [0x01114364+1131364]\n\tOrdinal0 [0x01124302+1196802]\n\tOrdinal0 [0x01113F66+1130342]\n\tOrdinal0 [0x010EE546+976198]\n\tOrdinal0 [0x010EF456+980054]\n\tGetHandleVerifier [0x013F9632+1727522]\n\tGetHandleVerifier [0x014ABA4D+2457661]\n\tGetHandleVerifier [0x012DEB81+569713]\n\tGetHandleVerifier [0x012DDD76+566118]\n\tOrdinal0 [0x011E0B2B+1968939]\n\tOrdinal0 [0x011E5988+1989000]\n\tOrdinal0 [0x011E5A75+1989237]\n\tOrdinal0 [0x011EECB1+2026673]\n\tBaseThreadInitThunk [0x77396739+25]\n\tRtlGetFullPathName_UEx [0x77968FEF+1215]\n\tRtlGetFullPathName_UEx [0x77968FBD+1165]\n",
      "\nDuring handling of the above exception, another exception occurred:\n",
      "\u001b[1;31mNoSuchElementException\u001b[0m                    Traceback (most recent call last)",
      "\u001b[1;32m~\\AppData\\Local\\Temp/ipykernel_2576/3332721918.py\u001b[0m in \u001b[0;36m<module>\u001b[1;34m\u001b[0m\n\u001b[0;32m      5\u001b[0m \u001b[1;32mexcept\u001b[0m \u001b[0mElementNotInteractableException\u001b[0m \u001b[1;32mas\u001b[0m \u001b[0me\u001b[0m\u001b[1;33m:\u001b[0m\u001b[1;33m\u001b[0m\u001b[1;33m\u001b[0m\u001b[0m\n\u001b[0;32m      6\u001b[0m     \u001b[0mprint\u001b[0m\u001b[1;33m(\u001b[0m\u001b[0me\u001b[0m\u001b[1;33m)\u001b[0m\u001b[1;33m\u001b[0m\u001b[1;33m\u001b[0m\u001b[0m\n\u001b[1;32m----> 7\u001b[1;33m     \u001b[0msearch_designation\u001b[0m\u001b[1;33m=\u001b[0m\u001b[0mdriver\u001b[0m\u001b[1;33m.\u001b[0m\u001b[0mfind_element_by_class_name\u001b[0m\u001b[1;33m(\u001b[0m\u001b[1;34m\"sub-menu bs-pretty-tabs-elements\"\u001b[0m\u001b[1;33m)\u001b[0m\u001b[1;33m\u001b[0m\u001b[1;33m\u001b[0m\u001b[0m\n\u001b[0m\u001b[0;32m      8\u001b[0m     \u001b[0msearch_designation\u001b[0m\u001b[1;33m.\u001b[0m\u001b[0mclick\u001b[0m\u001b[1;33m(\u001b[0m\u001b[1;33m)\u001b[0m\u001b[1;33m\u001b[0m\u001b[1;33m\u001b[0m\u001b[0m\n",
      "\u001b[1;32m~\\anaconda3\\lib\\site-packages\\selenium\\webdriver\\remote\\webdriver.py\u001b[0m in \u001b[0;36mfind_element_by_class_name\u001b[1;34m(self, name)\u001b[0m\n\u001b[0;32m    759\u001b[0m             \u001b[0mstacklevel\u001b[0m\u001b[1;33m=\u001b[0m\u001b[1;36m2\u001b[0m\u001b[1;33m,\u001b[0m\u001b[1;33m\u001b[0m\u001b[1;33m\u001b[0m\u001b[0m\n\u001b[0;32m    760\u001b[0m         )\n\u001b[1;32m--> 761\u001b[1;33m         \u001b[1;32mreturn\u001b[0m \u001b[0mself\u001b[0m\u001b[1;33m.\u001b[0m\u001b[0mfind_element\u001b[0m\u001b[1;33m(\u001b[0m\u001b[0mby\u001b[0m\u001b[1;33m=\u001b[0m\u001b[0mBy\u001b[0m\u001b[1;33m.\u001b[0m\u001b[0mCLASS_NAME\u001b[0m\u001b[1;33m,\u001b[0m \u001b[0mvalue\u001b[0m\u001b[1;33m=\u001b[0m\u001b[0mname\u001b[0m\u001b[1;33m)\u001b[0m\u001b[1;33m\u001b[0m\u001b[1;33m\u001b[0m\u001b[0m\n\u001b[0m\u001b[0;32m    762\u001b[0m \u001b[1;33m\u001b[0m\u001b[0m\n\u001b[0;32m    763\u001b[0m     \u001b[1;32mdef\u001b[0m \u001b[0mfind_elements_by_class_name\u001b[0m\u001b[1;33m(\u001b[0m\u001b[0mself\u001b[0m\u001b[1;33m,\u001b[0m \u001b[0mname\u001b[0m\u001b[1;33m)\u001b[0m \u001b[1;33m->\u001b[0m \u001b[0mList\u001b[0m\u001b[1;33m[\u001b[0m\u001b[0mWebElement\u001b[0m\u001b[1;33m]\u001b[0m\u001b[1;33m:\u001b[0m\u001b[1;33m\u001b[0m\u001b[1;33m\u001b[0m\u001b[0m\n",
      "\u001b[1;32m~\\anaconda3\\lib\\site-packages\\selenium\\webdriver\\remote\\webdriver.py\u001b[0m in \u001b[0;36mfind_element\u001b[1;34m(self, by, value)\u001b[0m\n\u001b[0;32m   1246\u001b[0m             \u001b[0mvalue\u001b[0m \u001b[1;33m=\u001b[0m \u001b[1;34m'[name=\"%s\"]'\u001b[0m \u001b[1;33m%\u001b[0m \u001b[0mvalue\u001b[0m\u001b[1;33m\u001b[0m\u001b[1;33m\u001b[0m\u001b[0m\n\u001b[0;32m   1247\u001b[0m \u001b[1;33m\u001b[0m\u001b[0m\n\u001b[1;32m-> 1248\u001b[1;33m         return self.execute(Command.FIND_ELEMENT, {\n\u001b[0m\u001b[0;32m   1249\u001b[0m             \u001b[1;34m'using'\u001b[0m\u001b[1;33m:\u001b[0m \u001b[0mby\u001b[0m\u001b[1;33m,\u001b[0m\u001b[1;33m\u001b[0m\u001b[1;33m\u001b[0m\u001b[0m\n\u001b[0;32m   1250\u001b[0m             'value': value})['value']\n",
      "\u001b[1;32m~\\anaconda3\\lib\\site-packages\\selenium\\webdriver\\remote\\webdriver.py\u001b[0m in \u001b[0;36mexecute\u001b[1;34m(self, driver_command, params)\u001b[0m\n\u001b[0;32m    423\u001b[0m         \u001b[0mresponse\u001b[0m \u001b[1;33m=\u001b[0m \u001b[0mself\u001b[0m\u001b[1;33m.\u001b[0m\u001b[0mcommand_executor\u001b[0m\u001b[1;33m.\u001b[0m\u001b[0mexecute\u001b[0m\u001b[1;33m(\u001b[0m\u001b[0mdriver_command\u001b[0m\u001b[1;33m,\u001b[0m \u001b[0mparams\u001b[0m\u001b[1;33m)\u001b[0m\u001b[1;33m\u001b[0m\u001b[1;33m\u001b[0m\u001b[0m\n\u001b[0;32m    424\u001b[0m         \u001b[1;32mif\u001b[0m \u001b[0mresponse\u001b[0m\u001b[1;33m:\u001b[0m\u001b[1;33m\u001b[0m\u001b[1;33m\u001b[0m\u001b[0m\n\u001b[1;32m--> 425\u001b[1;33m             \u001b[0mself\u001b[0m\u001b[1;33m.\u001b[0m\u001b[0merror_handler\u001b[0m\u001b[1;33m.\u001b[0m\u001b[0mcheck_response\u001b[0m\u001b[1;33m(\u001b[0m\u001b[0mresponse\u001b[0m\u001b[1;33m)\u001b[0m\u001b[1;33m\u001b[0m\u001b[1;33m\u001b[0m\u001b[0m\n\u001b[0m\u001b[0;32m    426\u001b[0m             response['value'] = self._unwrap_value(\n\u001b[0;32m    427\u001b[0m                 response.get('value', None))\n",
      "\u001b[1;32m~\\anaconda3\\lib\\site-packages\\selenium\\webdriver\\remote\\errorhandler.py\u001b[0m in \u001b[0;36mcheck_response\u001b[1;34m(self, response)\u001b[0m\n\u001b[0;32m    245\u001b[0m                 \u001b[0malert_text\u001b[0m \u001b[1;33m=\u001b[0m \u001b[0mvalue\u001b[0m\u001b[1;33m[\u001b[0m\u001b[1;34m'alert'\u001b[0m\u001b[1;33m]\u001b[0m\u001b[1;33m.\u001b[0m\u001b[0mget\u001b[0m\u001b[1;33m(\u001b[0m\u001b[1;34m'text'\u001b[0m\u001b[1;33m)\u001b[0m\u001b[1;33m\u001b[0m\u001b[1;33m\u001b[0m\u001b[0m\n\u001b[0;32m    246\u001b[0m             \u001b[1;32mraise\u001b[0m \u001b[0mexception_class\u001b[0m\u001b[1;33m(\u001b[0m\u001b[0mmessage\u001b[0m\u001b[1;33m,\u001b[0m \u001b[0mscreen\u001b[0m\u001b[1;33m,\u001b[0m \u001b[0mstacktrace\u001b[0m\u001b[1;33m,\u001b[0m \u001b[0malert_text\u001b[0m\u001b[1;33m)\u001b[0m  \u001b[1;31m# type: ignore[call-arg]  # mypy is not smart enough here\u001b[0m\u001b[1;33m\u001b[0m\u001b[1;33m\u001b[0m\u001b[0m\n\u001b[1;32m--> 247\u001b[1;33m         \u001b[1;32mraise\u001b[0m \u001b[0mexception_class\u001b[0m\u001b[1;33m(\u001b[0m\u001b[0mmessage\u001b[0m\u001b[1;33m,\u001b[0m \u001b[0mscreen\u001b[0m\u001b[1;33m,\u001b[0m \u001b[0mstacktrace\u001b[0m\u001b[1;33m)\u001b[0m\u001b[1;33m\u001b[0m\u001b[1;33m\u001b[0m\u001b[0m\n\u001b[0m\u001b[0;32m    248\u001b[0m \u001b[1;33m\u001b[0m\u001b[0m\n\u001b[0;32m    249\u001b[0m     \u001b[1;32mdef\u001b[0m \u001b[0m_value_or_default\u001b[0m\u001b[1;33m(\u001b[0m\u001b[0mself\u001b[0m\u001b[1;33m,\u001b[0m \u001b[0mobj\u001b[0m\u001b[1;33m:\u001b[0m \u001b[0mMapping\u001b[0m\u001b[1;33m[\u001b[0m\u001b[0m_KT\u001b[0m\u001b[1;33m,\u001b[0m \u001b[0m_VT\u001b[0m\u001b[1;33m]\u001b[0m\u001b[1;33m,\u001b[0m \u001b[0mkey\u001b[0m\u001b[1;33m:\u001b[0m \u001b[0m_KT\u001b[0m\u001b[1;33m,\u001b[0m \u001b[0mdefault\u001b[0m\u001b[1;33m:\u001b[0m \u001b[0m_VT\u001b[0m\u001b[1;33m)\u001b[0m \u001b[1;33m->\u001b[0m \u001b[0m_VT\u001b[0m\u001b[1;33m:\u001b[0m\u001b[1;33m\u001b[0m\u001b[1;33m\u001b[0m\u001b[0m\n",
      "\u001b[1;31mNoSuchElementException\u001b[0m: Message: no such element: Unable to locate element: {\"method\":\"css selector\",\"selector\":\".sub-menu bs-pretty-tabs-elements\"}\n  (Session info: chrome=101.0.4951.67)\nStacktrace:\nBacktrace:\n\tOrdinal0 [0x01247413+2389011]\n\tOrdinal0 [0x011D9F61+1941345]\n\tOrdinal0 [0x010CC658+837208]\n\tOrdinal0 [0x010F91DD+1020381]\n\tOrdinal0 [0x010F949B+1021083]\n\tOrdinal0 [0x01126032+1204274]\n\tOrdinal0 [0x01114194+1130900]\n\tOrdinal0 [0x01124302+1196802]\n\tOrdinal0 [0x01113F66+1130342]\n\tOrdinal0 [0x010EE546+976198]\n\tOrdinal0 [0x010EF456+980054]\n\tGetHandleVerifier [0x013F9632+1727522]\n\tGetHandleVerifier [0x014ABA4D+2457661]\n\tGetHandleVerifier [0x012DEB81+569713]\n\tGetHandleVerifier [0x012DDD76+566118]\n\tOrdinal0 [0x011E0B2B+1968939]\n\tOrdinal0 [0x011E5988+1989000]\n\tOrdinal0 [0x011E5A75+1989237]\n\tOrdinal0 [0x011EECB1+2026673]\n\tBaseThreadInitThunk [0x77396739+25]\n\tRtlGetFullPathName_UEx [0x77968FEF+1215]\n\tRtlGetFullPathName_UEx [0x77968FBD+1165]\n"
     ]
    }
   ],
   "source": [
    "from selenium.common.exceptions import InvalidSelectorException\n",
    "try:\n",
    "    search_designation=driver.find_element_by_xpath(\"/html/body/div[1]/header/div[2]/div/div/div/div/nav/ul/li[9]/ul\")\n",
    "    search_designation.click()\n",
    "except ElementNotInteractableException as e:\n",
    "    print(e)\n",
    "    search_designation=driver.find_element_by_class_name(\"sub-menu bs-pretty-tabs-elements\")\n",
    "    search_designation.click()"
   ]
  },
  {
   "cell_type": "code",
   "execution_count": 265,
   "id": "75987cde",
   "metadata": {},
   "outputs": [
    {
     "data": {
      "text/plain": [
       "[<selenium.webdriver.remote.webelement.WebElement (session=\"7ccc8d9e9e3408e1eb82176a4655436a\", element=\"998e4f1b-ee6d-472f-a39b-fd445c83e77a\")>,\n",
       " <selenium.webdriver.remote.webelement.WebElement (session=\"7ccc8d9e9e3408e1eb82176a4655436a\", element=\"05bb08a8-8634-4802-a7e6-b697117fba90\")>]"
      ]
     },
     "execution_count": 265,
     "metadata": {},
     "output_type": "execute_result"
    }
   ],
   "source": [
    "jandate=driver.find_elements_by_xpath(\"//td[@class='column-2']\")\n",
    "jandate[0:2]"
   ]
  },
  {
   "cell_type": "code",
   "execution_count": 268,
   "id": "f59a4c74",
   "metadata": {},
   "outputs": [
    {
     "data": {
      "text/plain": [
       "['01/04/2021', '05/04/2021']"
      ]
     },
     "execution_count": 268,
     "metadata": {},
     "output_type": "execute_result"
    }
   ],
   "source": [
    "january_date=[]\n",
    "for i in jandate:\n",
    "    title1=i.text\n",
    "    january_date.append(title1)\n",
    "january_date[0:2]"
   ]
  },
  {
   "cell_type": "code",
   "execution_count": 286,
   "id": "669d1cd9",
   "metadata": {},
   "outputs": [
    {
     "data": {
      "text/plain": [
       "[<selenium.webdriver.remote.webelement.WebElement (session=\"7ccc8d9e9e3408e1eb82176a4655436a\", element=\"f9624628-22c2-4c59-836d-91e51d2b5d1f\")>,\n",
       " <selenium.webdriver.remote.webelement.WebElement (session=\"7ccc8d9e9e3408e1eb82176a4655436a\", element=\"7d9d8a1e-4624-48c5-a5e2-a445da141213\")>]"
      ]
     },
     "execution_count": 286,
     "metadata": {},
     "output_type": "execute_result"
    }
   ],
   "source": [
    "janname=driver.find_elements_by_xpath(\"//td[@class='column-3']\")\n",
    "janname[0:2]"
   ]
  },
  {
   "cell_type": "code",
   "execution_count": 292,
   "id": "0b419cf3",
   "metadata": {},
   "outputs": [
    {
     "data": {
      "text/plain": [
       "['DealShare',\n",
       " 'Uniphore',\n",
       " 'Dunzo',\n",
       " 'BYJU’S',\n",
       " 'SkilloVilla',\n",
       " 'CityMall',\n",
       " 'DotPe',\n",
       " 'Doubtnut',\n",
       " 'Zomato',\n",
       " 'Fingerlix',\n",
       " 'Zolve',\n",
       " 'KreditBee',\n",
       " 'Pepperfry',\n",
       " 'Grofers',\n",
       " 'Nothing',\n",
       " 'SplashLearn',\n",
       " 'Digit Insurance',\n",
       " 'Bombay Shaving Company',\n",
       " 'DeHaat',\n",
       " 'Darwinbox',\n",
       " 'mfine',\n",
       " 'Udayy',\n",
       " 'True Elements',\n",
       " 'Saveo']"
      ]
     },
     "execution_count": 292,
     "metadata": {},
     "output_type": "execute_result"
    }
   ],
   "source": [
    "january_name=[]\n",
    "for i in janname:\n",
    "    title1=i.text\n",
    "    january_name.append(title1)\n",
    "january_name[5:29]"
   ]
  },
  {
   "cell_type": "code",
   "execution_count": 271,
   "id": "dce6e064",
   "metadata": {},
   "outputs": [
    {
     "data": {
      "text/plain": [
       "[<selenium.webdriver.remote.webelement.WebElement (session=\"7ccc8d9e9e3408e1eb82176a4655436a\", element=\"87d610c3-bc33-4183-8268-1fc4f8086273\")>,\n",
       " <selenium.webdriver.remote.webelement.WebElement (session=\"7ccc8d9e9e3408e1eb82176a4655436a\", element=\"c6a7cf12-27c1-4095-abb5-54a88e91b5cc\")>]"
      ]
     },
     "execution_count": 271,
     "metadata": {},
     "output_type": "execute_result"
    }
   ],
   "source": [
    "ind=driver.find_elements_by_xpath(\"//td[@class='column-4']\")\n",
    "ind[0:2]"
   ]
  },
  {
   "cell_type": "code",
   "execution_count": 272,
   "id": "dc8a3da7",
   "metadata": {},
   "outputs": [
    {
     "data": {
      "text/plain": [
       "['Edu-tech', 'E-commerce']"
      ]
     },
     "execution_count": 272,
     "metadata": {},
     "output_type": "execute_result"
    }
   ],
   "source": [
    "industry=[]\n",
    "for i in ind:\n",
    "    title1=i.text\n",
    "    industry.append(title1)\n",
    "industry[0:2]"
   ]
  },
  {
   "cell_type": "code",
   "execution_count": 273,
   "id": "8730fe89",
   "metadata": {},
   "outputs": [
    {
     "data": {
      "text/plain": [
       "[<selenium.webdriver.remote.webelement.WebElement (session=\"7ccc8d9e9e3408e1eb82176a4655436a\", element=\"f8af8819-9481-48a5-8094-d6c1bf96c950\")>,\n",
       " <selenium.webdriver.remote.webelement.WebElement (session=\"7ccc8d9e9e3408e1eb82176a4655436a\", element=\"0f008b73-6594-4425-b6c7-f1238b88208e\")>]"
      ]
     },
     "execution_count": 273,
     "metadata": {},
     "output_type": "execute_result"
    }
   ],
   "source": [
    "subver=driver.find_elements_by_xpath(\"//td[@class='column-5']\")\n",
    "subver[0:2]"
   ]
  },
  {
   "cell_type": "code",
   "execution_count": 274,
   "id": "6569c41e",
   "metadata": {},
   "outputs": [
    {
     "data": {
      "text/plain": [
       "['Online tutoring', 'Online reselling platform']"
      ]
     },
     "execution_count": 274,
     "metadata": {},
     "output_type": "execute_result"
    }
   ],
   "source": [
    "subvirtical=[]\n",
    "for i in subver:\n",
    "    title1=i.text\n",
    "    subvirtical.append(title1)\n",
    "subvirtical[0:2]"
   ]
  },
  {
   "cell_type": "code",
   "execution_count": 275,
   "id": "52ef0853",
   "metadata": {},
   "outputs": [
    {
     "data": {
      "text/plain": [
       "[<selenium.webdriver.remote.webelement.WebElement (session=\"7ccc8d9e9e3408e1eb82176a4655436a\", element=\"65548417-1ccb-48a7-9dd7-3e8b4187afd4\")>,\n",
       " <selenium.webdriver.remote.webelement.WebElement (session=\"7ccc8d9e9e3408e1eb82176a4655436a\", element=\"b71b4150-1e94-4615-9abf-1aae6b5d9de1\")>]"
      ]
     },
     "execution_count": 275,
     "metadata": {},
     "output_type": "execute_result"
    }
   ],
   "source": [
    "loca=driver.find_elements_by_xpath(\"//td[@class='column-6']\")\n",
    "loca[0:2]"
   ]
  },
  {
   "cell_type": "code",
   "execution_count": 276,
   "id": "1811f3bd",
   "metadata": {},
   "outputs": [
    {
     "data": {
      "text/plain": [
       "['Bengaluru', 'Bengaluru']"
      ]
     },
     "execution_count": 276,
     "metadata": {},
     "output_type": "execute_result"
    }
   ],
   "source": [
    "location=[]\n",
    "for i in loca:\n",
    "    title1=i.text\n",
    "    location.append(title1)\n",
    "location[0:2]"
   ]
  },
  {
   "cell_type": "code",
   "execution_count": 277,
   "id": "c0b9af02",
   "metadata": {},
   "outputs": [
    {
     "data": {
      "text/plain": [
       "[<selenium.webdriver.remote.webelement.WebElement (session=\"7ccc8d9e9e3408e1eb82176a4655436a\", element=\"b4ba8e17-eed5-4549-a8c3-be9057cf79c6\")>,\n",
       " <selenium.webdriver.remote.webelement.WebElement (session=\"7ccc8d9e9e3408e1eb82176a4655436a\", element=\"e1637b3b-eebc-4bc9-9578-cc935c6464f4\")>]"
      ]
     },
     "execution_count": 277,
     "metadata": {},
     "output_type": "execute_result"
    }
   ],
   "source": [
    "inves=driver.find_elements_by_xpath(\"//td[@class='column-7']\")\n",
    "inves[0:2]"
   ]
  },
  {
   "cell_type": "code",
   "execution_count": 278,
   "id": "cf081778",
   "metadata": {},
   "outputs": [
    {
     "data": {
      "text/plain": [
       "['Innoven Capital', 'SoftBank Vision Fund 2']"
      ]
     },
     "execution_count": 278,
     "metadata": {},
     "output_type": "execute_result"
    }
   ],
   "source": [
    "investor=[]\n",
    "for i in inves:\n",
    "    title1=i.text\n",
    "    investor.append(title1)\n",
    "investor[0:2]"
   ]
  },
  {
   "cell_type": "code",
   "execution_count": 279,
   "id": "6e8586b4",
   "metadata": {},
   "outputs": [
    {
     "data": {
      "text/plain": [
       "[<selenium.webdriver.remote.webelement.WebElement (session=\"7ccc8d9e9e3408e1eb82176a4655436a\", element=\"76e0f63e-7a40-448e-a80f-c20e5a615f5c\")>,\n",
       " <selenium.webdriver.remote.webelement.WebElement (session=\"7ccc8d9e9e3408e1eb82176a4655436a\", element=\"fa7c86fc-2dc3-4ca1-897a-ba84fccfe3c4\")>]"
      ]
     },
     "execution_count": 279,
     "metadata": {},
     "output_type": "execute_result"
    }
   ],
   "source": [
    "invest=driver.find_elements_by_xpath(\"//td[@class='column-8']\")\n",
    "invest[0:2]"
   ]
  },
  {
   "cell_type": "code",
   "execution_count": 280,
   "id": "64af17a6",
   "metadata": {},
   "outputs": [
    {
     "data": {
      "text/plain": [
       "['Series F', 'Series E']"
      ]
     },
     "execution_count": 280,
     "metadata": {},
     "output_type": "execute_result"
    }
   ],
   "source": [
    "investment=[]\n",
    "for i in invest:\n",
    "    title1=i.text\n",
    "    investment.append(title1)\n",
    "investment[0:2]"
   ]
  },
  {
   "cell_type": "code",
   "execution_count": 281,
   "id": "f5e9dca6",
   "metadata": {},
   "outputs": [
    {
     "data": {
      "text/plain": [
       "[<selenium.webdriver.remote.webelement.WebElement (session=\"7ccc8d9e9e3408e1eb82176a4655436a\", element=\"b1a60de6-c6a8-4ad3-b35a-34f4efebb07b\")>,\n",
       " <selenium.webdriver.remote.webelement.WebElement (session=\"7ccc8d9e9e3408e1eb82176a4655436a\", element=\"9a7c7104-4447-4f2a-9fe6-058521bb50cd\")>]"
      ]
     },
     "execution_count": 281,
     "metadata": {},
     "output_type": "execute_result"
    }
   ],
   "source": [
    "amm=driver.find_elements_by_xpath(\"//td[@class='column-9']\")\n",
    "amm[0:2]"
   ]
  },
  {
   "cell_type": "code",
   "execution_count": 282,
   "id": "a6470f58",
   "metadata": {},
   "outputs": [
    {
     "data": {
      "text/plain": [
       "['460,000,000', '300,000,000']"
      ]
     },
     "execution_count": 282,
     "metadata": {},
     "output_type": "execute_result"
    }
   ],
   "source": [
    "ammount=[]\n",
    "for i in amm:\n",
    "    title1=i.text\n",
    "    ammount.append(title1)\n",
    "ammount[0:2]"
   ]
  },
  {
   "cell_type": "code",
   "execution_count": 283,
   "id": "84adc759",
   "metadata": {},
   "outputs": [
    {
     "data": {
      "text/plain": [
       "(392, 392, 392, 392, 392, 392, 392, 392)"
      ]
     },
     "execution_count": 283,
     "metadata": {},
     "output_type": "execute_result"
    }
   ],
   "source": [
    "len(january_date),len(january_name),len(industry),len(subvirtical),len(location),len(investor),len(investment),len(ammount)"
   ]
  },
  {
   "cell_type": "code",
   "execution_count": 293,
   "id": "4bb5f313",
   "metadata": {},
   "outputs": [
    {
     "data": {
      "text/html": [
       "<div>\n",
       "<style scoped>\n",
       "    .dataframe tbody tr th:only-of-type {\n",
       "        vertical-align: middle;\n",
       "    }\n",
       "\n",
       "    .dataframe tbody tr th {\n",
       "        vertical-align: top;\n",
       "    }\n",
       "\n",
       "    .dataframe thead th {\n",
       "        text-align: right;\n",
       "    }\n",
       "</style>\n",
       "<table border=\"1\" class=\"dataframe\">\n",
       "  <thead>\n",
       "    <tr style=\"text-align: right;\">\n",
       "      <th></th>\n",
       "      <th>date</th>\n",
       "      <th>company name</th>\n",
       "      <th>industry</th>\n",
       "      <th>subvirtical</th>\n",
       "      <th>location</th>\n",
       "      <th>investor</th>\n",
       "      <th>investment</th>\n",
       "      <th>ammount</th>\n",
       "    </tr>\n",
       "  </thead>\n",
       "  <tbody>\n",
       "    <tr>\n",
       "      <th>0</th>\n",
       "      <td>04/03/2021</td>\n",
       "      <td>DealShare</td>\n",
       "      <td>E-commerce</td>\n",
       "      <td>Online shopping platform</td>\n",
       "      <td>Jaipur, Rajasthan</td>\n",
       "      <td>Innoven Capital</td>\n",
       "      <td>Debt Financing</td>\n",
       "      <td>250,000,000</td>\n",
       "    </tr>\n",
       "    <tr>\n",
       "      <th>1</th>\n",
       "      <td>31/03/2021</td>\n",
       "      <td>Uniphore</td>\n",
       "      <td>Technology</td>\n",
       "      <td>Conversational Service Automation (CSA)</td>\n",
       "      <td>Palo Alto</td>\n",
       "      <td>Sorenson Capital Partners</td>\n",
       "      <td>Series D</td>\n",
       "      <td>140,000,000</td>\n",
       "    </tr>\n",
       "    <tr>\n",
       "      <th>2</th>\n",
       "      <td>30/03/2021</td>\n",
       "      <td>Dunzo</td>\n",
       "      <td>E-commerce</td>\n",
       "      <td>Hyper-local delivery app</td>\n",
       "      <td>Bengaluru</td>\n",
       "      <td>Krishtal Advisors Pte Ltd</td>\n",
       "      <td>Series E</td>\n",
       "      <td>8,000,000</td>\n",
       "    </tr>\n",
       "    <tr>\n",
       "      <th>3</th>\n",
       "      <td>30/03/2021</td>\n",
       "      <td>BYJU’S</td>\n",
       "      <td>Edu-tech</td>\n",
       "      <td>Online tutoring</td>\n",
       "      <td>Bengaluru</td>\n",
       "      <td>MC Global Edtech, B Capital, Baron, others</td>\n",
       "      <td>Series F</td>\n",
       "      <td>460,000,000</td>\n",
       "    </tr>\n",
       "    <tr>\n",
       "      <th>4</th>\n",
       "      <td>23/03/2021</td>\n",
       "      <td>SkilloVilla</td>\n",
       "      <td>Edu-tech</td>\n",
       "      <td>Career and job-oriented upskilling.</td>\n",
       "      <td>Bengaluru</td>\n",
       "      <td>Titan Capital, others</td>\n",
       "      <td>Seed</td>\n",
       "      <td>300,000,000</td>\n",
       "    </tr>\n",
       "    <tr>\n",
       "      <th>5</th>\n",
       "      <td>25/03/2021</td>\n",
       "      <td>CityMall</td>\n",
       "      <td>E-commerce</td>\n",
       "      <td>Social ecommerce and online grocery platform</td>\n",
       "      <td>Gurgaon</td>\n",
       "      <td>Accel Partners</td>\n",
       "      <td>Series A</td>\n",
       "      <td>11,000,000</td>\n",
       "    </tr>\n",
       "    <tr>\n",
       "      <th>6</th>\n",
       "      <td>26/03/2021</td>\n",
       "      <td>DotPe</td>\n",
       "      <td>FinTech</td>\n",
       "      <td>Commerce and payments platform to offline ente...</td>\n",
       "      <td>Gurgaon</td>\n",
       "      <td>PayU</td>\n",
       "      <td>Series A</td>\n",
       "      <td>27,500,000</td>\n",
       "    </tr>\n",
       "    <tr>\n",
       "      <th>7</th>\n",
       "      <td>11/02/2021</td>\n",
       "      <td>Doubtnut</td>\n",
       "      <td>Edu Tech</td>\n",
       "      <td>E-Learning Platform</td>\n",
       "      <td>Gurgaon</td>\n",
       "      <td>SIG Global, Sequoia Capital, WaterBridge Ventu...</td>\n",
       "      <td>Series B</td>\n",
       "      <td>2,500,000</td>\n",
       "    </tr>\n",
       "    <tr>\n",
       "      <th>8</th>\n",
       "      <td>22/02/2021</td>\n",
       "      <td>Zomato</td>\n",
       "      <td>Hospitality</td>\n",
       "      <td>Online Food Delivery Platform</td>\n",
       "      <td>Gurgaon</td>\n",
       "      <td>Tiger Global, Kora</td>\n",
       "      <td>Venture</td>\n",
       "      <td>250,000,000</td>\n",
       "    </tr>\n",
       "    <tr>\n",
       "      <th>9</th>\n",
       "      <td>19/02/2021</td>\n",
       "      <td>Fingerlix</td>\n",
       "      <td>Hospitality</td>\n",
       "      <td>Semi-cooked food delivery app</td>\n",
       "      <td>Mumbai</td>\n",
       "      <td>Rhodium Trust, Accel Partners and Swiggy</td>\n",
       "      <td>Series C</td>\n",
       "      <td>2,747,045.20</td>\n",
       "    </tr>\n",
       "    <tr>\n",
       "      <th>10</th>\n",
       "      <td>17/02/2021</td>\n",
       "      <td>Zolve</td>\n",
       "      <td>FinTech</td>\n",
       "      <td>Global Neobank Venture</td>\n",
       "      <td>Mumbai</td>\n",
       "      <td>Accel Partners and Lightspeed Venture Partners</td>\n",
       "      <td>Seed</td>\n",
       "      <td>1,50,00,000</td>\n",
       "    </tr>\n",
       "    <tr>\n",
       "      <th>11</th>\n",
       "      <td>15/02/2021</td>\n",
       "      <td>KreditBee</td>\n",
       "      <td>Finance</td>\n",
       "      <td>Digital lending platform</td>\n",
       "      <td>Bengaluru</td>\n",
       "      <td>Azim Premji’s PremjiInvest and South Korea’s M...</td>\n",
       "      <td>Series C</td>\n",
       "      <td>75,000,000</td>\n",
       "    </tr>\n",
       "    <tr>\n",
       "      <th>12</th>\n",
       "      <td>12/02/2021</td>\n",
       "      <td>Pepperfry</td>\n",
       "      <td>E-commerce</td>\n",
       "      <td>Multi-brand furniture brand</td>\n",
       "      <td>Mumbai</td>\n",
       "      <td>InnoVen Capital</td>\n",
       "      <td>Debt Financing</td>\n",
       "      <td>4,773,958</td>\n",
       "    </tr>\n",
       "    <tr>\n",
       "      <th>13</th>\n",
       "      <td>12/02/2021</td>\n",
       "      <td>Grofers</td>\n",
       "      <td>E-Commerce</td>\n",
       "      <td>Online supermarket</td>\n",
       "      <td>Gurgaon</td>\n",
       "      <td>SoftBank Vision Fund (SVF)</td>\n",
       "      <td>Unspecified</td>\n",
       "      <td>55,000,000</td>\n",
       "    </tr>\n",
       "    <tr>\n",
       "      <th>14</th>\n",
       "      <td>09/02/2021</td>\n",
       "      <td>Nothing</td>\n",
       "      <td>Technology</td>\n",
       "      <td>Consumer Technology Venture</td>\n",
       "      <td>London</td>\n",
       "      <td>GV</td>\n",
       "      <td>Series A</td>\n",
       "      <td>15,000,000</td>\n",
       "    </tr>\n",
       "    <tr>\n",
       "      <th>15</th>\n",
       "      <td>09/02/2021</td>\n",
       "      <td>SplashLearn</td>\n",
       "      <td>EdTech</td>\n",
       "      <td>Game-based learning programme</td>\n",
       "      <td>Gurgaon</td>\n",
       "      <td>Owl Ventures</td>\n",
       "      <td>Series C</td>\n",
       "      <td>18,000,000</td>\n",
       "    </tr>\n",
       "    <tr>\n",
       "      <th>16</th>\n",
       "      <td>15/01/2021</td>\n",
       "      <td>Digit Insurance</td>\n",
       "      <td>Financial Services</td>\n",
       "      <td>Insurance Services</td>\n",
       "      <td>Bengaluru</td>\n",
       "      <td>A91 Partners, Faering Capital, TVS Capital Funds</td>\n",
       "      <td>Venture</td>\n",
       "      <td>1,80,00,000</td>\n",
       "    </tr>\n",
       "    <tr>\n",
       "      <th>17</th>\n",
       "      <td>28/01/2021</td>\n",
       "      <td>Bombay Shaving Company</td>\n",
       "      <td>Consumer Goods Company</td>\n",
       "      <td>Shave care, beard care, and skincare products</td>\n",
       "      <td>New Delhi</td>\n",
       "      <td>Reckitt Benckiser</td>\n",
       "      <td>Venture</td>\n",
       "      <td>6,172,258.50</td>\n",
       "    </tr>\n",
       "    <tr>\n",
       "      <th>18</th>\n",
       "      <td>19/01/2021</td>\n",
       "      <td>DeHaat</td>\n",
       "      <td>AgriTech Startup</td>\n",
       "      <td>online marketplace for farm products and services</td>\n",
       "      <td>Patna</td>\n",
       "      <td>Prosus Ventures</td>\n",
       "      <td>Series C</td>\n",
       "      <td>30,000,000</td>\n",
       "    </tr>\n",
       "    <tr>\n",
       "      <th>19</th>\n",
       "      <td>19/01/2021</td>\n",
       "      <td>Darwinbox</td>\n",
       "      <td>SaaS</td>\n",
       "      <td>HR Tech</td>\n",
       "      <td>Mumbai</td>\n",
       "      <td>Salesforce Ventures</td>\n",
       "      <td>Seed</td>\n",
       "      <td>15,000,000</td>\n",
       "    </tr>\n",
       "    <tr>\n",
       "      <th>20</th>\n",
       "      <td>18/01/2021</td>\n",
       "      <td>mfine</td>\n",
       "      <td>Health Tech Startup</td>\n",
       "      <td>AI-powered telemedicine mobile app</td>\n",
       "      <td>Bengaluru</td>\n",
       "      <td>Heritas Capital Management</td>\n",
       "      <td>Venture Round</td>\n",
       "      <td>16,000,000</td>\n",
       "    </tr>\n",
       "    <tr>\n",
       "      <th>21</th>\n",
       "      <td>18/01/2021</td>\n",
       "      <td>Udayy</td>\n",
       "      <td>EdTech</td>\n",
       "      <td>Online learning platform for kids in class 1-5</td>\n",
       "      <td>Gurgaon</td>\n",
       "      <td>Sequoia Capital</td>\n",
       "      <td>Seed Funding</td>\n",
       "      <td>15,000,000</td>\n",
       "    </tr>\n",
       "    <tr>\n",
       "      <th>22</th>\n",
       "      <td>11/01/2021</td>\n",
       "      <td>True Elements</td>\n",
       "      <td>Food Startup</td>\n",
       "      <td>Whole Food plant based Nashta</td>\n",
       "      <td>Pune</td>\n",
       "      <td>SIDBI Venture Capital</td>\n",
       "      <td>Series</td>\n",
       "      <td>100,000,000</td>\n",
       "    </tr>\n",
       "    <tr>\n",
       "      <th>23</th>\n",
       "      <td>13/01/2021</td>\n",
       "      <td>Saveo</td>\n",
       "      <td>B2B E-commerce</td>\n",
       "      <td>Pharmacies</td>\n",
       "      <td>Bengaluru</td>\n",
       "      <td>Matrix Partners India, RTP Global, others</td>\n",
       "      <td>Seed</td>\n",
       "      <td>4,000,000</td>\n",
       "    </tr>\n",
       "  </tbody>\n",
       "</table>\n",
       "</div>"
      ],
      "text/plain": [
       "          date            company name                industry  \\\n",
       "0   04/03/2021               DealShare              E-commerce   \n",
       "1   31/03/2021                Uniphore              Technology   \n",
       "2   30/03/2021                   Dunzo              E-commerce   \n",
       "3   30/03/2021                  BYJU’S                Edu-tech   \n",
       "4   23/03/2021             SkilloVilla                Edu-tech   \n",
       "5   25/03/2021                CityMall              E-commerce   \n",
       "6   26/03/2021                   DotPe                 FinTech   \n",
       "7   11/02/2021                Doubtnut                Edu Tech   \n",
       "8   22/02/2021                  Zomato             Hospitality   \n",
       "9   19/02/2021               Fingerlix             Hospitality   \n",
       "10  17/02/2021                   Zolve                 FinTech   \n",
       "11  15/02/2021               KreditBee                 Finance   \n",
       "12  12/02/2021               Pepperfry              E-commerce   \n",
       "13  12/02/2021                 Grofers              E-Commerce   \n",
       "14  09/02/2021                 Nothing              Technology   \n",
       "15  09/02/2021             SplashLearn                  EdTech   \n",
       "16  15/01/2021         Digit Insurance      Financial Services   \n",
       "17  28/01/2021  Bombay Shaving Company  Consumer Goods Company   \n",
       "18  19/01/2021                  DeHaat        AgriTech Startup   \n",
       "19  19/01/2021               Darwinbox                    SaaS   \n",
       "20  18/01/2021                   mfine     Health Tech Startup   \n",
       "21  18/01/2021                   Udayy                  EdTech   \n",
       "22  11/01/2021           True Elements            Food Startup   \n",
       "23  13/01/2021                   Saveo          B2B E-commerce   \n",
       "\n",
       "                                          subvirtical           location  \\\n",
       "0                            Online shopping platform  Jaipur, Rajasthan   \n",
       "1             Conversational Service Automation (CSA)          Palo Alto   \n",
       "2                            Hyper-local delivery app          Bengaluru   \n",
       "3                                     Online tutoring          Bengaluru   \n",
       "4                 Career and job-oriented upskilling.          Bengaluru   \n",
       "5        Social ecommerce and online grocery platform            Gurgaon   \n",
       "6   Commerce and payments platform to offline ente...            Gurgaon   \n",
       "7                                 E-Learning Platform            Gurgaon   \n",
       "8                       Online Food Delivery Platform            Gurgaon   \n",
       "9                       Semi-cooked food delivery app             Mumbai   \n",
       "10                             Global Neobank Venture             Mumbai   \n",
       "11                           Digital lending platform          Bengaluru   \n",
       "12                        Multi-brand furniture brand             Mumbai   \n",
       "13                                 Online supermarket            Gurgaon   \n",
       "14                        Consumer Technology Venture             London   \n",
       "15                      Game-based learning programme            Gurgaon   \n",
       "16                                 Insurance Services          Bengaluru   \n",
       "17      Shave care, beard care, and skincare products          New Delhi   \n",
       "18  online marketplace for farm products and services              Patna   \n",
       "19                                            HR Tech             Mumbai   \n",
       "20                 AI-powered telemedicine mobile app          Bengaluru   \n",
       "21     Online learning platform for kids in class 1-5            Gurgaon   \n",
       "22                      Whole Food plant based Nashta               Pune   \n",
       "23                                         Pharmacies          Bengaluru   \n",
       "\n",
       "                                             investor      investment  \\\n",
       "0                                     Innoven Capital  Debt Financing   \n",
       "1                           Sorenson Capital Partners        Series D   \n",
       "2                           Krishtal Advisors Pte Ltd        Series E   \n",
       "3          MC Global Edtech, B Capital, Baron, others        Series F   \n",
       "4                               Titan Capital, others            Seed   \n",
       "5                                      Accel Partners        Series A   \n",
       "6                                                PayU        Series A   \n",
       "7   SIG Global, Sequoia Capital, WaterBridge Ventu...        Series B   \n",
       "8                                  Tiger Global, Kora         Venture   \n",
       "9            Rhodium Trust, Accel Partners and Swiggy        Series C   \n",
       "10     Accel Partners and Lightspeed Venture Partners            Seed   \n",
       "11  Azim Premji’s PremjiInvest and South Korea’s M...        Series C   \n",
       "12                                    InnoVen Capital  Debt Financing   \n",
       "13                         SoftBank Vision Fund (SVF)     Unspecified   \n",
       "14                                                 GV        Series A   \n",
       "15                                       Owl Ventures        Series C   \n",
       "16   A91 Partners, Faering Capital, TVS Capital Funds         Venture   \n",
       "17                                  Reckitt Benckiser         Venture   \n",
       "18                                    Prosus Ventures        Series C   \n",
       "19                                Salesforce Ventures            Seed   \n",
       "20                         Heritas Capital Management   Venture Round   \n",
       "21                                    Sequoia Capital    Seed Funding   \n",
       "22                              SIDBI Venture Capital          Series   \n",
       "23          Matrix Partners India, RTP Global, others            Seed   \n",
       "\n",
       "         ammount  \n",
       "0    250,000,000  \n",
       "1    140,000,000  \n",
       "2      8,000,000  \n",
       "3    460,000,000  \n",
       "4    300,000,000  \n",
       "5     11,000,000  \n",
       "6     27,500,000  \n",
       "7      2,500,000  \n",
       "8    250,000,000  \n",
       "9   2,747,045.20  \n",
       "10   1,50,00,000  \n",
       "11    75,000,000  \n",
       "12     4,773,958  \n",
       "13    55,000,000  \n",
       "14    15,000,000  \n",
       "15    18,000,000  \n",
       "16   1,80,00,000  \n",
       "17  6,172,258.50  \n",
       "18    30,000,000  \n",
       "19    15,000,000  \n",
       "20    16,000,000  \n",
       "21    15,000,000  \n",
       "22   100,000,000  \n",
       "23     4,000,000  "
      ]
     },
     "execution_count": 293,
     "metadata": {},
     "output_type": "execute_result"
    }
   ],
   "source": [
    "funding_deals = pd.DataFrame({})\n",
    "funding_deals[\"date\"] = january_date[5:29]\n",
    "funding_deals[\"company name\"]=january_name[5:29]\n",
    "funding_deals[\"industry\"]= industry[5:29]\n",
    "funding_deals[\"subvirtical\"]=subvirtical[5:29]\n",
    "funding_deals[\"location\"]=location[5:29]\n",
    "funding_deals[\"investor\"] = investor[5:29]\n",
    "funding_deals[\"investment\"]=investment[5:29]\n",
    "funding_deals[\"ammount\"]= ammount[5:29]\n",
    "funding_deals"
   ]
  },
  {
   "cell_type": "markdown",
   "id": "61bf40b9",
   "metadata": {},
   "source": [
    "7. Write a program to scrap all the available details of best gaming laptops from digit.in.\n"
   ]
  },
  {
   "cell_type": "code",
   "execution_count": 294,
   "id": "86b42074",
   "metadata": {},
   "outputs": [],
   "source": [
    "driver.get(\"https://www.google.com/\")"
   ]
  },
  {
   "cell_type": "code",
   "execution_count": 295,
   "id": "3dc8b9ba",
   "metadata": {},
   "outputs": [],
   "source": [
    "try:\n",
    "    search_designation=driver.find_element_by_xpath(\"/html/body/div[1]/div[3]/form/div[1]/div[1]/div[1]/div/div[2]/input\")\n",
    "    search_designation.click()\n",
    "except NoSuchElementException as e:\n",
    "    print(e)"
   ]
  },
  {
   "cell_type": "code",
   "execution_count": 296,
   "id": "e14a5701",
   "metadata": {},
   "outputs": [],
   "source": [
    "search_option=driver.find_element_by_xpath(\"/html/body/div[1]/div[3]/form/div[1]/div[1]/div[1]/div/div[2]/input\")\n",
    "search_option.send_keys(\"digit.in\")"
   ]
  },
  {
   "cell_type": "code",
   "execution_count": 297,
   "id": "a9c10ff1",
   "metadata": {},
   "outputs": [],
   "source": [
    "try:\n",
    "    search_button=driver.find_element_by_xpath(\"/html/body/div[1]/div[3]/form/div[1]/div[1]/div[2]/div[2]/div[5]/center/input[1]\")\n",
    "    search_button.click()\n",
    "except ElementClickInterceptedException as e:\n",
    "    print(e)"
   ]
  },
  {
   "cell_type": "code",
   "execution_count": 298,
   "id": "4bfc5731",
   "metadata": {},
   "outputs": [],
   "source": [
    "digit=driver.find_element_by_xpath(\"/html/body/div[7]/div/div[10]/div/div[2]/div[2]/div/div/div[1]/div/div/div/div/div/div[1]/a/h3\")\n",
    "digit.click()"
   ]
  },
  {
   "cell_type": "code",
   "execution_count": 299,
   "id": "b13d10a4",
   "metadata": {},
   "outputs": [],
   "source": [
    "lapee=driver.find_element_by_xpath(\"/html/body/div[3]/div/div[2]/div[2]/div[4]/ul/li[9]/a\")\n",
    "lapee.click()"
   ]
  },
  {
   "cell_type": "code",
   "execution_count": 301,
   "id": "69cba3fc",
   "metadata": {},
   "outputs": [
    {
     "data": {
      "text/plain": [
       "[<selenium.webdriver.remote.webelement.WebElement (session=\"7ccc8d9e9e3408e1eb82176a4655436a\", element=\"b7f7a556-2ca2-48b8-a3b2-e6853345da26\")>,\n",
       " <selenium.webdriver.remote.webelement.WebElement (session=\"7ccc8d9e9e3408e1eb82176a4655436a\", element=\"4caf3477-4d87-4249-8f8d-2fa319dc66ab\")>]"
      ]
     },
     "execution_count": 301,
     "metadata": {},
     "output_type": "execute_result"
    }
   ],
   "source": [
    "amm=driver.find_elements_by_xpath(\"//td[@class='smmerchant']\")\n",
    "amm[0:2]"
   ]
  },
  {
   "cell_type": "code",
   "execution_count": 305,
   "id": "532d94b7",
   "metadata": {},
   "outputs": [
    {
     "data": {
      "text/plain": [
       "[<selenium.webdriver.remote.webelement.WebElement (session=\"7ccc8d9e9e3408e1eb82176a4655436a\", element=\"feeab138-ea55-407b-84f8-0c14ce791b60\")>]"
      ]
     },
     "execution_count": 305,
     "metadata": {},
     "output_type": "execute_result"
    }
   ],
   "source": [
    "amm=driver.find_elements_by_xpath(\"//*[@id='summtable']/tbody/tr[1]/td[1]\")\n",
    "amm[0:2]"
   ]
  },
  {
   "cell_type": "code",
   "execution_count": 306,
   "id": "be31ef74",
   "metadata": {},
   "outputs": [
    {
     "data": {
      "text/plain": [
       "['MSI Raider GE76']"
      ]
     },
     "execution_count": 306,
     "metadata": {},
     "output_type": "execute_result"
    }
   ],
   "source": [
    "ammount=[]\n",
    "for i in amm:\n",
    "    title1=i.text\n",
    "    ammount.append(title1)\n",
    "ammount"
   ]
  },
  {
   "cell_type": "code",
   "execution_count": 317,
   "id": "a0ce880d",
   "metadata": {},
   "outputs": [
    {
     "data": {
      "text/plain": [
       "[<selenium.webdriver.remote.webelement.WebElement (session=\"7ccc8d9e9e3408e1eb82176a4655436a\", element=\"f8d1cabc-d26c-44b7-af85-3b0178ec9df4\")>,\n",
       " <selenium.webdriver.remote.webelement.WebElement (session=\"7ccc8d9e9e3408e1eb82176a4655436a\", element=\"1bc041f7-11f1-4532-be50-fb310306611c\")>]"
      ]
     },
     "execution_count": 317,
     "metadata": {},
     "output_type": "execute_result"
    }
   ],
   "source": [
    "lapee=driver.find_elements_by_xpath(\"//div[@class='TopNumbeHeading sticky-footer']\")\n",
    "lapee[0:2]"
   ]
  },
  {
   "cell_type": "code",
   "execution_count": 326,
   "id": "ca77a8c9",
   "metadata": {},
   "outputs": [
    {
     "data": {
      "text/plain": [
       "['1.MSI RAIDER GE76',\n",
       " '2.ASUS ROG STRIX SCAR 15',\n",
       " '4.MSI STEALTH 15M',\n",
       " '5.ASUS ROG STRIX SCAR 15',\n",
       " '6.ASUS ROG STRIX SCAR 15',\n",
       " '7.ASUS ZEPHYRUS G14',\n",
       " '8.HP OMEN 16',\n",
       " '9.ASUS ROG ZEPHYRUS DUO 15',\n",
       " '10.ACER ASPIRE 7 GAMING LAPTOP']"
      ]
     },
     "execution_count": 326,
     "metadata": {},
     "output_type": "execute_result"
    }
   ],
   "source": [
    "laptop_name=[]\n",
    "for i in lapee:\n",
    "    title1=i.text\n",
    "    laptop_name.append(title1.replace(\"\\n\",\"\"))\n",
    "laptop_name"
   ]
  },
  {
   "cell_type": "code",
   "execution_count": 329,
   "id": "3c43dc8d",
   "metadata": {},
   "outputs": [],
   "source": [
    "laptop_name.insert(2,'3.Acer Nitro 5')"
   ]
  },
  {
   "cell_type": "code",
   "execution_count": 319,
   "id": "15c2d99f",
   "metadata": {},
   "outputs": [
    {
     "data": {
      "text/plain": [
       "[<selenium.webdriver.remote.webelement.WebElement (session=\"7ccc8d9e9e3408e1eb82176a4655436a\", element=\"0f290157-a380-4a20-ac0a-5f3b60e1bbfe\")>,\n",
       " <selenium.webdriver.remote.webelement.WebElement (session=\"7ccc8d9e9e3408e1eb82176a4655436a\", element=\"e2a9056f-0e9e-4414-b535-c1786d7d7250\")>]"
      ]
     },
     "execution_count": 319,
     "metadata": {},
     "output_type": "execute_result"
    }
   ],
   "source": [
    "window=driver.find_elements_by_xpath(\"//div[@class='value']\")\n",
    "window[0:2]"
   ]
  },
  {
   "cell_type": "code",
   "execution_count": 321,
   "id": "d948e115",
   "metadata": {},
   "outputs": [
    {
     "data": {
      "text/plain": [
       "['WINDOWS 11 HOME',\n",
       " '17\" (3840 X 2160)',\n",
       " '12TH GEN INTEL CORE I9-12900HK | 5 GHZ',\n",
       " '2 TB SSD/16 GBGB DDR5',\n",
       " 'WINDOWS 11 HOME',\n",
       " '15.6\" (2560 X 1440)',\n",
       " '12TH GEN INTEL CORE I9-12900H | 2.5 GHZ',\n",
       " '2 TB SSD/32 GBGB DDR5',\n",
       " 'WINDOWS 10',\n",
       " '15.6\" (1920 X 1080)',\n",
       " 'AMD RYZEN 9 OCTA CORE | 2.4 GHZ',\n",
       " '1 TB HDD/16 GBGB DDR4',\n",
       " 'WINDOWS 10',\n",
       " '15.6\" (1920 X 1080)',\n",
       " 'INTEL CORE I7 11TH GEN - 11375H | ',\n",
       " '1 TB SSD/16 GBGB DDR4',\n",
       " 'WINDOWS 10',\n",
       " '15.6\" (2560 X 1440)',\n",
       " 'AMD RYZEN 9 OCTA CORE - 5900HX | 3.3 GHZ',\n",
       " '2 TB SSD/32 GBGB DDR4',\n",
       " 'WINDOWS 10 HOME',\n",
       " '15.6\" (1920 X 1080)',\n",
       " 'AMD RYZEN™ 9 5900HX | 3.3 GHZ',\n",
       " '1 TB SSD/16 GBGB DDR4',\n",
       " 'WINDOWS 10 HOME',\n",
       " '14\" (1920 X 1080)',\n",
       " 'AMD 3RD GEN RYZEN 9 | 3.3 GHZ',\n",
       " '1 TB SSD/16 GBGB DDR4',\n",
       " 'WINDOWS 11 HOME',\n",
       " '16.1\" (1920 X 1080)',\n",
       " '12TH GEN INTEL CORE I7-12700H | 4.7 GHZ',\n",
       " '1 TB SSD/16 GBGB DDR4',\n",
       " 'WINDOWS 10',\n",
       " '15.6\" (3840 X 1100)',\n",
       " 'INTEL CORE I7 10TH GEN 10875H | ',\n",
       " '512 GB SSD/4 GBGB DDR4',\n",
       " 'WINDOWS 10 HOME',\n",
       " '15.6\" (1920 X 1080)',\n",
       " 'AMD RYZEN™ 5-5500U HEXA-CORE | ',\n",
       " '512 GB SSD/8 GBGB DDR4']"
      ]
     },
     "execution_count": 321,
     "metadata": {},
     "output_type": "execute_result"
    }
   ],
   "source": [
    "windows=[]\n",
    "for i in window:\n",
    "    title1=i.text\n",
    "    windows.append(title1.replace(\"NA\",\"\"))\n",
    "windows"
   ]
  },
  {
   "cell_type": "code",
   "execution_count": 322,
   "id": "617c2c8a",
   "metadata": {},
   "outputs": [],
   "source": [
    "l=[['WINDOWS 11 HOME',\n",
    " '17\" (3840 X 2160)',\n",
    " '12TH GEN INTEL CORE I9-12900HK | 5 GHZ',\n",
    " '2 TB SSD/16 GBGB DDR5'],\n",
    " ['WINDOWS 11 HOME',\n",
    " '15.6\" (2560 X 1440)',\n",
    " '12TH GEN INTEL CORE I9-12900H | 2.5 GHZ',\n",
    " '2 TB SSD/32 GBGB DDR5'],\n",
    " ['WINDOWS 10',\n",
    " '15.6\" (1920 X 1080)',\n",
    " 'AMD RYZEN 9 OCTA CORE | 2.4 GHZ',\n",
    " '1 TB HDD/16 GBGB DDR4'],\n",
    " ['WINDOWS 10',\n",
    " '15.6\" (1920 X 1080)',\n",
    " 'INTEL CORE I7 11TH GEN - 11375H | ',\n",
    " '1 TB SSD/16 GBGB DDR4'],\n",
    " ['WINDOWS 10',\n",
    " '15.6\" (2560 X 1440)',\n",
    " 'AMD RYZEN 9 OCTA CORE - 5900HX | 3.3 GHZ',\n",
    " '2 TB SSD/32 GBGB DDR4'],\n",
    " ['WINDOWS 10 HOME',\n",
    " '15.6\" (1920 X 1080)',\n",
    " 'AMD RYZEN™ 9 5900HX | 3.3 GHZ',\n",
    " '1 TB SSD/16 GBGB DDR4'],\n",
    " ['WINDOWS 10 HOME',\n",
    " '14\" (1920 X 1080)',\n",
    " 'AMD 3RD GEN RYZEN 9 | 3.3 GHZ',\n",
    " '1 TB SSD/16 GBGB DDR4'],\n",
    " ['WINDOWS 11 HOME',\n",
    " '16.1\" (1920 X 1080)',\n",
    " '12TH GEN INTEL CORE I7-12700H | 4.7 GHZ',\n",
    " '1 TB SSD/16 GBGB DDR4'],\n",
    " ['WINDOWS 10',\n",
    " '15.6\" (3840 X 1100)',\n",
    " 'INTEL CORE I7 10TH GEN 10875H | ',\n",
    " '512 GB SSD/4 GBGB DDR4'],\n",
    " ['WINDOWS 10 HOME',\n",
    " '15.6\" (1920 X 1080)',\n",
    " 'AMD RYZEN™ 5-5500U HEXA-CORE | ',\n",
    " '512 GB SSD/8 GBGB DDR4']]"
   ]
  },
  {
   "cell_type": "code",
   "execution_count": 323,
   "id": "32028e5d",
   "metadata": {},
   "outputs": [
    {
     "data": {
      "text/plain": [
       "10"
      ]
     },
     "execution_count": 323,
     "metadata": {},
     "output_type": "execute_result"
    }
   ],
   "source": [
    "len(l)"
   ]
  },
  {
   "cell_type": "code",
   "execution_count": 331,
   "id": "7700e3c3",
   "metadata": {},
   "outputs": [
    {
     "data": {
      "text/html": [
       "<div>\n",
       "<style scoped>\n",
       "    .dataframe tbody tr th:only-of-type {\n",
       "        vertical-align: middle;\n",
       "    }\n",
       "\n",
       "    .dataframe tbody tr th {\n",
       "        vertical-align: top;\n",
       "    }\n",
       "\n",
       "    .dataframe thead th {\n",
       "        text-align: right;\n",
       "    }\n",
       "</style>\n",
       "<table border=\"1\" class=\"dataframe\">\n",
       "  <thead>\n",
       "    <tr style=\"text-align: right;\">\n",
       "      <th></th>\n",
       "      <th>name</th>\n",
       "      <th>detail</th>\n",
       "    </tr>\n",
       "  </thead>\n",
       "  <tbody>\n",
       "    <tr>\n",
       "      <th>0</th>\n",
       "      <td>1.MSI RAIDER GE76</td>\n",
       "      <td>[WINDOWS 11 HOME, 17\" (3840 X 2160), 12TH GEN ...</td>\n",
       "    </tr>\n",
       "    <tr>\n",
       "      <th>1</th>\n",
       "      <td>2.ASUS ROG STRIX SCAR 15</td>\n",
       "      <td>[WINDOWS 11 HOME, 15.6\" (2560 X 1440), 12TH GE...</td>\n",
       "    </tr>\n",
       "    <tr>\n",
       "      <th>2</th>\n",
       "      <td>3.Acer Nitro 5</td>\n",
       "      <td>[WINDOWS 10, 15.6\" (1920 X 1080), AMD RYZEN 9 ...</td>\n",
       "    </tr>\n",
       "    <tr>\n",
       "      <th>3</th>\n",
       "      <td>4.MSI STEALTH 15M</td>\n",
       "      <td>[WINDOWS 10, 15.6\" (1920 X 1080), INTEL CORE I...</td>\n",
       "    </tr>\n",
       "    <tr>\n",
       "      <th>4</th>\n",
       "      <td>5.ASUS ROG STRIX SCAR 15</td>\n",
       "      <td>[WINDOWS 10, 15.6\" (2560 X 1440), AMD RYZEN 9 ...</td>\n",
       "    </tr>\n",
       "    <tr>\n",
       "      <th>5</th>\n",
       "      <td>6.ASUS ROG STRIX SCAR 15</td>\n",
       "      <td>[WINDOWS 10 HOME, 15.6\" (1920 X 1080), AMD RYZ...</td>\n",
       "    </tr>\n",
       "    <tr>\n",
       "      <th>6</th>\n",
       "      <td>7.ASUS ZEPHYRUS G14</td>\n",
       "      <td>[WINDOWS 10 HOME, 14\" (1920 X 1080), AMD 3RD G...</td>\n",
       "    </tr>\n",
       "    <tr>\n",
       "      <th>7</th>\n",
       "      <td>8.HP OMEN 16</td>\n",
       "      <td>[WINDOWS 11 HOME, 16.1\" (1920 X 1080), 12TH GE...</td>\n",
       "    </tr>\n",
       "    <tr>\n",
       "      <th>8</th>\n",
       "      <td>9.ASUS ROG ZEPHYRUS DUO 15</td>\n",
       "      <td>[WINDOWS 10, 15.6\" (3840 X 1100), INTEL CORE I...</td>\n",
       "    </tr>\n",
       "    <tr>\n",
       "      <th>9</th>\n",
       "      <td>10.ACER ASPIRE 7 GAMING LAPTOP</td>\n",
       "      <td>[WINDOWS 10 HOME, 15.6\" (1920 X 1080), AMD RYZ...</td>\n",
       "    </tr>\n",
       "  </tbody>\n",
       "</table>\n",
       "</div>"
      ],
      "text/plain": [
       "                             name  \\\n",
       "0               1.MSI RAIDER GE76   \n",
       "1        2.ASUS ROG STRIX SCAR 15   \n",
       "2                  3.Acer Nitro 5   \n",
       "3               4.MSI STEALTH 15M   \n",
       "4        5.ASUS ROG STRIX SCAR 15   \n",
       "5        6.ASUS ROG STRIX SCAR 15   \n",
       "6             7.ASUS ZEPHYRUS G14   \n",
       "7                    8.HP OMEN 16   \n",
       "8      9.ASUS ROG ZEPHYRUS DUO 15   \n",
       "9  10.ACER ASPIRE 7 GAMING LAPTOP   \n",
       "\n",
       "                                              detail  \n",
       "0  [WINDOWS 11 HOME, 17\" (3840 X 2160), 12TH GEN ...  \n",
       "1  [WINDOWS 11 HOME, 15.6\" (2560 X 1440), 12TH GE...  \n",
       "2  [WINDOWS 10, 15.6\" (1920 X 1080), AMD RYZEN 9 ...  \n",
       "3  [WINDOWS 10, 15.6\" (1920 X 1080), INTEL CORE I...  \n",
       "4  [WINDOWS 10, 15.6\" (2560 X 1440), AMD RYZEN 9 ...  \n",
       "5  [WINDOWS 10 HOME, 15.6\" (1920 X 1080), AMD RYZ...  \n",
       "6  [WINDOWS 10 HOME, 14\" (1920 X 1080), AMD 3RD G...  \n",
       "7  [WINDOWS 11 HOME, 16.1\" (1920 X 1080), 12TH GE...  \n",
       "8  [WINDOWS 10, 15.6\" (3840 X 1100), INTEL CORE I...  \n",
       "9  [WINDOWS 10 HOME, 15.6\" (1920 X 1080), AMD RYZ...  "
      ]
     },
     "execution_count": 331,
     "metadata": {},
     "output_type": "execute_result"
    }
   ],
   "source": [
    "gaming_laptop = pd.DataFrame({})\n",
    "gaming_laptop[\"name\"] = laptop_name\n",
    "gaming_laptop[\"detail\"]=l\n",
    "gaming_laptop"
   ]
  },
  {
   "cell_type": "markdown",
   "id": "4cba8045",
   "metadata": {},
   "source": [
    "8. Write a python program to scrape the details for all billionaires from www.forbes.com. Details to be \n",
    "scrapped: “Rank”, “Name”, “Net worth”, “Age”, “Citizenship”, “Source”, “Industry”.\n"
   ]
  },
  {
   "cell_type": "code",
   "execution_count": 332,
   "id": "63a085b4",
   "metadata": {},
   "outputs": [],
   "source": [
    "driver.get(\"http://www.forbes.com/\")"
   ]
  },
  {
   "cell_type": "code",
   "execution_count": 333,
   "id": "62e55275",
   "metadata": {},
   "outputs": [],
   "source": [
    "try:\n",
    "    search_designation=driver.find_element_by_xpath(\"/html/body/div[1]/header/nav/div[1]/button[1]\")\n",
    "    search_designation.click()\n",
    "except NoSuchElementException as e:\n",
    "    print(e)"
   ]
  },
  {
   "cell_type": "code",
   "execution_count": 341,
   "id": "18a2e7d0",
   "metadata": {},
   "outputs": [],
   "source": [
    "try:\n",
    "    billionaire=driver.find_element_by_xpath(\"/html/body/div[1]/header/nav/div[3]/ul/li[1]\")\n",
    "    billionaire.click()\n",
    "except ElementNotInteractableException as e:\n",
    "    print(e)"
   ]
  },
  {
   "cell_type": "code",
   "execution_count": 347,
   "id": "519c3a79",
   "metadata": {},
   "outputs": [
    {
     "name": "stdout",
     "output_type": "stream",
     "text": [
      "Message: no such element: Unable to locate element: {\"method\":\"css selector\",\"selector\":\".header__section header__section--all\"}\n",
      "  (Session info: chrome=101.0.4951.67)\n",
      "Stacktrace:\n",
      "Backtrace:\n",
      "\tOrdinal0 [0x01247413+2389011]\n",
      "\tOrdinal0 [0x011D9F61+1941345]\n",
      "\tOrdinal0 [0x010CC658+837208]\n",
      "\tOrdinal0 [0x010F91DD+1020381]\n",
      "\tOrdinal0 [0x010F949B+1021083]\n",
      "\tOrdinal0 [0x01126032+1204274]\n",
      "\tOrdinal0 [0x01114194+1130900]\n",
      "\tOrdinal0 [0x01124302+1196802]\n",
      "\tOrdinal0 [0x01113F66+1130342]\n",
      "\tOrdinal0 [0x010EE546+976198]\n",
      "\tOrdinal0 [0x010EF456+980054]\n",
      "\tGetHandleVerifier [0x013F9632+1727522]\n",
      "\tGetHandleVerifier [0x014ABA4D+2457661]\n",
      "\tGetHandleVerifier [0x012DEB81+569713]\n",
      "\tGetHandleVerifier [0x012DDD76+566118]\n",
      "\tOrdinal0 [0x011E0B2B+1968939]\n",
      "\tOrdinal0 [0x011E5988+1989000]\n",
      "\tOrdinal0 [0x011E5A75+1989237]\n",
      "\tOrdinal0 [0x011EECB1+2026673]\n",
      "\tBaseThreadInitThunk [0x77396739+25]\n",
      "\tRtlGetFullPathName_UEx [0x77968FEF+1215]\n",
      "\tRtlGetFullPathName_UEx [0x77968FBD+1165]\n",
      "\n"
     ]
    }
   ],
   "source": [
    "try:\n",
    "    lapee=driver.find_element_by_class_name(\"header__section header__section--all\")\n",
    "    lapee.click()\n",
    "except NoSuchElementException as e:\n",
    "    print(e)"
   ]
  },
  {
   "cell_type": "code",
   "execution_count": 348,
   "id": "a540bf04",
   "metadata": {},
   "outputs": [],
   "source": [
    "search_button=driver.find_element_by_xpath(\"/html/body/div[1]/main/div/section/div/div/div[2]/div[1]/a[2]\")\n",
    "search_button.click()"
   ]
  },
  {
   "cell_type": "code",
   "execution_count": 349,
   "id": "026c8d73",
   "metadata": {},
   "outputs": [
    {
     "data": {
      "text/plain": [
       "[<selenium.webdriver.remote.webelement.WebElement (session=\"7ccc8d9e9e3408e1eb82176a4655436a\", element=\"874780a3-49fd-4511-843d-c93da3657b70\")>,\n",
       " <selenium.webdriver.remote.webelement.WebElement (session=\"7ccc8d9e9e3408e1eb82176a4655436a\", element=\"fa5fd7d3-109f-462f-8317-fbc065b526d9\")>]"
      ]
     },
     "execution_count": 349,
     "metadata": {},
     "output_type": "execute_result"
    }
   ],
   "source": [
    "bill=driver.find_elements_by_xpath(\"//div[@class='personName']\")\n",
    "bill[0:2]"
   ]
  },
  {
   "cell_type": "code",
   "execution_count": 363,
   "id": "567917f5",
   "metadata": {},
   "outputs": [
    {
     "data": {
      "text/plain": [
       "['Elon Musk', 'Jeff Bezos']"
      ]
     },
     "execution_count": 363,
     "metadata": {},
     "output_type": "execute_result"
    }
   ],
   "source": [
    "names=[]\n",
    "for i in bill:\n",
    "    title1=i.text\n",
    "    names.append(title1)\n",
    "names[0:2]"
   ]
  },
  {
   "cell_type": "code",
   "execution_count": 351,
   "id": "bcc16857",
   "metadata": {},
   "outputs": [
    {
     "data": {
      "text/plain": [
       "[<selenium.webdriver.remote.webelement.WebElement (session=\"7ccc8d9e9e3408e1eb82176a4655436a\", element=\"ee366b01-7421-4117-8b99-1e177bdd24ee\")>,\n",
       " <selenium.webdriver.remote.webelement.WebElement (session=\"7ccc8d9e9e3408e1eb82176a4655436a\", element=\"6b68ce8c-9ffe-429d-a5c0-6164702dae4f\")>]"
      ]
     },
     "execution_count": 351,
     "metadata": {},
     "output_type": "execute_result"
    }
   ],
   "source": [
    "worth=driver.find_elements_by_xpath(\"//div[@class='netWorth']\")\n",
    "worth[0:2]"
   ]
  },
  {
   "cell_type": "code",
   "execution_count": 362,
   "id": "59cf5cce",
   "metadata": {},
   "outputs": [
    {
     "data": {
      "text/plain": [
       "['$219 B', '$171 B']"
      ]
     },
     "execution_count": 362,
     "metadata": {},
     "output_type": "execute_result"
    }
   ],
   "source": [
    "networth=[]\n",
    "for i in worth:\n",
    "    title1=i.text\n",
    "    networth.append(title1)\n",
    "networth[0:2]"
   ]
  },
  {
   "cell_type": "code",
   "execution_count": 353,
   "id": "b99623cd",
   "metadata": {},
   "outputs": [
    {
     "data": {
      "text/plain": [
       "[<selenium.webdriver.remote.webelement.WebElement (session=\"7ccc8d9e9e3408e1eb82176a4655436a\", element=\"82fb5375-3122-4b6d-a23a-b478624994e2\")>,\n",
       " <selenium.webdriver.remote.webelement.WebElement (session=\"7ccc8d9e9e3408e1eb82176a4655436a\", element=\"6a59f9fc-ec55-493d-a758-38c21c25c44c\")>]"
      ]
     },
     "execution_count": 353,
     "metadata": {},
     "output_type": "execute_result"
    }
   ],
   "source": [
    "coun=driver.find_elements_by_xpath(\"//div[@class='countryOfCitizenship']\")\n",
    "coun[0:2]"
   ]
  },
  {
   "cell_type": "code",
   "execution_count": 361,
   "id": "ee4b24df",
   "metadata": {},
   "outputs": [
    {
     "data": {
      "text/plain": [
       "['United States', 'United States']"
      ]
     },
     "execution_count": 361,
     "metadata": {},
     "output_type": "execute_result"
    }
   ],
   "source": [
    "country=[]\n",
    "for i in coun:\n",
    "    title1=i.text\n",
    "    country.append(title1)\n",
    "country[0:2]"
   ]
  },
  {
   "cell_type": "code",
   "execution_count": 355,
   "id": "01e660ce",
   "metadata": {},
   "outputs": [
    {
     "data": {
      "text/plain": [
       "[<selenium.webdriver.remote.webelement.WebElement (session=\"7ccc8d9e9e3408e1eb82176a4655436a\", element=\"f313ce01-97bf-4eb5-9ea1-02e6c2e335a7\")>,\n",
       " <selenium.webdriver.remote.webelement.WebElement (session=\"7ccc8d9e9e3408e1eb82176a4655436a\", element=\"a1fc1885-be49-45bb-a67f-2429c52f8c79\")>]"
      ]
     },
     "execution_count": 355,
     "metadata": {},
     "output_type": "execute_result"
    }
   ],
   "source": [
    "sour=driver.find_elements_by_xpath(\"//div[@class='source']\")\n",
    "sour[0:2]"
   ]
  },
  {
   "cell_type": "code",
   "execution_count": 359,
   "id": "c9020db5",
   "metadata": {},
   "outputs": [
    {
     "data": {
      "text/plain": [
       "['Tesla, SpaceX', 'Amazon']"
      ]
     },
     "execution_count": 359,
     "metadata": {},
     "output_type": "execute_result"
    }
   ],
   "source": [
    "source=[]\n",
    "for i in sour:\n",
    "    title1=i.text\n",
    "    source.append(title1)\n",
    "source[0:2]"
   ]
  },
  {
   "cell_type": "code",
   "execution_count": 357,
   "id": "52c57534",
   "metadata": {},
   "outputs": [
    {
     "data": {
      "text/plain": [
       "[<selenium.webdriver.remote.webelement.WebElement (session=\"7ccc8d9e9e3408e1eb82176a4655436a\", element=\"1ff7e103-0abd-44fa-b8a2-149fd8dbc7c5\")>,\n",
       " <selenium.webdriver.remote.webelement.WebElement (session=\"7ccc8d9e9e3408e1eb82176a4655436a\", element=\"561e5f43-c4e4-4005-b031-a217c17847b4\")>]"
      ]
     },
     "execution_count": 357,
     "metadata": {},
     "output_type": "execute_result"
    }
   ],
   "source": [
    "ind=driver.find_elements_by_xpath(\"//div[@class='category']\")\n",
    "ind[0:2]"
   ]
  },
  {
   "cell_type": "code",
   "execution_count": 360,
   "id": "b9ff0aac",
   "metadata": {},
   "outputs": [
    {
     "data": {
      "text/plain": [
       "['Automotive', 'Technology']"
      ]
     },
     "execution_count": 360,
     "metadata": {},
     "output_type": "execute_result"
    }
   ],
   "source": [
    "industry=[]\n",
    "for i in ind:\n",
    "    title1=i.text\n",
    "    industry.append(title1)\n",
    "industry[0:2]"
   ]
  },
  {
   "cell_type": "code",
   "execution_count": 364,
   "id": "edfe88f8",
   "metadata": {},
   "outputs": [
    {
     "data": {
      "text/plain": [
       "(200, 200, 200, 200, 200)"
      ]
     },
     "execution_count": 364,
     "metadata": {},
     "output_type": "execute_result"
    }
   ],
   "source": [
    "len(names),len(networth),len(country),len(source),len(industry)"
   ]
  },
  {
   "cell_type": "code",
   "execution_count": 365,
   "id": "e71f319b",
   "metadata": {},
   "outputs": [
    {
     "data": {
      "text/html": [
       "<div>\n",
       "<style scoped>\n",
       "    .dataframe tbody tr th:only-of-type {\n",
       "        vertical-align: middle;\n",
       "    }\n",
       "\n",
       "    .dataframe tbody tr th {\n",
       "        vertical-align: top;\n",
       "    }\n",
       "\n",
       "    .dataframe thead th {\n",
       "        text-align: right;\n",
       "    }\n",
       "</style>\n",
       "<table border=\"1\" class=\"dataframe\">\n",
       "  <thead>\n",
       "    <tr style=\"text-align: right;\">\n",
       "      <th></th>\n",
       "      <th>name</th>\n",
       "      <th>networth</th>\n",
       "      <th>country</th>\n",
       "      <th>source</th>\n",
       "      <th>industry</th>\n",
       "    </tr>\n",
       "  </thead>\n",
       "  <tbody>\n",
       "    <tr>\n",
       "      <th>0</th>\n",
       "      <td>Elon Musk</td>\n",
       "      <td>$219 B</td>\n",
       "      <td>United States</td>\n",
       "      <td>Tesla, SpaceX</td>\n",
       "      <td>Automotive</td>\n",
       "    </tr>\n",
       "    <tr>\n",
       "      <th>1</th>\n",
       "      <td>Jeff Bezos</td>\n",
       "      <td>$171 B</td>\n",
       "      <td>United States</td>\n",
       "      <td>Amazon</td>\n",
       "      <td>Technology</td>\n",
       "    </tr>\n",
       "    <tr>\n",
       "      <th>2</th>\n",
       "      <td>Bernard Arnault &amp; family</td>\n",
       "      <td>$158 B</td>\n",
       "      <td>France</td>\n",
       "      <td>LVMH</td>\n",
       "      <td>Fashion &amp; Retail</td>\n",
       "    </tr>\n",
       "    <tr>\n",
       "      <th>3</th>\n",
       "      <td>Bill Gates</td>\n",
       "      <td>$129 B</td>\n",
       "      <td>United States</td>\n",
       "      <td>Microsoft</td>\n",
       "      <td>Technology</td>\n",
       "    </tr>\n",
       "    <tr>\n",
       "      <th>4</th>\n",
       "      <td>Warren Buffett</td>\n",
       "      <td>$118 B</td>\n",
       "      <td>United States</td>\n",
       "      <td>Berkshire Hathaway</td>\n",
       "      <td>Finance &amp; Investments</td>\n",
       "    </tr>\n",
       "    <tr>\n",
       "      <th>...</th>\n",
       "      <td>...</td>\n",
       "      <td>...</td>\n",
       "      <td>...</td>\n",
       "      <td>...</td>\n",
       "      <td>...</td>\n",
       "    </tr>\n",
       "    <tr>\n",
       "      <th>195</th>\n",
       "      <td>Marcel Herrmann Telles</td>\n",
       "      <td>$10.3 B</td>\n",
       "      <td>Brazil</td>\n",
       "      <td>beer</td>\n",
       "      <td>Food &amp; Beverage</td>\n",
       "    </tr>\n",
       "    <tr>\n",
       "      <th>196</th>\n",
       "      <td>Leon Black</td>\n",
       "      <td>$10 B</td>\n",
       "      <td>United States</td>\n",
       "      <td>private equity</td>\n",
       "      <td>Finance &amp; Investments</td>\n",
       "    </tr>\n",
       "    <tr>\n",
       "      <th>197</th>\n",
       "      <td>Joe Gebbia</td>\n",
       "      <td>$10 B</td>\n",
       "      <td>United States</td>\n",
       "      <td>Airbnb</td>\n",
       "      <td>Technology</td>\n",
       "    </tr>\n",
       "    <tr>\n",
       "      <th>198</th>\n",
       "      <td>David Geffen</td>\n",
       "      <td>$10 B</td>\n",
       "      <td>United States</td>\n",
       "      <td>movies, record labels</td>\n",
       "      <td>Media &amp; Entertainment</td>\n",
       "    </tr>\n",
       "    <tr>\n",
       "      <th>199</th>\n",
       "      <td>Yu Renrong</td>\n",
       "      <td>$10 B</td>\n",
       "      <td>China</td>\n",
       "      <td>semiconductors</td>\n",
       "      <td>Manufacturing</td>\n",
       "    </tr>\n",
       "  </tbody>\n",
       "</table>\n",
       "<p>200 rows × 5 columns</p>\n",
       "</div>"
      ],
      "text/plain": [
       "                         name networth        country                 source  \\\n",
       "0                   Elon Musk   $219 B  United States          Tesla, SpaceX   \n",
       "1                  Jeff Bezos   $171 B  United States                 Amazon   \n",
       "2    Bernard Arnault & family   $158 B         France                   LVMH   \n",
       "3                  Bill Gates   $129 B  United States              Microsoft   \n",
       "4              Warren Buffett   $118 B  United States     Berkshire Hathaway   \n",
       "..                        ...      ...            ...                    ...   \n",
       "195    Marcel Herrmann Telles  $10.3 B         Brazil                   beer   \n",
       "196                Leon Black    $10 B  United States         private equity   \n",
       "197                Joe Gebbia    $10 B  United States                 Airbnb   \n",
       "198              David Geffen    $10 B  United States  movies, record labels   \n",
       "199                Yu Renrong    $10 B          China         semiconductors   \n",
       "\n",
       "                  industry  \n",
       "0               Automotive  \n",
       "1               Technology  \n",
       "2         Fashion & Retail  \n",
       "3               Technology  \n",
       "4    Finance & Investments  \n",
       "..                     ...  \n",
       "195        Food & Beverage  \n",
       "196  Finance & Investments  \n",
       "197             Technology  \n",
       "198  Media & Entertainment  \n",
       "199          Manufacturing  \n",
       "\n",
       "[200 rows x 5 columns]"
      ]
     },
     "execution_count": 365,
     "metadata": {},
     "output_type": "execute_result"
    }
   ],
   "source": [
    "billonaire_details = pd.DataFrame({})\n",
    "billonaire_details[\"name\"] = names\n",
    "billonaire_details[\"networth\"]=networth\n",
    "billonaire_details[\"country\"] = country\n",
    "billonaire_details[\"source\"]=source\n",
    "billonaire_details[\"industry\"] = industry\n",
    "billonaire_details"
   ]
  },
  {
   "cell_type": "markdown",
   "id": "beb32553",
   "metadata": {},
   "source": [
    "9. Write a program to extract at least 500 Comments, Comment upvote and time when comment was posted \n",
    "from any YouTube Video."
   ]
  },
  {
   "cell_type": "code",
   "execution_count": 379,
   "id": "2fe649b1",
   "metadata": {},
   "outputs": [],
   "source": [
    "driver.get(\"https://www.youtube.com/\")"
   ]
  },
  {
   "cell_type": "code",
   "execution_count": 380,
   "id": "8ae21493",
   "metadata": {},
   "outputs": [],
   "source": [
    "search_button=driver.find_element_by_xpath(\"/html/body/ytd-app/div[1]/ytd-page-manager/ytd-browse/ytd-two-column-browse-results-renderer/div[1]/ytd-rich-grid-renderer/div[6]/ytd-rich-grid-row[1]/div/ytd-rich-item-renderer[1]/div/ytd-rich-grid-media/div[1]/div[2]/div[1]/h3/a/yt-formatted-string\")\n",
    "search_button.click()"
   ]
  },
  {
   "cell_type": "code",
   "execution_count": 381,
   "id": "af6ebbf7",
   "metadata": {},
   "outputs": [],
   "source": [
    "p=driver.find_element_by_xpath(\"/html/body/ytd-app/div[1]/ytd-page-manager/ytd-watch-flexy/div[5]/div[1]/div/div[1]/div/div/div/ytd-player/div/div/div[33]/div[2]/div[1]/button\")\n",
    "p.click()"
   ]
  },
  {
   "cell_type": "code",
   "execution_count": 445,
   "id": "ce7be86c",
   "metadata": {},
   "outputs": [
    {
     "data": {
      "text/plain": [
       "[<selenium.webdriver.remote.webelement.WebElement (session=\"7ccc8d9e9e3408e1eb82176a4655436a\", element=\"e40fdadb-7f9d-4e3f-8942-cfb2f05a5a79\")>,\n",
       " <selenium.webdriver.remote.webelement.WebElement (session=\"7ccc8d9e9e3408e1eb82176a4655436a\", element=\"89a4075a-d4fa-45ae-a27c-fe93222e7212\")>]"
      ]
     },
     "execution_count": 445,
     "metadata": {},
     "output_type": "execute_result"
    }
   ],
   "source": [
    "com=driver.find_elements_by_xpath(\"//div[@class='style-scope ytd-expander']\")\n",
    "com[0:2]"
   ]
  },
  {
   "cell_type": "code",
   "execution_count": 446,
   "id": "4f35827e",
   "metadata": {},
   "outputs": [
    {
     "data": {
      "text/plain": [
       "['',\n",
       " 'Neither can I deny the fact that music has been copied nor can I underappreciate the lyrics which makes the song meaningful and melodious voice of the singer']"
      ]
     },
     "execution_count": 446,
     "metadata": {},
     "output_type": "execute_result"
    }
   ],
   "source": [
    "comment1=[]\n",
    "for i in com:\n",
    "    title1=i.text\n",
    "    comment.append(title1.replace(\"\\n\",\".\"))\n",
    "comment[0:2]"
   ]
  },
  {
   "cell_type": "code",
   "execution_count": 447,
   "id": "78e3bbc1",
   "metadata": {},
   "outputs": [
    {
     "data": {
      "text/plain": [
       "506"
      ]
     },
     "execution_count": 447,
     "metadata": {},
     "output_type": "execute_result"
    }
   ],
   "source": [
    "len(comment)"
   ]
  },
  {
   "cell_type": "code",
   "execution_count": 448,
   "id": "2675d561",
   "metadata": {},
   "outputs": [
    {
     "data": {
      "text/plain": [
       "[<selenium.webdriver.remote.webelement.WebElement (session=\"7ccc8d9e9e3408e1eb82176a4655436a\", element=\"a80b0315-af42-435f-8585-ba1f2c0522ee\")>,\n",
       " <selenium.webdriver.remote.webelement.WebElement (session=\"7ccc8d9e9e3408e1eb82176a4655436a\", element=\"e8ab72b8-84d6-438f-920b-bcc8a284bd8f\")>]"
      ]
     },
     "execution_count": 448,
     "metadata": {},
     "output_type": "execute_result"
    }
   ],
   "source": [
    "tm=driver.find_elements_by_xpath(\"//a[@class='yt-simple-endpoint style-scope yt-formatted-string']\")\n",
    "tm[0:2]"
   ]
  },
  {
   "cell_type": "code",
   "execution_count": 451,
   "id": "cda98577",
   "metadata": {},
   "outputs": [
    {
     "data": {
      "text/plain": [
       "['',\n",
       " '',\n",
       " '',\n",
       " '',\n",
       " '',\n",
       " '',\n",
       " '',\n",
       " '',\n",
       " '',\n",
       " '',\n",
       " '',\n",
       " '',\n",
       " '',\n",
       " '',\n",
       " '',\n",
       " '',\n",
       " '',\n",
       " '',\n",
       " '',\n",
       " '',\n",
       " '',\n",
       " '',\n",
       " '',\n",
       " '',\n",
       " '',\n",
       " '',\n",
       " '',\n",
       " '',\n",
       " '',\n",
       " '',\n",
       " '',\n",
       " '',\n",
       " '',\n",
       " '',\n",
       " '',\n",
       " '',\n",
       " '',\n",
       " '',\n",
       " '',\n",
       " '',\n",
       " '',\n",
       " '',\n",
       " '',\n",
       " '',\n",
       " 'https://bit.ly/2yPcBkS',\n",
       " '',\n",
       " '',\n",
       " 'Zee Music Company',\n",
       " '',\n",
       " '',\n",
       " '',\n",
       " '',\n",
       " '',\n",
       " '',\n",
       " '',\n",
       " '',\n",
       " '',\n",
       " '',\n",
       " '',\n",
       " '',\n",
       " '',\n",
       " '',\n",
       " '',\n",
       " '',\n",
       " '',\n",
       " '',\n",
       " '1 month ago',\n",
       " 'Teasingsex.Uno',\n",
       " '1 month ago',\n",
       " '1 year ago',\n",
       " '10 months ago',\n",
       " '4 months ago',\n",
       " '4 months ago',\n",
       " '1 year ago (edited)',\n",
       " '#Laxmii',\n",
       " '1 year ago',\n",
       " '1 year ago',\n",
       " '7 months ago (edited)',\n",
       " '1 year ago',\n",
       " '1 month ago',\n",
       " '1 year ago',\n",
       " '5 months ago',\n",
       " '1 year ago',\n",
       " '7 months ago',\n",
       " '1 year ago',\n",
       " '5 months ago',\n",
       " '1:46',\n",
       " '4 months ago',\n",
       " '11 months ago',\n",
       " '',\n",
       " '',\n",
       " '',\n",
       " '',\n",
       " '',\n",
       " '',\n",
       " '',\n",
       " '',\n",
       " '',\n",
       " '',\n",
       " '',\n",
       " '',\n",
       " '',\n",
       " '',\n",
       " '',\n",
       " '',\n",
       " '']"
      ]
     },
     "execution_count": 451,
     "metadata": {},
     "output_type": "execute_result"
    }
   ],
   "source": [
    "time=[]\n",
    "for i in tm:\n",
    "    title1=i.text\n",
    "    time.append(title1)\n",
    "time"
   ]
  },
  {
   "cell_type": "code",
   "execution_count": 452,
   "id": "ee40268f",
   "metadata": {},
   "outputs": [
    {
     "data": {
      "text/plain": [
       "[<selenium.webdriver.remote.webelement.WebElement (session=\"7ccc8d9e9e3408e1eb82176a4655436a\", element=\"c11370be-52a4-47b4-a2c6-3918ca0de095\")>,\n",
       " <selenium.webdriver.remote.webelement.WebElement (session=\"7ccc8d9e9e3408e1eb82176a4655436a\", element=\"4239b064-1cd0-4ba4-9c9e-ab0435aca5ee\")>]"
      ]
     },
     "execution_count": 452,
     "metadata": {},
     "output_type": "execute_result"
    }
   ],
   "source": [
    "tm=driver.find_elements_by_xpath(\"//span[@class='style-scope ytd-comment-action-buttons-renderer']\")\n",
    "tm[0:2]"
   ]
  },
  {
   "cell_type": "code",
   "execution_count": 454,
   "id": "0a624bcf",
   "metadata": {},
   "outputs": [
    {
     "data": {
      "text/plain": [
       "['', '7', '', '7']"
      ]
     },
     "execution_count": 454,
     "metadata": {},
     "output_type": "execute_result"
    }
   ],
   "source": [
    "uplikes=[]\n",
    "for i in tm:\n",
    "    title1=i.text\n",
    "    uplikes.append(title1)\n",
    "uplikes[0:4]"
   ]
  },
  {
   "cell_type": "markdown",
   "id": "f019eaf1",
   "metadata": {},
   "source": [
    "10. Write a python program to scrape a data for all available Hostels from https://www.hostelworld.com/ in \n",
    "“London” location. You have to scrape hostel name, distance from city centre, ratings, total reviews, \n",
    "overall reviews, privates from price, dorms from price, facilities and property description"
   ]
  },
  {
   "cell_type": "code",
   "execution_count": 455,
   "id": "e33730ad",
   "metadata": {},
   "outputs": [],
   "source": [
    "driver.get(\"https://www.hostelworld.com/\")"
   ]
  },
  {
   "cell_type": "code",
   "execution_count": 456,
   "id": "bcecae2f",
   "metadata": {},
   "outputs": [],
   "source": [
    "search_button=driver.find_element_by_xpath(\"/html/body/div[3]/div/div/div[1]/div[1]/div/div[2]/div[1]/header/div/button\")\n",
    "search_button.click()"
   ]
  },
  {
   "cell_type": "code",
   "execution_count": 457,
   "id": "abc98465",
   "metadata": {},
   "outputs": [],
   "source": [
    "hostel_button=driver.find_element_by_xpath(\"/html/body/div[3]/div/div/div[1]/div[1]/div/div[2]/div[1]/header/div[2]/div/div[2]/ul[2]/li[2]/a\")\n",
    "hostel_button.click()"
   ]
  },
  {
   "cell_type": "code",
   "execution_count": 458,
   "id": "86ebf3ce",
   "metadata": {},
   "outputs": [],
   "source": [
    "search_option=driver.find_element_by_xpath(\"/html/body/div[1]/div[1]/div[2]/section/div/form/div/div[1]/div/input\")\n",
    "search_option.send_keys(\"London\")"
   ]
  },
  {
   "cell_type": "code",
   "execution_count": 459,
   "id": "02c65c15",
   "metadata": {},
   "outputs": [],
   "source": [
    "london=driver.find_element_by_xpath(\"/html/body/div[1]/div[1]/div[2]/section/div/form/div/div[1]/div[2]/ul/li[2]\")\n",
    "london.click()"
   ]
  },
  {
   "cell_type": "code",
   "execution_count": 460,
   "id": "3fb7b0f4",
   "metadata": {},
   "outputs": [],
   "source": [
    "search=driver.find_element_by_xpath(\"/html/body/div[1]/div[1]/div[2]/section/div/form/div/div[2]/button\")\n",
    "search.click()"
   ]
  },
  {
   "cell_type": "code",
   "execution_count": 461,
   "id": "5d26d2a2",
   "metadata": {},
   "outputs": [
    {
     "data": {
      "text/plain": [
       "[<selenium.webdriver.remote.webelement.WebElement (session=\"7ccc8d9e9e3408e1eb82176a4655436a\", element=\"93f4a8dd-d764-4f7a-90a6-875bbb65a5ee\")>,\n",
       " <selenium.webdriver.remote.webelement.WebElement (session=\"7ccc8d9e9e3408e1eb82176a4655436a\", element=\"7cb911cb-018c-47b1-b96d-c968fdb48618\")>]"
      ]
     },
     "execution_count": 461,
     "metadata": {},
     "output_type": "execute_result"
    }
   ],
   "source": [
    "name=driver.find_elements_by_xpath(\"//h2[@class='title title-6']\")\n",
    "name[0:2]"
   ]
  },
  {
   "cell_type": "code",
   "execution_count": 462,
   "id": "437b5b5e",
   "metadata": {},
   "outputs": [
    {
     "data": {
      "text/plain": [
       "[\"St Christopher's Village\",\n",
       " 'Palmers Lodge - Swiss Cottage',\n",
       " 'Selina Camden',\n",
       " 'Generator London']"
      ]
     },
     "execution_count": 462,
     "metadata": {},
     "output_type": "execute_result"
    }
   ],
   "source": [
    "names=[]\n",
    "for i in name:\n",
    "    title1=i.text\n",
    "    names.append(title1)\n",
    "names[0:4]"
   ]
  },
  {
   "cell_type": "code",
   "execution_count": 463,
   "id": "57d1cf95",
   "metadata": {},
   "outputs": [
    {
     "data": {
      "text/plain": [
       "[<selenium.webdriver.remote.webelement.WebElement (session=\"7ccc8d9e9e3408e1eb82176a4655436a\", element=\"c32a0bf3-8143-4447-9563-1101305c6a72\")>,\n",
       " <selenium.webdriver.remote.webelement.WebElement (session=\"7ccc8d9e9e3408e1eb82176a4655436a\", element=\"e833d213-5dc8-49c4-84fe-49ddefeb4240\")>]"
      ]
     },
     "execution_count": 463,
     "metadata": {},
     "output_type": "execute_result"
    }
   ],
   "source": [
    "distance=driver.find_elements_by_xpath(\"//div[@class='subtitle body-3']\")\n",
    "distance[0:2]"
   ]
  },
  {
   "cell_type": "code",
   "execution_count": 464,
   "id": "5be1667a",
   "metadata": {},
   "outputs": [
    {
     "data": {
      "text/plain": [
       "['Hostel - 1.8km from city centre',\n",
       " 'Hostel - 6.5km from city centre',\n",
       " 'Hostel - 5.5km from city centre',\n",
       " 'Hostel - 1.8km from city centre Show on Map']"
      ]
     },
     "execution_count": 464,
     "metadata": {},
     "output_type": "execute_result"
    }
   ],
   "source": [
    "distances=[]\n",
    "for i in distance:\n",
    "    title1=i.text\n",
    "    distances.append(title1)\n",
    "distances[0:4]"
   ]
  },
  {
   "cell_type": "code",
   "execution_count": 465,
   "id": "70ff7d32",
   "metadata": {},
   "outputs": [
    {
     "data": {
      "text/plain": [
       "[<selenium.webdriver.remote.webelement.WebElement (session=\"7ccc8d9e9e3408e1eb82176a4655436a\", element=\"8944dafb-a95a-49ed-a2be-b124133c3977\")>,\n",
       " <selenium.webdriver.remote.webelement.WebElement (session=\"7ccc8d9e9e3408e1eb82176a4655436a\", element=\"a90a4562-5a89-4a50-ab02-2400cb43a4c0\")>]"
      ]
     },
     "execution_count": 465,
     "metadata": {},
     "output_type": "execute_result"
    }
   ],
   "source": [
    "facility=driver.find_elements_by_xpath(\"//div[@class='facilities-label facilities']\")\n",
    "facility[0:2]"
   ]
  },
  {
   "cell_type": "code",
   "execution_count": 466,
   "id": "f272f729",
   "metadata": {},
   "outputs": [
    {
     "data": {
      "text/plain": [
       "['Free WiFi\\nFollows Covid-19 sanitation guidance',\n",
       " 'Free WiFi\\nFollows Covid-19 sanitation guidance',\n",
       " 'Free WiFi',\n",
       " 'Free WiFi\\nFollows Covid-19 sanitation guidance']"
      ]
     },
     "execution_count": 466,
     "metadata": {},
     "output_type": "execute_result"
    }
   ],
   "source": [
    "facilities=[]\n",
    "for i in facility:\n",
    "    title1=i.text\n",
    "    facilities.append(title1)\n",
    "facilities[0:4]"
   ]
  },
  {
   "cell_type": "code",
   "execution_count": 467,
   "id": "ef68424f",
   "metadata": {},
   "outputs": [
    {
     "data": {
      "text/plain": [
       "[<selenium.webdriver.remote.webelement.WebElement (session=\"7ccc8d9e9e3408e1eb82176a4655436a\", element=\"96821a7a-37a2-43c3-a96b-b0b9c110f465\")>,\n",
       " <selenium.webdriver.remote.webelement.WebElement (session=\"7ccc8d9e9e3408e1eb82176a4655436a\", element=\"6eb79795-4961-4e2f-bade-5fbec957bb7f\")>]"
      ]
     },
     "execution_count": 467,
     "metadata": {},
     "output_type": "execute_result"
    }
   ],
   "source": [
    "rating=driver.find_elements_by_xpath(\"//div[@class='score orange big']\")\n",
    "rating[0:2]"
   ]
  },
  {
   "cell_type": "code",
   "execution_count": 468,
   "id": "e5342c2a",
   "metadata": {},
   "outputs": [
    {
     "data": {
      "text/plain": [
       "['8.1', '9.0', '9.3', '7.7']"
      ]
     },
     "execution_count": 468,
     "metadata": {},
     "output_type": "execute_result"
    }
   ],
   "source": [
    "ratings=[]\n",
    "for i in rating:\n",
    "    title1=i.text\n",
    "    ratings.append(title1)\n",
    "ratings[0:4]"
   ]
  },
  {
   "cell_type": "code",
   "execution_count": 469,
   "id": "7875e05a",
   "metadata": {},
   "outputs": [
    {
     "data": {
      "text/plain": [
       "[<selenium.webdriver.remote.webelement.WebElement (session=\"7ccc8d9e9e3408e1eb82176a4655436a\", element=\"97611128-f426-47b5-906f-e79aa3dac5aa\")>,\n",
       " <selenium.webdriver.remote.webelement.WebElement (session=\"7ccc8d9e9e3408e1eb82176a4655436a\", element=\"57e8ca4c-c722-45f4-81d2-4273a895cd84\")>]"
      ]
     },
     "execution_count": 469,
     "metadata": {},
     "output_type": "execute_result"
    }
   ],
   "source": [
    "review=driver.find_elements_by_xpath(\"//div[@class='reviews']\")\n",
    "review[0:2]"
   ]
  },
  {
   "cell_type": "code",
   "execution_count": 471,
   "id": "b83b49df",
   "metadata": {},
   "outputs": [
    {
     "data": {
      "text/plain": [
       "['11196 Total Reviews',\n",
       " '15338 Total Reviews',\n",
       " '24 Total Reviews',\n",
       " '6936 Total Reviews']"
      ]
     },
     "execution_count": 471,
     "metadata": {},
     "output_type": "execute_result"
    }
   ],
   "source": [
    "total_reviews=[]\n",
    "for i in review:\n",
    "    title1=i.text\n",
    "    total_reviews.append(title1)\n",
    "total_reviews[0:4]"
   ]
  },
  {
   "cell_type": "code",
   "execution_count": 472,
   "id": "9ab9c1d2",
   "metadata": {},
   "outputs": [
    {
     "data": {
      "text/plain": [
       "[<selenium.webdriver.remote.webelement.WebElement (session=\"7ccc8d9e9e3408e1eb82176a4655436a\", element=\"80cb590a-8b88-4b26-b329-17603caf5e3f\")>,\n",
       " <selenium.webdriver.remote.webelement.WebElement (session=\"7ccc8d9e9e3408e1eb82176a4655436a\", element=\"569b233d-7177-462d-aa28-2fe8d9a77c57\")>]"
      ]
     },
     "execution_count": 472,
     "metadata": {},
     "output_type": "execute_result"
    }
   ],
   "source": [
    "oreview=driver.find_elements_by_xpath(\"//div[@class='keyword']\")\n",
    "oreview[0:2]"
   ]
  },
  {
   "cell_type": "code",
   "execution_count": 473,
   "id": "200a8145",
   "metadata": {},
   "outputs": [
    {
     "data": {
      "text/plain": [
       "['Fabulous', 'Superb', 'Superb', 'Fabulous']"
      ]
     },
     "execution_count": 473,
     "metadata": {},
     "output_type": "execute_result"
    }
   ],
   "source": [
    "overall_reviews=[]\n",
    "for i in oreview:\n",
    "    title1=i.text\n",
    "    overall_reviews.append(title1)\n",
    "overall_reviews[0:4]"
   ]
  },
  {
   "cell_type": "code",
   "execution_count": 483,
   "id": "3d31171d",
   "metadata": {},
   "outputs": [
    {
     "data": {
      "text/plain": [
       "[<selenium.webdriver.remote.webelement.WebElement (session=\"7ccc8d9e9e3408e1eb82176a4655436a\", element=\"130472bc-0ec0-44a1-b05c-1116848a7ed6\")>,\n",
       " <selenium.webdriver.remote.webelement.WebElement (session=\"7ccc8d9e9e3408e1eb82176a4655436a\", element=\"cbd9be3f-01a5-4735-b9f6-f35562c5e77f\")>]"
      ]
     },
     "execution_count": 483,
     "metadata": {},
     "output_type": "execute_result"
    }
   ],
   "source": [
    "priprice=driver.find_elements_by_xpath(\"//a[@class='prices']\")\n",
    "priprice[0:2]"
   ]
  },
  {
   "cell_type": "code",
   "execution_count": 485,
   "id": "24962ef7",
   "metadata": {},
   "outputs": [
    {
     "data": {
      "text/plain": [
       "['From Rs2390',\n",
       " 'From Rs7250',\n",
       " 'From Rs2321',\n",
       " 'No Privates Available.Dorms From.Rs2655.08 Rs2390',\n",
       " 'Privates From.Rs28429.52 Rs24165.Dorms From.Rs8528.86 Rs7250',\n",
       " 'No Privates Available.Dorms From.Rs2321',\n",
       " 'Privates From.Rs7487.Dorms From.Rs2430',\n",
       " 'Privates From.Rs13614.Dorms From.Rs2836',\n",
       " 'No Privates Available.Dorms From.Rs2191',\n",
       " 'No Privates Available.Dorms From.Rs1986',\n",
       " 'No Privates Available.Dorms From.Rs1066',\n",
       " 'No Privates Available.Dorms From.Rs1446',\n",
       " 'No Privates Available.Dorms From.Rs2888',\n",
       " 'No Privates Available.Dorms From.Rs1490',\n",
       " 'No Privates Available.Dorms From.Rs2747',\n",
       " 'No Privates Available.Dorms From.Rs1525.33 Rs1373',\n",
       " 'Privates From.Rs22554.08 Rs16916.Dorms From.Rs3457.84 Rs2593',\n",
       " 'Privates From.Rs11641.Dorms From.Rs1921',\n",
       " 'No Privates Available.Dorms From.Rs1331',\n",
       " 'No Privates Available.Dorms From.Rs1548',\n",
       " 'No Privates Available.Dorms From.Rs2475.5 Rs2228',\n",
       " 'Privates From.Rs10703.Dorms From.Rs2632',\n",
       " 'Privates From.Rs7789.No Dorms Available',\n",
       " 'No Privates Available.Dorms From.Rs1934.24 Rs1741',\n",
       " 'No Privates Available.Dorms From.Rs2629',\n",
       " 'No Privates Available.Dorms From.Rs2547.27 Rs2293',\n",
       " 'No Privates Available.Dorms From.Rs2205',\n",
       " 'No Privates Available.Dorms From.Rs2593.06 Rs2334',\n",
       " 'No Privates Available.Dorms From.Rs1826.42 Rs1644',\n",
       " 'No Privates Available.Dorms From.Rs2629',\n",
       " 'No Privates Available.Dorms From.Rs1790.37 Rs1611',\n",
       " 'No Privates Available.Dorms From.Rs3602',\n",
       " 'No Privates Available.Dorms From.Rs2694']"
      ]
     },
     "execution_count": 485,
     "metadata": {},
     "output_type": "execute_result"
    }
   ],
   "source": [
    "private_price=[]\n",
    "for i in priprice:\n",
    "    title1=i.text\n",
    "    private_price.append(title1.replace(\"\\n\",\".\"))\n",
    "private_price"
   ]
  },
  {
   "cell_type": "code",
   "execution_count": 477,
   "id": "10647401",
   "metadata": {},
   "outputs": [
    {
     "data": {
      "text/plain": [
       "[<selenium.webdriver.remote.webelement.WebElement (session=\"7ccc8d9e9e3408e1eb82176a4655436a\", element=\"8b000a32-7423-44a5-a85f-e846b8beea16\")>,\n",
       " <selenium.webdriver.remote.webelement.WebElement (session=\"7ccc8d9e9e3408e1eb82176a4655436a\", element=\"5f98ece0-3a6c-45c8-8ce1-a540ba5905c4\")>]"
      ]
     },
     "execution_count": 477,
     "metadata": {},
     "output_type": "execute_result"
    }
   ],
   "source": [
    "des=driver.find_elements_by_xpath(\"//div[@class='content collapse-content']\")\n",
    "des[0:2]"
   ]
  },
  {
   "cell_type": "code",
   "execution_count": 478,
   "id": "da352b37",
   "metadata": {},
   "outputs": [
    {
     "data": {
      "text/plain": [
       "[\"COVID 19 Policy Update.\\nIn response to Coronavirus (COVID-19), additional safety and sanitation measures are currently in effect at this property, including in-house disinfection. \\n\\nSt Christopher's Inn at The Village in London Bridge is the UK's first capsule hostel. Its brand new rooms have been specially designed for our guests to get the best night sleep possible before they wake up in amongst one of London's most vibrant areas. \\n\\nVoted as one of the best party hostels in the world, our multi-award winning hostel offers guests Japanese-style capsule beds with USB ports, cool mood lighting and curtains for privacy. We even have new private rooms with one having an awesome view of the Shard right outside!\\n\\nStep out the door and you'll be just a short walk away from the London Eye, Tower Bridge and the oldest food market in the city, Borough Market. We're also only a two minute walk from TWO tube stations so getting anywhere in London couldn't be easier. \\n\\nParty into the night in our hostel party bar Belushi's, head down to the Dugout to watch live sports and indulge in our legendary burgers with a discount for all our guests.\\n\\n*Please note that we require an in date government approved - drivers license, passport or national ID card at check-in.\\n\\n**Guests under the age of 18 must stay in a private room with guardians. They cannot share in general dormitory rooms with people who are not part of their own group or family. Under-18s are not allowed in the bars or pubs.\\n\\n***The maximum stay policy is 14 days\\n\\n****Please note: non-refundable reservations will be fully charged at the time of booking.\",\n",
       " 'Stayed here for two days. The staff is very friendly they are always ready to help. Hostel is very clean. Most importantly it’s very close to most of the tourist attractions London Is known for, also good food options nearby . Felt safe. Overall stay was amazing and worth it!!',\n",
       " 'Location is about 8 minute walk from transit and on a busy street. The room itself was a bit stuffy depending how the wind is blowing since the air conditioning unit doesn’t circulate cool air across the entire room. Good amount of space in the bedrooms and plenty of under bed storage. Plenty of bathrooms and showers among the floor and they were cleaned often. The bar downstairs was nice but it would be better if the hostel hosted events so people could mingle more.',\n",
       " 'Great location, very clean, cheap enough and comfy beds. Lockers are too expensive and one of the staff members was little abrupt at check in. Would recommend.']"
      ]
     },
     "execution_count": 478,
     "metadata": {},
     "output_type": "execute_result"
    }
   ],
   "source": [
    "description=[]\n",
    "for i in des:\n",
    "    title1=i.text\n",
    "    description.append(title1)\n",
    "description[0:4]"
   ]
  },
  {
   "cell_type": "code",
   "execution_count": 486,
   "id": "a22294d0",
   "metadata": {},
   "outputs": [
    {
     "data": {
      "text/plain": [
       "(30, 33, 30, 30, 30, 33, 33, 4)"
      ]
     },
     "execution_count": 486,
     "metadata": {},
     "output_type": "execute_result"
    }
   ],
   "source": [
    "len(names),len(distances),len(facilities),len(ratings),len(total_reviews),len(overall_reviews),len(private_price),len(description)"
   ]
  },
  {
   "cell_type": "code",
   "execution_count": 487,
   "id": "cd018ba6",
   "metadata": {},
   "outputs": [],
   "source": [
    "next_button=driver.find_element_by_xpath(\"/html/body/div[3]/div/div/div[1]/div[4]/div/div/div[33]/div[5]/i\")\n",
    "next_button.click()"
   ]
  },
  {
   "cell_type": "code",
   "execution_count": 488,
   "id": "00aa54ca",
   "metadata": {},
   "outputs": [
    {
     "data": {
      "text/plain": [
       "[<selenium.webdriver.remote.webelement.WebElement (session=\"7ccc8d9e9e3408e1eb82176a4655436a\", element=\"307ae4f2-4bb2-457d-a463-d23f62343b6a\")>,\n",
       " <selenium.webdriver.remote.webelement.WebElement (session=\"7ccc8d9e9e3408e1eb82176a4655436a\", element=\"e601bcac-5612-44f0-96f9-50c54b563b3d\")>]"
      ]
     },
     "execution_count": 488,
     "metadata": {},
     "output_type": "execute_result"
    }
   ],
   "source": [
    "name=driver.find_elements_by_xpath(\"//h2[@class='title title-6']\")\n",
    "name[0:2]"
   ]
  },
  {
   "cell_type": "code",
   "execution_count": 489,
   "id": "7793fe32",
   "metadata": {},
   "outputs": [
    {
     "data": {
      "text/plain": [
       "['Astor Victoria',\n",
       " 'PubLove @ The Exmouth Arms, Euston',\n",
       " 'PubLove @ The Crown, Battersea',\n",
       " 'Park Villa']"
      ]
     },
     "execution_count": 489,
     "metadata": {},
     "output_type": "execute_result"
    }
   ],
   "source": [
    "names=[]\n",
    "for i in name:\n",
    "    title1=i.text\n",
    "    names.append(title1)\n",
    "names[0:4]"
   ]
  },
  {
   "cell_type": "code",
   "execution_count": 490,
   "id": "45e46f3d",
   "metadata": {},
   "outputs": [
    {
     "data": {
      "text/plain": [
       "[<selenium.webdriver.remote.webelement.WebElement (session=\"7ccc8d9e9e3408e1eb82176a4655436a\", element=\"714ad77a-4933-4784-9c33-0854763fdc03\")>,\n",
       " <selenium.webdriver.remote.webelement.WebElement (session=\"7ccc8d9e9e3408e1eb82176a4655436a\", element=\"32710403-2220-451d-b6c3-c6a2d9eecec1\")>]"
      ]
     },
     "execution_count": 490,
     "metadata": {},
     "output_type": "execute_result"
    }
   ],
   "source": [
    "distance=driver.find_elements_by_xpath(\"//div[@class='subtitle body-3']\")\n",
    "distance[0:2]"
   ]
  },
  {
   "cell_type": "code",
   "execution_count": 491,
   "id": "6f9b9a54",
   "metadata": {},
   "outputs": [
    {
     "data": {
      "text/plain": [
       "['Hostel - 1.8km from city centre Show on Map',\n",
       " 'Hostel - 3.4km from city centre Show on Map',\n",
       " 'Hostel - 4.7km from city centre Show on Map',\n",
       " 'Hostel - 6.3km from city centre Show on Map']"
      ]
     },
     "execution_count": 491,
     "metadata": {},
     "output_type": "execute_result"
    }
   ],
   "source": [
    "distances=[]\n",
    "for i in distance:\n",
    "    title1=i.text\n",
    "    distances.append(title1)\n",
    "distances[0:4]"
   ]
  },
  {
   "cell_type": "code",
   "execution_count": 492,
   "id": "f85fad9e",
   "metadata": {},
   "outputs": [
    {
     "data": {
      "text/plain": [
       "[<selenium.webdriver.remote.webelement.WebElement (session=\"7ccc8d9e9e3408e1eb82176a4655436a\", element=\"78cb6396-8ca0-4c16-a69e-d0db6beffc43\")>,\n",
       " <selenium.webdriver.remote.webelement.WebElement (session=\"7ccc8d9e9e3408e1eb82176a4655436a\", element=\"d62eab9f-9cf4-4562-8c20-1ccb258fb38e\")>]"
      ]
     },
     "execution_count": 492,
     "metadata": {},
     "output_type": "execute_result"
    }
   ],
   "source": [
    "facility=driver.find_elements_by_xpath(\"//div[@class='facilities-label facilities']\")\n",
    "facility[0:2]"
   ]
  },
  {
   "cell_type": "code",
   "execution_count": 493,
   "id": "3323de30",
   "metadata": {},
   "outputs": [
    {
     "data": {
      "text/plain": [
       "['Free WiFi\\nFollows Covid-19 sanitation guidance',\n",
       " 'Free WiFi\\nFollows Covid-19 sanitation guidance',\n",
       " 'Free WiFi\\nFollows Covid-19 sanitation guidance',\n",
       " 'Free WiFi\\nFollows Covid-19 sanitation guidance']"
      ]
     },
     "execution_count": 493,
     "metadata": {},
     "output_type": "execute_result"
    }
   ],
   "source": [
    "facilities=[]\n",
    "for i in facility:\n",
    "    title1=i.text\n",
    "    facilities.append(title1)\n",
    "facilities[0:4]"
   ]
  },
  {
   "cell_type": "code",
   "execution_count": 494,
   "id": "2a3ec213",
   "metadata": {},
   "outputs": [
    {
     "data": {
      "text/plain": [
       "[<selenium.webdriver.remote.webelement.WebElement (session=\"7ccc8d9e9e3408e1eb82176a4655436a\", element=\"c233b7d1-e5fd-4f6c-a7a1-aa11183e964a\")>,\n",
       " <selenium.webdriver.remote.webelement.WebElement (session=\"7ccc8d9e9e3408e1eb82176a4655436a\", element=\"2035bf14-c334-4f81-8d1b-c8502d95b5c2\")>]"
      ]
     },
     "execution_count": 494,
     "metadata": {},
     "output_type": "execute_result"
    }
   ],
   "source": [
    "rating=driver.find_elements_by_xpath(\"//div[@class='score orange big']\")\n",
    "rating[0:2]"
   ]
  },
  {
   "cell_type": "code",
   "execution_count": 495,
   "id": "de1f0af0",
   "metadata": {},
   "outputs": [
    {
     "data": {
      "text/plain": [
       "['8.5', '7.5', '7.7', '8.5']"
      ]
     },
     "execution_count": 495,
     "metadata": {},
     "output_type": "execute_result"
    }
   ],
   "source": [
    "ratings=[]\n",
    "for i in rating:\n",
    "    title1=i.text\n",
    "    ratings.append(title1)\n",
    "ratings[0:4]"
   ]
  },
  {
   "cell_type": "code",
   "execution_count": 504,
   "id": "42cd294e",
   "metadata": {},
   "outputs": [],
   "source": [
    "from selenium.common.exceptions import StaleElementReferenceException\n",
    "try:\n",
    "    review=driver.find_elements_by_xpath(\"//div[@class='reviews']\")\n",
    "    review[0:2]\n",
    "except StaleElementReferenceException as e:\n",
    "    print (e)\n",
    "    print(\"Refreshing the page !!\")\n",
    "    \n",
    "    "
   ]
  },
  {
   "cell_type": "code",
   "execution_count": 505,
   "id": "ec4e3300",
   "metadata": {},
   "outputs": [
    {
     "data": {
      "text/plain": [
       "[<selenium.webdriver.remote.webelement.WebElement (session=\"7ccc8d9e9e3408e1eb82176a4655436a\", element=\"41b5ecdf-099a-41c3-a016-155422651ef6\")>,\n",
       " <selenium.webdriver.remote.webelement.WebElement (session=\"7ccc8d9e9e3408e1eb82176a4655436a\", element=\"561ae784-1e08-418a-b258-a0cbd4e8d0db\")>]"
      ]
     },
     "execution_count": 505,
     "metadata": {},
     "output_type": "execute_result"
    }
   ],
   "source": [
    "review=driver.find_elements_by_xpath(\"//div[@class='reviews']\")\n",
    "review[0:2]"
   ]
  },
  {
   "cell_type": "code",
   "execution_count": 507,
   "id": "cb8c628c",
   "metadata": {},
   "outputs": [
    {
     "data": {
      "text/plain": [
       "[<selenium.webdriver.remote.webelement.WebElement (session=\"7ccc8d9e9e3408e1eb82176a4655436a\", element=\"c0f252ed-377c-4bde-92af-367b568a5350\")>,\n",
       " <selenium.webdriver.remote.webelement.WebElement (session=\"7ccc8d9e9e3408e1eb82176a4655436a\", element=\"170be1f9-8828-4226-9c54-4425ad39fa04\")>]"
      ]
     },
     "execution_count": 507,
     "metadata": {},
     "output_type": "execute_result"
    }
   ],
   "source": [
    "priprice=driver.find_elements_by_xpath(\"//a[@class='prices']\")\n",
    "priprice[0:2]"
   ]
  },
  {
   "cell_type": "code",
   "execution_count": 508,
   "id": "1a368996",
   "metadata": {},
   "outputs": [
    {
     "data": {
      "text/plain": [
       "['No Privates Available.Dorms From.Rs2045',\n",
       " 'No Privates Available.Dorms From.Rs2466',\n",
       " 'No Privates Available.Dorms From.Rs1623',\n",
       " 'No Privates Available.Dorms From.Rs4641',\n",
       " 'Privates From.Rs9978.68 Rs9480.Dorms From.Rs3212.93 Rs3052',\n",
       " 'No Privates Available.Dorms From.Rs1655',\n",
       " 'Privates From.Rs20154.Dorms From.Rs2045',\n",
       " 'No Privates Available.Dorms From.Rs1842.29 Rs1658',\n",
       " 'Privates From.Rs11846.No Dorms Available',\n",
       " 'Privates From.Rs5842.No Dorms Available',\n",
       " 'Privates From.Rs19375.No Dorms Available',\n",
       " 'Privates From.Rs28508.33 Rs19956.No Dorms Available',\n",
       " 'Privates From.Rs9347.No Dorms Available',\n",
       " 'Privates From.Rs9866.No Dorms Available',\n",
       " 'Privates From.Rs12495.No Dorms Available',\n",
       " 'Privates From.Rs7302.No Dorms Available',\n",
       " 'Privates From.Rs8016.No Dorms Available',\n",
       " 'Privates From.Rs10223.No Dorms Available',\n",
       " 'Privates From.Rs7181.No Dorms Available',\n",
       " 'Privates From.Rs20152.No Dorms Available']"
      ]
     },
     "execution_count": 508,
     "metadata": {},
     "output_type": "execute_result"
    }
   ],
   "source": [
    "private_price=[]\n",
    "for i in priprice:\n",
    "    title1=i.text\n",
    "    private_price.append(title1.replace(\"\\n\",\".\"))\n",
    "private_price"
   ]
  },
  {
   "cell_type": "code",
   "execution_count": null,
   "id": "c8bfadd9",
   "metadata": {},
   "outputs": [],
   "source": []
  }
 ],
 "metadata": {
  "kernelspec": {
   "display_name": "Python 3 (ipykernel)",
   "language": "python",
   "name": "python3"
  },
  "language_info": {
   "codemirror_mode": {
    "name": "ipython",
    "version": 3
   },
   "file_extension": ".py",
   "mimetype": "text/x-python",
   "name": "python",
   "nbconvert_exporter": "python",
   "pygments_lexer": "ipython3",
   "version": "3.9.7"
  }
 },
 "nbformat": 4,
 "nbformat_minor": 5
}
