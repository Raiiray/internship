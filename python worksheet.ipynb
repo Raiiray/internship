{
 "cells": [
  {
   "cell_type": "code",
   "execution_count": 4,
   "id": "44827f30",
   "metadata": {},
   "outputs": [],
   "source": [
    "#11. Write a python program to find the factorial of a number"
   ]
  },
  {
   "cell_type": "code",
   "execution_count": 5,
   "id": "3bd85dd9",
   "metadata": {},
   "outputs": [
    {
     "name": "stdout",
     "output_type": "stream",
     "text": [
      "Enter the number6\n",
      "The factorial of the number is 720\n"
     ]
    }
   ],
   "source": [
    "fact = 1\n",
    "num = int(input(\"Enter the number\"))\n",
    "while num > 0: \n",
    "    fact=fact * num\n",
    "    num = num - 1\n",
    "print(\"The factorial of the number is\",fact)"
   ]
  },
  {
   "cell_type": "code",
   "execution_count": 6,
   "id": "3e9d4564",
   "metadata": {},
   "outputs": [],
   "source": [
    "#12. Write a python program to find whether a number is prime or composite."
   ]
  },
  {
   "cell_type": "code",
   "execution_count": 7,
   "id": "06bf16af",
   "metadata": {},
   "outputs": [
    {
     "name": "stdout",
     "output_type": "stream",
     "text": [
      "Enter the number2\n",
      "2 is a prime number\n"
     ]
    }
   ],
   "source": [
    "num= int(input(\"Enter the number\"))\n",
    "if num>1:\n",
    "    for i in range(2,num):\n",
    "        if num % i == 0:\n",
    "            print(num , \"is a composite number\")\n",
    "            break\n",
    "    else:\n",
    "        print(num,\"is a prime number\")\n",
    "elif num == 0 or num== 1:\n",
    "    print(num,\" is neither prie nor composite\")\n",
    "else:\n",
    "    print(num,\"num is a prime no\")"
   ]
  },
  {
   "cell_type": "code",
   "execution_count": 8,
   "id": "e7d9eed9",
   "metadata": {},
   "outputs": [],
   "source": [
    "#13. Write a python program to check whether a given string is palindrome or not."
   ]
  },
  {
   "cell_type": "code",
   "execution_count": 10,
   "id": "42cc6b24",
   "metadata": {},
   "outputs": [
    {
     "name": "stdout",
     "output_type": "stream",
     "text": [
      "enter a string value : sangeeta\n",
      "it is not a palindrome\n"
     ]
    }
   ],
   "source": [
    "string = str(input(\"enter a string value : \"))\n",
    "rev_str= reversed(string)\n",
    "if list(string)== list(rev_str):\n",
    "    print(\"it is a palindrome\")\n",
    "else:\n",
    "    print(\"it is not a palindrome\")"
   ]
  },
  {
   "cell_type": "code",
   "execution_count": 11,
   "id": "2bde38f1",
   "metadata": {},
   "outputs": [],
   "source": [
    "#14. Write a Python program to get the third side of right-angled triangle from two given sides."
   ]
  },
  {
   "cell_type": "code",
   "execution_count": 15,
   "id": "8c76c7f9",
   "metadata": {},
   "outputs": [
    {
     "name": "stdout",
     "output_type": "stream",
     "text": [
      "a : 2\n",
      "b : 3\n",
      "the lenth of the third side is  3.605551275463989\n"
     ]
    }
   ],
   "source": [
    "a= float(input(\"a : \"))\n",
    "b= float (input(\"b : \"))\n",
    "c= (((a**2)+(b**2))**0.5)\n",
    "print(\"the lenth of the third side is \", c)"
   ]
  },
  {
   "cell_type": "code",
   "execution_count": 16,
   "id": "6b9e5c16",
   "metadata": {},
   "outputs": [],
   "source": [
    "#15. Write a python program to print the frequency of each of the characters present in a given string."
   ]
  },
  {
   "cell_type": "code",
   "execution_count": 20,
   "id": "974519ce",
   "metadata": {},
   "outputs": [
    {
     "name": "stdout",
     "output_type": "stream",
     "text": [
      "enter the string sangeeta\n",
      "{'s': 1, 'a': 2, 'n': 1, 'g': 1, 'e': 2, 't': 1}\n"
     ]
    }
   ],
   "source": [
    "strn = input(\"enter the string \")\n",
    "d1 = dict()\n",
    "for i in strn:\n",
    "    if i in d1:\n",
    "        d1[i]=d1[i]+1\n",
    "    else:\n",
    "        d1[i]=1\n",
    "print(d1)"
   ]
  },
  {
   "cell_type": "code",
   "execution_count": null,
   "id": "5f15c5f6",
   "metadata": {},
   "outputs": [],
   "source": []
  }
 ],
 "metadata": {
  "kernelspec": {
   "display_name": "Python 3 (ipykernel)",
   "language": "python",
   "name": "python3"
  },
  "language_info": {
   "codemirror_mode": {
    "name": "ipython",
    "version": 3
   },
   "file_extension": ".py",
   "mimetype": "text/x-python",
   "name": "python",
   "nbconvert_exporter": "python",
   "pygments_lexer": "ipython3",
   "version": "3.9.7"
  }
 },
 "nbformat": 4,
 "nbformat_minor": 5
}
