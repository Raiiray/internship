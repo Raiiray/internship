{
 "cells": [
  {
   "cell_type": "markdown",
   "id": "0e3336d9",
   "metadata": {},
   "source": [
    "# ! pip install selenium"
   ]
  },
  {
   "cell_type": "code",
   "execution_count": 2,
   "id": "25e3f18c",
   "metadata": {},
   "outputs": [],
   "source": [
    "from selenium import webdriver\n",
    "import pandas as pd\n",
    "import warnings\n",
    "warnings.filterwarnings(\"ignore\")\n",
    "import time"
   ]
  },
  {
   "cell_type": "code",
   "execution_count": 5,
   "id": "708d97f7",
   "metadata": {},
   "outputs": [],
   "source": [
    "driver = webdriver.Chrome(r\"C:\\Users\\Raii\\Downloads\\chromedriver_win32\\chromedriver.exe\")"
   ]
  },
  {
   "cell_type": "markdown",
   "id": "c5778bd0",
   "metadata": {},
   "source": [
    "Q1: Write a python program to scrape data for “Data Analyst” Job position in “Bangalore” location. You\n",
    "have to scrape the job-title, job-location, company_name, experience_required. You have to scrape first 10\n",
    "jobs data."
   ]
  },
  {
   "cell_type": "code",
   "execution_count": 484,
   "id": "f50de7f7",
   "metadata": {},
   "outputs": [],
   "source": [
    "driver.get(\"http://www.naukri.com/\")"
   ]
  },
  {
   "cell_type": "code",
   "execution_count": 7,
   "id": "9a92ea0a",
   "metadata": {},
   "outputs": [],
   "source": [
    "search_designation=driver.find_element_by_class_name(\"suggestor-input \")\n",
    "search_designation.send_keys(\"Data Analyst\")\n",
    "search_location=driver.find_element_by_xpath(\"/html/body/div/div[2]/div[3]/div/div/div[3]/div/div/div/input\")\n",
    "search_location.send_keys(\"Bangalore\")"
   ]
  },
  {
   "cell_type": "code",
   "execution_count": 9,
   "id": "2f8e1de3",
   "metadata": {},
   "outputs": [],
   "source": [
    "search_button=driver.find_element_by_xpath(\"/html/body/div/div[2]/div[3]/div/div/div[6]\")\n",
    "search_button.click()"
   ]
  },
  {
   "cell_type": "code",
   "execution_count": 15,
   "id": "6927de3b",
   "metadata": {},
   "outputs": [
    {
     "data": {
      "text/plain": [
       "[<selenium.webdriver.remote.webelement.WebElement (session=\"e78c4344e9e7b67a7f64b796d7cb973c\", element=\"87ea2d5a-2559-4500-9ce9-f98afb1eaa4c\")>,\n",
       " <selenium.webdriver.remote.webelement.WebElement (session=\"e78c4344e9e7b67a7f64b796d7cb973c\", element=\"301d0fb5-c5cf-41aa-a901-0c01abc01988\")>]"
      ]
     },
     "execution_count": 15,
     "metadata": {},
     "output_type": "execute_result"
    }
   ],
   "source": [
    "title_tags=driver.find_elements_by_xpath(\"//a[@class='title fw500 ellipsis']\")\n",
    "title_tags[0:2]"
   ]
  },
  {
   "cell_type": "code",
   "execution_count": 16,
   "id": "527825ed",
   "metadata": {},
   "outputs": [
    {
     "data": {
      "text/plain": [
       "['Sr Domain Expert -Data Analysts',\n",
       " 'Senior Data Analyst (Digital Services Analytics)',\n",
       " 'Senior Data Analyst',\n",
       " 'Required Senior Data Analyst - Brickwork Ratings']"
      ]
     },
     "execution_count": 16,
     "metadata": {},
     "output_type": "execute_result"
    }
   ],
   "source": [
    "job_title=[]\n",
    "for i in title_tags:\n",
    "    title=i.text\n",
    "    job_title.append(title)\n",
    "job_title[0:4]"
   ]
  },
  {
   "cell_type": "code",
   "execution_count": 18,
   "id": "f74fab15",
   "metadata": {},
   "outputs": [
    {
     "data": {
      "text/plain": [
       "[<selenium.webdriver.remote.webelement.WebElement (session=\"e78c4344e9e7b67a7f64b796d7cb973c\", element=\"7872979c-2e34-46b0-998b-99fbeafe4d22\")>,\n",
       " <selenium.webdriver.remote.webelement.WebElement (session=\"e78c4344e9e7b67a7f64b796d7cb973c\", element=\"73b8a95a-dfeb-4298-b288-5154cd190205\")>]"
      ]
     },
     "execution_count": 18,
     "metadata": {},
     "output_type": "execute_result"
    }
   ],
   "source": [
    "location = driver.find_elements_by_xpath(\"//li[@class='fleft grey-text br2 placeHolderLi location']/span[1]\")\n",
    "location[0:2]"
   ]
  },
  {
   "cell_type": "code",
   "execution_count": 19,
   "id": "86690117",
   "metadata": {},
   "outputs": [
    {
     "data": {
      "text/plain": [
       "['Bangalore/Bengaluru', 'Bangalore/Bengaluru']"
      ]
     },
     "execution_count": 19,
     "metadata": {},
     "output_type": "execute_result"
    }
   ],
   "source": [
    "job_location=[]\n",
    "for i in location:\n",
    "    locations=i.text\n",
    "    job_location.append(locations)\n",
    "job_location[0:2]"
   ]
  },
  {
   "cell_type": "code",
   "execution_count": 20,
   "id": "9411aad7",
   "metadata": {},
   "outputs": [
    {
     "data": {
      "text/plain": [
       "[<selenium.webdriver.remote.webelement.WebElement (session=\"e78c4344e9e7b67a7f64b796d7cb973c\", element=\"d59e34bd-42b2-4dd6-934e-72f7f5d83f34\")>,\n",
       " <selenium.webdriver.remote.webelement.WebElement (session=\"e78c4344e9e7b67a7f64b796d7cb973c\", element=\"012d99e0-2b95-4c83-9d43-2b7430ac46a1\")>]"
      ]
     },
     "execution_count": 20,
     "metadata": {},
     "output_type": "execute_result"
    }
   ],
   "source": [
    "company_name=driver.find_elements_by_xpath(\"//a[@class='subTitle ellipsis fleft']\")\n",
    "company_name[0:2]"
   ]
  },
  {
   "cell_type": "code",
   "execution_count": 21,
   "id": "2ece7547",
   "metadata": {},
   "outputs": [
    {
     "data": {
      "text/plain": [
       "['Siemens', 'Dell Technologies']"
      ]
     },
     "execution_count": 21,
     "metadata": {},
     "output_type": "execute_result"
    }
   ],
   "source": [
    "company_names=[]\n",
    "for i in company_name:\n",
    "    company=i.text\n",
    "    company_names.append(company)\n",
    "company_names[0:2]"
   ]
  },
  {
   "cell_type": "code",
   "execution_count": 22,
   "id": "f4e0a8f9",
   "metadata": {},
   "outputs": [
    {
     "data": {
      "text/plain": [
       "[<selenium.webdriver.remote.webelement.WebElement (session=\"e78c4344e9e7b67a7f64b796d7cb973c\", element=\"6fca2799-866d-4a01-aa5c-b884a37a65c7\")>,\n",
       " <selenium.webdriver.remote.webelement.WebElement (session=\"e78c4344e9e7b67a7f64b796d7cb973c\", element=\"ea5f763d-8afd-474d-be9d-c6e549070dc4\")>]"
      ]
     },
     "execution_count": 22,
     "metadata": {},
     "output_type": "execute_result"
    }
   ],
   "source": [
    "experience = driver.find_elements_by_xpath(\"//li[@class='fleft grey-text br2 placeHolderLi experience']/span[1]\")\n",
    "experience[0:2]"
   ]
  },
  {
   "cell_type": "code",
   "execution_count": 23,
   "id": "92341a37",
   "metadata": {},
   "outputs": [
    {
     "data": {
      "text/plain": [
       "['0-10 Yrs', '1-6 Yrs']"
      ]
     },
     "execution_count": 23,
     "metadata": {},
     "output_type": "execute_result"
    }
   ],
   "source": [
    "experience_required=[]\n",
    "for i in experience:\n",
    "    experience=i.text\n",
    "    experience_required.append(experience)\n",
    "experience_required[0:2]"
   ]
  },
  {
   "cell_type": "code",
   "execution_count": 24,
   "id": "5fb39fc1",
   "metadata": {},
   "outputs": [
    {
     "name": "stdout",
     "output_type": "stream",
     "text": [
      "20 20 20 20\n"
     ]
    }
   ],
   "source": [
    "print(len(experience_required),len(company_names),len(job_location),len(job_title))"
   ]
  },
  {
   "cell_type": "code",
   "execution_count": 28,
   "id": "2e0146b4",
   "metadata": {},
   "outputs": [
    {
     "data": {
      "text/html": [
       "<div>\n",
       "<style scoped>\n",
       "    .dataframe tbody tr th:only-of-type {\n",
       "        vertical-align: middle;\n",
       "    }\n",
       "\n",
       "    .dataframe tbody tr th {\n",
       "        vertical-align: top;\n",
       "    }\n",
       "\n",
       "    .dataframe thead th {\n",
       "        text-align: right;\n",
       "    }\n",
       "</style>\n",
       "<table border=\"1\" class=\"dataframe\">\n",
       "  <thead>\n",
       "    <tr style=\"text-align: right;\">\n",
       "      <th></th>\n",
       "      <th>job_title</th>\n",
       "      <th>job_location</th>\n",
       "      <th>company_names</th>\n",
       "      <th>experience_required</th>\n",
       "    </tr>\n",
       "  </thead>\n",
       "  <tbody>\n",
       "    <tr>\n",
       "      <th>0</th>\n",
       "      <td>Sr Domain Expert -Data Analysts</td>\n",
       "      <td>Bangalore/Bengaluru</td>\n",
       "      <td>Siemens</td>\n",
       "      <td>0-10 Yrs</td>\n",
       "    </tr>\n",
       "    <tr>\n",
       "      <th>1</th>\n",
       "      <td>Senior Data Analyst (Digital Services Analytics)</td>\n",
       "      <td>Bangalore/Bengaluru</td>\n",
       "      <td>Dell Technologies</td>\n",
       "      <td>1-6 Yrs</td>\n",
       "    </tr>\n",
       "    <tr>\n",
       "      <th>2</th>\n",
       "      <td>Senior Data Analyst</td>\n",
       "      <td>Bangalore/Bengaluru</td>\n",
       "      <td>Intel</td>\n",
       "      <td>3-8 Yrs</td>\n",
       "    </tr>\n",
       "    <tr>\n",
       "      <th>3</th>\n",
       "      <td>Required Senior Data Analyst - Brickwork Ratings</td>\n",
       "      <td>Bangalore/Bengaluru</td>\n",
       "      <td>Brickwork Ratings</td>\n",
       "      <td>2-3 Yrs</td>\n",
       "    </tr>\n",
       "    <tr>\n",
       "      <th>4</th>\n",
       "      <td>Staff Business Data Analyst - FDP</td>\n",
       "      <td>Bangalore/Bengaluru</td>\n",
       "      <td>Intuit Inc.</td>\n",
       "      <td>5-7 Yrs</td>\n",
       "    </tr>\n",
       "    <tr>\n",
       "      <th>5</th>\n",
       "      <td>Data Analyst</td>\n",
       "      <td>Bangalore/Bengaluru</td>\n",
       "      <td>Vedantu Innovations</td>\n",
       "      <td>0-3 Yrs</td>\n",
       "    </tr>\n",
       "    <tr>\n",
       "      <th>6</th>\n",
       "      <td>Data Analyst 2</td>\n",
       "      <td>Bangalore/Bengaluru</td>\n",
       "      <td>PayPal</td>\n",
       "      <td>5-8 Yrs</td>\n",
       "    </tr>\n",
       "    <tr>\n",
       "      <th>7</th>\n",
       "      <td>Senior Data Analyst</td>\n",
       "      <td>Bangalore/Bengaluru</td>\n",
       "      <td>Flipkart</td>\n",
       "      <td>3-6 Yrs</td>\n",
       "    </tr>\n",
       "    <tr>\n",
       "      <th>8</th>\n",
       "      <td>Senior Professional Data Analyst</td>\n",
       "      <td>Bangalore/Bengaluru</td>\n",
       "      <td>DXC Technology</td>\n",
       "      <td>3-7 Yrs</td>\n",
       "    </tr>\n",
       "    <tr>\n",
       "      <th>9</th>\n",
       "      <td>MDM - Data Analyst</td>\n",
       "      <td>Bangalore/Bengaluru</td>\n",
       "      <td>Shell</td>\n",
       "      <td>3-4 Yrs</td>\n",
       "    </tr>\n",
       "  </tbody>\n",
       "</table>\n",
       "</div>"
      ],
      "text/plain": [
       "                                          job_title         job_location  \\\n",
       "0                   Sr Domain Expert -Data Analysts  Bangalore/Bengaluru   \n",
       "1  Senior Data Analyst (Digital Services Analytics)  Bangalore/Bengaluru   \n",
       "2                               Senior Data Analyst  Bangalore/Bengaluru   \n",
       "3  Required Senior Data Analyst - Brickwork Ratings  Bangalore/Bengaluru   \n",
       "4                 Staff Business Data Analyst - FDP  Bangalore/Bengaluru   \n",
       "5                                      Data Analyst  Bangalore/Bengaluru   \n",
       "6                                    Data Analyst 2  Bangalore/Bengaluru   \n",
       "7                               Senior Data Analyst  Bangalore/Bengaluru   \n",
       "8                  Senior Professional Data Analyst  Bangalore/Bengaluru   \n",
       "9                                MDM - Data Analyst  Bangalore/Bengaluru   \n",
       "\n",
       "         company_names experience_required  \n",
       "0              Siemens            0-10 Yrs  \n",
       "1    Dell Technologies             1-6 Yrs  \n",
       "2                Intel             3-8 Yrs  \n",
       "3    Brickwork Ratings             2-3 Yrs  \n",
       "4          Intuit Inc.             5-7 Yrs  \n",
       "5  Vedantu Innovations             0-3 Yrs  \n",
       "6               PayPal             5-8 Yrs  \n",
       "7             Flipkart             3-6 Yrs  \n",
       "8       DXC Technology             3-7 Yrs  \n",
       "9                Shell             3-4 Yrs  "
      ]
     },
     "execution_count": 28,
     "metadata": {},
     "output_type": "execute_result"
    }
   ],
   "source": [
    "jobdetails = pd.DataFrame({})\n",
    "jobdetails[\"job_title\"]=job_title\n",
    "jobdetails[\"job_location\"]=job_location\n",
    "jobdetails[\"company_names\"]=company_names\n",
    "jobdetails[\"experience_required\"]=experience_required\n",
    "jobdetails[0:10]"
   ]
  },
  {
   "cell_type": "markdown",
   "id": "88d02f0c",
   "metadata": {},
   "source": [
    "Q2: Write a python program to scrape data for “Data Scientist” Job position in “Bangalore” location. You\n",
    "have to scrape the job-title, job-location, company_name. You have to scrape first 10 jobs data."
   ]
  },
  {
   "cell_type": "code",
   "execution_count": 31,
   "id": "115d6273",
   "metadata": {},
   "outputs": [],
   "source": [
    "driver = webdriver.Chrome(r\"C:\\Users\\Raii\\Downloads\\chromedriver_win32\\chromedriver.exe\")"
   ]
  },
  {
   "cell_type": "code",
   "execution_count": 32,
   "id": "421b5b6e",
   "metadata": {},
   "outputs": [],
   "source": [
    "driver.get(\"http://www.naukri.com/\")"
   ]
  },
  {
   "cell_type": "code",
   "execution_count": 33,
   "id": "7a6182d8",
   "metadata": {},
   "outputs": [],
   "source": [
    "search_designation=driver.find_element_by_class_name(\"suggestor-input \")\n",
    "search_designation.send_keys(\"Data Scientist\")\n",
    "search_location=driver.find_element_by_xpath(\"/html/body/div/div[2]/div[3]/div/div/div[3]/div/div/div/input\")\n",
    "search_location.send_keys(\"Bangalore\")"
   ]
  },
  {
   "cell_type": "code",
   "execution_count": 34,
   "id": "82252231",
   "metadata": {},
   "outputs": [],
   "source": [
    "search_button=driver.find_element_by_xpath(\"/html/body/div/div[2]/div[3]/div/div/div[6]\")\n",
    "search_button.click()"
   ]
  },
  {
   "cell_type": "code",
   "execution_count": 35,
   "id": "f381c142",
   "metadata": {},
   "outputs": [
    {
     "data": {
      "text/plain": [
       "[<selenium.webdriver.remote.webelement.WebElement (session=\"c4f08832fb988b3d2e129ee15a13dbf0\", element=\"e043313b-a1b4-4018-9813-662b64683c60\")>,\n",
       " <selenium.webdriver.remote.webelement.WebElement (session=\"c4f08832fb988b3d2e129ee15a13dbf0\", element=\"f72bfa2b-d1e3-4190-a2d2-5002726b9a2d\")>]"
      ]
     },
     "execution_count": 35,
     "metadata": {},
     "output_type": "execute_result"
    }
   ],
   "source": [
    "title_tags=driver.find_elements_by_xpath(\"//a[@class='title fw500 ellipsis']\")\n",
    "title_tags[0:2]"
   ]
  },
  {
   "cell_type": "code",
   "execution_count": 36,
   "id": "5877f95e",
   "metadata": {},
   "outputs": [
    {
     "data": {
      "text/plain": [
       "['Senior Data Scientist',\n",
       " 'Senior Data Scientist',\n",
       " 'Junior Data Scientist',\n",
       " 'DATA Scientist with Fraud Analytics Experience']"
      ]
     },
     "execution_count": 36,
     "metadata": {},
     "output_type": "execute_result"
    }
   ],
   "source": [
    "job_title=[]\n",
    "for i in title_tags:\n",
    "    title=i.text\n",
    "    job_title.append(title)\n",
    "job_title[0:4]"
   ]
  },
  {
   "cell_type": "code",
   "execution_count": 37,
   "id": "1a1a355b",
   "metadata": {},
   "outputs": [
    {
     "data": {
      "text/plain": [
       "[<selenium.webdriver.remote.webelement.WebElement (session=\"c4f08832fb988b3d2e129ee15a13dbf0\", element=\"b2b3e92a-7bd1-47d8-8e29-0985c888623b\")>,\n",
       " <selenium.webdriver.remote.webelement.WebElement (session=\"c4f08832fb988b3d2e129ee15a13dbf0\", element=\"00c5e42a-3718-4422-bf38-ec0512f3c322\")>]"
      ]
     },
     "execution_count": 37,
     "metadata": {},
     "output_type": "execute_result"
    }
   ],
   "source": [
    "company_name=driver.find_elements_by_xpath(\"//a[@class='subTitle ellipsis fleft']\")\n",
    "company_name[0:2]"
   ]
  },
  {
   "cell_type": "code",
   "execution_count": 38,
   "id": "f03fc01d",
   "metadata": {},
   "outputs": [
    {
     "data": {
      "text/plain": [
       "['Flipkart', 'GSK India']"
      ]
     },
     "execution_count": 38,
     "metadata": {},
     "output_type": "execute_result"
    }
   ],
   "source": [
    "company_names=[]\n",
    "for i in company_name:\n",
    "    company=i.text\n",
    "    company_names.append(company)\n",
    "company_names[0:2]"
   ]
  },
  {
   "cell_type": "code",
   "execution_count": 39,
   "id": "1c1ad914",
   "metadata": {},
   "outputs": [
    {
     "data": {
      "text/plain": [
       "[<selenium.webdriver.remote.webelement.WebElement (session=\"c4f08832fb988b3d2e129ee15a13dbf0\", element=\"176c8704-2ad8-49f1-b889-6d2376951f57\")>,\n",
       " <selenium.webdriver.remote.webelement.WebElement (session=\"c4f08832fb988b3d2e129ee15a13dbf0\", element=\"e1400123-ec66-46d6-adf3-7aed214c617b\")>]"
      ]
     },
     "execution_count": 39,
     "metadata": {},
     "output_type": "execute_result"
    }
   ],
   "source": [
    "location = driver.find_elements_by_xpath(\"//li[@class='fleft grey-text br2 placeHolderLi location']/span[1]\")\n",
    "location[0:2]"
   ]
  },
  {
   "cell_type": "code",
   "execution_count": 40,
   "id": "08c52343",
   "metadata": {},
   "outputs": [
    {
     "data": {
      "text/plain": [
       "['Bangalore/Bengaluru', 'Bangalore/Bengaluru']"
      ]
     },
     "execution_count": 40,
     "metadata": {},
     "output_type": "execute_result"
    }
   ],
   "source": [
    "job_location=[]\n",
    "for i in location:\n",
    "    locations=i.text\n",
    "    job_location.append(locations)\n",
    "job_location[0:2]"
   ]
  },
  {
   "cell_type": "code",
   "execution_count": 41,
   "id": "8ba1e0f9",
   "metadata": {},
   "outputs": [
    {
     "data": {
      "text/plain": [
       "[<selenium.webdriver.remote.webelement.WebElement (session=\"c4f08832fb988b3d2e129ee15a13dbf0\", element=\"e39a8dd8-c52a-417d-838c-2c9e7e85fc10\")>,\n",
       " <selenium.webdriver.remote.webelement.WebElement (session=\"c4f08832fb988b3d2e129ee15a13dbf0\", element=\"1c3043e2-0b23-4828-8836-9254e40028fa\")>]"
      ]
     },
     "execution_count": 41,
     "metadata": {},
     "output_type": "execute_result"
    }
   ],
   "source": [
    "experience = driver.find_elements_by_xpath(\"//li[@class='fleft grey-text br2 placeHolderLi experience']/span[1]\")\n",
    "experience[0:2]"
   ]
  },
  {
   "cell_type": "code",
   "execution_count": 42,
   "id": "6233b2db",
   "metadata": {},
   "outputs": [
    {
     "data": {
      "text/plain": [
       "['5-8 Yrs', '5-9 Yrs']"
      ]
     },
     "execution_count": 42,
     "metadata": {},
     "output_type": "execute_result"
    }
   ],
   "source": [
    "experience_required=[]\n",
    "for i in experience:\n",
    "    experience=i.text\n",
    "    experience_required.append(experience)\n",
    "experience_required[0:2]"
   ]
  },
  {
   "cell_type": "code",
   "execution_count": 43,
   "id": "a5778d31",
   "metadata": {},
   "outputs": [
    {
     "name": "stdout",
     "output_type": "stream",
     "text": [
      "20 20 20 20\n"
     ]
    }
   ],
   "source": [
    "print(len(experience_required),len(company_names),len(job_location),len(job_title))"
   ]
  },
  {
   "cell_type": "code",
   "execution_count": 44,
   "id": "0d835e84",
   "metadata": {},
   "outputs": [
    {
     "data": {
      "text/html": [
       "<div>\n",
       "<style scoped>\n",
       "    .dataframe tbody tr th:only-of-type {\n",
       "        vertical-align: middle;\n",
       "    }\n",
       "\n",
       "    .dataframe tbody tr th {\n",
       "        vertical-align: top;\n",
       "    }\n",
       "\n",
       "    .dataframe thead th {\n",
       "        text-align: right;\n",
       "    }\n",
       "</style>\n",
       "<table border=\"1\" class=\"dataframe\">\n",
       "  <thead>\n",
       "    <tr style=\"text-align: right;\">\n",
       "      <th></th>\n",
       "      <th>job_title</th>\n",
       "      <th>job_location</th>\n",
       "      <th>company_names</th>\n",
       "      <th>experience_required</th>\n",
       "    </tr>\n",
       "  </thead>\n",
       "  <tbody>\n",
       "    <tr>\n",
       "      <th>0</th>\n",
       "      <td>Senior Data Scientist</td>\n",
       "      <td>Bangalore/Bengaluru</td>\n",
       "      <td>Flipkart</td>\n",
       "      <td>5-8 Yrs</td>\n",
       "    </tr>\n",
       "    <tr>\n",
       "      <th>1</th>\n",
       "      <td>Senior Data Scientist</td>\n",
       "      <td>Bangalore/Bengaluru</td>\n",
       "      <td>GSK India</td>\n",
       "      <td>5-9 Yrs</td>\n",
       "    </tr>\n",
       "    <tr>\n",
       "      <th>2</th>\n",
       "      <td>Junior Data Scientist</td>\n",
       "      <td>Bangalore/Bengaluru</td>\n",
       "      <td>Accenture</td>\n",
       "      <td>2-6 Yrs</td>\n",
       "    </tr>\n",
       "    <tr>\n",
       "      <th>3</th>\n",
       "      <td>DATA Scientist with Fraud Analytics Experience</td>\n",
       "      <td>Bangalore/Bengaluru</td>\n",
       "      <td>Concentrix</td>\n",
       "      <td>2-4 Yrs</td>\n",
       "    </tr>\n",
       "    <tr>\n",
       "      <th>4</th>\n",
       "      <td>Data Scientist II- Merchandise &amp; Discovery</td>\n",
       "      <td>Bangalore/Bengaluru</td>\n",
       "      <td>Swiggy</td>\n",
       "      <td>2-5 Yrs</td>\n",
       "    </tr>\n",
       "    <tr>\n",
       "      <th>5</th>\n",
       "      <td>Principal Data Scientist</td>\n",
       "      <td>Bangalore/Bengaluru</td>\n",
       "      <td>Meesho</td>\n",
       "      <td>6-10 Yrs</td>\n",
       "    </tr>\n",
       "    <tr>\n",
       "      <th>6</th>\n",
       "      <td>Senior Data Scientist/Data Scientist</td>\n",
       "      <td>Pune, Gurgaon/Gurugram, Chennai, Bangalore/Ben...</td>\n",
       "      <td>Tredence Analytics Solutions Private Limited</td>\n",
       "      <td>2-7 Yrs</td>\n",
       "    </tr>\n",
       "    <tr>\n",
       "      <th>7</th>\n",
       "      <td>Senior Data Scientist</td>\n",
       "      <td>Bangalore/Bengaluru</td>\n",
       "      <td>Zoom Start India</td>\n",
       "      <td>3-6 Yrs</td>\n",
       "    </tr>\n",
       "    <tr>\n",
       "      <th>8</th>\n",
       "      <td>Principal Data Scientist</td>\n",
       "      <td>Bangalore/Bengaluru</td>\n",
       "      <td>Rakuten, Inc.</td>\n",
       "      <td>7-12 Yrs</td>\n",
       "    </tr>\n",
       "    <tr>\n",
       "      <th>9</th>\n",
       "      <td>Data Scientist Opportunity with PayU ( Tier1 i...</td>\n",
       "      <td>Gurgaon/Gurugram, Bangalore/Bengaluru, Mumbai ...</td>\n",
       "      <td>PayU</td>\n",
       "      <td>2-5 Yrs</td>\n",
       "    </tr>\n",
       "  </tbody>\n",
       "</table>\n",
       "</div>"
      ],
      "text/plain": [
       "                                           job_title  \\\n",
       "0                              Senior Data Scientist   \n",
       "1                              Senior Data Scientist   \n",
       "2                              Junior Data Scientist   \n",
       "3     DATA Scientist with Fraud Analytics Experience   \n",
       "4         Data Scientist II- Merchandise & Discovery   \n",
       "5                           Principal Data Scientist   \n",
       "6               Senior Data Scientist/Data Scientist   \n",
       "7                              Senior Data Scientist   \n",
       "8                           Principal Data Scientist   \n",
       "9  Data Scientist Opportunity with PayU ( Tier1 i...   \n",
       "\n",
       "                                        job_location  \\\n",
       "0                                Bangalore/Bengaluru   \n",
       "1                                Bangalore/Bengaluru   \n",
       "2                                Bangalore/Bengaluru   \n",
       "3                                Bangalore/Bengaluru   \n",
       "4                                Bangalore/Bengaluru   \n",
       "5                                Bangalore/Bengaluru   \n",
       "6  Pune, Gurgaon/Gurugram, Chennai, Bangalore/Ben...   \n",
       "7                                Bangalore/Bengaluru   \n",
       "8                                Bangalore/Bengaluru   \n",
       "9  Gurgaon/Gurugram, Bangalore/Bengaluru, Mumbai ...   \n",
       "\n",
       "                                  company_names experience_required  \n",
       "0                                      Flipkart             5-8 Yrs  \n",
       "1                                     GSK India             5-9 Yrs  \n",
       "2                                     Accenture             2-6 Yrs  \n",
       "3                                    Concentrix             2-4 Yrs  \n",
       "4                                        Swiggy             2-5 Yrs  \n",
       "5                                        Meesho            6-10 Yrs  \n",
       "6  Tredence Analytics Solutions Private Limited             2-7 Yrs  \n",
       "7                              Zoom Start India             3-6 Yrs  \n",
       "8                                 Rakuten, Inc.            7-12 Yrs  \n",
       "9                                          PayU             2-5 Yrs  "
      ]
     },
     "execution_count": 44,
     "metadata": {},
     "output_type": "execute_result"
    }
   ],
   "source": [
    "jobdetails = pd.DataFrame({})\n",
    "jobdetails[\"job_title\"]=job_title\n",
    "jobdetails[\"job_location\"]=job_location\n",
    "jobdetails[\"company_names\"]=company_names\n",
    "jobdetails[\"experience_required\"]=experience_required\n",
    "jobdetails[0:10]"
   ]
  },
  {
   "cell_type": "markdown",
   "id": "1016f632",
   "metadata": {},
   "source": [
    "Q3: In this question you have to scrape data using the filters available on the webpage as shown below:\n",
    "You have to use the location and salary filter.\n",
    "You have to scrape data for “Data Scientist” designation for first 10 job results.\n",
    "You have to scrape the job-title, job-location, company name, experience required.\n",
    "The location filter to be used is “Delhi/NCR”. The salary filter to be used is “3-6” lakhs\n"
   ]
  },
  {
   "cell_type": "code",
   "execution_count": 67,
   "id": "ff90c867",
   "metadata": {},
   "outputs": [],
   "source": [
    "driver.get(\"http://www.naukri.com/\")"
   ]
  },
  {
   "cell_type": "code",
   "execution_count": 68,
   "id": "ed9908cc",
   "metadata": {},
   "outputs": [],
   "source": [
    "search_designation=driver.find_element_by_class_name(\"suggestor-input \")\n",
    "search_designation.send_keys(\"Data Scientist\")"
   ]
  },
  {
   "cell_type": "code",
   "execution_count": 69,
   "id": "d6bb05d8",
   "metadata": {},
   "outputs": [],
   "source": [
    "search_button=driver.find_element_by_xpath(\"/html/body/div/div[2]/div[3]/div/div/div[6]\")\n",
    "search_button.click()"
   ]
  },
  {
   "cell_type": "code",
   "execution_count": 79,
   "id": "53eafb76",
   "metadata": {},
   "outputs": [],
   "source": [
    "location_filter=driver.find_element_by_xpath(\"//*[@id='root']/div[3]/div[2]/section[2]/div[2]/div[3]/div/div[3]/div\")\n",
    "location_filter.click()"
   ]
  },
  {
   "cell_type": "code",
   "execution_count": 80,
   "id": "579a8bba",
   "metadata": {},
   "outputs": [],
   "source": [
    "salary_filter=driver.find_element_by_xpath(\"//*[@id='root']/div[3]/div[2]/section[2]/div[2]/div[2]/div/div[2]/div[2]\")\n",
    "salary_filter.click()"
   ]
  },
  {
   "cell_type": "code",
   "execution_count": 81,
   "id": "e5118713",
   "metadata": {},
   "outputs": [
    {
     "data": {
      "text/plain": [
       "[<selenium.webdriver.remote.webelement.WebElement (session=\"c4f08832fb988b3d2e129ee15a13dbf0\", element=\"fc0fbb6d-0e93-41a7-89e1-764fb583ef5f\")>,\n",
       " <selenium.webdriver.remote.webelement.WebElement (session=\"c4f08832fb988b3d2e129ee15a13dbf0\", element=\"0577210c-4b33-4116-95a0-c097e48ada42\")>]"
      ]
     },
     "execution_count": 81,
     "metadata": {},
     "output_type": "execute_result"
    }
   ],
   "source": [
    "title_tags=driver.find_elements_by_xpath(\"//a[@class='title fw500 ellipsis']\")\n",
    "title_tags[0:2]"
   ]
  },
  {
   "cell_type": "code",
   "execution_count": 82,
   "id": "78eed4a7",
   "metadata": {},
   "outputs": [
    {
     "data": {
      "text/plain": [
       "['Senior Data Scientist',\n",
       " 'Data Scientist/ Machine Learning, 2022 Passout Can also apply',\n",
       " 'Data Scientist (freelance)',\n",
       " 'Lead Data Scientist']"
      ]
     },
     "execution_count": 82,
     "metadata": {},
     "output_type": "execute_result"
    }
   ],
   "source": [
    "job_title=[]\n",
    "for i in title_tags:\n",
    "    title=i.text\n",
    "    job_title.append(title)\n",
    "job_title[0:4]"
   ]
  },
  {
   "cell_type": "code",
   "execution_count": 83,
   "id": "7a9734e1",
   "metadata": {},
   "outputs": [
    {
     "data": {
      "text/plain": [
       "[<selenium.webdriver.remote.webelement.WebElement (session=\"c4f08832fb988b3d2e129ee15a13dbf0\", element=\"267ed629-772d-4ba5-879f-f0788d66a498\")>,\n",
       " <selenium.webdriver.remote.webelement.WebElement (session=\"c4f08832fb988b3d2e129ee15a13dbf0\", element=\"5297b676-9740-446b-a6a6-31d0cef9304b\")>]"
      ]
     },
     "execution_count": 83,
     "metadata": {},
     "output_type": "execute_result"
    }
   ],
   "source": [
    "company_name=driver.find_elements_by_xpath(\"//a[@class='subTitle ellipsis fleft']\")\n",
    "company_name[0:2]"
   ]
  },
  {
   "cell_type": "code",
   "execution_count": 84,
   "id": "dceb320d",
   "metadata": {},
   "outputs": [
    {
     "data": {
      "text/plain": [
       "['Optum', 'Creative Hands HR Consultancy']"
      ]
     },
     "execution_count": 84,
     "metadata": {},
     "output_type": "execute_result"
    }
   ],
   "source": [
    "company_names=[]\n",
    "for i in company_name:\n",
    "    company=i.text\n",
    "    company_names.append(company)\n",
    "company_names[0:2]"
   ]
  },
  {
   "cell_type": "code",
   "execution_count": 85,
   "id": "f39cd5aa",
   "metadata": {},
   "outputs": [
    {
     "data": {
      "text/plain": [
       "[<selenium.webdriver.remote.webelement.WebElement (session=\"c4f08832fb988b3d2e129ee15a13dbf0\", element=\"e3a230ce-f692-4183-90cd-d047cf1ac796\")>,\n",
       " <selenium.webdriver.remote.webelement.WebElement (session=\"c4f08832fb988b3d2e129ee15a13dbf0\", element=\"65abf4f6-713f-4459-a83a-ae9f144e5c1c\")>]"
      ]
     },
     "execution_count": 85,
     "metadata": {},
     "output_type": "execute_result"
    }
   ],
   "source": [
    "location = driver.find_elements_by_xpath(\"//li[@class='fleft grey-text br2 placeHolderLi location']/span[1]\")\n",
    "location[0:2]"
   ]
  },
  {
   "cell_type": "code",
   "execution_count": 86,
   "id": "9bc90dac",
   "metadata": {},
   "outputs": [
    {
     "data": {
      "text/plain": [
       "['Noida',\n",
       " 'Hyderabad/Secunderabad, Ahmedabad, Chennai, Bangalore/Bengaluru, Delhi / NCR, Mumbai (All Areas)']"
      ]
     },
     "execution_count": 86,
     "metadata": {},
     "output_type": "execute_result"
    }
   ],
   "source": [
    "job_location=[]\n",
    "for i in location:\n",
    "    locations=i.text\n",
    "    job_location.append(locations)\n",
    "job_location[0:2]"
   ]
  },
  {
   "cell_type": "code",
   "execution_count": 87,
   "id": "3e0bd710",
   "metadata": {},
   "outputs": [
    {
     "data": {
      "text/plain": [
       "[<selenium.webdriver.remote.webelement.WebElement (session=\"c4f08832fb988b3d2e129ee15a13dbf0\", element=\"a28afbd9-c960-45f0-8ff3-316951ff9f78\")>,\n",
       " <selenium.webdriver.remote.webelement.WebElement (session=\"c4f08832fb988b3d2e129ee15a13dbf0\", element=\"cca30e87-4573-4bd2-b605-b53007d87b62\")>]"
      ]
     },
     "execution_count": 87,
     "metadata": {},
     "output_type": "execute_result"
    }
   ],
   "source": [
    "experience = driver.find_elements_by_xpath(\"//li[@class='fleft grey-text br2 placeHolderLi experience']/span[1]\")\n",
    "experience[0:2]"
   ]
  },
  {
   "cell_type": "code",
   "execution_count": 88,
   "id": "2cc49d5c",
   "metadata": {},
   "outputs": [
    {
     "data": {
      "text/plain": [
       "['2-7 Yrs', '0-4 Yrs']"
      ]
     },
     "execution_count": 88,
     "metadata": {},
     "output_type": "execute_result"
    }
   ],
   "source": [
    "experience_required=[]\n",
    "for i in experience:\n",
    "    experience=i.text\n",
    "    experience_required.append(experience)\n",
    "experience_required[0:2]"
   ]
  },
  {
   "cell_type": "code",
   "execution_count": 89,
   "id": "538b0e75",
   "metadata": {},
   "outputs": [
    {
     "name": "stdout",
     "output_type": "stream",
     "text": [
      "20 20 20 20\n"
     ]
    }
   ],
   "source": [
    "print(len(experience_required),len(company_names),len(job_location),len(job_title))"
   ]
  },
  {
   "cell_type": "code",
   "execution_count": 90,
   "id": "cc099b67",
   "metadata": {},
   "outputs": [
    {
     "data": {
      "text/html": [
       "<div>\n",
       "<style scoped>\n",
       "    .dataframe tbody tr th:only-of-type {\n",
       "        vertical-align: middle;\n",
       "    }\n",
       "\n",
       "    .dataframe tbody tr th {\n",
       "        vertical-align: top;\n",
       "    }\n",
       "\n",
       "    .dataframe thead th {\n",
       "        text-align: right;\n",
       "    }\n",
       "</style>\n",
       "<table border=\"1\" class=\"dataframe\">\n",
       "  <thead>\n",
       "    <tr style=\"text-align: right;\">\n",
       "      <th></th>\n",
       "      <th>job_title</th>\n",
       "      <th>job_location</th>\n",
       "      <th>company_names</th>\n",
       "      <th>experience_required</th>\n",
       "    </tr>\n",
       "  </thead>\n",
       "  <tbody>\n",
       "    <tr>\n",
       "      <th>0</th>\n",
       "      <td>Senior Data Scientist</td>\n",
       "      <td>Noida</td>\n",
       "      <td>Optum</td>\n",
       "      <td>2-7 Yrs</td>\n",
       "    </tr>\n",
       "    <tr>\n",
       "      <th>1</th>\n",
       "      <td>Data Scientist/ Machine Learning, 2022 Passout...</td>\n",
       "      <td>Hyderabad/Secunderabad, Ahmedabad, Chennai, Ba...</td>\n",
       "      <td>Creative Hands HR Consultancy</td>\n",
       "      <td>0-4 Yrs</td>\n",
       "    </tr>\n",
       "    <tr>\n",
       "      <th>2</th>\n",
       "      <td>Data Scientist (freelance)</td>\n",
       "      <td>New Delhi, Delhi</td>\n",
       "      <td>2Coms</td>\n",
       "      <td>2-7 Yrs</td>\n",
       "    </tr>\n",
       "    <tr>\n",
       "      <th>3</th>\n",
       "      <td>Lead Data Scientist</td>\n",
       "      <td>Gurgaon/Gurugram</td>\n",
       "      <td>KIA INDIA PRIVATE LIMITED</td>\n",
       "      <td>7-10 Yrs</td>\n",
       "    </tr>\n",
       "    <tr>\n",
       "      <th>4</th>\n",
       "      <td>Data Scientist - Python/SQL</td>\n",
       "      <td>Noida, Kota, Mumbai, Chandigarh, Lucknow, Agra...</td>\n",
       "      <td>AVE-Promagne</td>\n",
       "      <td>3-8 Yrs</td>\n",
       "    </tr>\n",
       "    <tr>\n",
       "      <th>5</th>\n",
       "      <td>Data Scientist</td>\n",
       "      <td>Gurgaon, Bengaluru</td>\n",
       "      <td>BlackBuck</td>\n",
       "      <td>3-7 Yrs</td>\n",
       "    </tr>\n",
       "    <tr>\n",
       "      <th>6</th>\n",
       "      <td>Data Scientist</td>\n",
       "      <td>New Delhi</td>\n",
       "      <td>Boston Consulting Group</td>\n",
       "      <td>2-5 Yrs</td>\n",
       "    </tr>\n",
       "    <tr>\n",
       "      <th>7</th>\n",
       "      <td>Urgent Requirement || Data Scientist || Noida</td>\n",
       "      <td>Noida, Delhi / NCR</td>\n",
       "      <td>HCL Technologies</td>\n",
       "      <td>3-8 Yrs</td>\n",
       "    </tr>\n",
       "    <tr>\n",
       "      <th>8</th>\n",
       "      <td>AM Data Scientist - Goods &amp; Service Tax Networ...</td>\n",
       "      <td>Delhi / NCR</td>\n",
       "      <td>NISG (National Institute for Smart Government)</td>\n",
       "      <td>3-8 Yrs</td>\n",
       "    </tr>\n",
       "    <tr>\n",
       "      <th>9</th>\n",
       "      <td>Data Scientist - MIND Infotech</td>\n",
       "      <td>Noida</td>\n",
       "      <td>MOTHERSONSUMI INFOTECH &amp; DESIGNS LIMITED</td>\n",
       "      <td>4-8 Yrs</td>\n",
       "    </tr>\n",
       "  </tbody>\n",
       "</table>\n",
       "</div>"
      ],
      "text/plain": [
       "                                           job_title  \\\n",
       "0                              Senior Data Scientist   \n",
       "1  Data Scientist/ Machine Learning, 2022 Passout...   \n",
       "2                         Data Scientist (freelance)   \n",
       "3                                Lead Data Scientist   \n",
       "4                        Data Scientist - Python/SQL   \n",
       "5                                     Data Scientist   \n",
       "6                                     Data Scientist   \n",
       "7      Urgent Requirement || Data Scientist || Noida   \n",
       "8  AM Data Scientist - Goods & Service Tax Networ...   \n",
       "9                     Data Scientist - MIND Infotech   \n",
       "\n",
       "                                        job_location  \\\n",
       "0                                              Noida   \n",
       "1  Hyderabad/Secunderabad, Ahmedabad, Chennai, Ba...   \n",
       "2                                   New Delhi, Delhi   \n",
       "3                                   Gurgaon/Gurugram   \n",
       "4  Noida, Kota, Mumbai, Chandigarh, Lucknow, Agra...   \n",
       "5                                 Gurgaon, Bengaluru   \n",
       "6                                          New Delhi   \n",
       "7                                 Noida, Delhi / NCR   \n",
       "8                                        Delhi / NCR   \n",
       "9                                              Noida   \n",
       "\n",
       "                                    company_names experience_required  \n",
       "0                                           Optum             2-7 Yrs  \n",
       "1                   Creative Hands HR Consultancy             0-4 Yrs  \n",
       "2                                           2Coms             2-7 Yrs  \n",
       "3                       KIA INDIA PRIVATE LIMITED            7-10 Yrs  \n",
       "4                                    AVE-Promagne             3-8 Yrs  \n",
       "5                                       BlackBuck             3-7 Yrs  \n",
       "6                         Boston Consulting Group             2-5 Yrs  \n",
       "7                                HCL Technologies             3-8 Yrs  \n",
       "8  NISG (National Institute for Smart Government)             3-8 Yrs  \n",
       "9        MOTHERSONSUMI INFOTECH & DESIGNS LIMITED             4-8 Yrs  "
      ]
     },
     "execution_count": 90,
     "metadata": {},
     "output_type": "execute_result"
    }
   ],
   "source": [
    "jobdetails = pd.DataFrame({})\n",
    "jobdetails[\"job_title\"]=job_title\n",
    "jobdetails[\"job_location\"]=job_location\n",
    "jobdetails[\"company_names\"]=company_names\n",
    "jobdetails[\"experience_required\"]=experience_required\n",
    "jobdetails[0:10]"
   ]
  },
  {
   "cell_type": "markdown",
   "id": "239a7807",
   "metadata": {},
   "source": [
    "Q4: Scrape data of first 100 sunglasses listings on flipkart.com. You have to scrape four attributes:\n",
    "1. Brand\n",
    "2. Product Description\n",
    "3. Price\n",
    "The attributes which you have to scrape is ticked marked in the below image."
   ]
  },
  {
   "cell_type": "code",
   "execution_count": 379,
   "id": "55c29a2a",
   "metadata": {},
   "outputs": [],
   "source": [
    "driver.get(\"https://www.flipkart.com/\")"
   ]
  },
  {
   "cell_type": "code",
   "execution_count": 380,
   "id": "64ba7c0f",
   "metadata": {},
   "outputs": [],
   "source": [
    "search_designation=driver.find_element_by_class_name(\"_3704LK\")\n",
    "search_designation.send_keys(\"sunglasses\")"
   ]
  },
  {
   "cell_type": "code",
   "execution_count": 381,
   "id": "2bc92403",
   "metadata": {},
   "outputs": [],
   "source": [
    "search_button=driver.find_element_by_xpath(\"/html/body/div[1]/div/div[1]/div[1]/div[2]/div[2]/form/div/button\")\n",
    "search_button.click()"
   ]
  },
  {
   "cell_type": "code",
   "execution_count": 382,
   "id": "c66544bb",
   "metadata": {},
   "outputs": [
    {
     "data": {
      "text/plain": [
       "[<selenium.webdriver.remote.webelement.WebElement (session=\"c4f08832fb988b3d2e129ee15a13dbf0\", element=\"ef7889dd-9da6-4723-beb6-a101da47c917\")>,\n",
       " <selenium.webdriver.remote.webelement.WebElement (session=\"c4f08832fb988b3d2e129ee15a13dbf0\", element=\"559bce34-fa8e-4d5c-9b9e-86418080cb19\")>]"
      ]
     },
     "execution_count": 382,
     "metadata": {},
     "output_type": "execute_result"
    }
   ],
   "source": [
    "name=driver.find_elements_by_xpath(\"//div[@class='_2WkVRV']\")\n",
    "name[0:2]"
   ]
  },
  {
   "cell_type": "code",
   "execution_count": 383,
   "id": "59d14a98",
   "metadata": {},
   "outputs": [
    {
     "data": {
      "text/plain": [
       "40"
      ]
     },
     "execution_count": 383,
     "metadata": {},
     "output_type": "execute_result"
    }
   ],
   "source": [
    "len(name)"
   ]
  },
  {
   "cell_type": "code",
   "execution_count": 384,
   "id": "34490420",
   "metadata": {},
   "outputs": [
    {
     "data": {
      "text/plain": [
       "[<selenium.webdriver.remote.webelement.WebElement (session=\"c4f08832fb988b3d2e129ee15a13dbf0\", element=\"9b860df7-8dd1-41eb-97c0-2703d5f51a02\")>,\n",
       " <selenium.webdriver.remote.webelement.WebElement (session=\"c4f08832fb988b3d2e129ee15a13dbf0\", element=\"b20b4acc-22fe-49b9-8dc6-c31ef3188a59\")>]"
      ]
     },
     "execution_count": 384,
     "metadata": {},
     "output_type": "execute_result"
    }
   ],
   "source": [
    "price=driver.find_elements_by_xpath(\"//div[@class='_30jeq3']\")\n",
    "price[0:2]"
   ]
  },
  {
   "cell_type": "code",
   "execution_count": 385,
   "id": "39cb2b81",
   "metadata": {},
   "outputs": [
    {
     "data": {
      "text/plain": [
       "40"
      ]
     },
     "execution_count": 385,
     "metadata": {},
     "output_type": "execute_result"
    }
   ],
   "source": [
    "len(price)"
   ]
  },
  {
   "cell_type": "code",
   "execution_count": 386,
   "id": "f6d5607d",
   "metadata": {},
   "outputs": [
    {
     "data": {
      "text/plain": [
       "[<selenium.webdriver.remote.webelement.WebElement (session=\"c4f08832fb988b3d2e129ee15a13dbf0\", element=\"c80f8e1b-4b17-4546-8e5a-21357352c8c4\")>,\n",
       " <selenium.webdriver.remote.webelement.WebElement (session=\"c4f08832fb988b3d2e129ee15a13dbf0\", element=\"b3f9e592-bdce-4a66-9d6f-b27039deb0c4\")>]"
      ]
     },
     "execution_count": 386,
     "metadata": {},
     "output_type": "execute_result"
    }
   ],
   "source": [
    "pdetails=driver.find_elements_by_xpath(\"//a[@class='IRpwTa']\")\n",
    "pdetails[0:2]"
   ]
  },
  {
   "cell_type": "code",
   "execution_count": 387,
   "id": "bd729686",
   "metadata": {},
   "outputs": [
    {
     "data": {
      "text/plain": [
       "40"
      ]
     },
     "execution_count": 387,
     "metadata": {},
     "output_type": "execute_result"
    }
   ],
   "source": [
    "len(pdetails)"
   ]
  },
  {
   "cell_type": "code",
   "execution_count": 388,
   "id": "5b37dc7c",
   "metadata": {},
   "outputs": [
    {
     "data": {
      "text/plain": [
       "['Singco India', 'VINCENT CHASE']"
      ]
     },
     "execution_count": 388,
     "metadata": {},
     "output_type": "execute_result"
    }
   ],
   "source": [
    "page1_names=[]\n",
    "for i in name:\n",
    "    names=i.text\n",
    "    page1_names.append(names)\n",
    "page1_names[0:2]"
   ]
  },
  {
   "cell_type": "code",
   "execution_count": 389,
   "id": "89f0bc39",
   "metadata": {},
   "outputs": [
    {
     "data": {
      "text/plain": [
       "['₹614', '₹599']"
      ]
     },
     "execution_count": 389,
     "metadata": {},
     "output_type": "execute_result"
    }
   ],
   "source": [
    "page1_price=[]\n",
    "for i in price:\n",
    "    prices=i.text\n",
    "    page1_price.append(prices)\n",
    "page1_price[0:2]"
   ]
  },
  {
   "cell_type": "code",
   "execution_count": 390,
   "id": "b04727d4",
   "metadata": {},
   "outputs": [
    {
     "data": {
      "text/plain": [
       "['Gradient, Toughened Glass Lens, UV Protection Retro Squ...',\n",
       " 'UV Protection Wayfarer Sunglasses (59)']"
      ]
     },
     "execution_count": 390,
     "metadata": {},
     "output_type": "execute_result"
    }
   ],
   "source": [
    "page1_pdetails=[]\n",
    "for i in pdetails:\n",
    "    pdetails=i.text\n",
    "    page1_pdetails.append(pdetails)\n",
    "page1_pdetails[0:2]"
   ]
  },
  {
   "cell_type": "code",
   "execution_count": 391,
   "id": "758b92ab",
   "metadata": {},
   "outputs": [
    {
     "name": "stdout",
     "output_type": "stream",
     "text": [
      "40 40 40\n"
     ]
    }
   ],
   "source": [
    "print(len(page1_names),len(page1_price),len(page1_pdetails))"
   ]
  },
  {
   "cell_type": "code",
   "execution_count": 392,
   "id": "150a11c0",
   "metadata": {},
   "outputs": [
    {
     "data": {
      "text/html": [
       "<div>\n",
       "<style scoped>\n",
       "    .dataframe tbody tr th:only-of-type {\n",
       "        vertical-align: middle;\n",
       "    }\n",
       "\n",
       "    .dataframe tbody tr th {\n",
       "        vertical-align: top;\n",
       "    }\n",
       "\n",
       "    .dataframe thead th {\n",
       "        text-align: right;\n",
       "    }\n",
       "</style>\n",
       "<table border=\"1\" class=\"dataframe\">\n",
       "  <thead>\n",
       "    <tr style=\"text-align: right;\">\n",
       "      <th></th>\n",
       "      <th>page1_names</th>\n",
       "      <th>page1_price</th>\n",
       "      <th>page1_pdetails</th>\n",
       "    </tr>\n",
       "  </thead>\n",
       "  <tbody>\n",
       "    <tr>\n",
       "      <th>0</th>\n",
       "      <td>Singco India</td>\n",
       "      <td>₹614</td>\n",
       "      <td>Gradient, Toughened Glass Lens, UV Protection ...</td>\n",
       "    </tr>\n",
       "    <tr>\n",
       "      <th>1</th>\n",
       "      <td>VINCENT CHASE</td>\n",
       "      <td>₹599</td>\n",
       "      <td>UV Protection Wayfarer Sunglasses (59)</td>\n",
       "    </tr>\n",
       "    <tr>\n",
       "      <th>2</th>\n",
       "      <td>Fastrack</td>\n",
       "      <td>₹709</td>\n",
       "      <td>UV Protection Wayfarer Sunglasses (Free Size)</td>\n",
       "    </tr>\n",
       "    <tr>\n",
       "      <th>3</th>\n",
       "      <td>SRPM</td>\n",
       "      <td>₹148</td>\n",
       "      <td>UV Protection Wayfarer Sunglasses (50)</td>\n",
       "    </tr>\n",
       "    <tr>\n",
       "      <th>4</th>\n",
       "      <td>New Specs</td>\n",
       "      <td>₹183</td>\n",
       "      <td>UV Protection Rectangular Sunglasses (Free Size)</td>\n",
       "    </tr>\n",
       "  </tbody>\n",
       "</table>\n",
       "</div>"
      ],
      "text/plain": [
       "     page1_names page1_price  \\\n",
       "0   Singco India        ₹614   \n",
       "1  VINCENT CHASE        ₹599   \n",
       "2       Fastrack        ₹709   \n",
       "3           SRPM        ₹148   \n",
       "4      New Specs        ₹183   \n",
       "\n",
       "                                      page1_pdetails  \n",
       "0  Gradient, Toughened Glass Lens, UV Protection ...  \n",
       "1             UV Protection Wayfarer Sunglasses (59)  \n",
       "2      UV Protection Wayfarer Sunglasses (Free Size)  \n",
       "3             UV Protection Wayfarer Sunglasses (50)  \n",
       "4   UV Protection Rectangular Sunglasses (Free Size)  "
      ]
     },
     "execution_count": 392,
     "metadata": {},
     "output_type": "execute_result"
    }
   ],
   "source": [
    "page1 = pd.DataFrame({})\n",
    "page1[\"page1_names\"]=page1_names\n",
    "page1[\"page1_price\"]=page1_price\n",
    "page1[\"page1_pdetails\"]=page1_pdetails[0:40]\n",
    "page1.head()"
   ]
  },
  {
   "cell_type": "code",
   "execution_count": 393,
   "id": "b0f197cf",
   "metadata": {},
   "outputs": [],
   "source": [
    "next_button=driver.find_element_by_xpath(\"/html/body/div[1]/div/div[3]/div[1]/div[2]/div[12]/div/div/nav/a[11]/span\")\n",
    "next_button.click()"
   ]
  },
  {
   "cell_type": "code",
   "execution_count": 394,
   "id": "bf2dab48",
   "metadata": {},
   "outputs": [
    {
     "data": {
      "text/plain": [
       "[<selenium.webdriver.remote.webelement.WebElement (session=\"c4f08832fb988b3d2e129ee15a13dbf0\", element=\"9bed5bf4-b81e-419d-8be2-7490ce5ecc57\")>,\n",
       " <selenium.webdriver.remote.webelement.WebElement (session=\"c4f08832fb988b3d2e129ee15a13dbf0\", element=\"77877dda-4041-4163-8655-79e2b15727f7\")>]"
      ]
     },
     "execution_count": 394,
     "metadata": {},
     "output_type": "execute_result"
    }
   ],
   "source": [
    "name=driver.find_elements_by_xpath(\"//div[@class='_2WkVRV']\")\n",
    "name[0:2]"
   ]
  },
  {
   "cell_type": "code",
   "execution_count": 395,
   "id": "d876bd8f",
   "metadata": {},
   "outputs": [
    {
     "data": {
      "text/plain": [
       "['ROZZETTA CRAFT', 'Fastrack']"
      ]
     },
     "execution_count": 395,
     "metadata": {},
     "output_type": "execute_result"
    }
   ],
   "source": [
    "page2_names=[]\n",
    "for i in name:\n",
    "    names=i.text\n",
    "    page2_names.append(names)\n",
    "page2_names[0:2]"
   ]
  },
  {
   "cell_type": "code",
   "execution_count": 396,
   "id": "67c7de55",
   "metadata": {},
   "outputs": [
    {
     "data": {
      "text/plain": [
       "[<selenium.webdriver.remote.webelement.WebElement (session=\"c4f08832fb988b3d2e129ee15a13dbf0\", element=\"8a8da9ec-d7c5-4de7-81db-0aceb687e7df\")>,\n",
       " <selenium.webdriver.remote.webelement.WebElement (session=\"c4f08832fb988b3d2e129ee15a13dbf0\", element=\"bee6d85e-5a2d-477b-b453-a761db31f01d\")>]"
      ]
     },
     "execution_count": 396,
     "metadata": {},
     "output_type": "execute_result"
    }
   ],
   "source": [
    "price=driver.find_elements_by_xpath(\"//div[@class='_30jeq3']\")\n",
    "price[0:2]"
   ]
  },
  {
   "cell_type": "code",
   "execution_count": 397,
   "id": "a0b6333d",
   "metadata": {},
   "outputs": [
    {
     "data": {
      "text/plain": [
       "['₹280', '₹629']"
      ]
     },
     "execution_count": 397,
     "metadata": {},
     "output_type": "execute_result"
    }
   ],
   "source": [
    "page2_price=[]\n",
    "for i in price:\n",
    "    prices=i.text\n",
    "    page2_price.append(prices)\n",
    "page2_price[0:2]"
   ]
  },
  {
   "cell_type": "code",
   "execution_count": 398,
   "id": "ffd03bed",
   "metadata": {},
   "outputs": [
    {
     "data": {
      "text/plain": [
       "[<selenium.webdriver.remote.webelement.WebElement (session=\"c4f08832fb988b3d2e129ee15a13dbf0\", element=\"c144241f-2eb5-4064-bcf0-8611b23513f4\")>,\n",
       " <selenium.webdriver.remote.webelement.WebElement (session=\"c4f08832fb988b3d2e129ee15a13dbf0\", element=\"ca77b7d0-d5bf-4596-801e-15075df4b5b2\")>]"
      ]
     },
     "execution_count": 398,
     "metadata": {},
     "output_type": "execute_result"
    }
   ],
   "source": [
    "pdetails=driver.find_elements_by_xpath(\"//a[@class='IRpwTa']\")\n",
    "pdetails[0:2]"
   ]
  },
  {
   "cell_type": "code",
   "execution_count": 399,
   "id": "4d11f025",
   "metadata": {},
   "outputs": [
    {
     "data": {
      "text/plain": [
       "['UV Protection, Gradient Rectangular Sunglasses (Free Si...',\n",
       " 'UV Protection Wayfarer Sunglasses (Free Size)']"
      ]
     },
     "execution_count": 399,
     "metadata": {},
     "output_type": "execute_result"
    }
   ],
   "source": [
    "page2_pdetails=[]\n",
    "for i in pdetails:\n",
    "    pdetails=i.text\n",
    "    page2_pdetails.append(pdetails)\n",
    "page2_pdetails[0:2]"
   ]
  },
  {
   "cell_type": "code",
   "execution_count": 400,
   "id": "3e52a32f",
   "metadata": {},
   "outputs": [
    {
     "name": "stdout",
     "output_type": "stream",
     "text": [
      "40 40 39\n"
     ]
    }
   ],
   "source": [
    "print(len(page2_names),len(page2_price),len(page2_pdetails))"
   ]
  },
  {
   "cell_type": "code",
   "execution_count": 401,
   "id": "955416ea",
   "metadata": {},
   "outputs": [
    {
     "data": {
      "text/html": [
       "<div>\n",
       "<style scoped>\n",
       "    .dataframe tbody tr th:only-of-type {\n",
       "        vertical-align: middle;\n",
       "    }\n",
       "\n",
       "    .dataframe tbody tr th {\n",
       "        vertical-align: top;\n",
       "    }\n",
       "\n",
       "    .dataframe thead th {\n",
       "        text-align: right;\n",
       "    }\n",
       "</style>\n",
       "<table border=\"1\" class=\"dataframe\">\n",
       "  <thead>\n",
       "    <tr style=\"text-align: right;\">\n",
       "      <th></th>\n",
       "      <th>page1_names</th>\n",
       "      <th>page1_price</th>\n",
       "      <th>page1_pdetails</th>\n",
       "    </tr>\n",
       "  </thead>\n",
       "  <tbody>\n",
       "    <tr>\n",
       "      <th>0</th>\n",
       "      <td>ROZZETTA CRAFT</td>\n",
       "      <td>₹280</td>\n",
       "      <td>UV Protection, Gradient Rectangular Sunglasses...</td>\n",
       "    </tr>\n",
       "    <tr>\n",
       "      <th>1</th>\n",
       "      <td>Fastrack</td>\n",
       "      <td>₹629</td>\n",
       "      <td>UV Protection Wayfarer Sunglasses (Free Size)</td>\n",
       "    </tr>\n",
       "    <tr>\n",
       "      <th>2</th>\n",
       "      <td>Fastrack</td>\n",
       "      <td>₹749</td>\n",
       "      <td>UV Protection Wayfarer Sunglasses (Free Size)</td>\n",
       "    </tr>\n",
       "    <tr>\n",
       "      <th>3</th>\n",
       "      <td>NuVew</td>\n",
       "      <td>₹135</td>\n",
       "      <td>UV Protection Retro Square, Wayfarer Sunglasse...</td>\n",
       "    </tr>\n",
       "    <tr>\n",
       "      <th>4</th>\n",
       "      <td>SUNBEE</td>\n",
       "      <td>₹180</td>\n",
       "      <td>UV Protection, Polarized, Mirrored Retro Squar...</td>\n",
       "    </tr>\n",
       "  </tbody>\n",
       "</table>\n",
       "</div>"
      ],
      "text/plain": [
       "      page1_names page1_price  \\\n",
       "0  ROZZETTA CRAFT        ₹280   \n",
       "1        Fastrack        ₹629   \n",
       "2        Fastrack        ₹749   \n",
       "3           NuVew        ₹135   \n",
       "4          SUNBEE        ₹180   \n",
       "\n",
       "                                      page1_pdetails  \n",
       "0  UV Protection, Gradient Rectangular Sunglasses...  \n",
       "1      UV Protection Wayfarer Sunglasses (Free Size)  \n",
       "2      UV Protection Wayfarer Sunglasses (Free Size)  \n",
       "3  UV Protection Retro Square, Wayfarer Sunglasse...  \n",
       "4  UV Protection, Polarized, Mirrored Retro Squar...  "
      ]
     },
     "execution_count": 401,
     "metadata": {},
     "output_type": "execute_result"
    }
   ],
   "source": [
    "page2 = pd.DataFrame({})\n",
    "page2[\"page1_names\"]=page2_names[0:39]\n",
    "page2[\"page1_price\"]=page2_price[0:39]\n",
    "page2[\"page1_pdetails\"]=page2_pdetails\n",
    "page2.head()"
   ]
  },
  {
   "cell_type": "code",
   "execution_count": 125,
   "id": "36fa349a",
   "metadata": {},
   "outputs": [],
   "source": [
    "next_button=driver.find_element_by_xpath(\"/html/body/div[1]/div/div[3]/div[1]/div[2]/div[12]/div/div/nav/a[12]/span\")\n",
    "next_button.click()"
   ]
  },
  {
   "cell_type": "code",
   "execution_count": 126,
   "id": "718246b1",
   "metadata": {},
   "outputs": [
    {
     "data": {
      "text/plain": [
       "[<selenium.webdriver.remote.webelement.WebElement (session=\"c4f08832fb988b3d2e129ee15a13dbf0\", element=\"95153eaf-8579-4a92-8b15-7f2a8fcea8f6\")>,\n",
       " <selenium.webdriver.remote.webelement.WebElement (session=\"c4f08832fb988b3d2e129ee15a13dbf0\", element=\"a02df29c-b4fd-44c3-8cfe-5ca8c310650f\")>]"
      ]
     },
     "execution_count": 126,
     "metadata": {},
     "output_type": "execute_result"
    }
   ],
   "source": [
    "name=driver.find_elements_by_xpath(\"//div[@class='_2WkVRV']\")\n",
    "name[0:2]"
   ]
  },
  {
   "cell_type": "code",
   "execution_count": 127,
   "id": "9c591fc9",
   "metadata": {},
   "outputs": [
    {
     "data": {
      "text/plain": [
       "['hipe', 'Fastrack']"
      ]
     },
     "execution_count": 127,
     "metadata": {},
     "output_type": "execute_result"
    }
   ],
   "source": [
    "page3_names=[]\n",
    "for i in name:\n",
    "    names=i.text\n",
    "    page3_names.append(names)\n",
    "page3_names[0:2]"
   ]
  },
  {
   "cell_type": "code",
   "execution_count": 128,
   "id": "7a844304",
   "metadata": {},
   "outputs": [
    {
     "data": {
      "text/plain": [
       "[<selenium.webdriver.remote.webelement.WebElement (session=\"c4f08832fb988b3d2e129ee15a13dbf0\", element=\"bee707ff-e799-48e4-a131-7d52e030993e\")>,\n",
       " <selenium.webdriver.remote.webelement.WebElement (session=\"c4f08832fb988b3d2e129ee15a13dbf0\", element=\"7e9e8710-e3ad-4e79-956e-499335fa5dd0\")>]"
      ]
     },
     "execution_count": 128,
     "metadata": {},
     "output_type": "execute_result"
    }
   ],
   "source": [
    "price=driver.find_elements_by_xpath(\"//div[@class='_30jeq3']\")\n",
    "price[0:2]"
   ]
  },
  {
   "cell_type": "code",
   "execution_count": 129,
   "id": "74694576",
   "metadata": {},
   "outputs": [
    {
     "data": {
      "text/plain": [
       "['₹160', '₹749']"
      ]
     },
     "execution_count": 129,
     "metadata": {},
     "output_type": "execute_result"
    }
   ],
   "source": [
    "page3_price=[]\n",
    "for i in price:\n",
    "    prices=i.text\n",
    "    page3_price.append(prices)\n",
    "page3_price[0:2]"
   ]
  },
  {
   "cell_type": "code",
   "execution_count": 130,
   "id": "cc155281",
   "metadata": {},
   "outputs": [
    {
     "data": {
      "text/plain": [
       "[<selenium.webdriver.remote.webelement.WebElement (session=\"c4f08832fb988b3d2e129ee15a13dbf0\", element=\"25622f06-1d61-45e3-afaa-19d6328b4a06\")>,\n",
       " <selenium.webdriver.remote.webelement.WebElement (session=\"c4f08832fb988b3d2e129ee15a13dbf0\", element=\"c3b65cc8-f84f-4dc8-b335-94757e02a3a4\")>]"
      ]
     },
     "execution_count": 130,
     "metadata": {},
     "output_type": "execute_result"
    }
   ],
   "source": [
    "pdetails=driver.find_elements_by_xpath(\"//a[@class='IRpwTa']\")\n",
    "pdetails[0:2]"
   ]
  },
  {
   "cell_type": "code",
   "execution_count": 131,
   "id": "513c603e",
   "metadata": {},
   "outputs": [
    {
     "data": {
      "text/plain": [
       "['Mirrored, Gradient, Riding Glasses Round Sunglasses (55...',\n",
       " 'UV Protection Shield Sunglasses (Free Size)']"
      ]
     },
     "execution_count": 131,
     "metadata": {},
     "output_type": "execute_result"
    }
   ],
   "source": [
    "page3_pdetails=[]\n",
    "for i in pdetails:\n",
    "    pdetails=i.text\n",
    "    page3_pdetails.append(pdetails)\n",
    "page3_pdetails[0:2]"
   ]
  },
  {
   "cell_type": "code",
   "execution_count": 132,
   "id": "162ee66a",
   "metadata": {},
   "outputs": [
    {
     "name": "stdout",
     "output_type": "stream",
     "text": [
      "40 40 38\n"
     ]
    }
   ],
   "source": [
    "print(len(page3_names),len(page3_price),len(page3_pdetails))"
   ]
  },
  {
   "cell_type": "code",
   "execution_count": 133,
   "id": "5dd8269e",
   "metadata": {},
   "outputs": [
    {
     "data": {
      "text/html": [
       "<div>\n",
       "<style scoped>\n",
       "    .dataframe tbody tr th:only-of-type {\n",
       "        vertical-align: middle;\n",
       "    }\n",
       "\n",
       "    .dataframe tbody tr th {\n",
       "        vertical-align: top;\n",
       "    }\n",
       "\n",
       "    .dataframe thead th {\n",
       "        text-align: right;\n",
       "    }\n",
       "</style>\n",
       "<table border=\"1\" class=\"dataframe\">\n",
       "  <thead>\n",
       "    <tr style=\"text-align: right;\">\n",
       "      <th></th>\n",
       "      <th>page1_names</th>\n",
       "      <th>page1_price</th>\n",
       "      <th>page1_pdetails</th>\n",
       "    </tr>\n",
       "  </thead>\n",
       "  <tbody>\n",
       "    <tr>\n",
       "      <th>0</th>\n",
       "      <td>hipe</td>\n",
       "      <td>₹160</td>\n",
       "      <td>Mirrored, Gradient, Riding Glasses Round Sungl...</td>\n",
       "    </tr>\n",
       "    <tr>\n",
       "      <th>1</th>\n",
       "      <td>Fastrack</td>\n",
       "      <td>₹749</td>\n",
       "      <td>UV Protection Shield Sunglasses (Free Size)</td>\n",
       "    </tr>\n",
       "    <tr>\n",
       "      <th>2</th>\n",
       "      <td>Fastrack</td>\n",
       "      <td>₹749</td>\n",
       "      <td>UV Protection Sports Sunglasses (Free Size)</td>\n",
       "    </tr>\n",
       "    <tr>\n",
       "      <th>3</th>\n",
       "      <td>Singco India</td>\n",
       "      <td>₹614</td>\n",
       "      <td>Gradient, Toughened Glass Lens, UV Protection ...</td>\n",
       "    </tr>\n",
       "    <tr>\n",
       "      <th>4</th>\n",
       "      <td>Elligator</td>\n",
       "      <td>₹174</td>\n",
       "      <td>UV Protection Wayfarer Sunglasses (53)</td>\n",
       "    </tr>\n",
       "    <tr>\n",
       "      <th>5</th>\n",
       "      <td>ROZZETTA CRAFT</td>\n",
       "      <td>₹253</td>\n",
       "      <td>UV Protection Rectangular Sunglasses (Free Size)</td>\n",
       "    </tr>\n",
       "    <tr>\n",
       "      <th>6</th>\n",
       "      <td>Lee Topper</td>\n",
       "      <td>₹325</td>\n",
       "      <td>UV Protection, Riding Glasses Retro Square, Sp...</td>\n",
       "    </tr>\n",
       "    <tr>\n",
       "      <th>7</th>\n",
       "      <td>VINCENT CHASE</td>\n",
       "      <td>₹599</td>\n",
       "      <td>UV Protection Wayfarer Sunglasses (59)</td>\n",
       "    </tr>\n",
       "    <tr>\n",
       "      <th>8</th>\n",
       "      <td>SUNBEE</td>\n",
       "      <td>₹226</td>\n",
       "      <td>UV Protection, Polarized, Mirrored Round Sungl...</td>\n",
       "    </tr>\n",
       "    <tr>\n",
       "      <th>9</th>\n",
       "      <td>Elligator</td>\n",
       "      <td>₹228</td>\n",
       "      <td>UV Protection Wayfarer Sunglasses (53)</td>\n",
       "    </tr>\n",
       "    <tr>\n",
       "      <th>10</th>\n",
       "      <td>ROZZETTA CRAFT</td>\n",
       "      <td>₹292</td>\n",
       "      <td>UV Protection, Gradient Round Sunglasses (Free...</td>\n",
       "    </tr>\n",
       "    <tr>\n",
       "      <th>11</th>\n",
       "      <td>PHENOMENAL</td>\n",
       "      <td>₹329</td>\n",
       "      <td>UV Protection Retro Square Sunglasses (Free Size)</td>\n",
       "    </tr>\n",
       "    <tr>\n",
       "      <th>12</th>\n",
       "      <td>kingsunglasses</td>\n",
       "      <td>₹169</td>\n",
       "      <td>Mirrored, UV Protection Aviator Sunglasses (56)</td>\n",
       "    </tr>\n",
       "    <tr>\n",
       "      <th>13</th>\n",
       "      <td>Fastrack</td>\n",
       "      <td>₹709</td>\n",
       "      <td>UV Protection Wayfarer Sunglasses (Free Size)</td>\n",
       "    </tr>\n",
       "    <tr>\n",
       "      <th>14</th>\n",
       "      <td>Elligator</td>\n",
       "      <td>₹283</td>\n",
       "      <td>UV Protection Aviator Sunglasses (55)</td>\n",
       "    </tr>\n",
       "    <tr>\n",
       "      <th>15</th>\n",
       "      <td>AISLIN</td>\n",
       "      <td>₹409</td>\n",
       "      <td>UV Protection, Gradient Cat-eye Sunglasses (58)</td>\n",
       "    </tr>\n",
       "    <tr>\n",
       "      <th>16</th>\n",
       "      <td>ROZZETTA CRAFT</td>\n",
       "      <td>₹376</td>\n",
       "      <td>UV Protection, Riding Glasses Rectangular Sung...</td>\n",
       "    </tr>\n",
       "    <tr>\n",
       "      <th>17</th>\n",
       "      <td>SHAAH COLLECTIONS</td>\n",
       "      <td>₹98</td>\n",
       "      <td>UV Protection Rectangular Sunglasses (Free Size)</td>\n",
       "    </tr>\n",
       "    <tr>\n",
       "      <th>18</th>\n",
       "      <td>DAHAAZIL</td>\n",
       "      <td>₹156</td>\n",
       "      <td>UV Protection, Night Vision, Riding Glasses Wa...</td>\n",
       "    </tr>\n",
       "    <tr>\n",
       "      <th>19</th>\n",
       "      <td>Singco India</td>\n",
       "      <td>₹167</td>\n",
       "      <td>UV Protection, Riding Glasses, Others Aviator,...</td>\n",
       "    </tr>\n",
       "    <tr>\n",
       "      <th>20</th>\n",
       "      <td>Fastrack</td>\n",
       "      <td>₹1,649</td>\n",
       "      <td>UV Protection Oval Sunglasses (Free Size)</td>\n",
       "    </tr>\n",
       "  </tbody>\n",
       "</table>\n",
       "</div>"
      ],
      "text/plain": [
       "          page1_names page1_price  \\\n",
       "0                hipe        ₹160   \n",
       "1            Fastrack        ₹749   \n",
       "2            Fastrack        ₹749   \n",
       "3        Singco India        ₹614   \n",
       "4           Elligator        ₹174   \n",
       "5      ROZZETTA CRAFT        ₹253   \n",
       "6          Lee Topper        ₹325   \n",
       "7       VINCENT CHASE        ₹599   \n",
       "8              SUNBEE        ₹226   \n",
       "9           Elligator        ₹228   \n",
       "10     ROZZETTA CRAFT        ₹292   \n",
       "11         PHENOMENAL        ₹329   \n",
       "12     kingsunglasses        ₹169   \n",
       "13           Fastrack        ₹709   \n",
       "14          Elligator        ₹283   \n",
       "15             AISLIN        ₹409   \n",
       "16     ROZZETTA CRAFT        ₹376   \n",
       "17  SHAAH COLLECTIONS         ₹98   \n",
       "18           DAHAAZIL        ₹156   \n",
       "19       Singco India        ₹167   \n",
       "20           Fastrack      ₹1,649   \n",
       "\n",
       "                                       page1_pdetails  \n",
       "0   Mirrored, Gradient, Riding Glasses Round Sungl...  \n",
       "1         UV Protection Shield Sunglasses (Free Size)  \n",
       "2         UV Protection Sports Sunglasses (Free Size)  \n",
       "3   Gradient, Toughened Glass Lens, UV Protection ...  \n",
       "4              UV Protection Wayfarer Sunglasses (53)  \n",
       "5    UV Protection Rectangular Sunglasses (Free Size)  \n",
       "6   UV Protection, Riding Glasses Retro Square, Sp...  \n",
       "7              UV Protection Wayfarer Sunglasses (59)  \n",
       "8   UV Protection, Polarized, Mirrored Round Sungl...  \n",
       "9              UV Protection Wayfarer Sunglasses (53)  \n",
       "10  UV Protection, Gradient Round Sunglasses (Free...  \n",
       "11  UV Protection Retro Square Sunglasses (Free Size)  \n",
       "12    Mirrored, UV Protection Aviator Sunglasses (56)  \n",
       "13      UV Protection Wayfarer Sunglasses (Free Size)  \n",
       "14              UV Protection Aviator Sunglasses (55)  \n",
       "15    UV Protection, Gradient Cat-eye Sunglasses (58)  \n",
       "16  UV Protection, Riding Glasses Rectangular Sung...  \n",
       "17   UV Protection Rectangular Sunglasses (Free Size)  \n",
       "18  UV Protection, Night Vision, Riding Glasses Wa...  \n",
       "19  UV Protection, Riding Glasses, Others Aviator,...  \n",
       "20          UV Protection Oval Sunglasses (Free Size)  "
      ]
     },
     "execution_count": 133,
     "metadata": {},
     "output_type": "execute_result"
    }
   ],
   "source": [
    "page3 = pd.DataFrame({})\n",
    "page3[\"page1_names\"]=page3_names[0:21]\n",
    "page3[\"page1_price\"]=page3_price[0:21]\n",
    "page3[\"page1_pdetails\"]=page3_pdetails[0:21]\n",
    "page3"
   ]
  },
  {
   "cell_type": "code",
   "execution_count": 135,
   "id": "59715360",
   "metadata": {},
   "outputs": [
    {
     "data": {
      "text/html": [
       "<div>\n",
       "<style scoped>\n",
       "    .dataframe tbody tr th:only-of-type {\n",
       "        vertical-align: middle;\n",
       "    }\n",
       "\n",
       "    .dataframe tbody tr th {\n",
       "        vertical-align: top;\n",
       "    }\n",
       "\n",
       "    .dataframe thead th {\n",
       "        text-align: right;\n",
       "    }\n",
       "</style>\n",
       "<table border=\"1\" class=\"dataframe\">\n",
       "  <thead>\n",
       "    <tr style=\"text-align: right;\">\n",
       "      <th></th>\n",
       "      <th>page1_names</th>\n",
       "      <th>page1_price</th>\n",
       "      <th>page1_pdetails</th>\n",
       "    </tr>\n",
       "  </thead>\n",
       "  <tbody>\n",
       "    <tr>\n",
       "      <th>0</th>\n",
       "      <td>VINCENT CHASE</td>\n",
       "      <td>₹599</td>\n",
       "      <td>UV Protection Wayfarer Sunglasses (59)</td>\n",
       "    </tr>\n",
       "    <tr>\n",
       "      <th>1</th>\n",
       "      <td>PHENOMENAL</td>\n",
       "      <td>₹329</td>\n",
       "      <td>UV Protection Retro Square Sunglasses (Free Size)</td>\n",
       "    </tr>\n",
       "    <tr>\n",
       "      <th>2</th>\n",
       "      <td>Fastrack</td>\n",
       "      <td>₹709</td>\n",
       "      <td>UV Protection Wayfarer Sunglasses (Free Size)</td>\n",
       "    </tr>\n",
       "    <tr>\n",
       "      <th>3</th>\n",
       "      <td>New Specs</td>\n",
       "      <td>₹183</td>\n",
       "      <td>UV Protection Rectangular Sunglasses (Free Size)</td>\n",
       "    </tr>\n",
       "    <tr>\n",
       "      <th>4</th>\n",
       "      <td>SRPM</td>\n",
       "      <td>₹148</td>\n",
       "      <td>UV Protection Wayfarer Sunglasses (50)</td>\n",
       "    </tr>\n",
       "    <tr>\n",
       "      <th>...</th>\n",
       "      <td>...</td>\n",
       "      <td>...</td>\n",
       "      <td>...</td>\n",
       "    </tr>\n",
       "    <tr>\n",
       "      <th>16</th>\n",
       "      <td>ROZZETTA CRAFT</td>\n",
       "      <td>₹376</td>\n",
       "      <td>UV Protection, Riding Glasses Rectangular Sung...</td>\n",
       "    </tr>\n",
       "    <tr>\n",
       "      <th>17</th>\n",
       "      <td>SHAAH COLLECTIONS</td>\n",
       "      <td>₹98</td>\n",
       "      <td>UV Protection Rectangular Sunglasses (Free Size)</td>\n",
       "    </tr>\n",
       "    <tr>\n",
       "      <th>18</th>\n",
       "      <td>DAHAAZIL</td>\n",
       "      <td>₹156</td>\n",
       "      <td>UV Protection, Night Vision, Riding Glasses Wa...</td>\n",
       "    </tr>\n",
       "    <tr>\n",
       "      <th>19</th>\n",
       "      <td>Singco India</td>\n",
       "      <td>₹167</td>\n",
       "      <td>UV Protection, Riding Glasses, Others Aviator,...</td>\n",
       "    </tr>\n",
       "    <tr>\n",
       "      <th>20</th>\n",
       "      <td>Fastrack</td>\n",
       "      <td>₹1,649</td>\n",
       "      <td>UV Protection Oval Sunglasses (Free Size)</td>\n",
       "    </tr>\n",
       "  </tbody>\n",
       "</table>\n",
       "<p>100 rows × 3 columns</p>\n",
       "</div>"
      ],
      "text/plain": [
       "          page1_names page1_price  \\\n",
       "0       VINCENT CHASE        ₹599   \n",
       "1          PHENOMENAL        ₹329   \n",
       "2            Fastrack        ₹709   \n",
       "3           New Specs        ₹183   \n",
       "4                SRPM        ₹148   \n",
       "..                ...         ...   \n",
       "16     ROZZETTA CRAFT        ₹376   \n",
       "17  SHAAH COLLECTIONS         ₹98   \n",
       "18           DAHAAZIL        ₹156   \n",
       "19       Singco India        ₹167   \n",
       "20           Fastrack      ₹1,649   \n",
       "\n",
       "                                       page1_pdetails  \n",
       "0              UV Protection Wayfarer Sunglasses (59)  \n",
       "1   UV Protection Retro Square Sunglasses (Free Size)  \n",
       "2       UV Protection Wayfarer Sunglasses (Free Size)  \n",
       "3    UV Protection Rectangular Sunglasses (Free Size)  \n",
       "4              UV Protection Wayfarer Sunglasses (50)  \n",
       "..                                                ...  \n",
       "16  UV Protection, Riding Glasses Rectangular Sung...  \n",
       "17   UV Protection Rectangular Sunglasses (Free Size)  \n",
       "18  UV Protection, Night Vision, Riding Glasses Wa...  \n",
       "19  UV Protection, Riding Glasses, Others Aviator,...  \n",
       "20          UV Protection Oval Sunglasses (Free Size)  \n",
       "\n",
       "[100 rows x 3 columns]"
      ]
     },
     "execution_count": 135,
     "metadata": {},
     "output_type": "execute_result"
    }
   ],
   "source": [
    "flipcart_100_sunglasses = pd.concat([page1,page2,page3])\n",
    "flipcart_100_sunglasses"
   ]
  },
  {
   "cell_type": "markdown",
   "id": "b37341c0",
   "metadata": {},
   "source": [
    "Q5: Scrape 100 reviews data from flipkart.com for iphone11 phone. "
   ]
  },
  {
   "cell_type": "markdown",
   "id": "1c5089e3",
   "metadata": {},
   "source": [
    "you have to scrape the tick marked attributes.These are:\n",
    "1. Rating\n",
    "2. Review summary\n",
    "3. Full review\n",
    "4. You have to scrape this data for first 100 reviews.\n"
   ]
  },
  {
   "cell_type": "code",
   "execution_count": 138,
   "id": "ca6c1c0e",
   "metadata": {},
   "outputs": [],
   "source": [
    "driver.get(\"https://www.flipkart.com/apple-iphone-11-black-64-gb-includes- earpods-power\u0002adapter/p/itm0f37c2240b217?pid=MOBFKCTSVZAXUHGR&lid=LSTMOBFKCTSVZAXUHGREPBFGI&marketplace\")"
   ]
  },
  {
   "cell_type": "code",
   "execution_count": 148,
   "id": "983996a5",
   "metadata": {},
   "outputs": [
    {
     "data": {
      "text/plain": [
       "[<selenium.webdriver.remote.webelement.WebElement (session=\"c4f08832fb988b3d2e129ee15a13dbf0\", element=\"c37e9f91-ed68-446a-bf53-9843ffa05df2\")>,\n",
       " <selenium.webdriver.remote.webelement.WebElement (session=\"c4f08832fb988b3d2e129ee15a13dbf0\", element=\"24036170-d444-4fce-86a3-3599e10f8d5f\")>]"
      ]
     },
     "execution_count": 148,
     "metadata": {},
     "output_type": "execute_result"
    }
   ],
   "source": [
    "rating=driver.find_elements_by_xpath(\"//div[@class='_3LWZlK _1BLPMq']\")\n",
    "rating[0:2]"
   ]
  },
  {
   "cell_type": "code",
   "execution_count": 141,
   "id": "594cf7ac",
   "metadata": {},
   "outputs": [
    {
     "data": {
      "text/plain": [
       "10"
      ]
     },
     "execution_count": 141,
     "metadata": {},
     "output_type": "execute_result"
    }
   ],
   "source": [
    "len(rating)"
   ]
  },
  {
   "cell_type": "code",
   "execution_count": 142,
   "id": "0e8fd7b6",
   "metadata": {},
   "outputs": [],
   "source": [
    "all_button=driver.find_element_by_xpath(\"/html/body/div[1]/div/div[3]/div[1]/div[2]/div[8]/div/div/div[5]/div/a/div/span\")\n",
    "all_button.click()"
   ]
  },
  {
   "cell_type": "code",
   "execution_count": 147,
   "id": "da40a292",
   "metadata": {},
   "outputs": [
    {
     "data": {
      "text/plain": [
       "[<selenium.webdriver.remote.webelement.WebElement (session=\"c4f08832fb988b3d2e129ee15a13dbf0\", element=\"c37e9f91-ed68-446a-bf53-9843ffa05df2\")>,\n",
       " <selenium.webdriver.remote.webelement.WebElement (session=\"c4f08832fb988b3d2e129ee15a13dbf0\", element=\"24036170-d444-4fce-86a3-3599e10f8d5f\")>]"
      ]
     },
     "execution_count": 147,
     "metadata": {},
     "output_type": "execute_result"
    }
   ],
   "source": [
    "rating=driver.find_elements_by_xpath(\"//div[@class='_3LWZlK _1BLPMq']\")\n",
    "rating[0:2]"
   ]
  },
  {
   "cell_type": "code",
   "execution_count": 144,
   "id": "660b7aa3",
   "metadata": {},
   "outputs": [
    {
     "data": {
      "text/plain": [
       "['5', '5', '5', '5', '5', '5', '5', '4', '5', '5']"
      ]
     },
     "execution_count": 144,
     "metadata": {},
     "output_type": "execute_result"
    }
   ],
   "source": [
    "page1_rating=[]\n",
    "for i in rating:\n",
    "    ratings = i.text\n",
    "    page1_rating.append(ratings)\n",
    "page1_rating\n",
    "    "
   ]
  },
  {
   "cell_type": "code",
   "execution_count": 161,
   "id": "b3ee9d36",
   "metadata": {},
   "outputs": [
    {
     "data": {
      "text/plain": [
       "[<selenium.webdriver.remote.webelement.WebElement (session=\"c4f08832fb988b3d2e129ee15a13dbf0\", element=\"e5f09803-b4d0-475e-a5e0-8459eab87b45\")>,\n",
       " <selenium.webdriver.remote.webelement.WebElement (session=\"c4f08832fb988b3d2e129ee15a13dbf0\", element=\"57cc24ba-0c55-4008-bc6f-00b77ea2606b\")>]"
      ]
     },
     "execution_count": 161,
     "metadata": {},
     "output_type": "execute_result"
    }
   ],
   "source": [
    "Review_summary = driver.find_elements_by_xpath(\"//p[@class='_2-N8zT']\")\n",
    "Review_summary[0:2]"
   ]
  },
  {
   "cell_type": "code",
   "execution_count": 162,
   "id": "22168472",
   "metadata": {},
   "outputs": [
    {
     "data": {
      "text/plain": [
       "['Brilliant',\n",
       " 'Simply awesome',\n",
       " 'Best in the market!',\n",
       " 'Perfect product!',\n",
       " 'Fabulous!',\n",
       " 'Worth every penny',\n",
       " 'Great product',\n",
       " 'Good choice',\n",
       " 'Highly recommended',\n",
       " 'Worth every penny']"
      ]
     },
     "execution_count": 162,
     "metadata": {},
     "output_type": "execute_result"
    }
   ],
   "source": [
    "page1_Review_summary=[]\n",
    "for i in Review_summary:\n",
    "    Review_summarys = i.text\n",
    "    page1_Review_summary.append(Review_summarys)\n",
    "page1_Review_summary"
   ]
  },
  {
   "cell_type": "code",
   "execution_count": 165,
   "id": "1dffad48",
   "metadata": {},
   "outputs": [
    {
     "data": {
      "text/plain": [
       "[<selenium.webdriver.remote.webelement.WebElement (session=\"c4f08832fb988b3d2e129ee15a13dbf0\", element=\"9162d3d5-f386-42a4-8967-3ab33acd19d4\")>,\n",
       " <selenium.webdriver.remote.webelement.WebElement (session=\"c4f08832fb988b3d2e129ee15a13dbf0\", element=\"26953af9-e243-4b9e-bb11-b5b257a011d0\")>]"
      ]
     },
     "execution_count": 165,
     "metadata": {},
     "output_type": "execute_result"
    }
   ],
   "source": [
    "full_review=driver.find_elements_by_xpath(\"//div[@class='t-ZTKy']\")\n",
    "full_review[0:2]"
   ]
  },
  {
   "cell_type": "code",
   "execution_count": 167,
   "id": "31235d49",
   "metadata": {},
   "outputs": [
    {
     "data": {
      "text/plain": [
       "['The Best Phone for the Money..The iPhone 11 offers superb cameras, a more durable design and excellent battery life for an affordable price...Compelling ultra-wide camera.New Night mode is excellent.Long battery life',\n",
       " 'Really satisfied with the Product I received... It’s totally genuine and the packaging was also really good so if ur planning to buy just go for it.',\n",
       " 'Great iPhone very snappy experience as apple kind. Upgraded from iPhone 7..Pros.-Camera top class.- Battery top performed.-Chipset no need to say as apple kind.-Security as you expect from apple.- Display super bright industry leading colour.accuracy and super responsive.-Build quality as expect from apple sturdy.premium durable beautiful stylish..-Os most stable os in smartphone industry..Cons.-No 5G.-Display is not based on OLED technology.-Charger headphones and 1 apple stic....READ MORE',\n",
       " 'Amazing phone with great cameras and better battery which gives you the best performance. I just love the camera .',\n",
       " 'This is my first iOS phone. I am very happy with this product. Very much satisfied with this. I love this phone.',\n",
       " 'Previously I was using one plus 3t it was a great phone.And then I decided to upgrade I am stuck between Samsung s10 plus or iPhone 11.I have seen the specs and everything were good except the display it’s somewhere between 720-1080 and it’s not even an amoled it’s an LCD display.But I decided to go with iPhone because I have never used an IOS device I have Been an android user from the past 9 years I ordered IPhone 11 (128gb) product red.My experience after using 3 weeks.1. The delivery ....READ MORE',\n",
       " 'Amazing Powerful and Durable Gadget...I’m am very happy with the camera picture quality, Amazing face id unlocked in dark room, Strong battery with perfect screen size as you can carry easily in pocket. This is my third iPhone...I shifted from android Samsung Note series to iPhone because of the strong build quality and peace of mind for next 3-4 years...Don’t think to much just go for it and I suggest you to go for minimum 128gb variant or more 256gb...I’ve attached my puppy pics and no fi....READ MORE',\n",
       " 'So far it’s been an AMAZING experience coming back to iOS after nearly a decade but it’s not as versatile as android though phone is sturdy dropped it accidentally a couple of times and nothing happened fortunately camera is awesome',\n",
       " 'What a camera .....just awesome ..you can feel this iPhone just awesome . Good for gaming also ...try pubg in hd it’s just wow',\n",
       " 'i11 is worthy to buy, too much happy with the product. Thank u flipkart I received the item on time..loved it..']"
      ]
     },
     "execution_count": 167,
     "metadata": {},
     "output_type": "execute_result"
    }
   ],
   "source": [
    "page1_full_review=[]\n",
    "for i in full_review:\n",
    "    full_reviews = i.text.replace(\"\\n\",\".\")\n",
    "    page1_full_review.append(full_reviews)\n",
    "page1_full_review"
   ]
  },
  {
   "cell_type": "code",
   "execution_count": 168,
   "id": "37f89b06",
   "metadata": {},
   "outputs": [
    {
     "data": {
      "text/html": [
       "<div>\n",
       "<style scoped>\n",
       "    .dataframe tbody tr th:only-of-type {\n",
       "        vertical-align: middle;\n",
       "    }\n",
       "\n",
       "    .dataframe tbody tr th {\n",
       "        vertical-align: top;\n",
       "    }\n",
       "\n",
       "    .dataframe thead th {\n",
       "        text-align: right;\n",
       "    }\n",
       "</style>\n",
       "<table border=\"1\" class=\"dataframe\">\n",
       "  <thead>\n",
       "    <tr style=\"text-align: right;\">\n",
       "      <th></th>\n",
       "      <th>rating</th>\n",
       "      <th>Review_summary</th>\n",
       "      <th>full_review</th>\n",
       "    </tr>\n",
       "  </thead>\n",
       "  <tbody>\n",
       "    <tr>\n",
       "      <th>0</th>\n",
       "      <td>5</td>\n",
       "      <td>Brilliant</td>\n",
       "      <td>The Best Phone for the Money..The iPhone 11 of...</td>\n",
       "    </tr>\n",
       "    <tr>\n",
       "      <th>1</th>\n",
       "      <td>5</td>\n",
       "      <td>Simply awesome</td>\n",
       "      <td>Really satisfied with the Product I received.....</td>\n",
       "    </tr>\n",
       "    <tr>\n",
       "      <th>2</th>\n",
       "      <td>5</td>\n",
       "      <td>Best in the market!</td>\n",
       "      <td>Great iPhone very snappy experience as apple k...</td>\n",
       "    </tr>\n",
       "    <tr>\n",
       "      <th>3</th>\n",
       "      <td>5</td>\n",
       "      <td>Perfect product!</td>\n",
       "      <td>Amazing phone with great cameras and better ba...</td>\n",
       "    </tr>\n",
       "    <tr>\n",
       "      <th>4</th>\n",
       "      <td>5</td>\n",
       "      <td>Fabulous!</td>\n",
       "      <td>This is my first iOS phone. I am very happy wi...</td>\n",
       "    </tr>\n",
       "    <tr>\n",
       "      <th>5</th>\n",
       "      <td>5</td>\n",
       "      <td>Worth every penny</td>\n",
       "      <td>Previously I was using one plus 3t it was a gr...</td>\n",
       "    </tr>\n",
       "    <tr>\n",
       "      <th>6</th>\n",
       "      <td>5</td>\n",
       "      <td>Great product</td>\n",
       "      <td>Amazing Powerful and Durable Gadget...I’m am v...</td>\n",
       "    </tr>\n",
       "    <tr>\n",
       "      <th>7</th>\n",
       "      <td>4</td>\n",
       "      <td>Good choice</td>\n",
       "      <td>So far it’s been an AMAZING experience coming ...</td>\n",
       "    </tr>\n",
       "    <tr>\n",
       "      <th>8</th>\n",
       "      <td>5</td>\n",
       "      <td>Highly recommended</td>\n",
       "      <td>What a camera .....just awesome ..you can feel...</td>\n",
       "    </tr>\n",
       "    <tr>\n",
       "      <th>9</th>\n",
       "      <td>5</td>\n",
       "      <td>Worth every penny</td>\n",
       "      <td>i11 is worthy to buy, too much happy with the ...</td>\n",
       "    </tr>\n",
       "  </tbody>\n",
       "</table>\n",
       "</div>"
      ],
      "text/plain": [
       "  rating       Review_summary  \\\n",
       "0      5            Brilliant   \n",
       "1      5       Simply awesome   \n",
       "2      5  Best in the market!   \n",
       "3      5     Perfect product!   \n",
       "4      5            Fabulous!   \n",
       "5      5    Worth every penny   \n",
       "6      5        Great product   \n",
       "7      4          Good choice   \n",
       "8      5   Highly recommended   \n",
       "9      5    Worth every penny   \n",
       "\n",
       "                                         full_review  \n",
       "0  The Best Phone for the Money..The iPhone 11 of...  \n",
       "1  Really satisfied with the Product I received.....  \n",
       "2  Great iPhone very snappy experience as apple k...  \n",
       "3  Amazing phone with great cameras and better ba...  \n",
       "4  This is my first iOS phone. I am very happy wi...  \n",
       "5  Previously I was using one plus 3t it was a gr...  \n",
       "6  Amazing Powerful and Durable Gadget...I’m am v...  \n",
       "7  So far it’s been an AMAZING experience coming ...  \n",
       "8  What a camera .....just awesome ..you can feel...  \n",
       "9  i11 is worthy to buy, too much happy with the ...  "
      ]
     },
     "execution_count": 168,
     "metadata": {},
     "output_type": "execute_result"
    }
   ],
   "source": [
    "page1 = pd.DataFrame({})\n",
    "page1[\"rating\"]=page1_rating\n",
    "page1[\"Review_summary\"]=page1_Review_summary\n",
    "page1[\"full_review\"]=page1_full_review\n",
    "page1"
   ]
  },
  {
   "cell_type": "code",
   "execution_count": 169,
   "id": "cd56db67",
   "metadata": {},
   "outputs": [],
   "source": [
    "next_button=driver.find_element_by_xpath(\"/html/body/div[1]/div/div[3]/div/div/div[2]/div[13]/div/div/nav/a[11]/span\")\n",
    "next_button.click()"
   ]
  },
  {
   "cell_type": "code",
   "execution_count": 170,
   "id": "91d46f03",
   "metadata": {},
   "outputs": [
    {
     "data": {
      "text/plain": [
       "[<selenium.webdriver.remote.webelement.WebElement (session=\"c4f08832fb988b3d2e129ee15a13dbf0\", element=\"79303daa-7154-4307-9e81-69e2cc6bda70\")>,\n",
       " <selenium.webdriver.remote.webelement.WebElement (session=\"c4f08832fb988b3d2e129ee15a13dbf0\", element=\"6c365e15-8020-46ce-b0da-0b6d66d8f4de\")>]"
      ]
     },
     "execution_count": 170,
     "metadata": {},
     "output_type": "execute_result"
    }
   ],
   "source": [
    "rating=driver.find_elements_by_xpath(\"//div[@class='_3LWZlK _1BLPMq']\")\n",
    "rating[0:2]"
   ]
  },
  {
   "cell_type": "code",
   "execution_count": 171,
   "id": "48f304a1",
   "metadata": {},
   "outputs": [
    {
     "data": {
      "text/plain": [
       "['5', '5', '5', '5', '5', '5', '5', '5', '5', '5']"
      ]
     },
     "execution_count": 171,
     "metadata": {},
     "output_type": "execute_result"
    }
   ],
   "source": [
    "page2_rating=[]\n",
    "for i in rating:\n",
    "    ratings = i.text\n",
    "    page2_rating.append(ratings)\n",
    "page2_rating\n",
    "    "
   ]
  },
  {
   "cell_type": "code",
   "execution_count": 172,
   "id": "0acd6257",
   "metadata": {},
   "outputs": [
    {
     "data": {
      "text/plain": [
       "[<selenium.webdriver.remote.webelement.WebElement (session=\"c4f08832fb988b3d2e129ee15a13dbf0\", element=\"cc7e18e2-15c0-4a00-81eb-acec1ef13695\")>,\n",
       " <selenium.webdriver.remote.webelement.WebElement (session=\"c4f08832fb988b3d2e129ee15a13dbf0\", element=\"0e92b8d0-ef8f-4e57-b8ee-01af51936e70\")>]"
      ]
     },
     "execution_count": 172,
     "metadata": {},
     "output_type": "execute_result"
    }
   ],
   "source": [
    "Review_summary = driver.find_elements_by_xpath(\"//p[@class='_2-N8zT']\")\n",
    "Review_summary[0:2]"
   ]
  },
  {
   "cell_type": "code",
   "execution_count": 173,
   "id": "5e335e44",
   "metadata": {},
   "outputs": [
    {
     "data": {
      "text/plain": [
       "['Highly recommended',\n",
       " 'Perfect product!',\n",
       " 'Perfect product!',\n",
       " 'Highly recommended',\n",
       " 'Perfect product!',\n",
       " 'Worth every penny',\n",
       " 'Worth every penny',\n",
       " 'Simply awesome',\n",
       " 'Classy product',\n",
       " 'Worth every penny']"
      ]
     },
     "execution_count": 173,
     "metadata": {},
     "output_type": "execute_result"
    }
   ],
   "source": [
    "page2_Review_summary=[]\n",
    "for i in Review_summary:\n",
    "    Review_summarys = i.text\n",
    "    page2_Review_summary.append(Review_summarys)\n",
    "page2_Review_summary"
   ]
  },
  {
   "cell_type": "code",
   "execution_count": 174,
   "id": "a27e77d6",
   "metadata": {},
   "outputs": [
    {
     "data": {
      "text/plain": [
       "[<selenium.webdriver.remote.webelement.WebElement (session=\"c4f08832fb988b3d2e129ee15a13dbf0\", element=\"b23b416a-5cc5-45dc-9ea0-724adb9af770\")>,\n",
       " <selenium.webdriver.remote.webelement.WebElement (session=\"c4f08832fb988b3d2e129ee15a13dbf0\", element=\"7da34784-e8e8-4a6f-bb2b-888c80a9c381\")>]"
      ]
     },
     "execution_count": 174,
     "metadata": {},
     "output_type": "execute_result"
    }
   ],
   "source": [
    "full_review=driver.find_elements_by_xpath(\"//div[@class='t-ZTKy']\")\n",
    "full_review[0:2]"
   ]
  },
  {
   "cell_type": "code",
   "execution_count": 175,
   "id": "46f22adb",
   "metadata": {},
   "outputs": [
    {
     "data": {
      "text/plain": [
       "['iphone 11 is a very good phone to buy only if you can compromise for the display. The display on this is device is pretty good but you can get other options with better displays in this price segment..If you can survive with an HD+ LCD panel with thicker bezels and a notch up top then this is a very good phone for you..Cameras are awesome, battery backup excellent, great performance and a decent premium look. Good job Apple !',\n",
       " 'It’s a must buy who is looking for an upgrade from previous generation of iPhones. If you are using XR then still you can hold on for sometime and upgrade to 2020 model else this phone is a must buy . Camera quality is amazing and wide angle is something to count upon. Performance wise it’s amazing and feels premium while holding in hand. So a big YES for this device. Go for 128 GB variant as the 4K videos will occupy lots of space and the storage can get over very quickly. Try to buy it with....READ MORE',\n",
       " 'Value for money❤️❤️.Its awesome mobile phone in the world ....Display was very good and bright ...Trust me freinds you r never regret after Buying...Just go for it.....I love this phone and i switch to iphone x to 11',\n",
       " \"It's my first time to use iOS phone and I am loving my upgradation 😍😍 I love the color, I love the assebility of the phone....I need to learn more about its functionality, but as far as I have seen, it's quite easy and it has a lot of functions to work on, specially if you are a content writer or a blogger you get a lot of content creation platforms and they are really amazing...This phone not only for good quality photography but a lot of other task too.😍💯\",\n",
       " \"Iphone is just awesome.. battery backup is very very nice.. continuously for 10 hours we can use it.camera is just awesome.. display is just fab.i love it alot..i had to wait 15 days for it as i pre ordered it..overalll it's worth the price..these all images are clicked by my iPhone..and i love it.\",\n",
       " 'Best budget Iphone till date ❤️ go for it guys without second thought. Let me explain you guys about Camera, Display, battery, and performance...Camera: at this price range there is no comparison of camera, you’ll love the picture quality as well as video quality. I am a Vlogger I wanted an iPhone with 4k video by front camera and I got this phone and I am more than happy 😃..Battery: I use this phone roughly as I am active social media person and I have a youtube channel. so the battery ba....READ MORE',\n",
       " 'Smooth like butter, camera like fantabulous, sound is crystal clear & its red color is damn attractive, i am just loving it. Must buy if you love photography...Lucky to get it in sale, thank you Flipkart.',\n",
       " 'Excellent camera, good performance, no lag. The lcd display is also good.. but difference come when we watch movie in prime and Netflix, the colours are not vibrant.. as we see in amoled display.. and the charger in box is of 5 watts.. takes more than 3 hours to charge from 0 to 100.. so guys be prepare to buy 18 watts charger . Finally I am an android user, it was my first Iapple phone, I promise u guys the iOS is so smooth.. overall the phone is damn good.... close eyes to buy it.. thanks t....READ MORE',\n",
       " 'Totally in love with this ❤ the camera quality is amazing just love it 😘😘😘 itsss dammnnnnnn amazing... Must buy iPhone 11 this is my best experience ever ☀👌👌🧡🧡🧡🧡🧡 thanku apple ❤',\n",
       " 'It’s been almost a month since I have been using this phone. I upgraded from an iPhone 8. The main issue with my 8 was battery and this phone is just awesome when it comes to battery. It lasts a day and a half for me with my regular use , internet connected always with 4g.Can’t move forward without saying this. Battery of this phone is a life saver when I am traveling or at work when I don’t get the option to charge.Camera is superb. Front cam selfies and back cam photos are just awesome......READ MORE']"
      ]
     },
     "execution_count": 175,
     "metadata": {},
     "output_type": "execute_result"
    }
   ],
   "source": [
    "page2_full_review=[]\n",
    "for i in full_review:\n",
    "    full_reviews = i.text.replace(\"\\n\",\".\")\n",
    "    page2_full_review.append(full_reviews)\n",
    "page2_full_review"
   ]
  },
  {
   "cell_type": "code",
   "execution_count": 177,
   "id": "1111c2e6",
   "metadata": {},
   "outputs": [
    {
     "data": {
      "text/html": [
       "<div>\n",
       "<style scoped>\n",
       "    .dataframe tbody tr th:only-of-type {\n",
       "        vertical-align: middle;\n",
       "    }\n",
       "\n",
       "    .dataframe tbody tr th {\n",
       "        vertical-align: top;\n",
       "    }\n",
       "\n",
       "    .dataframe thead th {\n",
       "        text-align: right;\n",
       "    }\n",
       "</style>\n",
       "<table border=\"1\" class=\"dataframe\">\n",
       "  <thead>\n",
       "    <tr style=\"text-align: right;\">\n",
       "      <th></th>\n",
       "      <th>rating</th>\n",
       "      <th>Review_summary</th>\n",
       "      <th>full_review</th>\n",
       "    </tr>\n",
       "  </thead>\n",
       "  <tbody>\n",
       "    <tr>\n",
       "      <th>0</th>\n",
       "      <td>5</td>\n",
       "      <td>Highly recommended</td>\n",
       "      <td>iphone 11 is a very good phone to buy only if ...</td>\n",
       "    </tr>\n",
       "    <tr>\n",
       "      <th>1</th>\n",
       "      <td>5</td>\n",
       "      <td>Perfect product!</td>\n",
       "      <td>It’s a must buy who is looking for an upgrade ...</td>\n",
       "    </tr>\n",
       "    <tr>\n",
       "      <th>2</th>\n",
       "      <td>5</td>\n",
       "      <td>Perfect product!</td>\n",
       "      <td>Value for money❤️❤️.Its awesome mobile phone i...</td>\n",
       "    </tr>\n",
       "    <tr>\n",
       "      <th>3</th>\n",
       "      <td>5</td>\n",
       "      <td>Highly recommended</td>\n",
       "      <td>It's my first time to use iOS phone and I am l...</td>\n",
       "    </tr>\n",
       "    <tr>\n",
       "      <th>4</th>\n",
       "      <td>5</td>\n",
       "      <td>Perfect product!</td>\n",
       "      <td>Iphone is just awesome.. battery backup is ver...</td>\n",
       "    </tr>\n",
       "    <tr>\n",
       "      <th>5</th>\n",
       "      <td>5</td>\n",
       "      <td>Worth every penny</td>\n",
       "      <td>Best budget Iphone till date ❤️ go for it guys...</td>\n",
       "    </tr>\n",
       "    <tr>\n",
       "      <th>6</th>\n",
       "      <td>5</td>\n",
       "      <td>Worth every penny</td>\n",
       "      <td>Smooth like butter, camera like fantabulous, s...</td>\n",
       "    </tr>\n",
       "    <tr>\n",
       "      <th>7</th>\n",
       "      <td>5</td>\n",
       "      <td>Simply awesome</td>\n",
       "      <td>Excellent camera, good performance, no lag. Th...</td>\n",
       "    </tr>\n",
       "    <tr>\n",
       "      <th>8</th>\n",
       "      <td>5</td>\n",
       "      <td>Classy product</td>\n",
       "      <td>Totally in love with this ❤ the camera quality...</td>\n",
       "    </tr>\n",
       "    <tr>\n",
       "      <th>9</th>\n",
       "      <td>5</td>\n",
       "      <td>Worth every penny</td>\n",
       "      <td>It’s been almost a month since I have been usi...</td>\n",
       "    </tr>\n",
       "  </tbody>\n",
       "</table>\n",
       "</div>"
      ],
      "text/plain": [
       "  rating      Review_summary  \\\n",
       "0      5  Highly recommended   \n",
       "1      5    Perfect product!   \n",
       "2      5    Perfect product!   \n",
       "3      5  Highly recommended   \n",
       "4      5    Perfect product!   \n",
       "5      5   Worth every penny   \n",
       "6      5   Worth every penny   \n",
       "7      5      Simply awesome   \n",
       "8      5      Classy product   \n",
       "9      5   Worth every penny   \n",
       "\n",
       "                                         full_review  \n",
       "0  iphone 11 is a very good phone to buy only if ...  \n",
       "1  It’s a must buy who is looking for an upgrade ...  \n",
       "2  Value for money❤️❤️.Its awesome mobile phone i...  \n",
       "3  It's my first time to use iOS phone and I am l...  \n",
       "4  Iphone is just awesome.. battery backup is ver...  \n",
       "5  Best budget Iphone till date ❤️ go for it guys...  \n",
       "6  Smooth like butter, camera like fantabulous, s...  \n",
       "7  Excellent camera, good performance, no lag. Th...  \n",
       "8  Totally in love with this ❤ the camera quality...  \n",
       "9  It’s been almost a month since I have been usi...  "
      ]
     },
     "execution_count": 177,
     "metadata": {},
     "output_type": "execute_result"
    }
   ],
   "source": [
    "page2 = pd.DataFrame({})\n",
    "page2[\"rating\"]=page2_rating\n",
    "page2[\"Review_summary\"]=page2_Review_summary\n",
    "page2[\"full_review\"]=page2_full_review\n",
    "page2"
   ]
  },
  {
   "cell_type": "code",
   "execution_count": 178,
   "id": "56c79a22",
   "metadata": {},
   "outputs": [],
   "source": [
    "next_button=driver.find_element_by_xpath(\"/html/body/div[1]/div/div[3]/div/div/div[2]/div[13]/div/div/nav/a[12]/span\")\n",
    "next_button.click()"
   ]
  },
  {
   "cell_type": "code",
   "execution_count": 179,
   "id": "681a6475",
   "metadata": {},
   "outputs": [
    {
     "data": {
      "text/plain": [
       "[<selenium.webdriver.remote.webelement.WebElement (session=\"c4f08832fb988b3d2e129ee15a13dbf0\", element=\"fd72c4a4-b8f2-4eb2-9ef6-2fe0d86e9870\")>,\n",
       " <selenium.webdriver.remote.webelement.WebElement (session=\"c4f08832fb988b3d2e129ee15a13dbf0\", element=\"77a7ea78-7e35-451c-9e29-4d4dd7c5688f\")>]"
      ]
     },
     "execution_count": 179,
     "metadata": {},
     "output_type": "execute_result"
    }
   ],
   "source": [
    "rating=driver.find_elements_by_xpath(\"//div[@class='_3LWZlK _1BLPMq']\")\n",
    "rating[0:2]"
   ]
  },
  {
   "cell_type": "code",
   "execution_count": 180,
   "id": "1e9e19b8",
   "metadata": {},
   "outputs": [
    {
     "data": {
      "text/plain": [
       "['5', '5', '4', '5', '5', '5', '5', '4', '5', '5']"
      ]
     },
     "execution_count": 180,
     "metadata": {},
     "output_type": "execute_result"
    }
   ],
   "source": [
    "page3_rating=[]\n",
    "for i in rating:\n",
    "    ratings = i.text\n",
    "    page3_rating.append(ratings)\n",
    "page3_rating"
   ]
  },
  {
   "cell_type": "code",
   "execution_count": 181,
   "id": "03ec4d3f",
   "metadata": {},
   "outputs": [
    {
     "data": {
      "text/plain": [
       "[<selenium.webdriver.remote.webelement.WebElement (session=\"c4f08832fb988b3d2e129ee15a13dbf0\", element=\"963c4880-92c1-4587-922d-b998f8a23668\")>,\n",
       " <selenium.webdriver.remote.webelement.WebElement (session=\"c4f08832fb988b3d2e129ee15a13dbf0\", element=\"c853d9e6-21e0-4827-8bba-35ae70d6bc91\")>]"
      ]
     },
     "execution_count": 181,
     "metadata": {},
     "output_type": "execute_result"
    }
   ],
   "source": [
    "Review_summary = driver.find_elements_by_xpath(\"//p[@class='_2-N8zT']\")\n",
    "Review_summary[0:2]"
   ]
  },
  {
   "cell_type": "code",
   "execution_count": 182,
   "id": "117a151f",
   "metadata": {},
   "outputs": [
    {
     "data": {
      "text/plain": [
       "['Terrific',\n",
       " 'Wonderful',\n",
       " 'Nice product',\n",
       " 'Perfect product!',\n",
       " 'Classy product',\n",
       " 'Perfect product!',\n",
       " 'Brilliant',\n",
       " 'Good choice',\n",
       " 'Must buy!',\n",
       " 'Great product']"
      ]
     },
     "execution_count": 182,
     "metadata": {},
     "output_type": "execute_result"
    }
   ],
   "source": [
    "page3_Review_summary=[]\n",
    "for i in Review_summary:\n",
    "    Review_summarys = i.text\n",
    "    page3_Review_summary.append(Review_summarys)\n",
    "page3_Review_summary"
   ]
  },
  {
   "cell_type": "code",
   "execution_count": 183,
   "id": "e695a4f8",
   "metadata": {},
   "outputs": [
    {
     "data": {
      "text/plain": [
       "[<selenium.webdriver.remote.webelement.WebElement (session=\"c4f08832fb988b3d2e129ee15a13dbf0\", element=\"ecf23ea3-7b90-466c-bbe8-87436209b0ea\")>,\n",
       " <selenium.webdriver.remote.webelement.WebElement (session=\"c4f08832fb988b3d2e129ee15a13dbf0\", element=\"4c4d33ce-d533-4d3e-869b-426e2041b7bb\")>]"
      ]
     },
     "execution_count": 183,
     "metadata": {},
     "output_type": "execute_result"
    }
   ],
   "source": [
    "full_review=driver.find_elements_by_xpath(\"//div[@class='t-ZTKy']\")\n",
    "full_review[0:2]"
   ]
  },
  {
   "cell_type": "code",
   "execution_count": 184,
   "id": "6d664d39",
   "metadata": {},
   "outputs": [
    {
     "data": {
      "text/plain": [
       "['Really worth of money. i just love it. It is the best phone ever.',\n",
       " 'This is my first ever I phone. Before this I was using my google nexus 5. But moving from android to iOS is a great experience. It’s worth at this price. I will highly recommend it if you want to move to iOS. The best part of this phone is it’s camera and it’s battery life. This two things have won my heart. I loved it. Happy to have it in my hand. Still exploring its features. And can’t forget to mention Flipkart service. Very prompt service and fast delivery.',\n",
       " 'Awesome Phone. Slightly high price but worth. Better than iPhone XR..Camera is superb and wide angle camera is very clear..12MP selfie camera is also very good..A13 Chip gives a very good and smooth performance.',\n",
       " 'Battery backup is extraordinary, camera is decent & performance offered by A13 bionic is awsome. The display is good in practical usage like the visibility of display is very good in direct sun light compare to pro models. Iam extremely satisfied for the money I spent.',\n",
       " 'Superb Product !!!.A big and worthy upgrade from mi 3S to iphone 11 ..Totally loved it !',\n",
       " 'It is just awesome mobile for this price from Apple,..After 10 days review..Battery enough for 1 day even 24*7 Internet will be on and mostly internet usage..Camera is just awesome cool , android 64 MP is equal to this just 12 MP..A13 Bionic chip will give more high performance without hanging..Audio stereo speakers will give Dolby atoms sound with crystal clear..Video recording is like cinematic shots of every sec can be a 4K 60fps. Just awesome this phone.iPhone 11 loved one',\n",
       " 'I have migrated from OP 7pro... and trust me, iPhone 11 is totally worth it.. following are the reasons:-.1)there is ABSOLUTELY NO ISSUE WITH THE DISPLAY... its crisp, sharp and I found it to be much much better than OP7 pro. Netflix, Prime video all run crisply... you won’t miss a thing. True Tone works flawlessly...the display brightness is perfect. OP have not calibrated their screens properly..2) iPhone 11 series have really good cameras... others have spoken in depth about them..3) bat....READ MORE',\n",
       " 'Looking so good 👍 😍 super 👌 stylish 😎 phone.Clean box 📦 good 👍 delivery 👌 fast delivery.Original box Original iphone 📱 👌 😍😍😍',\n",
       " 'It’s an amazing product from apple and the camera is simply superb. Phone is faster.Night shot is simply superb and detailing and colour differentiation from camera is an added advantage..This review I have written from iPhone 11 only and I am glad to say outside...Cons wise if we see HD+ display only, no battery percentage indicator as in older iPhone 8..No assistive touch control button in it.No oleophobic coating on back panel glass and finger prints are visible but since I bought mint gr....READ MORE',\n",
       " \"Again back to apple iphone after a gap of 2-3 years. It's pleasure to use iOS and the quality product by Apple. Iphone 11 still works like a beast in 2021 also. It really capable of doing day to day usage as well as hard core gaming. Battery is awesome. I'm really too much satisfied with it. Apart fto the very gorgious IPS LCD (AMOLED will be better) everything is mind boggling. Iphone💕.\"]"
      ]
     },
     "execution_count": 184,
     "metadata": {},
     "output_type": "execute_result"
    }
   ],
   "source": [
    "page3_full_review=[]\n",
    "for i in full_review:\n",
    "    full_reviews = i.text.replace(\"\\n\",\".\")\n",
    "    page3_full_review.append(full_reviews)\n",
    "page3_full_review"
   ]
  },
  {
   "cell_type": "code",
   "execution_count": 185,
   "id": "e541cd2e",
   "metadata": {},
   "outputs": [
    {
     "data": {
      "text/html": [
       "<div>\n",
       "<style scoped>\n",
       "    .dataframe tbody tr th:only-of-type {\n",
       "        vertical-align: middle;\n",
       "    }\n",
       "\n",
       "    .dataframe tbody tr th {\n",
       "        vertical-align: top;\n",
       "    }\n",
       "\n",
       "    .dataframe thead th {\n",
       "        text-align: right;\n",
       "    }\n",
       "</style>\n",
       "<table border=\"1\" class=\"dataframe\">\n",
       "  <thead>\n",
       "    <tr style=\"text-align: right;\">\n",
       "      <th></th>\n",
       "      <th>rating</th>\n",
       "      <th>Review_summary</th>\n",
       "      <th>full_review</th>\n",
       "    </tr>\n",
       "  </thead>\n",
       "  <tbody>\n",
       "    <tr>\n",
       "      <th>0</th>\n",
       "      <td>5</td>\n",
       "      <td>Terrific</td>\n",
       "      <td>Really worth of money. i just love it. It is t...</td>\n",
       "    </tr>\n",
       "    <tr>\n",
       "      <th>1</th>\n",
       "      <td>5</td>\n",
       "      <td>Wonderful</td>\n",
       "      <td>This is my first ever I phone. Before this I w...</td>\n",
       "    </tr>\n",
       "    <tr>\n",
       "      <th>2</th>\n",
       "      <td>4</td>\n",
       "      <td>Nice product</td>\n",
       "      <td>Awesome Phone. Slightly high price but worth. ...</td>\n",
       "    </tr>\n",
       "    <tr>\n",
       "      <th>3</th>\n",
       "      <td>5</td>\n",
       "      <td>Perfect product!</td>\n",
       "      <td>Battery backup is extraordinary, camera is dec...</td>\n",
       "    </tr>\n",
       "    <tr>\n",
       "      <th>4</th>\n",
       "      <td>5</td>\n",
       "      <td>Classy product</td>\n",
       "      <td>Superb Product !!!.A big and worthy upgrade fr...</td>\n",
       "    </tr>\n",
       "    <tr>\n",
       "      <th>5</th>\n",
       "      <td>5</td>\n",
       "      <td>Perfect product!</td>\n",
       "      <td>It is just awesome mobile for this price from ...</td>\n",
       "    </tr>\n",
       "    <tr>\n",
       "      <th>6</th>\n",
       "      <td>5</td>\n",
       "      <td>Brilliant</td>\n",
       "      <td>I have migrated from OP 7pro... and trust me, ...</td>\n",
       "    </tr>\n",
       "    <tr>\n",
       "      <th>7</th>\n",
       "      <td>4</td>\n",
       "      <td>Good choice</td>\n",
       "      <td>Looking so good 👍 😍 super 👌 stylish 😎 phone.Cl...</td>\n",
       "    </tr>\n",
       "    <tr>\n",
       "      <th>8</th>\n",
       "      <td>5</td>\n",
       "      <td>Must buy!</td>\n",
       "      <td>It’s an amazing product from apple and the cam...</td>\n",
       "    </tr>\n",
       "    <tr>\n",
       "      <th>9</th>\n",
       "      <td>5</td>\n",
       "      <td>Great product</td>\n",
       "      <td>Again back to apple iphone after a gap of 2-3 ...</td>\n",
       "    </tr>\n",
       "  </tbody>\n",
       "</table>\n",
       "</div>"
      ],
      "text/plain": [
       "  rating    Review_summary                                        full_review\n",
       "0      5          Terrific  Really worth of money. i just love it. It is t...\n",
       "1      5         Wonderful  This is my first ever I phone. Before this I w...\n",
       "2      4      Nice product  Awesome Phone. Slightly high price but worth. ...\n",
       "3      5  Perfect product!  Battery backup is extraordinary, camera is dec...\n",
       "4      5    Classy product  Superb Product !!!.A big and worthy upgrade fr...\n",
       "5      5  Perfect product!  It is just awesome mobile for this price from ...\n",
       "6      5         Brilliant  I have migrated from OP 7pro... and trust me, ...\n",
       "7      4       Good choice  Looking so good 👍 😍 super 👌 stylish 😎 phone.Cl...\n",
       "8      5         Must buy!  It’s an amazing product from apple and the cam...\n",
       "9      5     Great product  Again back to apple iphone after a gap of 2-3 ..."
      ]
     },
     "execution_count": 185,
     "metadata": {},
     "output_type": "execute_result"
    }
   ],
   "source": [
    "page3 = pd.DataFrame({})\n",
    "page3[\"rating\"]=page3_rating\n",
    "page3[\"Review_summary\"]=page3_Review_summary\n",
    "page3[\"full_review\"]=page3_full_review\n",
    "page3"
   ]
  },
  {
   "cell_type": "code",
   "execution_count": 186,
   "id": "a7901f7c",
   "metadata": {},
   "outputs": [],
   "source": [
    "next_button=driver.find_element_by_xpath(\"/html/body/div[1]/div/div[3]/div/div/div[2]/div[13]/div/div/nav/a[12]/span\")\n",
    "next_button.click()"
   ]
  },
  {
   "cell_type": "code",
   "execution_count": 187,
   "id": "649d50ac",
   "metadata": {},
   "outputs": [
    {
     "data": {
      "text/plain": [
       "[<selenium.webdriver.remote.webelement.WebElement (session=\"c4f08832fb988b3d2e129ee15a13dbf0\", element=\"a731059b-baf9-4c8e-b5fe-0e6f1e56a3ef\")>,\n",
       " <selenium.webdriver.remote.webelement.WebElement (session=\"c4f08832fb988b3d2e129ee15a13dbf0\", element=\"e6aa842c-9d92-499b-8fd9-e057676ebcbb\")>]"
      ]
     },
     "execution_count": 187,
     "metadata": {},
     "output_type": "execute_result"
    }
   ],
   "source": [
    "rating=driver.find_elements_by_xpath(\"//div[@class='_3LWZlK _1BLPMq']\")\n",
    "rating[0:2]"
   ]
  },
  {
   "cell_type": "code",
   "execution_count": 188,
   "id": "7a02680e",
   "metadata": {},
   "outputs": [
    {
     "data": {
      "text/plain": [
       "['5', '5', '5', '5', '5', '5', '5', '5', '5', '4']"
      ]
     },
     "execution_count": 188,
     "metadata": {},
     "output_type": "execute_result"
    }
   ],
   "source": [
    "page4_rating=[]\n",
    "for i in rating:\n",
    "    ratings = i.text\n",
    "    page4_rating.append(ratings)\n",
    "page4_rating"
   ]
  },
  {
   "cell_type": "code",
   "execution_count": 189,
   "id": "c52a28dc",
   "metadata": {},
   "outputs": [
    {
     "data": {
      "text/plain": [
       "[<selenium.webdriver.remote.webelement.WebElement (session=\"c4f08832fb988b3d2e129ee15a13dbf0\", element=\"263e943e-4b41-40fc-b9b2-265e86ed8f5f\")>,\n",
       " <selenium.webdriver.remote.webelement.WebElement (session=\"c4f08832fb988b3d2e129ee15a13dbf0\", element=\"434d3255-c917-4b6e-af02-d97e85a0a1e1\")>]"
      ]
     },
     "execution_count": 189,
     "metadata": {},
     "output_type": "execute_result"
    }
   ],
   "source": [
    "Review_summary = driver.find_elements_by_xpath(\"//p[@class='_2-N8zT']\")\n",
    "Review_summary[0:2]"
   ]
  },
  {
   "cell_type": "code",
   "execution_count": 190,
   "id": "1b889da3",
   "metadata": {},
   "outputs": [
    {
     "data": {
      "text/plain": [
       "['Perfect product!',\n",
       " 'Wonderful',\n",
       " 'Simply awesome',\n",
       " 'Terrific purchase',\n",
       " 'Great product',\n",
       " 'Terrific purchase',\n",
       " 'Mind-blowing purchase',\n",
       " 'Excellent',\n",
       " 'Simply awesome',\n",
       " 'Good quality product']"
      ]
     },
     "execution_count": 190,
     "metadata": {},
     "output_type": "execute_result"
    }
   ],
   "source": [
    "page4_Review_summary=[]\n",
    "for i in Review_summary:\n",
    "    Review_summarys = i.text\n",
    "    page4_Review_summary.append(Review_summarys)\n",
    "page4_Review_summary"
   ]
  },
  {
   "cell_type": "code",
   "execution_count": 191,
   "id": "5cc209b7",
   "metadata": {},
   "outputs": [
    {
     "data": {
      "text/plain": [
       "[<selenium.webdriver.remote.webelement.WebElement (session=\"c4f08832fb988b3d2e129ee15a13dbf0\", element=\"c0a7c2a3-c951-4278-b5d2-1926546cac32\")>,\n",
       " <selenium.webdriver.remote.webelement.WebElement (session=\"c4f08832fb988b3d2e129ee15a13dbf0\", element=\"99b2c92f-f9f2-4bb3-9ff6-dcbe09ae237b\")>]"
      ]
     },
     "execution_count": 191,
     "metadata": {},
     "output_type": "execute_result"
    }
   ],
   "source": [
    "full_review=driver.find_elements_by_xpath(\"//div[@class='t-ZTKy']\")\n",
    "full_review[0:2]"
   ]
  },
  {
   "cell_type": "code",
   "execution_count": 192,
   "id": "eb6eeaa5",
   "metadata": {},
   "outputs": [
    {
     "data": {
      "text/plain": [
       "['After 1 month use I found camera quality best compared to my previous Samsung note 10+.Display not good as note 10 also charging too slow.Apple should add fast charger like 11 plus and pro.Best phone for daily use',\n",
       " 'I just directly switch from iphone 6s to iphone 11 .The best premium smartphone I recommend to everyone. Excellent quality and colors the iphone have in 11 series..Camera quality is just awesome and the major feel when we hold in our hands. The sound quality and volume is also higher then the previous models..I will recommend to buy iphone 11 instead of pro models , there is nothing much difference as this model contains everything which fulfill our needs...Only one thing that I dislike abo....READ MORE',\n",
       " \"It's very high performances devise i am like the service of flipkart delevary very fast and packing very nice perfect phone\",\n",
       " 'Upgraded from iphone 6 to 11 best phone for iphone users battery is much better than other iphones camera is awesome love to use it.camera is so clear in night.',\n",
       " 'Well you all know the specifications . One of a kind. Best iPhone till date. Many enhancements to the camera app with many options. Love the glass body with matte finish in the lens area on the back. Lovely colours to choose from. Best battery in an iPhone till date, enough to last more than a day in normal usage. I tested my iPhone 11 battery and lasted for than 24 hours after full charge still with 30% battery charge left. Watched movies for some time. Normal usage on calls, browsing, musi....READ MORE',\n",
       " 'The built quality is not very premium..The battery back is great ..The LCD panel is not so sharp but the brightness level is very High ..Camera is super duper awesome..The red colour which people think is bright is actually very soothing and excellent colour to choose from ..The A13 Bionic chip is really a flagship processor and can beat any phone which even has 12 gb ram ..Camera module is very great and looks very stylish.',\n",
       " 'This will help you more. See if you are planning to buy iPhone 11. I will say. Yes. But there are some plans I just want to disclose before you buy. 1) If you are an existing iPhone X/XS/XS Max/ XR user, better you guys do not think it to buy. You guys have more or less better gadget. 2) If you are an android user and planning to buy premium phone. I will suggest them to please buy iPhone instead of buying an Android. I bet you will never go back to android after using IOS. Now I want to shar....READ MORE',\n",
       " 'Amazing camera and feel super machine I am not describe my feeling but this is amazing Phone I am so lucky I have this',\n",
       " 'Really good actually this is my first apple product am using its really awesome performance wise excellent. Am really happy with this iphone11',\n",
       " 'it is very good at performance. Camera is best like before and very smooth response even in water. Don’t buy 12 mini buy iPhone 11 , it is far better than 12 mini believe me ! Have a nice day \\uf8ff ☺️']"
      ]
     },
     "execution_count": 192,
     "metadata": {},
     "output_type": "execute_result"
    }
   ],
   "source": [
    "page4_full_review=[]\n",
    "for i in full_review:\n",
    "    full_reviews = i.text.replace(\"\\n\",\".\")\n",
    "    page4_full_review.append(full_reviews)\n",
    "page4_full_review"
   ]
  },
  {
   "cell_type": "code",
   "execution_count": 193,
   "id": "7c5ebdd2",
   "metadata": {},
   "outputs": [
    {
     "data": {
      "text/html": [
       "<div>\n",
       "<style scoped>\n",
       "    .dataframe tbody tr th:only-of-type {\n",
       "        vertical-align: middle;\n",
       "    }\n",
       "\n",
       "    .dataframe tbody tr th {\n",
       "        vertical-align: top;\n",
       "    }\n",
       "\n",
       "    .dataframe thead th {\n",
       "        text-align: right;\n",
       "    }\n",
       "</style>\n",
       "<table border=\"1\" class=\"dataframe\">\n",
       "  <thead>\n",
       "    <tr style=\"text-align: right;\">\n",
       "      <th></th>\n",
       "      <th>rating</th>\n",
       "      <th>Review_summary</th>\n",
       "      <th>full_review</th>\n",
       "    </tr>\n",
       "  </thead>\n",
       "  <tbody>\n",
       "    <tr>\n",
       "      <th>0</th>\n",
       "      <td>5</td>\n",
       "      <td>Perfect product!</td>\n",
       "      <td>After 1 month use I found camera quality best ...</td>\n",
       "    </tr>\n",
       "    <tr>\n",
       "      <th>1</th>\n",
       "      <td>5</td>\n",
       "      <td>Wonderful</td>\n",
       "      <td>I just directly switch from iphone 6s to iphon...</td>\n",
       "    </tr>\n",
       "    <tr>\n",
       "      <th>2</th>\n",
       "      <td>5</td>\n",
       "      <td>Simply awesome</td>\n",
       "      <td>It's very high performances devise i am like t...</td>\n",
       "    </tr>\n",
       "    <tr>\n",
       "      <th>3</th>\n",
       "      <td>5</td>\n",
       "      <td>Terrific purchase</td>\n",
       "      <td>Upgraded from iphone 6 to 11 best phone for ip...</td>\n",
       "    </tr>\n",
       "    <tr>\n",
       "      <th>4</th>\n",
       "      <td>5</td>\n",
       "      <td>Great product</td>\n",
       "      <td>Well you all know the specifications . One of ...</td>\n",
       "    </tr>\n",
       "    <tr>\n",
       "      <th>5</th>\n",
       "      <td>5</td>\n",
       "      <td>Terrific purchase</td>\n",
       "      <td>The built quality is not very premium..The bat...</td>\n",
       "    </tr>\n",
       "    <tr>\n",
       "      <th>6</th>\n",
       "      <td>5</td>\n",
       "      <td>Mind-blowing purchase</td>\n",
       "      <td>This will help you more. See if you are planni...</td>\n",
       "    </tr>\n",
       "    <tr>\n",
       "      <th>7</th>\n",
       "      <td>5</td>\n",
       "      <td>Excellent</td>\n",
       "      <td>Amazing camera and feel super machine I am not...</td>\n",
       "    </tr>\n",
       "    <tr>\n",
       "      <th>8</th>\n",
       "      <td>5</td>\n",
       "      <td>Simply awesome</td>\n",
       "      <td>Really good actually this is my first apple pr...</td>\n",
       "    </tr>\n",
       "    <tr>\n",
       "      <th>9</th>\n",
       "      <td>4</td>\n",
       "      <td>Good quality product</td>\n",
       "      <td>it is very good at performance. Camera is best...</td>\n",
       "    </tr>\n",
       "  </tbody>\n",
       "</table>\n",
       "</div>"
      ],
      "text/plain": [
       "  rating         Review_summary  \\\n",
       "0      5       Perfect product!   \n",
       "1      5              Wonderful   \n",
       "2      5         Simply awesome   \n",
       "3      5      Terrific purchase   \n",
       "4      5          Great product   \n",
       "5      5      Terrific purchase   \n",
       "6      5  Mind-blowing purchase   \n",
       "7      5              Excellent   \n",
       "8      5         Simply awesome   \n",
       "9      4   Good quality product   \n",
       "\n",
       "                                         full_review  \n",
       "0  After 1 month use I found camera quality best ...  \n",
       "1  I just directly switch from iphone 6s to iphon...  \n",
       "2  It's very high performances devise i am like t...  \n",
       "3  Upgraded from iphone 6 to 11 best phone for ip...  \n",
       "4  Well you all know the specifications . One of ...  \n",
       "5  The built quality is not very premium..The bat...  \n",
       "6  This will help you more. See if you are planni...  \n",
       "7  Amazing camera and feel super machine I am not...  \n",
       "8  Really good actually this is my first apple pr...  \n",
       "9  it is very good at performance. Camera is best...  "
      ]
     },
     "execution_count": 193,
     "metadata": {},
     "output_type": "execute_result"
    }
   ],
   "source": [
    "page4 = pd.DataFrame({})\n",
    "page4[\"rating\"]=page4_rating\n",
    "page4[\"Review_summary\"]=page4_Review_summary\n",
    "page4[\"full_review\"]=page4_full_review\n",
    "page4"
   ]
  },
  {
   "cell_type": "code",
   "execution_count": 194,
   "id": "b71e4b50",
   "metadata": {},
   "outputs": [],
   "source": [
    "next_button=driver.find_element_by_xpath(\"/html/body/div[1]/div/div[3]/div/div/div[2]/div[13]/div/div/nav/a[12]/span\")\n",
    "next_button.click()"
   ]
  },
  {
   "cell_type": "code",
   "execution_count": 195,
   "id": "ca82cdbb",
   "metadata": {},
   "outputs": [
    {
     "data": {
      "text/plain": [
       "[<selenium.webdriver.remote.webelement.WebElement (session=\"c4f08832fb988b3d2e129ee15a13dbf0\", element=\"bdf19b90-647c-4de5-a6fb-d87f14f9f49e\")>,\n",
       " <selenium.webdriver.remote.webelement.WebElement (session=\"c4f08832fb988b3d2e129ee15a13dbf0\", element=\"487ab04b-f497-4410-ac91-2948fbc552ba\")>]"
      ]
     },
     "execution_count": 195,
     "metadata": {},
     "output_type": "execute_result"
    }
   ],
   "source": [
    "rating=driver.find_elements_by_xpath(\"//div[@class='_3LWZlK _1BLPMq']\")\n",
    "rating[0:2]"
   ]
  },
  {
   "cell_type": "code",
   "execution_count": 196,
   "id": "a0ba7ecc",
   "metadata": {},
   "outputs": [
    {
     "data": {
      "text/plain": [
       "['5', '5', '5', '5', '5', '5', '5', '5', '4']"
      ]
     },
     "execution_count": 196,
     "metadata": {},
     "output_type": "execute_result"
    }
   ],
   "source": [
    "page5_rating=[]\n",
    "for i in rating:\n",
    "    ratings = i.text\n",
    "    page5_rating.append(ratings)\n",
    "page5_rating"
   ]
  },
  {
   "cell_type": "code",
   "execution_count": 203,
   "id": "6e9ea5dc",
   "metadata": {},
   "outputs": [
    {
     "data": {
      "text/plain": [
       "['1', '5', '5', '5', '5', '5', '5', '5', '5', '4']"
      ]
     },
     "execution_count": 203,
     "metadata": {},
     "output_type": "execute_result"
    }
   ],
   "source": [
    "page5_rating.insert(0,'1')\n",
    "page5_rating"
   ]
  },
  {
   "cell_type": "code",
   "execution_count": 197,
   "id": "18fbaab5",
   "metadata": {},
   "outputs": [
    {
     "data": {
      "text/plain": [
       "[<selenium.webdriver.remote.webelement.WebElement (session=\"c4f08832fb988b3d2e129ee15a13dbf0\", element=\"ab48d203-ca36-4182-8ea2-70bc525f69dc\")>,\n",
       " <selenium.webdriver.remote.webelement.WebElement (session=\"c4f08832fb988b3d2e129ee15a13dbf0\", element=\"e70fcb7f-9b93-4aae-910a-5ab6a0718615\")>]"
      ]
     },
     "execution_count": 197,
     "metadata": {},
     "output_type": "execute_result"
    }
   ],
   "source": [
    "Review_summary = driver.find_elements_by_xpath(\"//p[@class='_2-N8zT']\")\n",
    "Review_summary[0:2]"
   ]
  },
  {
   "cell_type": "code",
   "execution_count": 198,
   "id": "f2f6796b",
   "metadata": {},
   "outputs": [
    {
     "data": {
      "text/plain": [
       "['Very poor',\n",
       " 'Perfect product!',\n",
       " 'Classy product',\n",
       " 'Fabulous!',\n",
       " 'Must buy!',\n",
       " 'Fabulous!',\n",
       " 'Mind-blowing purchase',\n",
       " 'Wonderful',\n",
       " 'Must buy!',\n",
       " 'Very Good']"
      ]
     },
     "execution_count": 198,
     "metadata": {},
     "output_type": "execute_result"
    }
   ],
   "source": [
    "page5_Review_summary=[]\n",
    "for i in Review_summary:\n",
    "    Review_summarys = i.text\n",
    "    page5_Review_summary.append(Review_summarys)\n",
    "page5_Review_summary"
   ]
  },
  {
   "cell_type": "code",
   "execution_count": 199,
   "id": "22bad421",
   "metadata": {},
   "outputs": [
    {
     "data": {
      "text/plain": [
       "[<selenium.webdriver.remote.webelement.WebElement (session=\"c4f08832fb988b3d2e129ee15a13dbf0\", element=\"b7ba0387-1afb-46a0-8047-cc4d6b3e542b\")>,\n",
       " <selenium.webdriver.remote.webelement.WebElement (session=\"c4f08832fb988b3d2e129ee15a13dbf0\", element=\"3ccf5467-2f61-490b-b714-ae20c4e495c7\")>]"
      ]
     },
     "execution_count": 199,
     "metadata": {},
     "output_type": "execute_result"
    }
   ],
   "source": [
    "full_review=driver.find_elements_by_xpath(\"//div[@class='t-ZTKy']\")\n",
    "full_review[0:2]"
   ]
  },
  {
   "cell_type": "code",
   "execution_count": 200,
   "id": "f21d8027",
   "metadata": {},
   "outputs": [
    {
     "data": {
      "text/plain": [
       "['Reviewing again after 5 months. At the beginning the battery and performance was good but it degraded soon. Also I was facing heating issues. The mobile will heat up like a stove sometimes. You cannot even play Pubg even in low settings properly, performance is not a problem but heating is. Also if you play that game for 10 mins the brightness will be automatically down due to over heating even when the auto brightness is set to off. This will not be solved even if u manually increase the bri....READ MORE',\n",
       " 'In love with this iphone great performance,camera ,battery everything. Go for it have a uncompareble battery backup, no doubts in iPhone camera here You can see the picture which is shot on my iPhone In love with this iphone great performance,camera ,battery everything. Go for it have a uncompareble battery backup, no doubts in iPhone camera here You can see the picture which is shot on my iPhone In love with this iphone great performance,camera ,battery everything. Go for it have a uncompare....READ MORE',\n",
       " 'We are on apple ecosystem for almost eight years now with couple of iPads and iPhones, including Xr...Bought iPhone 11 as a gift to my daughter who loves it. We chose for a purple coloured one. Believe me it is gorgeous and towards the lighter shade. Dazzling and brilliant!..The phone is great and does excellent RAM management like any other Apple device...The screen, though a LCD and lesser ppi as compared to other flagship phones of competitor brands, is a delight to watch with perfect re....READ MORE',\n",
       " 'Everything is perfect pictures come out so clearly and at first I wasn’t sure when I got it then when I started to use it and get the hang of it it was amazing!! I can’t wait to see what the next future phones will be like. The screen display on this bad boy are unbelievable they are so clear and never fail me. The performance is super cool there is a lot of cool features as well I like this phone because I feel that it is easy to use and one of my favorite things about this phone is the Face....READ MORE',\n",
       " 'Best Apple iPhone that i have bought at a very reasonable price, camera quality is next level just awesome n of superior quality android phones not even close(RIP) to that and also battery is really good but packaging by Flipkart of iPhone was very poor of such a expensive product, firstly im bit worried about the quality of product if i purchased it through online how was the product but i think now this was mine best decision to bought it through Flipkart online because i got genuine Apple....READ MORE',\n",
       " \"I can say I'm damn impressed with iPhone 11. As they says iPhone 11 have the toughest glass ever in the smartphone which you'll find on the front and back and it's totally smooth. The fit and finish is full apple quality - there's no sense that any cheaping out has happened in the construction. Without saying it's camera features this review won't complete. The iPhone 11 has a dual camera system, consisting of a wide angle len's that's pretty much same as found on the iPhone XR last year, but....READ MORE\",\n",
       " 'Best Quality Product OF iPhone Series , Sound Quality & Camera quality is very awesome, Battery Life is very Sufficient for 24 hr Backup With Full Internet Access , I love this this Product too much , It is very fast & making me Very fast in all my daily Routine.Highlights;.1.Camera: 5 STAR.2.Video Recording: 5 star.3.Night mODE sHOOTING & Camera:4 star.4. Audio Quality: Awesome.5. Battery : 5 Star.6. Touch:5 Star.7. Processor: Very Fast.The M....READ MORE',\n",
       " 'Superfast delivery by Flipkart. Thanks...1. iPhone 11 is a pretty solid phone for the money you are paying..2. All the bad reviews about the display is confusing. It’s not that bad..3. I switched from a Oneplus 7t. I have no complaints about the display quality of iPhone. Yes, it’s not OLED, so, we are missing on the deep blacks. But that’s it. It is a very colour accurate display. Gets adequately bright and I could not find any pixelation..4. Performance is one of the best, if not best, in ....READ MORE',\n",
       " 'I rate this product 5* as it has got amazing user experience with the best performing A13 bionic processor. The screen responds and graphics rendering is top notch. With casual gaming and internet browsing, the battery lasts for approx. 1 day. Camera is very good. You will fall in love with the portrait mode. You can call me a loyal Apple customer or whatever but I won’t stop praising the products and overall experience. That user experience matters and is worth every penny you pay...Below ar....READ MORE',\n",
       " 'impressive super phone and best in class camera ,sound and face unlock is super fast just see and phone is unlock and fast in daily apps use']"
      ]
     },
     "execution_count": 200,
     "metadata": {},
     "output_type": "execute_result"
    }
   ],
   "source": [
    "page5_full_review=[]\n",
    "for i in full_review:\n",
    "    full_reviews = i.text.replace(\"\\n\",\".\")\n",
    "    page5_full_review.append(full_reviews)\n",
    "page5_full_review"
   ]
  },
  {
   "cell_type": "code",
   "execution_count": 204,
   "id": "08014a71",
   "metadata": {},
   "outputs": [
    {
     "name": "stdout",
     "output_type": "stream",
     "text": [
      "10 10 10\n"
     ]
    }
   ],
   "source": [
    "print(len(page5_rating),len(page5_Review_summary),len(page5_full_review))"
   ]
  },
  {
   "cell_type": "code",
   "execution_count": 205,
   "id": "9902cefc",
   "metadata": {},
   "outputs": [
    {
     "data": {
      "text/html": [
       "<div>\n",
       "<style scoped>\n",
       "    .dataframe tbody tr th:only-of-type {\n",
       "        vertical-align: middle;\n",
       "    }\n",
       "\n",
       "    .dataframe tbody tr th {\n",
       "        vertical-align: top;\n",
       "    }\n",
       "\n",
       "    .dataframe thead th {\n",
       "        text-align: right;\n",
       "    }\n",
       "</style>\n",
       "<table border=\"1\" class=\"dataframe\">\n",
       "  <thead>\n",
       "    <tr style=\"text-align: right;\">\n",
       "      <th></th>\n",
       "      <th>rating</th>\n",
       "      <th>Review_summary</th>\n",
       "      <th>full_review</th>\n",
       "    </tr>\n",
       "  </thead>\n",
       "  <tbody>\n",
       "    <tr>\n",
       "      <th>0</th>\n",
       "      <td>1</td>\n",
       "      <td>Very poor</td>\n",
       "      <td>Reviewing again after 5 months. At the beginni...</td>\n",
       "    </tr>\n",
       "    <tr>\n",
       "      <th>1</th>\n",
       "      <td>5</td>\n",
       "      <td>Perfect product!</td>\n",
       "      <td>In love with this iphone great performance,cam...</td>\n",
       "    </tr>\n",
       "    <tr>\n",
       "      <th>2</th>\n",
       "      <td>5</td>\n",
       "      <td>Classy product</td>\n",
       "      <td>We are on apple ecosystem for almost eight yea...</td>\n",
       "    </tr>\n",
       "    <tr>\n",
       "      <th>3</th>\n",
       "      <td>5</td>\n",
       "      <td>Fabulous!</td>\n",
       "      <td>Everything is perfect pictures come out so cle...</td>\n",
       "    </tr>\n",
       "    <tr>\n",
       "      <th>4</th>\n",
       "      <td>5</td>\n",
       "      <td>Must buy!</td>\n",
       "      <td>Best Apple iPhone that i have bought at a very...</td>\n",
       "    </tr>\n",
       "    <tr>\n",
       "      <th>5</th>\n",
       "      <td>5</td>\n",
       "      <td>Fabulous!</td>\n",
       "      <td>I can say I'm damn impressed with iPhone 11. A...</td>\n",
       "    </tr>\n",
       "    <tr>\n",
       "      <th>6</th>\n",
       "      <td>5</td>\n",
       "      <td>Mind-blowing purchase</td>\n",
       "      <td>Best Quality Product OF iPhone Series , Sound ...</td>\n",
       "    </tr>\n",
       "    <tr>\n",
       "      <th>7</th>\n",
       "      <td>5</td>\n",
       "      <td>Wonderful</td>\n",
       "      <td>Superfast delivery by Flipkart. Thanks...1. iP...</td>\n",
       "    </tr>\n",
       "    <tr>\n",
       "      <th>8</th>\n",
       "      <td>5</td>\n",
       "      <td>Must buy!</td>\n",
       "      <td>I rate this product 5* as it has got amazing u...</td>\n",
       "    </tr>\n",
       "    <tr>\n",
       "      <th>9</th>\n",
       "      <td>4</td>\n",
       "      <td>Very Good</td>\n",
       "      <td>impressive super phone and best in class camer...</td>\n",
       "    </tr>\n",
       "  </tbody>\n",
       "</table>\n",
       "</div>"
      ],
      "text/plain": [
       "  rating         Review_summary  \\\n",
       "0      1              Very poor   \n",
       "1      5       Perfect product!   \n",
       "2      5         Classy product   \n",
       "3      5              Fabulous!   \n",
       "4      5              Must buy!   \n",
       "5      5              Fabulous!   \n",
       "6      5  Mind-blowing purchase   \n",
       "7      5              Wonderful   \n",
       "8      5              Must buy!   \n",
       "9      4              Very Good   \n",
       "\n",
       "                                         full_review  \n",
       "0  Reviewing again after 5 months. At the beginni...  \n",
       "1  In love with this iphone great performance,cam...  \n",
       "2  We are on apple ecosystem for almost eight yea...  \n",
       "3  Everything is perfect pictures come out so cle...  \n",
       "4  Best Apple iPhone that i have bought at a very...  \n",
       "5  I can say I'm damn impressed with iPhone 11. A...  \n",
       "6  Best Quality Product OF iPhone Series , Sound ...  \n",
       "7  Superfast delivery by Flipkart. Thanks...1. iP...  \n",
       "8  I rate this product 5* as it has got amazing u...  \n",
       "9  impressive super phone and best in class camer...  "
      ]
     },
     "execution_count": 205,
     "metadata": {},
     "output_type": "execute_result"
    }
   ],
   "source": [
    "page5 = pd.DataFrame({})\n",
    "page5[\"rating\"]=page5_rating\n",
    "page5[\"Review_summary\"]=page5_Review_summary\n",
    "page5[\"full_review\"]=page5_full_review\n",
    "page5"
   ]
  },
  {
   "cell_type": "code",
   "execution_count": 206,
   "id": "2320f8f0",
   "metadata": {},
   "outputs": [],
   "source": [
    "next_button=driver.find_element_by_xpath(\"/html/body/div[1]/div/div[3]/div/div/div[2]/div[13]/div/div/nav/a[12]/span\")\n",
    "next_button.click()"
   ]
  },
  {
   "cell_type": "code",
   "execution_count": 210,
   "id": "e7590ffd",
   "metadata": {},
   "outputs": [
    {
     "data": {
      "text/plain": [
       "[<selenium.webdriver.remote.webelement.WebElement (session=\"c4f08832fb988b3d2e129ee15a13dbf0\", element=\"d926b659-dc14-45e2-b1a5-2d43b494ce56\")>,\n",
       " <selenium.webdriver.remote.webelement.WebElement (session=\"c4f08832fb988b3d2e129ee15a13dbf0\", element=\"47457180-6fe3-427a-8c9c-ae9d34cc40cf\")>]"
      ]
     },
     "execution_count": 210,
     "metadata": {},
     "output_type": "execute_result"
    }
   ],
   "source": [
    "rating=driver.find_elements_by_xpath(\"//div[@class='_3LWZlK _1BLPMq']\")\n",
    "rating[0:2]"
   ]
  },
  {
   "cell_type": "code",
   "execution_count": 209,
   "id": "c483cd35",
   "metadata": {},
   "outputs": [
    {
     "data": {
      "text/plain": [
       "['5', '5', '5', '5', '4', '5', '5', '5', '5', '5']"
      ]
     },
     "execution_count": 209,
     "metadata": {},
     "output_type": "execute_result"
    }
   ],
   "source": [
    "page6_rating=[]\n",
    "for i in rating:\n",
    "    ratings = i.text\n",
    "    page6_rating.append(ratings)\n",
    "page6_rating"
   ]
  },
  {
   "cell_type": "code",
   "execution_count": 211,
   "id": "8584c716",
   "metadata": {},
   "outputs": [
    {
     "data": {
      "text/plain": [
       "[<selenium.webdriver.remote.webelement.WebElement (session=\"c4f08832fb988b3d2e129ee15a13dbf0\", element=\"d70e63e8-fd8e-414c-b823-8b4fdda3c449\")>,\n",
       " <selenium.webdriver.remote.webelement.WebElement (session=\"c4f08832fb988b3d2e129ee15a13dbf0\", element=\"9dfe58c6-f121-49e0-ba54-80709757e9a9\")>]"
      ]
     },
     "execution_count": 211,
     "metadata": {},
     "output_type": "execute_result"
    }
   ],
   "source": [
    "Review_summary = driver.find_elements_by_xpath(\"//p[@class='_2-N8zT']\")\n",
    "Review_summary[0:2]"
   ]
  },
  {
   "cell_type": "code",
   "execution_count": 212,
   "id": "4a803761",
   "metadata": {},
   "outputs": [
    {
     "data": {
      "text/plain": [
       "['Wonderful',\n",
       " 'Classy product',\n",
       " 'Just wow!',\n",
       " 'Awesome',\n",
       " 'Pretty good',\n",
       " 'Terrific purchase',\n",
       " 'Awesome',\n",
       " 'Classy product',\n",
       " 'Brilliant',\n",
       " 'Terrific']"
      ]
     },
     "execution_count": 212,
     "metadata": {},
     "output_type": "execute_result"
    }
   ],
   "source": [
    "page6_Review_summary=[]\n",
    "for i in Review_summary:\n",
    "    Review_summarys = i.text\n",
    "    page6_Review_summary.append(Review_summarys)\n",
    "page6_Review_summary"
   ]
  },
  {
   "cell_type": "code",
   "execution_count": 213,
   "id": "e8e7d833",
   "metadata": {},
   "outputs": [
    {
     "data": {
      "text/plain": [
       "[<selenium.webdriver.remote.webelement.WebElement (session=\"c4f08832fb988b3d2e129ee15a13dbf0\", element=\"37bb3270-9481-4a98-9cbe-29010dc7240a\")>,\n",
       " <selenium.webdriver.remote.webelement.WebElement (session=\"c4f08832fb988b3d2e129ee15a13dbf0\", element=\"4890bc7f-ecde-4986-8e15-684688d97bfd\")>]"
      ]
     },
     "execution_count": 213,
     "metadata": {},
     "output_type": "execute_result"
    }
   ],
   "source": [
    "full_review=driver.find_elements_by_xpath(\"//div[@class='t-ZTKy']\")\n",
    "full_review[0:2]"
   ]
  },
  {
   "cell_type": "code",
   "execution_count": 214,
   "id": "9bec258a",
   "metadata": {},
   "outputs": [
    {
     "data": {
      "text/plain": [
       "['Super and marvellous phone look very cute and nice sound. I love this phone i think white is good colur.Excellent camer 5*😍😘♥️♥️',\n",
       " 'Well while switching from android to iOS the first thing you need to be careful about is that you will loose all your whatsapp chat backups as both are different operating systems. Camera clarity is awesome and though being an lcd screen clarity and resolution is good. Battery backup is also good unlike previous gen iPhone. So far the experience is good will Padre after a few months of usage...P.S the black is more of a dark grey shade and not jet black',\n",
       " 'Best in class. Battery backup is good especially when you play games like Pubg COD. But it is sort of heavy when you hold in hands. Portrait mode is best to click pictures. Stage light effect is awesome. Try to click photos outside in nature because photos inside home or room will not give you the quality in any phone even in DSLR.',\n",
       " 'Very excited to have this phone. This phone has the real power unlike the android phones having SD 855 . The battery life is very good and the camera quality is excellent as comapred to redmi and other phones except google pixel. I M enjoying every single bit of it. Would recommed only if you have the budget.',\n",
       " 'I was using Iphone 6s and also Oneplus 6t. Both mobiles were perfectly alright in Photos, gaming, and smooth interface . My 6s mobile getting battery issue. thought upgrade to 11. Really like this mobile of its Internal storage (compare to 6s) , camera and its touch feeling. Its a worth buying mobile for me.',\n",
       " 'Its Very awesome product working and good camera quality and all about best product and also flipkart is very great deal and offer nice price',\n",
       " 'I am using this phone for 5 days and its one of the best camera out there ❤️ the screen is not oled and i am coming from iphone xs so its little bit not up to the mark i would say.But overall value for money💕😍the battery back up is far better than my iphone xs and its worth in my apple ecosystem💫❤️if u are an apple User and have the eco system then go for it❤️though i will be getting the new iphone but its pretty good💫',\n",
       " 'Best and amazing product.....phone looks so premium.... battary is also good as expected .... Wide angle camera is so addictive ...if you are a IOS lover....then this phone will be the best choice for you all!!💯🔥',\n",
       " 'Excellent camera and display touching very nice and smooth very improvement against iPhone XR and new processor is very fast',\n",
       " \"I got this beast today. And I must say the picture quality of its camera is awesome. Both the cameras works fine...As for as the processing is concerned, it runs without any lag. You can play and do whatever you want without a glitch...The battery runs for a day with medium and high workload...The display is good and the speakers are working fine...The earphones doesn't have any base and you can use it for calling mostly...The charging time is approximately for 90 minutes for full charging....READ MORE\"]"
      ]
     },
     "execution_count": 214,
     "metadata": {},
     "output_type": "execute_result"
    }
   ],
   "source": [
    "page6_full_review=[]\n",
    "for i in full_review:\n",
    "    full_reviews = i.text.replace(\"\\n\",\".\")\n",
    "    page6_full_review.append(full_reviews)\n",
    "page6_full_review"
   ]
  },
  {
   "cell_type": "code",
   "execution_count": 215,
   "id": "d7ab7036",
   "metadata": {},
   "outputs": [
    {
     "name": "stdout",
     "output_type": "stream",
     "text": [
      "10 10 10\n"
     ]
    }
   ],
   "source": [
    "print(len(page6_rating),len(page6_Review_summary),len(page6_full_review))"
   ]
  },
  {
   "cell_type": "code",
   "execution_count": 216,
   "id": "4ab098a8",
   "metadata": {},
   "outputs": [
    {
     "data": {
      "text/html": [
       "<div>\n",
       "<style scoped>\n",
       "    .dataframe tbody tr th:only-of-type {\n",
       "        vertical-align: middle;\n",
       "    }\n",
       "\n",
       "    .dataframe tbody tr th {\n",
       "        vertical-align: top;\n",
       "    }\n",
       "\n",
       "    .dataframe thead th {\n",
       "        text-align: right;\n",
       "    }\n",
       "</style>\n",
       "<table border=\"1\" class=\"dataframe\">\n",
       "  <thead>\n",
       "    <tr style=\"text-align: right;\">\n",
       "      <th></th>\n",
       "      <th>rating</th>\n",
       "      <th>Review_summary</th>\n",
       "      <th>full_review</th>\n",
       "    </tr>\n",
       "  </thead>\n",
       "  <tbody>\n",
       "    <tr>\n",
       "      <th>0</th>\n",
       "      <td>5</td>\n",
       "      <td>Wonderful</td>\n",
       "      <td>Super and marvellous phone look very cute and ...</td>\n",
       "    </tr>\n",
       "    <tr>\n",
       "      <th>1</th>\n",
       "      <td>5</td>\n",
       "      <td>Classy product</td>\n",
       "      <td>Well while switching from android to iOS the f...</td>\n",
       "    </tr>\n",
       "    <tr>\n",
       "      <th>2</th>\n",
       "      <td>5</td>\n",
       "      <td>Just wow!</td>\n",
       "      <td>Best in class. Battery backup is good especial...</td>\n",
       "    </tr>\n",
       "    <tr>\n",
       "      <th>3</th>\n",
       "      <td>5</td>\n",
       "      <td>Awesome</td>\n",
       "      <td>Very excited to have this phone. This phone ha...</td>\n",
       "    </tr>\n",
       "    <tr>\n",
       "      <th>4</th>\n",
       "      <td>4</td>\n",
       "      <td>Pretty good</td>\n",
       "      <td>I was using Iphone 6s and also Oneplus 6t. Bot...</td>\n",
       "    </tr>\n",
       "    <tr>\n",
       "      <th>5</th>\n",
       "      <td>5</td>\n",
       "      <td>Terrific purchase</td>\n",
       "      <td>Its Very awesome product working and good came...</td>\n",
       "    </tr>\n",
       "    <tr>\n",
       "      <th>6</th>\n",
       "      <td>5</td>\n",
       "      <td>Awesome</td>\n",
       "      <td>I am using this phone for 5 days and its one o...</td>\n",
       "    </tr>\n",
       "    <tr>\n",
       "      <th>7</th>\n",
       "      <td>5</td>\n",
       "      <td>Classy product</td>\n",
       "      <td>Best and amazing product.....phone looks so pr...</td>\n",
       "    </tr>\n",
       "    <tr>\n",
       "      <th>8</th>\n",
       "      <td>5</td>\n",
       "      <td>Brilliant</td>\n",
       "      <td>Excellent camera and display touching very nic...</td>\n",
       "    </tr>\n",
       "    <tr>\n",
       "      <th>9</th>\n",
       "      <td>5</td>\n",
       "      <td>Terrific</td>\n",
       "      <td>I got this beast today. And I must say the pic...</td>\n",
       "    </tr>\n",
       "  </tbody>\n",
       "</table>\n",
       "</div>"
      ],
      "text/plain": [
       "  rating     Review_summary                                        full_review\n",
       "0      5          Wonderful  Super and marvellous phone look very cute and ...\n",
       "1      5     Classy product  Well while switching from android to iOS the f...\n",
       "2      5          Just wow!  Best in class. Battery backup is good especial...\n",
       "3      5            Awesome  Very excited to have this phone. This phone ha...\n",
       "4      4        Pretty good  I was using Iphone 6s and also Oneplus 6t. Bot...\n",
       "5      5  Terrific purchase  Its Very awesome product working and good came...\n",
       "6      5            Awesome  I am using this phone for 5 days and its one o...\n",
       "7      5     Classy product  Best and amazing product.....phone looks so pr...\n",
       "8      5          Brilliant  Excellent camera and display touching very nic...\n",
       "9      5           Terrific  I got this beast today. And I must say the pic..."
      ]
     },
     "execution_count": 216,
     "metadata": {},
     "output_type": "execute_result"
    }
   ],
   "source": [
    "page6 = pd.DataFrame({})\n",
    "page6[\"rating\"]=page6_rating\n",
    "page6[\"Review_summary\"]=page6_Review_summary\n",
    "page6[\"full_review\"]=page6_full_review\n",
    "page6"
   ]
  },
  {
   "cell_type": "code",
   "execution_count": 217,
   "id": "9ac1d31f",
   "metadata": {},
   "outputs": [],
   "source": [
    "next_button=driver.find_element_by_xpath(\"/html/body/div[1]/div/div[3]/div/div/div[2]/div[13]/div/div/nav/a[12]/span\")\n",
    "next_button.click()"
   ]
  },
  {
   "cell_type": "code",
   "execution_count": 218,
   "id": "30d57928",
   "metadata": {},
   "outputs": [
    {
     "data": {
      "text/plain": [
       "[<selenium.webdriver.remote.webelement.WebElement (session=\"c4f08832fb988b3d2e129ee15a13dbf0\", element=\"e56ebcbf-4cdc-460b-abde-a13d86956c35\")>,\n",
       " <selenium.webdriver.remote.webelement.WebElement (session=\"c4f08832fb988b3d2e129ee15a13dbf0\", element=\"6b6b5673-ddfd-49aa-b3c7-ca2e9ed97409\")>]"
      ]
     },
     "execution_count": 218,
     "metadata": {},
     "output_type": "execute_result"
    }
   ],
   "source": [
    "rating=driver.find_elements_by_xpath(\"//div[@class='_3LWZlK _1BLPMq']\")\n",
    "rating[0:2]"
   ]
  },
  {
   "cell_type": "code",
   "execution_count": 229,
   "id": "880dc622",
   "metadata": {},
   "outputs": [
    {
     "data": {
      "text/plain": [
       "['5', '5', '5', '5', '5', '5', '5', '4', '5']"
      ]
     },
     "execution_count": 229,
     "metadata": {},
     "output_type": "execute_result"
    }
   ],
   "source": [
    "page7_rating=[]\n",
    "for i in rating:\n",
    "    ratings = i.text\n",
    "    page7_rating.append(ratings)\n",
    "page7_rating"
   ]
  },
  {
   "cell_type": "code",
   "execution_count": 231,
   "id": "f4ae4cde",
   "metadata": {},
   "outputs": [
    {
     "data": {
      "text/plain": [
       "['5', '5', '5', '5', '1', '5', '5', '5', '4', '5']"
      ]
     },
     "execution_count": 231,
     "metadata": {},
     "output_type": "execute_result"
    }
   ],
   "source": [
    "page7_rating.insert(4,'1')\n",
    "page7_rating"
   ]
  },
  {
   "cell_type": "code",
   "execution_count": 232,
   "id": "85edcb49",
   "metadata": {},
   "outputs": [
    {
     "data": {
      "text/plain": [
       "[<selenium.webdriver.remote.webelement.WebElement (session=\"c4f08832fb988b3d2e129ee15a13dbf0\", element=\"07284674-bd07-4cf8-80a6-184cf1818299\")>,\n",
       " <selenium.webdriver.remote.webelement.WebElement (session=\"c4f08832fb988b3d2e129ee15a13dbf0\", element=\"aa294c5c-fc41-458f-8f86-edc9541ece3a\")>]"
      ]
     },
     "execution_count": 232,
     "metadata": {},
     "output_type": "execute_result"
    }
   ],
   "source": [
    "Review_summary = driver.find_elements_by_xpath(\"//p[@class='_2-N8zT']\")\n",
    "Review_summary[0:2]"
   ]
  },
  {
   "cell_type": "code",
   "execution_count": 233,
   "id": "a91e0e78",
   "metadata": {},
   "outputs": [
    {
     "data": {
      "text/plain": [
       "['Perfect product!',\n",
       " 'Awesome',\n",
       " 'Perfect product!',\n",
       " 'Highly recommended',\n",
       " 'Very poor',\n",
       " 'Fabulous!',\n",
       " 'Excellent',\n",
       " 'Must buy!',\n",
       " 'Value-for-money',\n",
       " 'Best in the market!']"
      ]
     },
     "execution_count": 233,
     "metadata": {},
     "output_type": "execute_result"
    }
   ],
   "source": [
    "page7_Review_summary=[]\n",
    "for i in Review_summary:\n",
    "    Review_summarys = i.text\n",
    "    page7_Review_summary.append(Review_summarys)\n",
    "page7_Review_summary"
   ]
  },
  {
   "cell_type": "code",
   "execution_count": 234,
   "id": "4c9a4cbb",
   "metadata": {},
   "outputs": [
    {
     "data": {
      "text/plain": [
       "[<selenium.webdriver.remote.webelement.WebElement (session=\"c4f08832fb988b3d2e129ee15a13dbf0\", element=\"f569f1a7-b938-47ca-9758-3c8955a7fadf\")>,\n",
       " <selenium.webdriver.remote.webelement.WebElement (session=\"c4f08832fb988b3d2e129ee15a13dbf0\", element=\"8b098651-b597-4053-aed0-9c64a96c92b4\")>]"
      ]
     },
     "execution_count": 234,
     "metadata": {},
     "output_type": "execute_result"
    }
   ],
   "source": [
    "full_review=driver.find_elements_by_xpath(\"//div[@class='t-ZTKy']\")\n",
    "full_review[0:2]"
   ]
  },
  {
   "cell_type": "code",
   "execution_count": 235,
   "id": "7657526f",
   "metadata": {},
   "outputs": [
    {
     "data": {
      "text/plain": [
       "['Awesome purchase. Amazing phone with good battery backup. It’s a top notch device. White colour looks amazing. Phone has a few extra feature than iPhone XR. Overall, this is value for money',\n",
       " 'Always love the apple products, upgraded from old iPhone 6S plus to this after having my first baby. I just love to click baby’s photos with it. Overall I just love this phone. Battery back up is okay, sound quality is good. Haven’t tested yet waterproof yet. Only one thing I hate is apple could have given charger & headphones in box.',\n",
       " 'Value for money.5 star rating.Excellent camera.Battery backup full day in single charge...Tougher and water resistant design, glossy back..The screen has excellent brightness and contrast..Apple A13 Bionic is the fastest smartphone chip on the planet..Excellent battery life, fast charging support..Stereo speakers with great quality.',\n",
       " 'Thanks Flipkart For this amazing deal! I had a dream of owning a iphone since i had known about..Im very happy with my purchase & it is totally worth it..Amazing experience all over !!..Anyone who’s thinking of buying it in 2021, i would simply say go for it without any second thoughts ❤️',\n",
       " 'Please DONT buy from here,..I purchased Apple iPhone 11. with an exchange of IPhone 7, the exchange did not go well, iPhone 7 had a small scratch out side screen which i could never identify till date, but the FLIPKART person could, so he reduced 50% from exchange rate. I decided not to trade in, but paid money...iPhone 11 Detail Below.---------------------------------------------.It came with no charging, then i have put for charging, it took lot of time for charging, the phone also showe....READ MORE',\n",
       " 'awesome phone to have. it has got many smart features apart from mind blowing looks, camera, display, battery and sound. have fallen in love with this phone. must buy phone if you have got enough money. thanks to flipkart and apple of course..',\n",
       " 'Its a fabulous mobile look awesome performance unbeaten camera like dslr battery good i think this is a beast of mobile',\n",
       " 'Dear friends... I want to share my experience with you about this amazing I phone 11....this is my first iPhone and special things about this mobile is it has great camera, battery backup and awesome display.... I mean everything is perfect.loved it 👍👍👍',\n",
       " \"Just got this iphone 11.And it is most powerful mobile phone I have used ever..So,go for it if you want a phone with best specification like camera,battery backup,display, A13 bionic chip..That's my review about this phone but yours can be differ from me....\",\n",
       " \"The best all rounder iphone. Flipkart is doing a great job. They're delivery services are blazing fast. I got delivery on the same day. Genuine Apple Product. Working great. Talking about review There's no need of review for iphones. They're simply the best.\"]"
      ]
     },
     "execution_count": 235,
     "metadata": {},
     "output_type": "execute_result"
    }
   ],
   "source": [
    "page7_full_review=[]\n",
    "for i in full_review:\n",
    "    full_reviews = i.text.replace(\"\\n\",\".\")\n",
    "    page7_full_review.append(full_reviews)\n",
    "page7_full_review"
   ]
  },
  {
   "cell_type": "code",
   "execution_count": 237,
   "id": "353a1539",
   "metadata": {},
   "outputs": [
    {
     "name": "stdout",
     "output_type": "stream",
     "text": [
      "10 10 10\n"
     ]
    }
   ],
   "source": [
    "print(len(page7_rating),len(page7_Review_summary),len(page7_full_review))"
   ]
  },
  {
   "cell_type": "code",
   "execution_count": 238,
   "id": "0be4dfd7",
   "metadata": {},
   "outputs": [
    {
     "data": {
      "text/html": [
       "<div>\n",
       "<style scoped>\n",
       "    .dataframe tbody tr th:only-of-type {\n",
       "        vertical-align: middle;\n",
       "    }\n",
       "\n",
       "    .dataframe tbody tr th {\n",
       "        vertical-align: top;\n",
       "    }\n",
       "\n",
       "    .dataframe thead th {\n",
       "        text-align: right;\n",
       "    }\n",
       "</style>\n",
       "<table border=\"1\" class=\"dataframe\">\n",
       "  <thead>\n",
       "    <tr style=\"text-align: right;\">\n",
       "      <th></th>\n",
       "      <th>rating</th>\n",
       "      <th>Review_summary</th>\n",
       "      <th>full_review</th>\n",
       "    </tr>\n",
       "  </thead>\n",
       "  <tbody>\n",
       "    <tr>\n",
       "      <th>0</th>\n",
       "      <td>5</td>\n",
       "      <td>Perfect product!</td>\n",
       "      <td>Awesome purchase. Amazing phone with good batt...</td>\n",
       "    </tr>\n",
       "    <tr>\n",
       "      <th>1</th>\n",
       "      <td>5</td>\n",
       "      <td>Awesome</td>\n",
       "      <td>Always love the apple products, upgraded from ...</td>\n",
       "    </tr>\n",
       "    <tr>\n",
       "      <th>2</th>\n",
       "      <td>5</td>\n",
       "      <td>Perfect product!</td>\n",
       "      <td>Value for money.5 star rating.Excellent camera...</td>\n",
       "    </tr>\n",
       "    <tr>\n",
       "      <th>3</th>\n",
       "      <td>5</td>\n",
       "      <td>Highly recommended</td>\n",
       "      <td>Thanks Flipkart For this amazing deal! I had a...</td>\n",
       "    </tr>\n",
       "    <tr>\n",
       "      <th>4</th>\n",
       "      <td>1</td>\n",
       "      <td>Very poor</td>\n",
       "      <td>Please DONT buy from here,..I purchased Apple ...</td>\n",
       "    </tr>\n",
       "    <tr>\n",
       "      <th>5</th>\n",
       "      <td>5</td>\n",
       "      <td>Fabulous!</td>\n",
       "      <td>awesome phone to have. it has got many smart f...</td>\n",
       "    </tr>\n",
       "    <tr>\n",
       "      <th>6</th>\n",
       "      <td>5</td>\n",
       "      <td>Excellent</td>\n",
       "      <td>Its a fabulous mobile look awesome performance...</td>\n",
       "    </tr>\n",
       "    <tr>\n",
       "      <th>7</th>\n",
       "      <td>5</td>\n",
       "      <td>Must buy!</td>\n",
       "      <td>Dear friends... I want to share my experience ...</td>\n",
       "    </tr>\n",
       "    <tr>\n",
       "      <th>8</th>\n",
       "      <td>4</td>\n",
       "      <td>Value-for-money</td>\n",
       "      <td>Just got this iphone 11.And it is most powerfu...</td>\n",
       "    </tr>\n",
       "    <tr>\n",
       "      <th>9</th>\n",
       "      <td>5</td>\n",
       "      <td>Best in the market!</td>\n",
       "      <td>The best all rounder iphone. Flipkart is doing...</td>\n",
       "    </tr>\n",
       "  </tbody>\n",
       "</table>\n",
       "</div>"
      ],
      "text/plain": [
       "  rating       Review_summary  \\\n",
       "0      5     Perfect product!   \n",
       "1      5              Awesome   \n",
       "2      5     Perfect product!   \n",
       "3      5   Highly recommended   \n",
       "4      1            Very poor   \n",
       "5      5            Fabulous!   \n",
       "6      5            Excellent   \n",
       "7      5            Must buy!   \n",
       "8      4      Value-for-money   \n",
       "9      5  Best in the market!   \n",
       "\n",
       "                                         full_review  \n",
       "0  Awesome purchase. Amazing phone with good batt...  \n",
       "1  Always love the apple products, upgraded from ...  \n",
       "2  Value for money.5 star rating.Excellent camera...  \n",
       "3  Thanks Flipkart For this amazing deal! I had a...  \n",
       "4  Please DONT buy from here,..I purchased Apple ...  \n",
       "5  awesome phone to have. it has got many smart f...  \n",
       "6  Its a fabulous mobile look awesome performance...  \n",
       "7  Dear friends... I want to share my experience ...  \n",
       "8  Just got this iphone 11.And it is most powerfu...  \n",
       "9  The best all rounder iphone. Flipkart is doing...  "
      ]
     },
     "execution_count": 238,
     "metadata": {},
     "output_type": "execute_result"
    }
   ],
   "source": [
    "page7 = pd.DataFrame({})\n",
    "page7[\"rating\"]=page7_rating\n",
    "page7[\"Review_summary\"]=page7_Review_summary\n",
    "page7[\"full_review\"]=page7_full_review\n",
    "page7"
   ]
  },
  {
   "cell_type": "code",
   "execution_count": 239,
   "id": "5e6e1c0b",
   "metadata": {},
   "outputs": [],
   "source": [
    "next_button=driver.find_element_by_xpath(\"/html/body/div[1]/div/div[3]/div/div/div[2]/div[13]/div/div/nav/a[12]/span\")\n",
    "next_button.click()"
   ]
  },
  {
   "cell_type": "code",
   "execution_count": 240,
   "id": "8c952865",
   "metadata": {},
   "outputs": [
    {
     "data": {
      "text/plain": [
       "[<selenium.webdriver.remote.webelement.WebElement (session=\"c4f08832fb988b3d2e129ee15a13dbf0\", element=\"bd0b69f4-1269-45bf-a664-765264127715\")>,\n",
       " <selenium.webdriver.remote.webelement.WebElement (session=\"c4f08832fb988b3d2e129ee15a13dbf0\", element=\"a961075a-e482-4d34-8097-51227ab7aae8\")>]"
      ]
     },
     "execution_count": 240,
     "metadata": {},
     "output_type": "execute_result"
    }
   ],
   "source": [
    "rating=driver.find_elements_by_xpath(\"//div[@class='_3LWZlK _1BLPMq']\")\n",
    "rating[0:2]"
   ]
  },
  {
   "cell_type": "code",
   "execution_count": 241,
   "id": "06d83163",
   "metadata": {},
   "outputs": [
    {
     "data": {
      "text/plain": [
       "['5', '5', '4', '5', '5', '5', '4', '5', '5']"
      ]
     },
     "execution_count": 241,
     "metadata": {},
     "output_type": "execute_result"
    }
   ],
   "source": [
    "page8_rating=[]\n",
    "for i in rating:\n",
    "    ratings = i.text\n",
    "    page8_rating.append(ratings)\n",
    "page8_rating"
   ]
  },
  {
   "cell_type": "code",
   "execution_count": 242,
   "id": "54768972",
   "metadata": {},
   "outputs": [
    {
     "data": {
      "text/plain": [
       "['5', '5', '4', '5', '5', '5', '4', '1', '5', '5']"
      ]
     },
     "execution_count": 242,
     "metadata": {},
     "output_type": "execute_result"
    }
   ],
   "source": [
    "page8_rating.insert(7,'1')\n",
    "page8_rating"
   ]
  },
  {
   "cell_type": "code",
   "execution_count": 243,
   "id": "16f632f8",
   "metadata": {},
   "outputs": [
    {
     "data": {
      "text/plain": [
       "[<selenium.webdriver.remote.webelement.WebElement (session=\"c4f08832fb988b3d2e129ee15a13dbf0\", element=\"43f48d9a-9113-4e94-9845-1fcf8918fa9e\")>,\n",
       " <selenium.webdriver.remote.webelement.WebElement (session=\"c4f08832fb988b3d2e129ee15a13dbf0\", element=\"3f401b50-d647-4147-97c6-4dac3718974a\")>]"
      ]
     },
     "execution_count": 243,
     "metadata": {},
     "output_type": "execute_result"
    }
   ],
   "source": [
    "Review_summary = driver.find_elements_by_xpath(\"//p[@class='_2-N8zT']\")\n",
    "Review_summary[0:2]"
   ]
  },
  {
   "cell_type": "code",
   "execution_count": 244,
   "id": "c5e0950b",
   "metadata": {},
   "outputs": [
    {
     "data": {
      "text/plain": [
       "['Brilliant',\n",
       " 'Terrific purchase',\n",
       " 'Good quality product',\n",
       " 'Best in the market!',\n",
       " 'Perfect product!',\n",
       " 'Awesome',\n",
       " 'Value-for-money',\n",
       " 'Worthless',\n",
       " 'Super!',\n",
       " 'Mind-blowing purchase']"
      ]
     },
     "execution_count": 244,
     "metadata": {},
     "output_type": "execute_result"
    }
   ],
   "source": [
    "page8_Review_summary=[]\n",
    "for i in Review_summary:\n",
    "    Review_summarys = i.text\n",
    "    page8_Review_summary.append(Review_summarys)\n",
    "page8_Review_summary"
   ]
  },
  {
   "cell_type": "code",
   "execution_count": 245,
   "id": "f409c3e4",
   "metadata": {},
   "outputs": [
    {
     "data": {
      "text/plain": [
       "[<selenium.webdriver.remote.webelement.WebElement (session=\"c4f08832fb988b3d2e129ee15a13dbf0\", element=\"cc043840-03ed-4f0b-b78e-10d220f4edd9\")>,\n",
       " <selenium.webdriver.remote.webelement.WebElement (session=\"c4f08832fb988b3d2e129ee15a13dbf0\", element=\"48efc528-2eb4-4c0f-b875-ad189ae17eee\")>]"
      ]
     },
     "execution_count": 245,
     "metadata": {},
     "output_type": "execute_result"
    }
   ],
   "source": [
    "full_review=driver.find_elements_by_xpath(\"//div[@class='t-ZTKy']\")\n",
    "full_review[0:2]"
   ]
  },
  {
   "cell_type": "code",
   "execution_count": 246,
   "id": "25d8247b",
   "metadata": {},
   "outputs": [
    {
     "data": {
      "text/plain": [
       "['Amazing phone and on great deal I received with super fast delivery by Flipkart...',\n",
       " 'finally an iPhone with very nice battery backup. update from iPhone 7 and happy to have it. camera is not up to the mark in low light but overall a recommended phone if your budget allows 😀',\n",
       " \"I'm switching this phone to oppo reno 10x zoom.It's really impressive.Rarely I'm missing smooth display touch response like oppo reno but.I really loved it..Camera really impressive\",\n",
       " 'Damn this phone is a blast . Upgraded from android to ios and is a duperb experience. Battery backup is top notch and display also pretty good',\n",
       " 'Worth the money’ starting first from its performance it beats out all phones , second the smoothness of camera is awesome, contrast ratio is much than expected. Price will not matter if u r a quality person, if not other phones are available with better discount',\n",
       " 'I dreamt about this day from a long time.... Getting an iPhone with my own money.... Super happy and worth spending every penny',\n",
       " \"I'm Really happy with the product.Delivery was fast as well...it was a gift for my sister and she loved it so much.\",\n",
       " \"Phone is awesome no doubt. But Camera & Display is not great. Performance is mind blowing..But the phone is heating too much when charging or when you regularly used. It's experience after using 1 week. It's heating extrem when I play PUBG for 30 minutes..Go for iPhone 11 pro or 12. Otherwise go for Android phone you will get much better phone in less price.\",\n",
       " 'Did an upgrade from 6s plus to iphone 11..Ao far the experience is well and good. Felt smoother than 6s plus. The camera quality is superb. Battery backup is descent. Not a heavy user, and gets power more than a day. Go for it if you need an alrounder iphone in a competitve price.',\n",
       " 'First thanks to Flipkart for this amazing deal and phone is outstanding. I upgraded from iPhone 7 and this is like very big upgrade. But the packaging was very basic I expected a good packaging as they only wrapped one layer of bubble wrap which I don’t think is enough to protect this expensive phone. And I recommend this phone and seller as well...And I’m posting this review after using it for 4 days.']"
      ]
     },
     "execution_count": 246,
     "metadata": {},
     "output_type": "execute_result"
    }
   ],
   "source": [
    "page8_full_review=[]\n",
    "for i in full_review:\n",
    "    full_reviews = i.text.replace(\"\\n\",\".\")\n",
    "    page8_full_review.append(full_reviews)\n",
    "page8_full_review"
   ]
  },
  {
   "cell_type": "code",
   "execution_count": 247,
   "id": "f13524d7",
   "metadata": {},
   "outputs": [
    {
     "name": "stdout",
     "output_type": "stream",
     "text": [
      "10 10 10\n"
     ]
    }
   ],
   "source": [
    "print(len(page8_rating),len(page8_Review_summary),len(page8_full_review))"
   ]
  },
  {
   "cell_type": "code",
   "execution_count": 248,
   "id": "960d8da7",
   "metadata": {},
   "outputs": [
    {
     "data": {
      "text/html": [
       "<div>\n",
       "<style scoped>\n",
       "    .dataframe tbody tr th:only-of-type {\n",
       "        vertical-align: middle;\n",
       "    }\n",
       "\n",
       "    .dataframe tbody tr th {\n",
       "        vertical-align: top;\n",
       "    }\n",
       "\n",
       "    .dataframe thead th {\n",
       "        text-align: right;\n",
       "    }\n",
       "</style>\n",
       "<table border=\"1\" class=\"dataframe\">\n",
       "  <thead>\n",
       "    <tr style=\"text-align: right;\">\n",
       "      <th></th>\n",
       "      <th>rating</th>\n",
       "      <th>Review_summary</th>\n",
       "      <th>full_review</th>\n",
       "    </tr>\n",
       "  </thead>\n",
       "  <tbody>\n",
       "    <tr>\n",
       "      <th>0</th>\n",
       "      <td>5</td>\n",
       "      <td>Brilliant</td>\n",
       "      <td>Amazing phone and on great deal I received wit...</td>\n",
       "    </tr>\n",
       "    <tr>\n",
       "      <th>1</th>\n",
       "      <td>5</td>\n",
       "      <td>Terrific purchase</td>\n",
       "      <td>finally an iPhone with very nice battery backu...</td>\n",
       "    </tr>\n",
       "    <tr>\n",
       "      <th>2</th>\n",
       "      <td>4</td>\n",
       "      <td>Good quality product</td>\n",
       "      <td>I'm switching this phone to oppo reno 10x zoom...</td>\n",
       "    </tr>\n",
       "    <tr>\n",
       "      <th>3</th>\n",
       "      <td>5</td>\n",
       "      <td>Best in the market!</td>\n",
       "      <td>Damn this phone is a blast . Upgraded from and...</td>\n",
       "    </tr>\n",
       "    <tr>\n",
       "      <th>4</th>\n",
       "      <td>5</td>\n",
       "      <td>Perfect product!</td>\n",
       "      <td>Worth the money’ starting first from its perfo...</td>\n",
       "    </tr>\n",
       "    <tr>\n",
       "      <th>5</th>\n",
       "      <td>5</td>\n",
       "      <td>Awesome</td>\n",
       "      <td>I dreamt about this day from a long time.... G...</td>\n",
       "    </tr>\n",
       "    <tr>\n",
       "      <th>6</th>\n",
       "      <td>4</td>\n",
       "      <td>Value-for-money</td>\n",
       "      <td>I'm Really happy with the product.Delivery was...</td>\n",
       "    </tr>\n",
       "    <tr>\n",
       "      <th>7</th>\n",
       "      <td>1</td>\n",
       "      <td>Worthless</td>\n",
       "      <td>Phone is awesome no doubt. But Camera &amp; Displa...</td>\n",
       "    </tr>\n",
       "    <tr>\n",
       "      <th>8</th>\n",
       "      <td>5</td>\n",
       "      <td>Super!</td>\n",
       "      <td>Did an upgrade from 6s plus to iphone 11..Ao f...</td>\n",
       "    </tr>\n",
       "    <tr>\n",
       "      <th>9</th>\n",
       "      <td>5</td>\n",
       "      <td>Mind-blowing purchase</td>\n",
       "      <td>First thanks to Flipkart for this amazing deal...</td>\n",
       "    </tr>\n",
       "  </tbody>\n",
       "</table>\n",
       "</div>"
      ],
      "text/plain": [
       "  rating         Review_summary  \\\n",
       "0      5              Brilliant   \n",
       "1      5      Terrific purchase   \n",
       "2      4   Good quality product   \n",
       "3      5    Best in the market!   \n",
       "4      5       Perfect product!   \n",
       "5      5                Awesome   \n",
       "6      4        Value-for-money   \n",
       "7      1              Worthless   \n",
       "8      5                 Super!   \n",
       "9      5  Mind-blowing purchase   \n",
       "\n",
       "                                         full_review  \n",
       "0  Amazing phone and on great deal I received wit...  \n",
       "1  finally an iPhone with very nice battery backu...  \n",
       "2  I'm switching this phone to oppo reno 10x zoom...  \n",
       "3  Damn this phone is a blast . Upgraded from and...  \n",
       "4  Worth the money’ starting first from its perfo...  \n",
       "5  I dreamt about this day from a long time.... G...  \n",
       "6  I'm Really happy with the product.Delivery was...  \n",
       "7  Phone is awesome no doubt. But Camera & Displa...  \n",
       "8  Did an upgrade from 6s plus to iphone 11..Ao f...  \n",
       "9  First thanks to Flipkart for this amazing deal...  "
      ]
     },
     "execution_count": 248,
     "metadata": {},
     "output_type": "execute_result"
    }
   ],
   "source": [
    "page8 = pd.DataFrame({})\n",
    "page8[\"rating\"]=page8_rating\n",
    "page8[\"Review_summary\"]=page8_Review_summary\n",
    "page8[\"full_review\"]=page8_full_review\n",
    "page8"
   ]
  },
  {
   "cell_type": "code",
   "execution_count": 249,
   "id": "a67260d8",
   "metadata": {},
   "outputs": [],
   "source": [
    "next_button=driver.find_element_by_xpath(\"/html/body/div[1]/div/div[3]/div/div/div[2]/div[13]/div/div/nav/a[12]/span\")\n",
    "next_button.click()"
   ]
  },
  {
   "cell_type": "code",
   "execution_count": 250,
   "id": "c3cf6ce4",
   "metadata": {},
   "outputs": [
    {
     "data": {
      "text/plain": [
       "[<selenium.webdriver.remote.webelement.WebElement (session=\"c4f08832fb988b3d2e129ee15a13dbf0\", element=\"cb580ac1-b14a-4ee7-8797-2c705755fc50\")>,\n",
       " <selenium.webdriver.remote.webelement.WebElement (session=\"c4f08832fb988b3d2e129ee15a13dbf0\", element=\"99dd239c-a566-4721-965e-7ba1d676c628\")>]"
      ]
     },
     "execution_count": 250,
     "metadata": {},
     "output_type": "execute_result"
    }
   ],
   "source": [
    "rating=driver.find_elements_by_xpath(\"//div[@class='_3LWZlK _1BLPMq']\")\n",
    "rating[0:2]"
   ]
  },
  {
   "cell_type": "code",
   "execution_count": 251,
   "id": "481088e1",
   "metadata": {},
   "outputs": [
    {
     "data": {
      "text/plain": [
       "['5', '5', '5', '5', '5', '5', '5', '5', '5', '4']"
      ]
     },
     "execution_count": 251,
     "metadata": {},
     "output_type": "execute_result"
    }
   ],
   "source": [
    "page9_rating=[]\n",
    "for i in rating:\n",
    "    ratings = i.text\n",
    "    page9_rating.append(ratings)\n",
    "page9_rating"
   ]
  },
  {
   "cell_type": "code",
   "execution_count": 252,
   "id": "ffa297c2",
   "metadata": {},
   "outputs": [
    {
     "data": {
      "text/plain": [
       "[<selenium.webdriver.remote.webelement.WebElement (session=\"c4f08832fb988b3d2e129ee15a13dbf0\", element=\"267581ca-ee14-4af0-9525-05316f7931de\")>,\n",
       " <selenium.webdriver.remote.webelement.WebElement (session=\"c4f08832fb988b3d2e129ee15a13dbf0\", element=\"10c25f4e-bc53-49aa-8765-ab351c5b63d0\")>]"
      ]
     },
     "execution_count": 252,
     "metadata": {},
     "output_type": "execute_result"
    }
   ],
   "source": [
    "Review_summary = driver.find_elements_by_xpath(\"//p[@class='_2-N8zT']\")\n",
    "Review_summary[0:2]"
   ]
  },
  {
   "cell_type": "code",
   "execution_count": 253,
   "id": "51839225",
   "metadata": {},
   "outputs": [
    {
     "data": {
      "text/plain": [
       "['Super!',\n",
       " 'Awesome',\n",
       " 'Just wow!',\n",
       " 'Mind-blowing purchase',\n",
       " 'Classy product',\n",
       " 'Worth every penny',\n",
       " 'Excellent',\n",
       " 'Just wow!',\n",
       " 'Wonderful',\n",
       " 'Nice product']"
      ]
     },
     "execution_count": 253,
     "metadata": {},
     "output_type": "execute_result"
    }
   ],
   "source": [
    "page9_Review_summary=[]\n",
    "for i in Review_summary:\n",
    "    Review_summarys = i.text\n",
    "    page9_Review_summary.append(Review_summarys)\n",
    "page9_Review_summary"
   ]
  },
  {
   "cell_type": "code",
   "execution_count": 254,
   "id": "84244670",
   "metadata": {},
   "outputs": [
    {
     "data": {
      "text/plain": [
       "[<selenium.webdriver.remote.webelement.WebElement (session=\"c4f08832fb988b3d2e129ee15a13dbf0\", element=\"f7b52392-0011-45e1-8157-827d60efcbdf\")>,\n",
       " <selenium.webdriver.remote.webelement.WebElement (session=\"c4f08832fb988b3d2e129ee15a13dbf0\", element=\"0b84f350-ae71-4237-8a96-9156076660cd\")>]"
      ]
     },
     "execution_count": 254,
     "metadata": {},
     "output_type": "execute_result"
    }
   ],
   "source": [
    "full_review=driver.find_elements_by_xpath(\"//div[@class='t-ZTKy']\")\n",
    "full_review[0:2]"
   ]
  },
  {
   "cell_type": "code",
   "execution_count": 255,
   "id": "d60df464",
   "metadata": {},
   "outputs": [
    {
     "data": {
      "text/plain": [
       "['This is my first ever iPhone..And I truly don’t regret switching to IOS from my Android...It is easily an alternative to a DSLR camera..If you’re obsessed with photos and videos, just don’t think twice or don’t compare to other androids(Samsung S10 lite or OnePlus 8/8T), as it’s far better from them in every field..Comparing will only make you confused...I am getting an average Screen on Time of around 10 hours with 30 percent left. I haven’t let my device discharged below 30 % as it aff....READ MORE',\n",
       " 'Can’t beat the software and hardware integration of apple..Performs like a beast. Great quality camera.6-7 hours screen on time which is good. Nothing much to complaint about the screen. Good connectivity speeds..Great buy and Flipkart’s delivery top notch as usual',\n",
       " 'Great iphone..I am writing this review after 2 months of usage..Camera is excellent, especially the nightmode.Display perfect.Battery backup awesome.Sound quality very good.Overall Apple gives you a perfect iphone in this range..Really in love with iPhone 11',\n",
       " 'beautiful shining, battery performance is too good..only the draw back is my expectations not meeted front cam but back cam is superb.',\n",
       " 'Gifted my man on his 30th birthday 🎂 He loves it.. Him happy so i am more than happy 😍😘❤️🥰',\n",
       " 'Here is the thing..The only reason why you should buy this phone is for the camera, iOS, and if you have headaches looking at AMOLED display...I’m not an avid gamer but watch a lot of movies on smartphone. However, my migraine attacks increased considerably after using AMOLED Smartphone. That’s why I made a calculated decision to buy iPhone 11. It has the best LCD display and the blacks, though not as natural as an AMOLED, is better than some of the other smartphones...Adding to this the ste....READ MORE',\n",
       " \"It was amazing experience for me. Honestly i am using iPhone first time so I don't have that much past experience about that. But after using 7 days this mobile i want to give some honest feedback..1- Display 9 out of 10.2- Camera 9.5 out of 10.3- Battery 7 out of 10.4- Performance 9.5 out of 10.5- Features & Functions 10 out of 10.6- Outer looks and colour 10 out of 10.Rest i think i will understand after using this for few months..I will highly recommend you guys if you have budget then you....READ MORE\",\n",
       " 'Not mere a phone , Its more than that for fun and enjoy life. Just grab it. Best luck',\n",
       " \"Ok, so after almost 3 years I am again back into Apple Ecosystem. Switching from Android to iOS has just one disadvantage imo, and that's you can't take your WhatsApp data restored to iOS. Everything starts fresh, pretty sad. I am so glad that I chose iPhone 11 over 12. With 5G nowhere in India for at least an year will have an added advantage to iPhone 11. Spending extra 25k just for A14 chipset and OLED display is not a clever choice. Anyways, a fantastic phone with everything fit perfectly....READ MORE\",\n",
       " \"If you are looking for a premium phone under 55k, this is the one for you.Got the iPhone 11 during the Republic day sale. Performance is top notch in this price range. Camera's do a perfect job in taking good quality photos and videos. Battery backup too is satisfactory. Writing this review after using for a week. Any further observations would be updated.\"]"
      ]
     },
     "execution_count": 255,
     "metadata": {},
     "output_type": "execute_result"
    }
   ],
   "source": [
    "page9_full_review=[]\n",
    "for i in full_review:\n",
    "    full_reviews = i.text.replace(\"\\n\",\".\")\n",
    "    page9_full_review.append(full_reviews)\n",
    "page9_full_review"
   ]
  },
  {
   "cell_type": "code",
   "execution_count": 256,
   "id": "51fd2ccf",
   "metadata": {},
   "outputs": [
    {
     "name": "stdout",
     "output_type": "stream",
     "text": [
      "10 10 10\n"
     ]
    }
   ],
   "source": [
    "print(len(page9_rating),len(page9_Review_summary),len(page9_full_review))"
   ]
  },
  {
   "cell_type": "code",
   "execution_count": 257,
   "id": "e00233b7",
   "metadata": {},
   "outputs": [
    {
     "data": {
      "text/html": [
       "<div>\n",
       "<style scoped>\n",
       "    .dataframe tbody tr th:only-of-type {\n",
       "        vertical-align: middle;\n",
       "    }\n",
       "\n",
       "    .dataframe tbody tr th {\n",
       "        vertical-align: top;\n",
       "    }\n",
       "\n",
       "    .dataframe thead th {\n",
       "        text-align: right;\n",
       "    }\n",
       "</style>\n",
       "<table border=\"1\" class=\"dataframe\">\n",
       "  <thead>\n",
       "    <tr style=\"text-align: right;\">\n",
       "      <th></th>\n",
       "      <th>rating</th>\n",
       "      <th>Review_summary</th>\n",
       "      <th>full_review</th>\n",
       "    </tr>\n",
       "  </thead>\n",
       "  <tbody>\n",
       "    <tr>\n",
       "      <th>0</th>\n",
       "      <td>5</td>\n",
       "      <td>Super!</td>\n",
       "      <td>This is my first ever iPhone..And I truly don’...</td>\n",
       "    </tr>\n",
       "    <tr>\n",
       "      <th>1</th>\n",
       "      <td>5</td>\n",
       "      <td>Awesome</td>\n",
       "      <td>Can’t beat the software and hardware integrati...</td>\n",
       "    </tr>\n",
       "    <tr>\n",
       "      <th>2</th>\n",
       "      <td>5</td>\n",
       "      <td>Just wow!</td>\n",
       "      <td>Great iphone..I am writing this review after 2...</td>\n",
       "    </tr>\n",
       "    <tr>\n",
       "      <th>3</th>\n",
       "      <td>5</td>\n",
       "      <td>Mind-blowing purchase</td>\n",
       "      <td>beautiful shining, battery performance is too ...</td>\n",
       "    </tr>\n",
       "    <tr>\n",
       "      <th>4</th>\n",
       "      <td>5</td>\n",
       "      <td>Classy product</td>\n",
       "      <td>Gifted my man on his 30th birthday 🎂 He loves ...</td>\n",
       "    </tr>\n",
       "    <tr>\n",
       "      <th>5</th>\n",
       "      <td>5</td>\n",
       "      <td>Worth every penny</td>\n",
       "      <td>Here is the thing..The only reason why you sho...</td>\n",
       "    </tr>\n",
       "    <tr>\n",
       "      <th>6</th>\n",
       "      <td>5</td>\n",
       "      <td>Excellent</td>\n",
       "      <td>It was amazing experience for me. Honestly i a...</td>\n",
       "    </tr>\n",
       "    <tr>\n",
       "      <th>7</th>\n",
       "      <td>5</td>\n",
       "      <td>Just wow!</td>\n",
       "      <td>Not mere a phone , Its more than that for fun ...</td>\n",
       "    </tr>\n",
       "    <tr>\n",
       "      <th>8</th>\n",
       "      <td>5</td>\n",
       "      <td>Wonderful</td>\n",
       "      <td>Ok, so after almost 3 years I am again back in...</td>\n",
       "    </tr>\n",
       "    <tr>\n",
       "      <th>9</th>\n",
       "      <td>4</td>\n",
       "      <td>Nice product</td>\n",
       "      <td>If you are looking for a premium phone under 5...</td>\n",
       "    </tr>\n",
       "  </tbody>\n",
       "</table>\n",
       "</div>"
      ],
      "text/plain": [
       "  rating         Review_summary  \\\n",
       "0      5                 Super!   \n",
       "1      5                Awesome   \n",
       "2      5              Just wow!   \n",
       "3      5  Mind-blowing purchase   \n",
       "4      5         Classy product   \n",
       "5      5      Worth every penny   \n",
       "6      5              Excellent   \n",
       "7      5              Just wow!   \n",
       "8      5              Wonderful   \n",
       "9      4           Nice product   \n",
       "\n",
       "                                         full_review  \n",
       "0  This is my first ever iPhone..And I truly don’...  \n",
       "1  Can’t beat the software and hardware integrati...  \n",
       "2  Great iphone..I am writing this review after 2...  \n",
       "3  beautiful shining, battery performance is too ...  \n",
       "4  Gifted my man on his 30th birthday 🎂 He loves ...  \n",
       "5  Here is the thing..The only reason why you sho...  \n",
       "6  It was amazing experience for me. Honestly i a...  \n",
       "7  Not mere a phone , Its more than that for fun ...  \n",
       "8  Ok, so after almost 3 years I am again back in...  \n",
       "9  If you are looking for a premium phone under 5...  "
      ]
     },
     "execution_count": 257,
     "metadata": {},
     "output_type": "execute_result"
    }
   ],
   "source": [
    "page9 = pd.DataFrame({})\n",
    "page9[\"rating\"]=page9_rating\n",
    "page9[\"Review_summary\"]=page9_Review_summary\n",
    "page9[\"full_review\"]=page9_full_review\n",
    "page9"
   ]
  },
  {
   "cell_type": "code",
   "execution_count": 258,
   "id": "76f87713",
   "metadata": {},
   "outputs": [],
   "source": [
    "next_button=driver.find_element_by_xpath(\"/html/body/div[1]/div/div[3]/div/div/div[2]/div[13]/div/div/nav/a[12]/span\")\n",
    "next_button.click()"
   ]
  },
  {
   "cell_type": "code",
   "execution_count": 259,
   "id": "c80d4013",
   "metadata": {},
   "outputs": [
    {
     "data": {
      "text/plain": [
       "[<selenium.webdriver.remote.webelement.WebElement (session=\"c4f08832fb988b3d2e129ee15a13dbf0\", element=\"5a378aed-0d20-41e6-add7-1b4cb2178eaa\")>,\n",
       " <selenium.webdriver.remote.webelement.WebElement (session=\"c4f08832fb988b3d2e129ee15a13dbf0\", element=\"3f6b8a73-49ad-4965-9d24-71c335a0df41\")>]"
      ]
     },
     "execution_count": 259,
     "metadata": {},
     "output_type": "execute_result"
    }
   ],
   "source": [
    "rating=driver.find_elements_by_xpath(\"//div[@class='_3LWZlK _1BLPMq']\")\n",
    "rating[0:2]"
   ]
  },
  {
   "cell_type": "code",
   "execution_count": 260,
   "id": "8ff92adf",
   "metadata": {},
   "outputs": [
    {
     "data": {
      "text/plain": [
       "['5', '5', '5', '5', '5', '4', '5', '5', '5', '5']"
      ]
     },
     "execution_count": 260,
     "metadata": {},
     "output_type": "execute_result"
    }
   ],
   "source": [
    "page10_rating=[]\n",
    "for i in rating:\n",
    "    ratings = i.text\n",
    "    page10_rating.append(ratings)\n",
    "page10_rating"
   ]
  },
  {
   "cell_type": "code",
   "execution_count": 261,
   "id": "f379c576",
   "metadata": {},
   "outputs": [
    {
     "data": {
      "text/plain": [
       "[<selenium.webdriver.remote.webelement.WebElement (session=\"c4f08832fb988b3d2e129ee15a13dbf0\", element=\"099241cc-7057-4866-966e-1a143c3815ba\")>,\n",
       " <selenium.webdriver.remote.webelement.WebElement (session=\"c4f08832fb988b3d2e129ee15a13dbf0\", element=\"fc7061bc-1d71-452d-a12b-bee27e78ad7f\")>]"
      ]
     },
     "execution_count": 261,
     "metadata": {},
     "output_type": "execute_result"
    }
   ],
   "source": [
    "Review_summary = driver.find_elements_by_xpath(\"//p[@class='_2-N8zT']\")\n",
    "Review_summary[0:2]"
   ]
  },
  {
   "cell_type": "code",
   "execution_count": 262,
   "id": "71793575",
   "metadata": {},
   "outputs": [
    {
     "data": {
      "text/plain": [
       "['Mind-blowing purchase',\n",
       " 'Terrific',\n",
       " 'Excellent',\n",
       " 'Brilliant',\n",
       " 'Excellent',\n",
       " 'Pretty good',\n",
       " 'Worth every penny',\n",
       " 'Mind-blowing purchase',\n",
       " 'Fabulous!',\n",
       " 'Just wow!']"
      ]
     },
     "execution_count": 262,
     "metadata": {},
     "output_type": "execute_result"
    }
   ],
   "source": [
    "page10_Review_summary=[]\n",
    "for i in Review_summary:\n",
    "    Review_summarys = i.text\n",
    "    page10_Review_summary.append(Review_summarys)\n",
    "page10_Review_summary"
   ]
  },
  {
   "cell_type": "code",
   "execution_count": 263,
   "id": "74c6238b",
   "metadata": {},
   "outputs": [
    {
     "data": {
      "text/plain": [
       "[<selenium.webdriver.remote.webelement.WebElement (session=\"c4f08832fb988b3d2e129ee15a13dbf0\", element=\"5c610d80-63dc-4932-a2fb-0123536df6a8\")>,\n",
       " <selenium.webdriver.remote.webelement.WebElement (session=\"c4f08832fb988b3d2e129ee15a13dbf0\", element=\"320f2533-cefc-46a8-bc7c-9b0a59f3349a\")>]"
      ]
     },
     "execution_count": 263,
     "metadata": {},
     "output_type": "execute_result"
    }
   ],
   "source": [
    "full_review=driver.find_elements_by_xpath(\"//div[@class='t-ZTKy']\")\n",
    "full_review[0:2]"
   ]
  },
  {
   "cell_type": "code",
   "execution_count": 264,
   "id": "58bd4930",
   "metadata": {},
   "outputs": [
    {
     "data": {
      "text/plain": [
       "['awesome Phone Smooth Touch Too good Sexyy looks one word Awesome',\n",
       " 'I bought iPhone 11 On March 2021, And I am Writing this review after using the phone for 4 Months. I would Say Everything is fine, Top Performance, Nice Camera as Anyone would Expect from any series of iPhone but when the Question comes to Battery it is complicated. The Battery is fully optimised and it comes 3110 mAh capacity but the problem is with the charger. Honestly Apple Removed charger from in Box items in the name of Environment and they are also forcing us to buy any 20W PD 3rd part....READ MORE',\n",
       " \"Just go for it..This phone is really amazing. I ordered it for my wife and we click photos on this thing which are better than dslr. I own OnePlus 6t but it's camera sucks. iPhone is really amazing when it comes to camera. It's worth spending 50k on this. Cons- only display is lcd. While using u don't feel it but if u compare with other phone then u can see difference quite easily..Changing from Android to iphone is bit difficult coz most of things u don't know but I liked it. Some of the a....READ MORE\",\n",
       " 'A wort full value for money decision it’s . Simply go for it in 2021 its still a good decision . Awesome camera , Super smothered performance, Heck of build quality. And Most important it protects your privacy.',\n",
       " 'A perfect phone and a good battery super camera and the sound is dynamic overall the phone is perfect for upgrading from lower iPhone model to iPhone 11',\n",
       " \"I've used this phone for over a month now and here are my takeaways..I would like to first talk about the best things about this phone and then the cons of it...Pros:.This phone is a performance beast. It handles large games and applications effortlessly and you won't find any stutters or lags while playing graphic intensive games like pubg, cod , mortal kombat and asphalt...This phone has only 4gb ram and yet the ram management is amazing, it can keep 3 heavy games in memory without reload....READ MORE\",\n",
       " 'Undoubtedly Iphone 11 is the most successful model till now and its performance is extraordinary and the security features are very impressive, display is more vibrant sound quality Camera Quality 5*****, but Iphone should add accessories too and act like scrooge.',\n",
       " 'Excellent camera 📸 And Display touching very Nice And Smooth and very improvement against.I phone 11 and new processor is very fast',\n",
       " 'I purchased the iPhone 11 a month back. I must say Apple has impressed me yet again . I have been an Apple user for past 5 years . The phone is power packed with amazing features . What impressed me the most was the battery backup the phone offers . Battery can easily run upto 1.5 days in single charge with moderate to.Heavy usage . If you’re looking for a value for money device , I don’t see any other phone in the price range which can match the iPhone 11 ..One thing I didn’t like was that ....READ MORE',\n",
       " 'The ultimate performance.Camera is superb.The battery backup also very good i never saw iphone gives this much of battery backup.If any one wana buy iphone 11 definitely i will recommend this mobile.It has the better battery and powerfull processer peak performance glorious camera and the display also 100% high quality lcd display if u had money for for 12 if u dont wana invest much money on that then go for iphone 11 it has maximum same specs only main difference between the 12 and 11 is....READ MORE']"
      ]
     },
     "execution_count": 264,
     "metadata": {},
     "output_type": "execute_result"
    }
   ],
   "source": [
    "page10_full_review=[]\n",
    "for i in full_review:\n",
    "    full_reviews = i.text.replace(\"\\n\",\".\")\n",
    "    page10_full_review.append(full_reviews)\n",
    "page10_full_review"
   ]
  },
  {
   "cell_type": "code",
   "execution_count": 265,
   "id": "2aa55b02",
   "metadata": {},
   "outputs": [
    {
     "name": "stdout",
     "output_type": "stream",
     "text": [
      "10 10 10\n"
     ]
    }
   ],
   "source": [
    "print(len(page10_rating),len(page10_Review_summary),len(page10_full_review))"
   ]
  },
  {
   "cell_type": "code",
   "execution_count": 266,
   "id": "4249b23b",
   "metadata": {},
   "outputs": [
    {
     "data": {
      "text/html": [
       "<div>\n",
       "<style scoped>\n",
       "    .dataframe tbody tr th:only-of-type {\n",
       "        vertical-align: middle;\n",
       "    }\n",
       "\n",
       "    .dataframe tbody tr th {\n",
       "        vertical-align: top;\n",
       "    }\n",
       "\n",
       "    .dataframe thead th {\n",
       "        text-align: right;\n",
       "    }\n",
       "</style>\n",
       "<table border=\"1\" class=\"dataframe\">\n",
       "  <thead>\n",
       "    <tr style=\"text-align: right;\">\n",
       "      <th></th>\n",
       "      <th>rating</th>\n",
       "      <th>Review_summary</th>\n",
       "      <th>full_review</th>\n",
       "    </tr>\n",
       "  </thead>\n",
       "  <tbody>\n",
       "    <tr>\n",
       "      <th>0</th>\n",
       "      <td>5</td>\n",
       "      <td>Mind-blowing purchase</td>\n",
       "      <td>awesome Phone Smooth Touch Too good Sexyy look...</td>\n",
       "    </tr>\n",
       "    <tr>\n",
       "      <th>1</th>\n",
       "      <td>5</td>\n",
       "      <td>Terrific</td>\n",
       "      <td>I bought iPhone 11 On March 2021, And I am Wri...</td>\n",
       "    </tr>\n",
       "    <tr>\n",
       "      <th>2</th>\n",
       "      <td>5</td>\n",
       "      <td>Excellent</td>\n",
       "      <td>Just go for it..This phone is really amazing. ...</td>\n",
       "    </tr>\n",
       "    <tr>\n",
       "      <th>3</th>\n",
       "      <td>5</td>\n",
       "      <td>Brilliant</td>\n",
       "      <td>A wort full value for money decision it’s . Si...</td>\n",
       "    </tr>\n",
       "    <tr>\n",
       "      <th>4</th>\n",
       "      <td>5</td>\n",
       "      <td>Excellent</td>\n",
       "      <td>A perfect phone and a good battery super camer...</td>\n",
       "    </tr>\n",
       "    <tr>\n",
       "      <th>5</th>\n",
       "      <td>4</td>\n",
       "      <td>Pretty good</td>\n",
       "      <td>I've used this phone for over a month now and ...</td>\n",
       "    </tr>\n",
       "    <tr>\n",
       "      <th>6</th>\n",
       "      <td>5</td>\n",
       "      <td>Worth every penny</td>\n",
       "      <td>Undoubtedly Iphone 11 is the most successful m...</td>\n",
       "    </tr>\n",
       "    <tr>\n",
       "      <th>7</th>\n",
       "      <td>5</td>\n",
       "      <td>Mind-blowing purchase</td>\n",
       "      <td>Excellent camera 📸 And Display touching very N...</td>\n",
       "    </tr>\n",
       "    <tr>\n",
       "      <th>8</th>\n",
       "      <td>5</td>\n",
       "      <td>Fabulous!</td>\n",
       "      <td>I purchased the iPhone 11 a month back. I must...</td>\n",
       "    </tr>\n",
       "    <tr>\n",
       "      <th>9</th>\n",
       "      <td>5</td>\n",
       "      <td>Just wow!</td>\n",
       "      <td>The ultimate performance.Camera is superb.The ...</td>\n",
       "    </tr>\n",
       "  </tbody>\n",
       "</table>\n",
       "</div>"
      ],
      "text/plain": [
       "  rating         Review_summary  \\\n",
       "0      5  Mind-blowing purchase   \n",
       "1      5               Terrific   \n",
       "2      5              Excellent   \n",
       "3      5              Brilliant   \n",
       "4      5              Excellent   \n",
       "5      4            Pretty good   \n",
       "6      5      Worth every penny   \n",
       "7      5  Mind-blowing purchase   \n",
       "8      5              Fabulous!   \n",
       "9      5              Just wow!   \n",
       "\n",
       "                                         full_review  \n",
       "0  awesome Phone Smooth Touch Too good Sexyy look...  \n",
       "1  I bought iPhone 11 On March 2021, And I am Wri...  \n",
       "2  Just go for it..This phone is really amazing. ...  \n",
       "3  A wort full value for money decision it’s . Si...  \n",
       "4  A perfect phone and a good battery super camer...  \n",
       "5  I've used this phone for over a month now and ...  \n",
       "6  Undoubtedly Iphone 11 is the most successful m...  \n",
       "7  Excellent camera 📸 And Display touching very N...  \n",
       "8  I purchased the iPhone 11 a month back. I must...  \n",
       "9  The ultimate performance.Camera is superb.The ...  "
      ]
     },
     "execution_count": 266,
     "metadata": {},
     "output_type": "execute_result"
    }
   ],
   "source": [
    "page10 = pd.DataFrame({})\n",
    "page10[\"rating\"]=page10_rating\n",
    "page10[\"Review_summary\"]=page10_Review_summary\n",
    "page10[\"full_review\"]=page10_full_review\n",
    "page10"
   ]
  },
  {
   "cell_type": "code",
   "execution_count": 270,
   "id": "9ad1860b",
   "metadata": {},
   "outputs": [
    {
     "data": {
      "text/html": [
       "<div>\n",
       "<style scoped>\n",
       "    .dataframe tbody tr th:only-of-type {\n",
       "        vertical-align: middle;\n",
       "    }\n",
       "\n",
       "    .dataframe tbody tr th {\n",
       "        vertical-align: top;\n",
       "    }\n",
       "\n",
       "    .dataframe thead th {\n",
       "        text-align: right;\n",
       "    }\n",
       "</style>\n",
       "<table border=\"1\" class=\"dataframe\">\n",
       "  <thead>\n",
       "    <tr style=\"text-align: right;\">\n",
       "      <th></th>\n",
       "      <th>rating</th>\n",
       "      <th>Review_summary</th>\n",
       "      <th>full_review</th>\n",
       "    </tr>\n",
       "  </thead>\n",
       "  <tbody>\n",
       "    <tr>\n",
       "      <th>0</th>\n",
       "      <td>5</td>\n",
       "      <td>Brilliant</td>\n",
       "      <td>The Best Phone for the Money..The iPhone 11 of...</td>\n",
       "    </tr>\n",
       "    <tr>\n",
       "      <th>1</th>\n",
       "      <td>5</td>\n",
       "      <td>Simply awesome</td>\n",
       "      <td>Really satisfied with the Product I received.....</td>\n",
       "    </tr>\n",
       "    <tr>\n",
       "      <th>2</th>\n",
       "      <td>5</td>\n",
       "      <td>Best in the market!</td>\n",
       "      <td>Great iPhone very snappy experience as apple k...</td>\n",
       "    </tr>\n",
       "    <tr>\n",
       "      <th>3</th>\n",
       "      <td>5</td>\n",
       "      <td>Perfect product!</td>\n",
       "      <td>Amazing phone with great cameras and better ba...</td>\n",
       "    </tr>\n",
       "    <tr>\n",
       "      <th>4</th>\n",
       "      <td>5</td>\n",
       "      <td>Fabulous!</td>\n",
       "      <td>This is my first iOS phone. I am very happy wi...</td>\n",
       "    </tr>\n",
       "    <tr>\n",
       "      <th>...</th>\n",
       "      <td>...</td>\n",
       "      <td>...</td>\n",
       "      <td>...</td>\n",
       "    </tr>\n",
       "    <tr>\n",
       "      <th>5</th>\n",
       "      <td>4</td>\n",
       "      <td>Pretty good</td>\n",
       "      <td>I've used this phone for over a month now and ...</td>\n",
       "    </tr>\n",
       "    <tr>\n",
       "      <th>6</th>\n",
       "      <td>5</td>\n",
       "      <td>Worth every penny</td>\n",
       "      <td>Undoubtedly Iphone 11 is the most successful m...</td>\n",
       "    </tr>\n",
       "    <tr>\n",
       "      <th>7</th>\n",
       "      <td>5</td>\n",
       "      <td>Mind-blowing purchase</td>\n",
       "      <td>Excellent camera 📸 And Display touching very N...</td>\n",
       "    </tr>\n",
       "    <tr>\n",
       "      <th>8</th>\n",
       "      <td>5</td>\n",
       "      <td>Fabulous!</td>\n",
       "      <td>I purchased the iPhone 11 a month back. I must...</td>\n",
       "    </tr>\n",
       "    <tr>\n",
       "      <th>9</th>\n",
       "      <td>5</td>\n",
       "      <td>Just wow!</td>\n",
       "      <td>The ultimate performance.Camera is superb.The ...</td>\n",
       "    </tr>\n",
       "  </tbody>\n",
       "</table>\n",
       "<p>100 rows × 3 columns</p>\n",
       "</div>"
      ],
      "text/plain": [
       "   rating         Review_summary  \\\n",
       "0       5              Brilliant   \n",
       "1       5         Simply awesome   \n",
       "2       5    Best in the market!   \n",
       "3       5       Perfect product!   \n",
       "4       5              Fabulous!   \n",
       "..    ...                    ...   \n",
       "5       4            Pretty good   \n",
       "6       5      Worth every penny   \n",
       "7       5  Mind-blowing purchase   \n",
       "8       5              Fabulous!   \n",
       "9       5              Just wow!   \n",
       "\n",
       "                                          full_review  \n",
       "0   The Best Phone for the Money..The iPhone 11 of...  \n",
       "1   Really satisfied with the Product I received.....  \n",
       "2   Great iPhone very snappy experience as apple k...  \n",
       "3   Amazing phone with great cameras and better ba...  \n",
       "4   This is my first iOS phone. I am very happy wi...  \n",
       "..                                                ...  \n",
       "5   I've used this phone for over a month now and ...  \n",
       "6   Undoubtedly Iphone 11 is the most successful m...  \n",
       "7   Excellent camera 📸 And Display touching very N...  \n",
       "8   I purchased the iPhone 11 a month back. I must...  \n",
       "9   The ultimate performance.Camera is superb.The ...  \n",
       "\n",
       "[100 rows x 3 columns]"
      ]
     },
     "execution_count": 270,
     "metadata": {},
     "output_type": "execute_result"
    }
   ],
   "source": [
    "iphone11_phone_reviews =pd.concat([page1,page2,page3,page4,page5,page6,page7,page8,page9,page10])\n",
    "iphone11_phone_reviews"
   ]
  },
  {
   "cell_type": "markdown",
   "id": "e1149208",
   "metadata": {},
   "source": [
    "Q6: Scrape data for first 100 sneakers you find when you visit flipkart.com andsearch for “sneakers” in the\n",
    "search field.\n",
    "You have to scrape 4 attributes of each sneaker:\n",
    "1. Brand\n",
    "2. Product Description\n",
    "3. Price"
   ]
  },
  {
   "cell_type": "code",
   "execution_count": 271,
   "id": "9930f29a",
   "metadata": {},
   "outputs": [],
   "source": [
    "driver.get(\"https://www.flipkart.com/\")"
   ]
  },
  {
   "cell_type": "code",
   "execution_count": 272,
   "id": "bd3590ae",
   "metadata": {},
   "outputs": [],
   "source": [
    "search_designation=driver.find_element_by_class_name(\"_3704LK\")\n",
    "search_designation.send_keys(\"sneakers\")"
   ]
  },
  {
   "cell_type": "code",
   "execution_count": 273,
   "id": "ae026010",
   "metadata": {},
   "outputs": [],
   "source": [
    "search_button=driver.find_element_by_xpath(\"/html/body/div[1]/div/div[1]/div[1]/div[2]/div[2]/form/div/button\")\n",
    "search_button.click()"
   ]
  },
  {
   "cell_type": "code",
   "execution_count": 274,
   "id": "922ab48e",
   "metadata": {},
   "outputs": [
    {
     "data": {
      "text/plain": [
       "[<selenium.webdriver.remote.webelement.WebElement (session=\"c4f08832fb988b3d2e129ee15a13dbf0\", element=\"6e3fb0e7-e1a3-4599-8b17-c34849f88798\")>,\n",
       " <selenium.webdriver.remote.webelement.WebElement (session=\"c4f08832fb988b3d2e129ee15a13dbf0\", element=\"0edd29de-45c3-4bb8-abbc-4b1e4872abea\")>]"
      ]
     },
     "execution_count": 274,
     "metadata": {},
     "output_type": "execute_result"
    }
   ],
   "source": [
    "name=driver.find_elements_by_xpath(\"//div[@class='_2WkVRV']\")\n",
    "name[0:2]"
   ]
  },
  {
   "cell_type": "code",
   "execution_count": 275,
   "id": "27b91d6f",
   "metadata": {},
   "outputs": [
    {
     "data": {
      "text/plain": [
       "['HIGHLANDER', 'HIGHLANDER']"
      ]
     },
     "execution_count": 275,
     "metadata": {},
     "output_type": "execute_result"
    }
   ],
   "source": [
    "page1_names=[]\n",
    "for i in name:\n",
    "    names=i.text\n",
    "    page1_names.append(names)\n",
    "page1_names[0:2]"
   ]
  },
  {
   "cell_type": "code",
   "execution_count": 276,
   "id": "664a4d38",
   "metadata": {},
   "outputs": [
    {
     "data": {
      "text/plain": [
       "[<selenium.webdriver.remote.webelement.WebElement (session=\"c4f08832fb988b3d2e129ee15a13dbf0\", element=\"568de117-1db1-46f9-9cfd-6b03006d2480\")>,\n",
       " <selenium.webdriver.remote.webelement.WebElement (session=\"c4f08832fb988b3d2e129ee15a13dbf0\", element=\"c8a642ed-793e-4fc9-9007-b724c2e5510e\")>]"
      ]
     },
     "execution_count": 276,
     "metadata": {},
     "output_type": "execute_result"
    }
   ],
   "source": [
    "price=driver.find_elements_by_xpath(\"//div[@class='_30jeq3']\")\n",
    "price[0:2]"
   ]
  },
  {
   "cell_type": "code",
   "execution_count": 277,
   "id": "98ecba48",
   "metadata": {},
   "outputs": [
    {
     "data": {
      "text/plain": [
       "['₹945', '₹746']"
      ]
     },
     "execution_count": 277,
     "metadata": {},
     "output_type": "execute_result"
    }
   ],
   "source": [
    "page1_price=[]\n",
    "for i in price:\n",
    "    prices=i.text\n",
    "    page1_price.append(prices)\n",
    "page1_price[0:2]"
   ]
  },
  {
   "cell_type": "code",
   "execution_count": 304,
   "id": "07d72379",
   "metadata": {},
   "outputs": [
    {
     "data": {
      "text/plain": [
       "[<selenium.webdriver.remote.webelement.WebElement (session=\"c4f08832fb988b3d2e129ee15a13dbf0\", element=\"6326bd26-5301-4d3a-8c50-d6640058ce79\")>,\n",
       " <selenium.webdriver.remote.webelement.WebElement (session=\"c4f08832fb988b3d2e129ee15a13dbf0\", element=\"e8322090-23ae-40e4-95db-4b808b25aa7f\")>]"
      ]
     },
     "execution_count": 304,
     "metadata": {},
     "output_type": "execute_result"
    }
   ],
   "source": [
    "pdetails=driver.find_elements_by_xpath(\"//a[@class='IRpwTa']\")\n",
    "pdetails[0:2]"
   ]
  },
  {
   "cell_type": "code",
   "execution_count": 305,
   "id": "3a4d87a8",
   "metadata": {},
   "outputs": [
    {
     "data": {
      "text/plain": [
       "['Sneakers For Men',\n",
       " 'Casual Trendy Sneaker Casual Shoes For Men Sneakers For...']"
      ]
     },
     "execution_count": 305,
     "metadata": {},
     "output_type": "execute_result"
    }
   ],
   "source": [
    "page1_pdetails=[]\n",
    "for i in pdetails:\n",
    "    pdetails=i.text\n",
    "    page1_pdetails.append(pdetails)\n",
    "page1_pdetails[0:2]"
   ]
  },
  {
   "cell_type": "code",
   "execution_count": 290,
   "id": "5d303227",
   "metadata": {},
   "outputs": [
    {
     "name": "stdout",
     "output_type": "stream",
     "text": [
      "40 40 40\n"
     ]
    }
   ],
   "source": [
    "print(len(page1_names),len(page1_price),len(page1_pdetails))"
   ]
  },
  {
   "cell_type": "code",
   "execution_count": 302,
   "id": "16ee28c3",
   "metadata": {},
   "outputs": [
    {
     "data": {
      "text/plain": [
       "['Sneakers For Men', 'Sneakers For Men']"
      ]
     },
     "execution_count": 302,
     "metadata": {},
     "output_type": "execute_result"
    }
   ],
   "source": [
    "page1_pdetails.extend(['NaN','NaN'])\n",
    "page1_pdetails[0:2]"
   ]
  },
  {
   "cell_type": "code",
   "execution_count": 292,
   "id": "0f6f3698",
   "metadata": {},
   "outputs": [],
   "source": [
    "import sklearn\n",
    "from sklearn.impute import SimpleImputer"
   ]
  },
  {
   "cell_type": "code",
   "execution_count": 301,
   "id": "dfe5ded6",
   "metadata": {},
   "outputs": [
    {
     "data": {
      "text/html": [
       "<div>\n",
       "<style scoped>\n",
       "    .dataframe tbody tr th:only-of-type {\n",
       "        vertical-align: middle;\n",
       "    }\n",
       "\n",
       "    .dataframe tbody tr th {\n",
       "        vertical-align: top;\n",
       "    }\n",
       "\n",
       "    .dataframe thead th {\n",
       "        text-align: right;\n",
       "    }\n",
       "</style>\n",
       "<table border=\"1\" class=\"dataframe\">\n",
       "  <thead>\n",
       "    <tr style=\"text-align: right;\">\n",
       "      <th></th>\n",
       "      <th>names</th>\n",
       "      <th>price</th>\n",
       "      <th>product_details</th>\n",
       "    </tr>\n",
       "  </thead>\n",
       "  <tbody>\n",
       "    <tr>\n",
       "      <th>0</th>\n",
       "      <td>HIGHLANDER</td>\n",
       "      <td>₹945</td>\n",
       "      <td>Sneakers For Men</td>\n",
       "    </tr>\n",
       "    <tr>\n",
       "      <th>1</th>\n",
       "      <td>HIGHLANDER</td>\n",
       "      <td>₹746</td>\n",
       "      <td>Sneakers For Men</td>\n",
       "    </tr>\n",
       "    <tr>\n",
       "      <th>2</th>\n",
       "      <td>Chevit</td>\n",
       "      <td>₹469</td>\n",
       "      <td>Super Stylish &amp; Trendy Combo Pack of 02 Pairs ...</td>\n",
       "    </tr>\n",
       "    <tr>\n",
       "      <th>3</th>\n",
       "      <td>KWIK FIT</td>\n",
       "      <td>₹349</td>\n",
       "      <td>Kwik FIT casual sneaker shoes and partywear sh...</td>\n",
       "    </tr>\n",
       "    <tr>\n",
       "      <th>4</th>\n",
       "      <td>Magnolia</td>\n",
       "      <td>₹374</td>\n",
       "      <td>Sneakers For Men</td>\n",
       "    </tr>\n",
       "  </tbody>\n",
       "</table>\n",
       "</div>"
      ],
      "text/plain": [
       "        names price                                    product_details\n",
       "0  HIGHLANDER  ₹945                                   Sneakers For Men\n",
       "1  HIGHLANDER  ₹746                                   Sneakers For Men\n",
       "2      Chevit  ₹469  Super Stylish & Trendy Combo Pack of 02 Pairs ...\n",
       "3    KWIK FIT  ₹349  Kwik FIT casual sneaker shoes and partywear sh...\n",
       "4    Magnolia  ₹374                                   Sneakers For Men"
      ]
     },
     "execution_count": 301,
     "metadata": {},
     "output_type": "execute_result"
    }
   ],
   "source": [
    "page1 = pd.DataFrame({})\n",
    "page1[\"names\"]=page1_names\n",
    "page1[\"price\"]=page1_price\n",
    "page1[\"product_details\"]=page1_pdetails[0:40]\n",
    "page1.head()"
   ]
  },
  {
   "cell_type": "code",
   "execution_count": 293,
   "id": "6711e8c5",
   "metadata": {},
   "outputs": [],
   "source": [
    "imp = SimpleImputer(missing_values='NaN',strategy=\"most_frequent\")"
   ]
  },
  {
   "cell_type": "code",
   "execution_count": 296,
   "id": "bec99c9f",
   "metadata": {},
   "outputs": [],
   "source": [
    "page1[\"product_details\"] = imp.fit_transform(page1[\"product_details\"].values.reshape(-1,1))"
   ]
  },
  {
   "cell_type": "code",
   "execution_count": 300,
   "id": "78e5cede",
   "metadata": {},
   "outputs": [
    {
     "data": {
      "text/html": [
       "<div>\n",
       "<style scoped>\n",
       "    .dataframe tbody tr th:only-of-type {\n",
       "        vertical-align: middle;\n",
       "    }\n",
       "\n",
       "    .dataframe tbody tr th {\n",
       "        vertical-align: top;\n",
       "    }\n",
       "\n",
       "    .dataframe thead th {\n",
       "        text-align: right;\n",
       "    }\n",
       "</style>\n",
       "<table border=\"1\" class=\"dataframe\">\n",
       "  <thead>\n",
       "    <tr style=\"text-align: right;\">\n",
       "      <th></th>\n",
       "      <th>names</th>\n",
       "      <th>price</th>\n",
       "      <th>product_details</th>\n",
       "    </tr>\n",
       "  </thead>\n",
       "  <tbody>\n",
       "    <tr>\n",
       "      <th>0</th>\n",
       "      <td>HIGHLANDER</td>\n",
       "      <td>₹945</td>\n",
       "      <td>Sneakers For Men</td>\n",
       "    </tr>\n",
       "    <tr>\n",
       "      <th>1</th>\n",
       "      <td>HIGHLANDER</td>\n",
       "      <td>₹746</td>\n",
       "      <td>Sneakers For Men</td>\n",
       "    </tr>\n",
       "    <tr>\n",
       "      <th>2</th>\n",
       "      <td>Chevit</td>\n",
       "      <td>₹469</td>\n",
       "      <td>Super Stylish &amp; Trendy Combo Pack of 02 Pairs ...</td>\n",
       "    </tr>\n",
       "    <tr>\n",
       "      <th>3</th>\n",
       "      <td>KWIK FIT</td>\n",
       "      <td>₹349</td>\n",
       "      <td>Kwik FIT casual sneaker shoes and partywear sh...</td>\n",
       "    </tr>\n",
       "    <tr>\n",
       "      <th>4</th>\n",
       "      <td>Magnolia</td>\n",
       "      <td>₹374</td>\n",
       "      <td>Sneakers For Men</td>\n",
       "    </tr>\n",
       "  </tbody>\n",
       "</table>\n",
       "</div>"
      ],
      "text/plain": [
       "        names price                                    product_details\n",
       "0  HIGHLANDER  ₹945                                   Sneakers For Men\n",
       "1  HIGHLANDER  ₹746                                   Sneakers For Men\n",
       "2      Chevit  ₹469  Super Stylish & Trendy Combo Pack of 02 Pairs ...\n",
       "3    KWIK FIT  ₹349  Kwik FIT casual sneaker shoes and partywear sh...\n",
       "4    Magnolia  ₹374                                   Sneakers For Men"
      ]
     },
     "execution_count": 300,
     "metadata": {},
     "output_type": "execute_result"
    }
   ],
   "source": [
    "page1.head()"
   ]
  },
  {
   "cell_type": "code",
   "execution_count": 334,
   "id": "a6948b16",
   "metadata": {},
   "outputs": [],
   "source": [
    "search_button=driver.find_element_by_xpath(\"/html/body/div[1]/div/div[1]/div[1]/div[2]/div[2]/form/div/button\")\n",
    "search_button.click()"
   ]
  },
  {
   "cell_type": "code",
   "execution_count": 335,
   "id": "6a96c5a1",
   "metadata": {},
   "outputs": [],
   "source": [
    "next_button=driver.find_element_by_xpath(\"/html/body/div/div/div[3]/div[1]/div[2]/div[12]/div/div/nav/a[11]/span\")\n",
    "next_button.click()"
   ]
  },
  {
   "cell_type": "code",
   "execution_count": 336,
   "id": "4e56e534",
   "metadata": {},
   "outputs": [
    {
     "data": {
      "text/plain": [
       "[<selenium.webdriver.remote.webelement.WebElement (session=\"c4f08832fb988b3d2e129ee15a13dbf0\", element=\"9e561d62-407c-4d00-9493-e5a71a585903\")>,\n",
       " <selenium.webdriver.remote.webelement.WebElement (session=\"c4f08832fb988b3d2e129ee15a13dbf0\", element=\"c978a026-43d0-4336-a0e1-eeb8ff7bcd2d\")>]"
      ]
     },
     "execution_count": 336,
     "metadata": {},
     "output_type": "execute_result"
    }
   ],
   "source": [
    "name=driver.find_elements_by_xpath(\"//div[@class='_2WkVRV']\")\n",
    "name[0:2]"
   ]
  },
  {
   "cell_type": "code",
   "execution_count": 337,
   "id": "4112d1f6",
   "metadata": {},
   "outputs": [
    {
     "data": {
      "text/plain": [
       "['Chevit', 'Chevit']"
      ]
     },
     "execution_count": 337,
     "metadata": {},
     "output_type": "execute_result"
    }
   ],
   "source": [
    "page2_names=[]\n",
    "for i in name:\n",
    "    names=i.text\n",
    "    page2_names.append(names)\n",
    "page2_names[0:2]"
   ]
  },
  {
   "cell_type": "code",
   "execution_count": 338,
   "id": "0274eeaa",
   "metadata": {},
   "outputs": [
    {
     "data": {
      "text/plain": [
       "[<selenium.webdriver.remote.webelement.WebElement (session=\"c4f08832fb988b3d2e129ee15a13dbf0\", element=\"5600b73f-387d-4ef0-aed1-ad799f3864ab\")>,\n",
       " <selenium.webdriver.remote.webelement.WebElement (session=\"c4f08832fb988b3d2e129ee15a13dbf0\", element=\"91a78912-99a2-46e0-a02d-f342d3c37b28\")>]"
      ]
     },
     "execution_count": 338,
     "metadata": {},
     "output_type": "execute_result"
    }
   ],
   "source": [
    "price=driver.find_elements_by_xpath(\"//div[@class='_30jeq3']\")\n",
    "price[0:2]"
   ]
  },
  {
   "cell_type": "code",
   "execution_count": 339,
   "id": "3913fe5f",
   "metadata": {},
   "outputs": [
    {
     "data": {
      "text/plain": [
       "['₹282', '₹249']"
      ]
     },
     "execution_count": 339,
     "metadata": {},
     "output_type": "execute_result"
    }
   ],
   "source": [
    "page2_price=[]\n",
    "for i in price:\n",
    "    prices=i.text\n",
    "    page2_price.append(prices)\n",
    "page2_price[0:2]"
   ]
  },
  {
   "cell_type": "code",
   "execution_count": 360,
   "id": "0d150ab5",
   "metadata": {},
   "outputs": [
    {
     "data": {
      "text/plain": [
       "[<selenium.webdriver.remote.webelement.WebElement (session=\"c4f08832fb988b3d2e129ee15a13dbf0\", element=\"183fa2ab-9ffa-475e-8295-ac9f110ef4a3\")>,\n",
       " <selenium.webdriver.remote.webelement.WebElement (session=\"c4f08832fb988b3d2e129ee15a13dbf0\", element=\"bf90dc53-f662-48a4-8213-b1cd53c85d60\")>]"
      ]
     },
     "execution_count": 360,
     "metadata": {},
     "output_type": "execute_result"
    }
   ],
   "source": [
    "pdetails=driver.find_elements_by_xpath(\"//a[@class='IRpwTa']\")\n",
    "pdetails[0:2]"
   ]
  },
  {
   "cell_type": "code",
   "execution_count": 361,
   "id": "89074d9c",
   "metadata": {},
   "outputs": [
    {
     "data": {
      "text/plain": [
       "['Luxury Fashionable casual sneaker shoes Sneakers For Me...',\n",
       " 'Exclusive Affordable Collection of Trendy & Stylish Cas...']"
      ]
     },
     "execution_count": 361,
     "metadata": {},
     "output_type": "execute_result"
    }
   ],
   "source": [
    "page2_pdetails=[]\n",
    "for i in pdetails:\n",
    "    pdetails=i.text\n",
    "    page2_pdetails.append(pdetails)\n",
    "page2_pdetails[0:2]"
   ]
  },
  {
   "cell_type": "code",
   "execution_count": 356,
   "id": "d255494b",
   "metadata": {},
   "outputs": [
    {
     "name": "stdout",
     "output_type": "stream",
     "text": [
      "40 40 40\n"
     ]
    }
   ],
   "source": [
    "print(len(page2_names),len(page2_price),len(page2_pdetails))"
   ]
  },
  {
   "cell_type": "code",
   "execution_count": 354,
   "id": "3b423e56",
   "metadata": {},
   "outputs": [
    {
     "data": {
      "text/plain": [
       "['Super 445 Fashion Sneakers For Men',\n",
       " 'Sneaker Sneakers For Men',\n",
       " 'Sneakers For Men',\n",
       " 'Combo Pack Of 4 Casual Shoes Loafer Shoes Sneakers For ...',\n",
       " 'Sneakers For Men',\n",
       " 'Latest Collection-1215 Stylish Casual Sports Sneakers F...',\n",
       " 'Sneakers For Men',\n",
       " 'Latest Collection-1227 Stylish Casual Sports Sneakers F...',\n",
       " 'Sneakers For Men',\n",
       " 'Sneakers For Men',\n",
       " 'casual for men Sneakers For Men',\n",
       " 'Lattest Sneakers Shoe Sneakers For Men',\n",
       " 'Unique & Perfect Collection Combo Pack of 02 Shoes for ...',\n",
       " 'Sneakers For Men',\n",
       " 'Perfect Combo Pack of 03 Pairs Casual Sneakers Outdoor ...',\n",
       " 'Sneakers For Men',\n",
       " 'Casual Sneakers White Shoes For Men Sneakers For Men',\n",
       " 'Sneakers For Men',\n",
       " 'Sneakers For Men',\n",
       " 'Sneakers For Men',\n",
       " 'Sneakers For Men',\n",
       " 'Sneakers For Men',\n",
       " 'Sneakers For Men',\n",
       " 'Sneakers For Men',\n",
       " 'Sneakers For Men',\n",
       " 'Latest Collection Black-349 Trendy & Stylish Casual Sne...',\n",
       " \"Casual , Partywear Sneakers Shoes For Men's And Boys Wh...\",\n",
       " 'casual shoes for men sneakers for boys party wear outdo...',\n",
       " 'CH-527 Trendy Star Perfect Casuals Sneakers For Men',\n",
       " 'shoe Sneakers For Men',\n",
       " \"white Casual shoes,Sneakers for men's Sneakers For Men\",\n",
       " 'Sneakers For Men',\n",
       " 'Sneakers For Men',\n",
       " 'Sneakers For Men',\n",
       " 'Sneakers For Men',\n",
       " 'Sneakers For Men',\n",
       " 'Sneakers For Men',\n",
       " 'Sneakers For Men',\n",
       " 'Sneakers For Men',\n",
       " 'Sneakers For Men']"
      ]
     },
     "execution_count": 354,
     "metadata": {},
     "output_type": "execute_result"
    }
   ],
   "source": [
    "page2_pdetails.extend(['Sneakers For Men','Sneakers For Men','Sneakers For Men','Sneakers For Men','Sneakers For Men','Sneakers For Men','Sneakers For Men','Sneakers For Men','Sneakers For Men'])\n",
    "page2_pdetails=page2_pdetails[0:40]\n",
    "page2_pdetails"
   ]
  },
  {
   "cell_type": "code",
   "execution_count": 357,
   "id": "ea73d718",
   "metadata": {},
   "outputs": [
    {
     "name": "stdout",
     "output_type": "stream",
     "text": [
      "40 40 40\n"
     ]
    }
   ],
   "source": [
    "print(len(page2_names),len(page2_price),len(page2_pdetails))"
   ]
  },
  {
   "cell_type": "code",
   "execution_count": 355,
   "id": "695e0d2d",
   "metadata": {},
   "outputs": [
    {
     "data": {
      "text/html": [
       "<div>\n",
       "<style scoped>\n",
       "    .dataframe tbody tr th:only-of-type {\n",
       "        vertical-align: middle;\n",
       "    }\n",
       "\n",
       "    .dataframe tbody tr th {\n",
       "        vertical-align: top;\n",
       "    }\n",
       "\n",
       "    .dataframe thead th {\n",
       "        text-align: right;\n",
       "    }\n",
       "</style>\n",
       "<table border=\"1\" class=\"dataframe\">\n",
       "  <thead>\n",
       "    <tr style=\"text-align: right;\">\n",
       "      <th></th>\n",
       "      <th>names</th>\n",
       "      <th>price</th>\n",
       "      <th>product_details</th>\n",
       "    </tr>\n",
       "  </thead>\n",
       "  <tbody>\n",
       "    <tr>\n",
       "      <th>0</th>\n",
       "      <td>Chevit</td>\n",
       "      <td>₹282</td>\n",
       "      <td>Super 445 Fashion Sneakers For Men</td>\n",
       "    </tr>\n",
       "    <tr>\n",
       "      <th>1</th>\n",
       "      <td>Chevit</td>\n",
       "      <td>₹249</td>\n",
       "      <td>Sneaker Sneakers For Men</td>\n",
       "    </tr>\n",
       "    <tr>\n",
       "      <th>2</th>\n",
       "      <td>BRUTON</td>\n",
       "      <td>₹249</td>\n",
       "      <td>Sneakers For Men</td>\n",
       "    </tr>\n",
       "    <tr>\n",
       "      <th>3</th>\n",
       "      <td>Labbin</td>\n",
       "      <td>₹449</td>\n",
       "      <td>Combo Pack Of 4 Casual Shoes Loafer Shoes Snea...</td>\n",
       "    </tr>\n",
       "    <tr>\n",
       "      <th>4</th>\n",
       "      <td>BRUTON</td>\n",
       "      <td>₹449</td>\n",
       "      <td>Sneakers For Men</td>\n",
       "    </tr>\n",
       "  </tbody>\n",
       "</table>\n",
       "</div>"
      ],
      "text/plain": [
       "    names price                                    product_details\n",
       "0  Chevit  ₹282                 Super 445 Fashion Sneakers For Men\n",
       "1  Chevit  ₹249                           Sneaker Sneakers For Men\n",
       "2  BRUTON  ₹249                                   Sneakers For Men\n",
       "3  Labbin  ₹449  Combo Pack Of 4 Casual Shoes Loafer Shoes Snea...\n",
       "4  BRUTON  ₹449                                   Sneakers For Men"
      ]
     },
     "execution_count": 355,
     "metadata": {},
     "output_type": "execute_result"
    }
   ],
   "source": [
    "page2 = pd.DataFrame({})\n",
    "page2[\"names\"]=page2_names\n",
    "page2[\"price\"]=page2_price\n",
    "page2[\"product_details\"]=page2_pdetails[0:40]\n",
    "page2.head()"
   ]
  },
  {
   "cell_type": "code",
   "execution_count": 358,
   "id": "5124ad24",
   "metadata": {},
   "outputs": [],
   "source": [
    "next_button=driver.find_element_by_xpath(\"/html/body/div/div/div[3]/div[1]/div[2]/div[12]/div/div/nav/a[12]/span\")\n",
    "next_button.click()"
   ]
  },
  {
   "cell_type": "code",
   "execution_count": 362,
   "id": "af55f7b0",
   "metadata": {},
   "outputs": [
    {
     "data": {
      "text/plain": [
       "[<selenium.webdriver.remote.webelement.WebElement (session=\"c4f08832fb988b3d2e129ee15a13dbf0\", element=\"fb5aaf04-08ee-44b5-bc7f-3515cbe7ca28\")>,\n",
       " <selenium.webdriver.remote.webelement.WebElement (session=\"c4f08832fb988b3d2e129ee15a13dbf0\", element=\"a068e679-2ea6-41aa-811d-4e910349f73a\")>]"
      ]
     },
     "execution_count": 362,
     "metadata": {},
     "output_type": "execute_result"
    }
   ],
   "source": [
    "name=driver.find_elements_by_xpath(\"//div[@class='_2WkVRV']\")\n",
    "name[0:2]"
   ]
  },
  {
   "cell_type": "code",
   "execution_count": 363,
   "id": "52c397d7",
   "metadata": {},
   "outputs": [
    {
     "data": {
      "text/plain": [
       "['India hub', 'T-ROCK']"
      ]
     },
     "execution_count": 363,
     "metadata": {},
     "output_type": "execute_result"
    }
   ],
   "source": [
    "page3_names=[]\n",
    "for i in name:\n",
    "    names=i.text\n",
    "    page3_names.append(names)\n",
    "page3_names[0:2]"
   ]
  },
  {
   "cell_type": "code",
   "execution_count": 364,
   "id": "a89b4456",
   "metadata": {},
   "outputs": [
    {
     "data": {
      "text/plain": [
       "[<selenium.webdriver.remote.webelement.WebElement (session=\"c4f08832fb988b3d2e129ee15a13dbf0\", element=\"3b7a777a-4d9f-4a97-870c-03ff90a34cff\")>,\n",
       " <selenium.webdriver.remote.webelement.WebElement (session=\"c4f08832fb988b3d2e129ee15a13dbf0\", element=\"cb581b12-d85d-4cce-9e96-0c74e69e203e\")>]"
      ]
     },
     "execution_count": 364,
     "metadata": {},
     "output_type": "execute_result"
    }
   ],
   "source": [
    "price=driver.find_elements_by_xpath(\"//div[@class='_30jeq3']\")\n",
    "price[0:2]"
   ]
  },
  {
   "cell_type": "code",
   "execution_count": 365,
   "id": "cbf1b482",
   "metadata": {},
   "outputs": [
    {
     "data": {
      "text/plain": [
       "['₹449', '₹249']"
      ]
     },
     "execution_count": 365,
     "metadata": {},
     "output_type": "execute_result"
    }
   ],
   "source": [
    "page3_price=[]\n",
    "for i in price:\n",
    "    prices=i.text\n",
    "    page3_price.append(prices)\n",
    "page3_price[0:2]"
   ]
  },
  {
   "cell_type": "code",
   "execution_count": 366,
   "id": "73036d8d",
   "metadata": {},
   "outputs": [
    {
     "data": {
      "text/plain": [
       "[<selenium.webdriver.remote.webelement.WebElement (session=\"c4f08832fb988b3d2e129ee15a13dbf0\", element=\"183fa2ab-9ffa-475e-8295-ac9f110ef4a3\")>,\n",
       " <selenium.webdriver.remote.webelement.WebElement (session=\"c4f08832fb988b3d2e129ee15a13dbf0\", element=\"bf90dc53-f662-48a4-8213-b1cd53c85d60\")>]"
      ]
     },
     "execution_count": 366,
     "metadata": {},
     "output_type": "execute_result"
    }
   ],
   "source": [
    "pdetails=driver.find_elements_by_xpath(\"//a[@class='IRpwTa']\")\n",
    "pdetails[0:2]"
   ]
  },
  {
   "cell_type": "code",
   "execution_count": 367,
   "id": "d56d6d6d",
   "metadata": {},
   "outputs": [
    {
     "data": {
      "text/plain": [
       "['Luxury Fashionable casual sneaker shoes Sneakers For Me...',\n",
       " 'Exclusive Affordable Collection of Trendy & Stylish Cas...']"
      ]
     },
     "execution_count": 367,
     "metadata": {},
     "output_type": "execute_result"
    }
   ],
   "source": [
    "page3_pdetails=[]\n",
    "for i in pdetails:\n",
    "    pdetails=i.text\n",
    "    page3_pdetails.append(pdetails)\n",
    "page3_pdetails[0:2]"
   ]
  },
  {
   "cell_type": "code",
   "execution_count": 368,
   "id": "dbeee169",
   "metadata": {},
   "outputs": [
    {
     "name": "stdout",
     "output_type": "stream",
     "text": [
      "40 40 33\n"
     ]
    }
   ],
   "source": [
    "print(len(page2_names),len(page2_price),len(page2_pdetails))"
   ]
  },
  {
   "cell_type": "code",
   "execution_count": 369,
   "id": "2db154b6",
   "metadata": {},
   "outputs": [
    {
     "data": {
      "text/html": [
       "<div>\n",
       "<style scoped>\n",
       "    .dataframe tbody tr th:only-of-type {\n",
       "        vertical-align: middle;\n",
       "    }\n",
       "\n",
       "    .dataframe tbody tr th {\n",
       "        vertical-align: top;\n",
       "    }\n",
       "\n",
       "    .dataframe thead th {\n",
       "        text-align: right;\n",
       "    }\n",
       "</style>\n",
       "<table border=\"1\" class=\"dataframe\">\n",
       "  <thead>\n",
       "    <tr style=\"text-align: right;\">\n",
       "      <th></th>\n",
       "      <th>names</th>\n",
       "      <th>price</th>\n",
       "      <th>product_details</th>\n",
       "    </tr>\n",
       "  </thead>\n",
       "  <tbody>\n",
       "    <tr>\n",
       "      <th>0</th>\n",
       "      <td>India hub</td>\n",
       "      <td>₹449</td>\n",
       "      <td>Luxury Fashionable casual sneaker shoes Sneake...</td>\n",
       "    </tr>\n",
       "    <tr>\n",
       "      <th>1</th>\n",
       "      <td>T-ROCK</td>\n",
       "      <td>₹249</td>\n",
       "      <td>Exclusive Affordable Collection of Trendy &amp; St...</td>\n",
       "    </tr>\n",
       "    <tr>\n",
       "      <th>2</th>\n",
       "      <td>World Wear Footwear</td>\n",
       "      <td>₹139</td>\n",
       "      <td>Men's Sneakers Fashion Lightweight Running Sho...</td>\n",
       "    </tr>\n",
       "    <tr>\n",
       "      <th>3</th>\n",
       "      <td>FEWROK</td>\n",
       "      <td>₹449</td>\n",
       "      <td>white Casual shoes,Sneakers for men's Sneakers...</td>\n",
       "    </tr>\n",
       "    <tr>\n",
       "      <th>4</th>\n",
       "      <td>Echor</td>\n",
       "      <td>₹489</td>\n",
       "      <td>Luxury Fashionable casual sneaker shoes Sneake...</td>\n",
       "    </tr>\n",
       "  </tbody>\n",
       "</table>\n",
       "</div>"
      ],
      "text/plain": [
       "                 names price  \\\n",
       "0            India hub  ₹449   \n",
       "1               T-ROCK  ₹249   \n",
       "2  World Wear Footwear  ₹139   \n",
       "3               FEWROK  ₹449   \n",
       "4                Echor  ₹489   \n",
       "\n",
       "                                     product_details  \n",
       "0  Luxury Fashionable casual sneaker shoes Sneake...  \n",
       "1  Exclusive Affordable Collection of Trendy & St...  \n",
       "2  Men's Sneakers Fashion Lightweight Running Sho...  \n",
       "3  white Casual shoes,Sneakers for men's Sneakers...  \n",
       "4  Luxury Fashionable casual sneaker shoes Sneake...  "
      ]
     },
     "execution_count": 369,
     "metadata": {},
     "output_type": "execute_result"
    }
   ],
   "source": [
    "page3 = pd.DataFrame({})\n",
    "page3[\"names\"]=page3_names[0:20]\n",
    "page3[\"price\"]=page3_price[0:20]\n",
    "page3[\"product_details\"]=page3_pdetails[0:20]\n",
    "page3.head()"
   ]
  },
  {
   "cell_type": "code",
   "execution_count": 370,
   "id": "6058ad29",
   "metadata": {},
   "outputs": [
    {
     "data": {
      "text/html": [
       "<div>\n",
       "<style scoped>\n",
       "    .dataframe tbody tr th:only-of-type {\n",
       "        vertical-align: middle;\n",
       "    }\n",
       "\n",
       "    .dataframe tbody tr th {\n",
       "        vertical-align: top;\n",
       "    }\n",
       "\n",
       "    .dataframe thead th {\n",
       "        text-align: right;\n",
       "    }\n",
       "</style>\n",
       "<table border=\"1\" class=\"dataframe\">\n",
       "  <thead>\n",
       "    <tr style=\"text-align: right;\">\n",
       "      <th></th>\n",
       "      <th>names</th>\n",
       "      <th>price</th>\n",
       "      <th>product_details</th>\n",
       "    </tr>\n",
       "  </thead>\n",
       "  <tbody>\n",
       "    <tr>\n",
       "      <th>0</th>\n",
       "      <td>HIGHLANDER</td>\n",
       "      <td>₹945</td>\n",
       "      <td>Sneakers For Men</td>\n",
       "    </tr>\n",
       "    <tr>\n",
       "      <th>1</th>\n",
       "      <td>HIGHLANDER</td>\n",
       "      <td>₹746</td>\n",
       "      <td>Sneakers For Men</td>\n",
       "    </tr>\n",
       "    <tr>\n",
       "      <th>2</th>\n",
       "      <td>Chevit</td>\n",
       "      <td>₹469</td>\n",
       "      <td>Super Stylish &amp; Trendy Combo Pack of 02 Pairs ...</td>\n",
       "    </tr>\n",
       "    <tr>\n",
       "      <th>3</th>\n",
       "      <td>KWIK FIT</td>\n",
       "      <td>₹349</td>\n",
       "      <td>Kwik FIT casual sneaker shoes and partywear sh...</td>\n",
       "    </tr>\n",
       "    <tr>\n",
       "      <th>4</th>\n",
       "      <td>Magnolia</td>\n",
       "      <td>₹374</td>\n",
       "      <td>Sneakers For Men</td>\n",
       "    </tr>\n",
       "    <tr>\n",
       "      <th>...</th>\n",
       "      <td>...</td>\n",
       "      <td>...</td>\n",
       "      <td>...</td>\n",
       "    </tr>\n",
       "    <tr>\n",
       "      <th>15</th>\n",
       "      <td>HIGHLANDER</td>\n",
       "      <td>₹945</td>\n",
       "      <td>Sneakers For Men</td>\n",
       "    </tr>\n",
       "    <tr>\n",
       "      <th>16</th>\n",
       "      <td>India hub</td>\n",
       "      <td>₹374</td>\n",
       "      <td>Sneakers For Men</td>\n",
       "    </tr>\n",
       "    <tr>\n",
       "      <th>17</th>\n",
       "      <td>MILESWALKER</td>\n",
       "      <td>₹289</td>\n",
       "      <td>Sports/Running/Training/Gym Sneakers For Men</td>\n",
       "    </tr>\n",
       "    <tr>\n",
       "      <th>18</th>\n",
       "      <td>LE GREEM</td>\n",
       "      <td>₹399</td>\n",
       "      <td>Sneakers For Men</td>\n",
       "    </tr>\n",
       "    <tr>\n",
       "      <th>19</th>\n",
       "      <td>Robbie jones</td>\n",
       "      <td>₹424</td>\n",
       "      <td>Sneakers For Men</td>\n",
       "    </tr>\n",
       "  </tbody>\n",
       "</table>\n",
       "<p>100 rows × 3 columns</p>\n",
       "</div>"
      ],
      "text/plain": [
       "           names price                                    product_details\n",
       "0     HIGHLANDER  ₹945                                   Sneakers For Men\n",
       "1     HIGHLANDER  ₹746                                   Sneakers For Men\n",
       "2         Chevit  ₹469  Super Stylish & Trendy Combo Pack of 02 Pairs ...\n",
       "3       KWIK FIT  ₹349  Kwik FIT casual sneaker shoes and partywear sh...\n",
       "4       Magnolia  ₹374                                   Sneakers For Men\n",
       "..           ...   ...                                                ...\n",
       "15    HIGHLANDER  ₹945                                   Sneakers For Men\n",
       "16     India hub  ₹374                                   Sneakers For Men\n",
       "17   MILESWALKER  ₹289       Sports/Running/Training/Gym Sneakers For Men\n",
       "18      LE GREEM  ₹399                                   Sneakers For Men\n",
       "19  Robbie jones  ₹424                                   Sneakers For Men\n",
       "\n",
       "[100 rows x 3 columns]"
      ]
     },
     "execution_count": 370,
     "metadata": {},
     "output_type": "execute_result"
    }
   ],
   "source": [
    "sneakers_details = pd.concat([page1,page2,page3])\n",
    "sneakers_details"
   ]
  },
  {
   "cell_type": "markdown",
   "id": "bf35b31d",
   "metadata": {},
   "source": [
    "Q7: Go to the link - https://www.myntra.com/shoes\n",
    "Set Price filter to “Rs. 7149 to Rs. 14099 ” , Color filter to “Black”, as shown inthe below image."
   ]
  },
  {
   "cell_type": "markdown",
   "id": "dc6f7660",
   "metadata": {},
   "source": [
    "And then scrape First 100 shoes data you get. The data should include “Brand” of the shoes , Short Shoe\n",
    "description, price of the shoe as shown in the below image"
   ]
  },
  {
   "cell_type": "code",
   "execution_count": 433,
   "id": "23519e9c",
   "metadata": {},
   "outputs": [],
   "source": [
    "driver.get(\"https://www.myntra.com/shoes\")"
   ]
  },
  {
   "cell_type": "code",
   "execution_count": 434,
   "id": "1acaca52",
   "metadata": {},
   "outputs": [],
   "source": [
    "price_filter=driver.find_element_by_xpath(\"//*[@id='mountRoot']/div/div[1]/main/div[3]/div[1]/section/div/div[5]/ul/li[2]/label\")\n",
    "price_filter.click()"
   ]
  },
  {
   "cell_type": "code",
   "execution_count": 435,
   "id": "0c1409f5",
   "metadata": {},
   "outputs": [],
   "source": [
    "color_filter=driver.find_element_by_xpath(\"//*[@id='mountRoot']/div/div[1]/main/div[3]/div[1]/section/div/div[6]/ul/li[1]/label\")\n",
    "color_filter.click()"
   ]
  },
  {
   "cell_type": "code",
   "execution_count": 449,
   "id": "b489ff5f",
   "metadata": {},
   "outputs": [
    {
     "data": {
      "text/plain": [
       "[<selenium.webdriver.remote.webelement.WebElement (session=\"c4f08832fb988b3d2e129ee15a13dbf0\", element=\"b3ba7d61-4d51-4656-b704-2dbb872ea1d9\")>,\n",
       " <selenium.webdriver.remote.webelement.WebElement (session=\"c4f08832fb988b3d2e129ee15a13dbf0\", element=\"63b52118-95f6-49ff-9d70-8557e6faef92\")>]"
      ]
     },
     "execution_count": 449,
     "metadata": {},
     "output_type": "execute_result"
    }
   ],
   "source": [
    "brand=driver.find_elements_by_xpath(\"//h3[@class='product-brand']\")\n",
    "brand[0:2]"
   ]
  },
  {
   "cell_type": "code",
   "execution_count": 450,
   "id": "a581a695",
   "metadata": {},
   "outputs": [
    {
     "data": {
      "text/plain": [
       "['Nike', 'Puma']"
      ]
     },
     "execution_count": 450,
     "metadata": {},
     "output_type": "execute_result"
    }
   ],
   "source": [
    "page1_brand=[]\n",
    "for i in brand:\n",
    "    brand_name=i.text\n",
    "    page1_brand.append(brand_name)\n",
    "page1_brand[0:2]"
   ]
  },
  {
   "cell_type": "code",
   "execution_count": 451,
   "id": "e092bd06",
   "metadata": {},
   "outputs": [
    {
     "data": {
      "text/plain": [
       "[<selenium.webdriver.remote.webelement.WebElement (session=\"c4f08832fb988b3d2e129ee15a13dbf0\", element=\"8786758e-18c9-44ee-a9ee-9bd5703ab1f3\")>,\n",
       " <selenium.webdriver.remote.webelement.WebElement (session=\"c4f08832fb988b3d2e129ee15a13dbf0\", element=\"ae88c422-6ac3-4a28-938e-4989753f0158\")>]"
      ]
     },
     "execution_count": 451,
     "metadata": {},
     "output_type": "execute_result"
    }
   ],
   "source": [
    "description=driver.find_elements_by_xpath(\"//h4[@class='product-product']\")\n",
    "description[0:2]"
   ]
  },
  {
   "cell_type": "code",
   "execution_count": 452,
   "id": "ac9387c0",
   "metadata": {},
   "outputs": [
    {
     "data": {
      "text/plain": [
       "['Men Court Royale Sneakers', 'Men Running Shoes']"
      ]
     },
     "execution_count": 452,
     "metadata": {},
     "output_type": "execute_result"
    }
   ],
   "source": [
    "page1_description=[]\n",
    "for i in description:\n",
    "    description_name=i.text\n",
    "    page1_description.append(description_name)\n",
    "page1_description[0:2]"
   ]
  },
  {
   "cell_type": "code",
   "execution_count": 456,
   "id": "ae2031f3",
   "metadata": {},
   "outputs": [
    {
     "data": {
      "text/plain": [
       "[<selenium.webdriver.remote.webelement.WebElement (session=\"c4f08832fb988b3d2e129ee15a13dbf0\", element=\"a936d517-f267-422e-9365-364a1191fd17\")>,\n",
       " <selenium.webdriver.remote.webelement.WebElement (session=\"c4f08832fb988b3d2e129ee15a13dbf0\", element=\"78f87a7f-bae7-42a2-8fa3-1695894d81a8\")>]"
      ]
     },
     "execution_count": 456,
     "metadata": {},
     "output_type": "execute_result"
    }
   ],
   "source": [
    "price=driver.find_elements_by_xpath(\"//span[@class='product-discountedPrice']\")\n",
    "price[0:2]"
   ]
  },
  {
   "cell_type": "code",
   "execution_count": 457,
   "id": "544151d7",
   "metadata": {},
   "outputs": [
    {
     "data": {
      "text/plain": [
       "['Rs. 2921', 'Rs. 2749']"
      ]
     },
     "execution_count": 457,
     "metadata": {},
     "output_type": "execute_result"
    }
   ],
   "source": [
    "page1_price=[]\n",
    "for i in price:\n",
    "    price_detail=i.text\n",
    "    page1_price.append(price_detail)\n",
    "page1_price[0:2]"
   ]
  },
  {
   "cell_type": "code",
   "execution_count": 458,
   "id": "9cfe2fa3",
   "metadata": {},
   "outputs": [
    {
     "name": "stdout",
     "output_type": "stream",
     "text": [
      "50 50 48\n"
     ]
    }
   ],
   "source": [
    "print(len(page1_brand),len(page1_description),len(page1_price))"
   ]
  },
  {
   "cell_type": "code",
   "execution_count": 460,
   "id": "6a51f649",
   "metadata": {},
   "outputs": [
    {
     "data": {
      "text/plain": [
       "['Rs. 2921', 'Rs. 2749']"
      ]
     },
     "execution_count": 460,
     "metadata": {},
     "output_type": "execute_result"
    }
   ],
   "source": [
    "page1_price.extend(['NaN','NaN'])\n",
    "page1_price[0:2]"
   ]
  },
  {
   "cell_type": "code",
   "execution_count": 461,
   "id": "13230a8e",
   "metadata": {},
   "outputs": [
    {
     "name": "stdout",
     "output_type": "stream",
     "text": [
      "50 50 50\n"
     ]
    }
   ],
   "source": [
    "print(len(page1_brand),len(page1_description),len(page1_price))"
   ]
  },
  {
   "cell_type": "code",
   "execution_count": 462,
   "id": "da51d718",
   "metadata": {},
   "outputs": [
    {
     "data": {
      "text/html": [
       "<div>\n",
       "<style scoped>\n",
       "    .dataframe tbody tr th:only-of-type {\n",
       "        vertical-align: middle;\n",
       "    }\n",
       "\n",
       "    .dataframe tbody tr th {\n",
       "        vertical-align: top;\n",
       "    }\n",
       "\n",
       "    .dataframe thead th {\n",
       "        text-align: right;\n",
       "    }\n",
       "</style>\n",
       "<table border=\"1\" class=\"dataframe\">\n",
       "  <thead>\n",
       "    <tr style=\"text-align: right;\">\n",
       "      <th></th>\n",
       "      <th>brand_name</th>\n",
       "      <th>product_description</th>\n",
       "      <th>price</th>\n",
       "    </tr>\n",
       "  </thead>\n",
       "  <tbody>\n",
       "    <tr>\n",
       "      <th>0</th>\n",
       "      <td>Nike</td>\n",
       "      <td>Men Court Royale Sneakers</td>\n",
       "      <td>Rs. 2921</td>\n",
       "    </tr>\n",
       "    <tr>\n",
       "      <th>1</th>\n",
       "      <td>Puma</td>\n",
       "      <td>Men Running Shoes</td>\n",
       "      <td>Rs. 2749</td>\n",
       "    </tr>\n",
       "    <tr>\n",
       "      <th>2</th>\n",
       "      <td>Red Tape</td>\n",
       "      <td>Men Walking Shoes</td>\n",
       "      <td>Rs. 1889</td>\n",
       "    </tr>\n",
       "    <tr>\n",
       "      <th>3</th>\n",
       "      <td>Nike</td>\n",
       "      <td>Kids Revolution 4 Running</td>\n",
       "      <td>Rs. 1499</td>\n",
       "    </tr>\n",
       "    <tr>\n",
       "      <th>4</th>\n",
       "      <td>ALDO</td>\n",
       "      <td>Men Leather Loafers</td>\n",
       "      <td>Rs. 11199</td>\n",
       "    </tr>\n",
       "  </tbody>\n",
       "</table>\n",
       "</div>"
      ],
      "text/plain": [
       "  brand_name        product_description      price\n",
       "0       Nike  Men Court Royale Sneakers   Rs. 2921\n",
       "1       Puma          Men Running Shoes   Rs. 2749\n",
       "2   Red Tape          Men Walking Shoes   Rs. 1889\n",
       "3       Nike  Kids Revolution 4 Running   Rs. 1499\n",
       "4       ALDO        Men Leather Loafers  Rs. 11199"
      ]
     },
     "execution_count": 462,
     "metadata": {},
     "output_type": "execute_result"
    }
   ],
   "source": [
    "page1=pd.DataFrame({})\n",
    "page1[\"brand_name\"]=page1_brand\n",
    "page1[\"product_description\"]=page1_description\n",
    "page1[\"price\"]=page1_price[0:50]\n",
    "page1.head()"
   ]
  },
  {
   "cell_type": "code",
   "execution_count": 463,
   "id": "9d1519a6",
   "metadata": {},
   "outputs": [],
   "source": [
    "page1[\"price\"] = imp.fit_transform(page1[\"price\"].values.reshape(-1,1))\n"
   ]
  },
  {
   "cell_type": "code",
   "execution_count": 464,
   "id": "c0e60e95",
   "metadata": {},
   "outputs": [
    {
     "data": {
      "text/html": [
       "<div>\n",
       "<style scoped>\n",
       "    .dataframe tbody tr th:only-of-type {\n",
       "        vertical-align: middle;\n",
       "    }\n",
       "\n",
       "    .dataframe tbody tr th {\n",
       "        vertical-align: top;\n",
       "    }\n",
       "\n",
       "    .dataframe thead th {\n",
       "        text-align: right;\n",
       "    }\n",
       "</style>\n",
       "<table border=\"1\" class=\"dataframe\">\n",
       "  <thead>\n",
       "    <tr style=\"text-align: right;\">\n",
       "      <th></th>\n",
       "      <th>brand_name</th>\n",
       "      <th>product_description</th>\n",
       "      <th>price</th>\n",
       "    </tr>\n",
       "  </thead>\n",
       "  <tbody>\n",
       "    <tr>\n",
       "      <th>0</th>\n",
       "      <td>Nike</td>\n",
       "      <td>Men Court Royale Sneakers</td>\n",
       "      <td>Rs. 2921</td>\n",
       "    </tr>\n",
       "    <tr>\n",
       "      <th>1</th>\n",
       "      <td>Puma</td>\n",
       "      <td>Men Running Shoes</td>\n",
       "      <td>Rs. 2749</td>\n",
       "    </tr>\n",
       "    <tr>\n",
       "      <th>2</th>\n",
       "      <td>Red Tape</td>\n",
       "      <td>Men Walking Shoes</td>\n",
       "      <td>Rs. 1889</td>\n",
       "    </tr>\n",
       "    <tr>\n",
       "      <th>3</th>\n",
       "      <td>Nike</td>\n",
       "      <td>Kids Revolution 4 Running</td>\n",
       "      <td>Rs. 1499</td>\n",
       "    </tr>\n",
       "    <tr>\n",
       "      <th>4</th>\n",
       "      <td>ALDO</td>\n",
       "      <td>Men Leather Loafers</td>\n",
       "      <td>Rs. 11199</td>\n",
       "    </tr>\n",
       "  </tbody>\n",
       "</table>\n",
       "</div>"
      ],
      "text/plain": [
       "  brand_name        product_description      price\n",
       "0       Nike  Men Court Royale Sneakers   Rs. 2921\n",
       "1       Puma          Men Running Shoes   Rs. 2749\n",
       "2   Red Tape          Men Walking Shoes   Rs. 1889\n",
       "3       Nike  Kids Revolution 4 Running   Rs. 1499\n",
       "4       ALDO        Men Leather Loafers  Rs. 11199"
      ]
     },
     "execution_count": 464,
     "metadata": {},
     "output_type": "execute_result"
    }
   ],
   "source": [
    "page1.head()"
   ]
  },
  {
   "cell_type": "code",
   "execution_count": 465,
   "id": "e5e2f38c",
   "metadata": {},
   "outputs": [],
   "source": [
    "next_button=driver.find_element_by_xpath(\"/html/body/div[2]/div/div[1]/main/div[3]/div[2]/div/div[2]/section/div[2]/ul/li[12]/a\")\n",
    "next_button.click()"
   ]
  },
  {
   "cell_type": "code",
   "execution_count": 466,
   "id": "4f968c47",
   "metadata": {},
   "outputs": [
    {
     "data": {
      "text/plain": [
       "[<selenium.webdriver.remote.webelement.WebElement (session=\"c4f08832fb988b3d2e129ee15a13dbf0\", element=\"9bbba2f6-bb8f-4feb-a5e3-a8355ab7d01c\")>,\n",
       " <selenium.webdriver.remote.webelement.WebElement (session=\"c4f08832fb988b3d2e129ee15a13dbf0\", element=\"485d5d06-6d1c-4cc1-926e-fd5057aa2dac\")>]"
      ]
     },
     "execution_count": 466,
     "metadata": {},
     "output_type": "execute_result"
    }
   ],
   "source": [
    "brand=driver.find_elements_by_xpath(\"//h3[@class='product-brand']\")\n",
    "brand[0:2]"
   ]
  },
  {
   "cell_type": "code",
   "execution_count": 467,
   "id": "0e1d0849",
   "metadata": {},
   "outputs": [
    {
     "data": {
      "text/plain": [
       "['Red Tape', 'Nike']"
      ]
     },
     "execution_count": 467,
     "metadata": {},
     "output_type": "execute_result"
    }
   ],
   "source": [
    "page2_brand=[]\n",
    "for i in brand:\n",
    "    brand_name=i.text\n",
    "    page2_brand.append(brand_name)\n",
    "page2_brand[0:2]"
   ]
  },
  {
   "cell_type": "code",
   "execution_count": 468,
   "id": "e2486788",
   "metadata": {},
   "outputs": [
    {
     "data": {
      "text/plain": [
       "[<selenium.webdriver.remote.webelement.WebElement (session=\"c4f08832fb988b3d2e129ee15a13dbf0\", element=\"6211f5bd-8c40-4d5a-b6b4-1b87000e29c2\")>,\n",
       " <selenium.webdriver.remote.webelement.WebElement (session=\"c4f08832fb988b3d2e129ee15a13dbf0\", element=\"ad25216d-bd9a-4e9c-a2ac-f3339f2a162e\")>]"
      ]
     },
     "execution_count": 468,
     "metadata": {},
     "output_type": "execute_result"
    }
   ],
   "source": [
    "description=driver.find_elements_by_xpath(\"//h4[@class='product-product']\")\n",
    "description[0:2]"
   ]
  },
  {
   "cell_type": "code",
   "execution_count": 469,
   "id": "c9bd516b",
   "metadata": {},
   "outputs": [
    {
     "data": {
      "text/plain": [
       "['Women Walking Shoes', 'Unisex Shane Skateboarding']"
      ]
     },
     "execution_count": 469,
     "metadata": {},
     "output_type": "execute_result"
    }
   ],
   "source": [
    "page2_description=[]\n",
    "for i in description:\n",
    "    description_name=i.text\n",
    "    page2_description.append(description_name)\n",
    "page2_description[0:2]"
   ]
  },
  {
   "cell_type": "code",
   "execution_count": 470,
   "id": "469c6aab",
   "metadata": {},
   "outputs": [
    {
     "data": {
      "text/plain": [
       "[<selenium.webdriver.remote.webelement.WebElement (session=\"c4f08832fb988b3d2e129ee15a13dbf0\", element=\"dad6410c-c82b-40a2-84e2-f635842b80e4\")>,\n",
       " <selenium.webdriver.remote.webelement.WebElement (session=\"c4f08832fb988b3d2e129ee15a13dbf0\", element=\"db0cbaec-ee42-4130-986d-418905c24bd1\")>]"
      ]
     },
     "execution_count": 470,
     "metadata": {},
     "output_type": "execute_result"
    }
   ],
   "source": [
    "price=driver.find_elements_by_xpath(\"//span[@class='product-discountedPrice']\")\n",
    "price[0:2]"
   ]
  },
  {
   "cell_type": "code",
   "execution_count": 471,
   "id": "a3476595",
   "metadata": {},
   "outputs": [
    {
     "data": {
      "text/plain": [
       "['Rs. 1349', 'Rs. 5196']"
      ]
     },
     "execution_count": 471,
     "metadata": {},
     "output_type": "execute_result"
    }
   ],
   "source": [
    "page2_price=[]\n",
    "for i in price:\n",
    "    price_detail=i.text\n",
    "    page2_price.append(price_detail)\n",
    "page2_price[0:2]"
   ]
  },
  {
   "cell_type": "code",
   "execution_count": 472,
   "id": "5518307a",
   "metadata": {},
   "outputs": [
    {
     "name": "stdout",
     "output_type": "stream",
     "text": [
      "50 50 46\n"
     ]
    }
   ],
   "source": [
    "print(len(page2_brand),len(page2_description),len(page2_price))"
   ]
  },
  {
   "cell_type": "code",
   "execution_count": 478,
   "id": "102cab4d",
   "metadata": {},
   "outputs": [
    {
     "data": {
      "text/plain": [
       "['Rs. 1349', 'Rs. 5196']"
      ]
     },
     "execution_count": 478,
     "metadata": {},
     "output_type": "execute_result"
    }
   ],
   "source": [
    "page2_price.extend(['NaN','NaN','NaN','NaN'])\n",
    "page2_price[0:2]"
   ]
  },
  {
   "cell_type": "code",
   "execution_count": 477,
   "id": "db6f64e3",
   "metadata": {},
   "outputs": [
    {
     "name": "stdout",
     "output_type": "stream",
     "text": [
      "50 50 50\n"
     ]
    }
   ],
   "source": [
    "print(len(page2_brand),len(page2_description),len(page2_price))"
   ]
  },
  {
   "cell_type": "code",
   "execution_count": 479,
   "id": "fc6f951e",
   "metadata": {},
   "outputs": [
    {
     "data": {
      "text/html": [
       "<div>\n",
       "<style scoped>\n",
       "    .dataframe tbody tr th:only-of-type {\n",
       "        vertical-align: middle;\n",
       "    }\n",
       "\n",
       "    .dataframe tbody tr th {\n",
       "        vertical-align: top;\n",
       "    }\n",
       "\n",
       "    .dataframe thead th {\n",
       "        text-align: right;\n",
       "    }\n",
       "</style>\n",
       "<table border=\"1\" class=\"dataframe\">\n",
       "  <thead>\n",
       "    <tr style=\"text-align: right;\">\n",
       "      <th></th>\n",
       "      <th>brand_name</th>\n",
       "      <th>product_description</th>\n",
       "      <th>price</th>\n",
       "    </tr>\n",
       "  </thead>\n",
       "  <tbody>\n",
       "    <tr>\n",
       "      <th>0</th>\n",
       "      <td>Red Tape</td>\n",
       "      <td>Women Walking Shoes</td>\n",
       "      <td>Rs. 1349</td>\n",
       "    </tr>\n",
       "    <tr>\n",
       "      <th>1</th>\n",
       "      <td>Nike</td>\n",
       "      <td>Unisex Shane Skateboarding</td>\n",
       "      <td>Rs. 5196</td>\n",
       "    </tr>\n",
       "    <tr>\n",
       "      <th>2</th>\n",
       "      <td>Mactree</td>\n",
       "      <td>Men Suede Loafers</td>\n",
       "      <td>Rs. 898</td>\n",
       "    </tr>\n",
       "    <tr>\n",
       "      <th>3</th>\n",
       "      <td>Skechers</td>\n",
       "      <td>Men Go Walk Max- Painted Sky</td>\n",
       "      <td>Rs. 4239</td>\n",
       "    </tr>\n",
       "    <tr>\n",
       "      <th>4</th>\n",
       "      <td>ELIXIR MAN</td>\n",
       "      <td>Men Sneakers</td>\n",
       "      <td>Rs. 579</td>\n",
       "    </tr>\n",
       "  </tbody>\n",
       "</table>\n",
       "</div>"
      ],
      "text/plain": [
       "   brand_name           product_description     price\n",
       "0    Red Tape           Women Walking Shoes  Rs. 1349\n",
       "1        Nike    Unisex Shane Skateboarding  Rs. 5196\n",
       "2     Mactree             Men Suede Loafers   Rs. 898\n",
       "3    Skechers  Men Go Walk Max- Painted Sky  Rs. 4239\n",
       "4  ELIXIR MAN                  Men Sneakers   Rs. 579"
      ]
     },
     "execution_count": 479,
     "metadata": {},
     "output_type": "execute_result"
    }
   ],
   "source": [
    "page2=pd.DataFrame({})\n",
    "page2[\"brand_name\"]=page2_brand\n",
    "page2[\"product_description\"]=page2_description\n",
    "page2[\"price\"]=page2_price[0:50]\n",
    "page2.head()"
   ]
  },
  {
   "cell_type": "code",
   "execution_count": 480,
   "id": "fc8876af",
   "metadata": {},
   "outputs": [
    {
     "data": {
      "text/html": [
       "<div>\n",
       "<style scoped>\n",
       "    .dataframe tbody tr th:only-of-type {\n",
       "        vertical-align: middle;\n",
       "    }\n",
       "\n",
       "    .dataframe tbody tr th {\n",
       "        vertical-align: top;\n",
       "    }\n",
       "\n",
       "    .dataframe thead th {\n",
       "        text-align: right;\n",
       "    }\n",
       "</style>\n",
       "<table border=\"1\" class=\"dataframe\">\n",
       "  <thead>\n",
       "    <tr style=\"text-align: right;\">\n",
       "      <th></th>\n",
       "      <th>brand_name</th>\n",
       "      <th>product_description</th>\n",
       "      <th>price</th>\n",
       "    </tr>\n",
       "  </thead>\n",
       "  <tbody>\n",
       "    <tr>\n",
       "      <th>0</th>\n",
       "      <td>Nike</td>\n",
       "      <td>Men Court Royale Sneakers</td>\n",
       "      <td>Rs. 2921</td>\n",
       "    </tr>\n",
       "    <tr>\n",
       "      <th>1</th>\n",
       "      <td>Puma</td>\n",
       "      <td>Men Running Shoes</td>\n",
       "      <td>Rs. 2749</td>\n",
       "    </tr>\n",
       "    <tr>\n",
       "      <th>2</th>\n",
       "      <td>Red Tape</td>\n",
       "      <td>Men Walking Shoes</td>\n",
       "      <td>Rs. 1889</td>\n",
       "    </tr>\n",
       "    <tr>\n",
       "      <th>3</th>\n",
       "      <td>Nike</td>\n",
       "      <td>Kids Revolution 4 Running</td>\n",
       "      <td>Rs. 1499</td>\n",
       "    </tr>\n",
       "    <tr>\n",
       "      <th>4</th>\n",
       "      <td>ALDO</td>\n",
       "      <td>Men Leather Loafers</td>\n",
       "      <td>Rs. 11199</td>\n",
       "    </tr>\n",
       "    <tr>\n",
       "      <th>...</th>\n",
       "      <td>...</td>\n",
       "      <td>...</td>\n",
       "      <td>...</td>\n",
       "    </tr>\n",
       "    <tr>\n",
       "      <th>45</th>\n",
       "      <td>ALDO</td>\n",
       "      <td>Men Textured Leather Loafers</td>\n",
       "      <td>Rs. 1109</td>\n",
       "    </tr>\n",
       "    <tr>\n",
       "      <th>46</th>\n",
       "      <td>Skechers</td>\n",
       "      <td>Women Walking Shoes</td>\n",
       "      <td>NaN</td>\n",
       "    </tr>\n",
       "    <tr>\n",
       "      <th>47</th>\n",
       "      <td>Mast &amp; Harbour</td>\n",
       "      <td>Men Slip-On Sneakers</td>\n",
       "      <td>NaN</td>\n",
       "    </tr>\n",
       "    <tr>\n",
       "      <th>48</th>\n",
       "      <td>H&amp;M</td>\n",
       "      <td>Men Slip-On Trainers</td>\n",
       "      <td>NaN</td>\n",
       "    </tr>\n",
       "    <tr>\n",
       "      <th>49</th>\n",
       "      <td>Red Tape</td>\n",
       "      <td>Unisex Kids Walking Shoes</td>\n",
       "      <td>NaN</td>\n",
       "    </tr>\n",
       "  </tbody>\n",
       "</table>\n",
       "<p>100 rows × 3 columns</p>\n",
       "</div>"
      ],
      "text/plain": [
       "        brand_name           product_description      price\n",
       "0             Nike     Men Court Royale Sneakers   Rs. 2921\n",
       "1             Puma             Men Running Shoes   Rs. 2749\n",
       "2         Red Tape             Men Walking Shoes   Rs. 1889\n",
       "3             Nike     Kids Revolution 4 Running   Rs. 1499\n",
       "4             ALDO           Men Leather Loafers  Rs. 11199\n",
       "..             ...                           ...        ...\n",
       "45            ALDO  Men Textured Leather Loafers   Rs. 1109\n",
       "46        Skechers           Women Walking Shoes        NaN\n",
       "47  Mast & Harbour          Men Slip-On Sneakers        NaN\n",
       "48             H&M          Men Slip-On Trainers        NaN\n",
       "49        Red Tape     Unisex Kids Walking Shoes        NaN\n",
       "\n",
       "[100 rows x 3 columns]"
      ]
     },
     "execution_count": 480,
     "metadata": {},
     "output_type": "execute_result"
    }
   ],
   "source": [
    "shoes_data = pd.concat([page1,page2])\n",
    "shoes_data"
   ]
  },
  {
   "cell_type": "markdown",
   "id": "4e8f0e8a",
   "metadata": {},
   "source": [
    "Q8: Go to webpage https://www.amazon.in/\n",
    "Enter “Laptop” in the search field and then click the search icon.\n",
    "Then set CPU Type filter to “Intel Core i7” and “Intel Core i9” "
   ]
  },
  {
   "cell_type": "markdown",
   "id": "cda376bb",
   "metadata": {},
   "source": [
    "After setting the filters scrape first 10 laptops data. You have to scrape 3 attributesfor each laptop:\n",
    "1. Title\n",
    "2. Ratings\n",
    "3. Price"
   ]
  },
  {
   "cell_type": "code",
   "execution_count": 523,
   "id": "75366167",
   "metadata": {},
   "outputs": [],
   "source": [
    "driver.get(\"https://www.amazon.in/\")"
   ]
  },
  {
   "cell_type": "code",
   "execution_count": 524,
   "id": "5a536bf5",
   "metadata": {},
   "outputs": [],
   "source": [
    "search=driver.find_element_by_xpath(\"/html/body/div[2]/header/div/div[1]/div[2]/div/form/div[2]/div[1]/input\")\n",
    "search.send_keys(\"Laptop\")"
   ]
  },
  {
   "cell_type": "code",
   "execution_count": 525,
   "id": "97c5a2c1",
   "metadata": {},
   "outputs": [],
   "source": [
    "search_button=driver.find_element_by_xpath(\"/html/body/div[2]/header/div/div[1]/div[2]/div/form/div[3]/div/span/input\")\n",
    "search_button.click()"
   ]
  },
  {
   "cell_type": "code",
   "execution_count": 526,
   "id": "35cac5a2",
   "metadata": {},
   "outputs": [],
   "source": [
    "\n",
    "filter1=driver.find_element_by_xpath(\"//*[@id='p_n_feature_thirteen_browse-bin/12598163031']/span/a\")\n",
    "filter1.click()\n"
   ]
  },
  {
   "cell_type": "code",
   "execution_count": 529,
   "id": "b5211614",
   "metadata": {},
   "outputs": [
    {
     "data": {
      "text/plain": [
       "[<selenium.webdriver.remote.webelement.WebElement (session=\"c4f08832fb988b3d2e129ee15a13dbf0\", element=\"b0db2278-db85-423b-8a67-2bc0048f6a40\")>,\n",
       " <selenium.webdriver.remote.webelement.WebElement (session=\"c4f08832fb988b3d2e129ee15a13dbf0\", element=\"1d65f685-1456-4b39-839a-8026f7e7598d\")>]"
      ]
     },
     "execution_count": 529,
     "metadata": {},
     "output_type": "execute_result"
    }
   ],
   "source": [
    "title=driver.find_elements_by_xpath(\"//h2[@class='a-size-mini a-spacing-none a-color-base s-line-clamp-2']\")\n",
    "title[0:2]"
   ]
  },
  {
   "cell_type": "code",
   "execution_count": 531,
   "id": "5b8369bc",
   "metadata": {},
   "outputs": [
    {
     "data": {
      "text/plain": [
       "['Samsung Galaxy Book2 Pro 360 Intel 12th Gen i7 EvoTM 15.6 inch Touchscreen 2-in-1 AMOLED Thin & Light Laptop (16 GB/512 GB SSD/Windows 11/MSO Home & Student 2021/Graphite/1.41Kg), NP950QED-KA1IN',\n",
       " 'Samsung Galaxy Book2 360 Intel 12th Gen i7 EvoTM  33.78cm (13.3\") AMOLED Thin & Light Laptop (16 GB/512 GB SSD/Windows 11/MS Office Home & Student 2021/Graphite/1.16Kg), NP730QED-KA1IN']"
      ]
     },
     "execution_count": 531,
     "metadata": {},
     "output_type": "execute_result"
    }
   ],
   "source": [
    "page1_title=[]\n",
    "for i in title:\n",
    "    titles=i.text\n",
    "    page1_title.append(titles)\n",
    "page1_title[0:2]"
   ]
  },
  {
   "cell_type": "code",
   "execution_count": 582,
   "id": "73cfcfde",
   "metadata": {},
   "outputs": [
    {
     "data": {
      "text/plain": [
       "[<selenium.webdriver.remote.webelement.WebElement (session=\"c4f08832fb988b3d2e129ee15a13dbf0\", element=\"27ca5326-0f8b-4abf-a737-5ea4ba56ae3c\")>,\n",
       " <selenium.webdriver.remote.webelement.WebElement (session=\"c4f08832fb988b3d2e129ee15a13dbf0\", element=\"0cbe04cb-7a4d-47bf-9490-fe34a20f4ce0\")>]"
      ]
     },
     "execution_count": 582,
     "metadata": {},
     "output_type": "execute_result"
    }
   ],
   "source": [
    "rating=driver.find_elements_by_xpath(\"//span[@class='a-icon-alt']\")\n",
    "rating[0:2]"
   ]
  },
  {
   "cell_type": "code",
   "execution_count": 583,
   "id": "58b2f932",
   "metadata": {},
   "outputs": [
    {
     "data": {
      "text/plain": [
       "['',\n",
       " '',\n",
       " '',\n",
       " '',\n",
       " '',\n",
       " '',\n",
       " '',\n",
       " '',\n",
       " '',\n",
       " '',\n",
       " '',\n",
       " '',\n",
       " '',\n",
       " '',\n",
       " '',\n",
       " '',\n",
       " '',\n",
       " '',\n",
       " '',\n",
       " '',\n",
       " '',\n",
       " '',\n",
       " '',\n",
       " '',\n",
       " '',\n",
       " '',\n",
       " '',\n",
       " '',\n",
       " '',\n",
       " '']"
      ]
     },
     "execution_count": 583,
     "metadata": {},
     "output_type": "execute_result"
    }
   ],
   "source": [
    "page1_rating=[]\n",
    "for i in rating:\n",
    "    ratings=i.text\n",
    "    page1_rating.append(ratings)\n",
    "page1_rating"
   ]
  },
  {
   "cell_type": "code",
   "execution_count": 575,
   "id": "d84c4d0c",
   "metadata": {},
   "outputs": [
    {
     "data": {
      "text/plain": [
       "[<selenium.webdriver.remote.webelement.WebElement (session=\"c4f08832fb988b3d2e129ee15a13dbf0\", element=\"a3ed81cf-e141-4daf-b1af-65805685263a\")>,\n",
       " <selenium.webdriver.remote.webelement.WebElement (session=\"c4f08832fb988b3d2e129ee15a13dbf0\", element=\"6bad2d35-9921-4864-8a70-2c49c9b0b783\")>]"
      ]
     },
     "execution_count": 575,
     "metadata": {},
     "output_type": "execute_result"
    }
   ],
   "source": [
    "price =driver.find_elements_by_xpath(\"//span[@class='a-price-whole']\")\n",
    "price[0:2]"
   ]
  },
  {
   "cell_type": "code",
   "execution_count": 577,
   "id": "4a0b16f9",
   "metadata": {},
   "outputs": [
    {
     "data": {
      "text/plain": [
       "['1,29,990', '1,05,990']"
      ]
     },
     "execution_count": 577,
     "metadata": {},
     "output_type": "execute_result"
    }
   ],
   "source": [
    "page1_price=[]\n",
    "for i in price:\n",
    "    prices=i.text\n",
    "    page1_price.append(prices)\n",
    "page1_price[0:2]"
   ]
  },
  {
   "cell_type": "code",
   "execution_count": 584,
   "id": "0cc58a0d",
   "metadata": {},
   "outputs": [
    {
     "name": "stdout",
     "output_type": "stream",
     "text": [
      "30 30 30\n"
     ]
    }
   ],
   "source": [
    "print(len(page1_price),len(page1_rating),len(page1_title))"
   ]
  },
  {
   "cell_type": "code",
   "execution_count": 587,
   "id": "8f3a1ce2",
   "metadata": {},
   "outputs": [
    {
     "data": {
      "text/html": [
       "<div>\n",
       "<style scoped>\n",
       "    .dataframe tbody tr th:only-of-type {\n",
       "        vertical-align: middle;\n",
       "    }\n",
       "\n",
       "    .dataframe tbody tr th {\n",
       "        vertical-align: top;\n",
       "    }\n",
       "\n",
       "    .dataframe thead th {\n",
       "        text-align: right;\n",
       "    }\n",
       "</style>\n",
       "<table border=\"1\" class=\"dataframe\">\n",
       "  <thead>\n",
       "    <tr style=\"text-align: right;\">\n",
       "      <th></th>\n",
       "      <th>title</th>\n",
       "      <th>rating</th>\n",
       "      <th>price</th>\n",
       "    </tr>\n",
       "  </thead>\n",
       "  <tbody>\n",
       "    <tr>\n",
       "      <th>0</th>\n",
       "      <td>Samsung Galaxy Book2 Pro 360 Intel 12th Gen i7...</td>\n",
       "      <td></td>\n",
       "      <td>1,29,990</td>\n",
       "    </tr>\n",
       "    <tr>\n",
       "      <th>1</th>\n",
       "      <td>Samsung Galaxy Book2 360 Intel 12th Gen i7 Evo...</td>\n",
       "      <td></td>\n",
       "      <td>1,05,990</td>\n",
       "    </tr>\n",
       "    <tr>\n",
       "      <th>2</th>\n",
       "      <td>ASUS VivoBook 14 (2021), 14-inch (35.56 cms) F...</td>\n",
       "      <td></td>\n",
       "      <td>57,490</td>\n",
       "    </tr>\n",
       "    <tr>\n",
       "      <th>3</th>\n",
       "      <td>HP Pavilion 14, 11th Gen Intel Core i7-16GB RA...</td>\n",
       "      <td></td>\n",
       "      <td>86,990</td>\n",
       "    </tr>\n",
       "    <tr>\n",
       "      <th>4</th>\n",
       "      <td>Samsung Galaxy Book2 360 Intel 12th Gen i7 Evo...</td>\n",
       "      <td></td>\n",
       "      <td>1,05,990</td>\n",
       "    </tr>\n",
       "    <tr>\n",
       "      <th>5</th>\n",
       "      <td>Lenovo ThinkBook 15 Intel 11th Gen Core i7 15....</td>\n",
       "      <td></td>\n",
       "      <td>86,990</td>\n",
       "    </tr>\n",
       "    <tr>\n",
       "      <th>6</th>\n",
       "      <td>Lenovo IdeaPad Flex 5 11th Gen Intel Core i7 1...</td>\n",
       "      <td></td>\n",
       "      <td>81,990</td>\n",
       "    </tr>\n",
       "    <tr>\n",
       "      <th>7</th>\n",
       "      <td>HP Pavilion x360 11th Gen Intel Core i7 14 inc...</td>\n",
       "      <td></td>\n",
       "      <td>88,490</td>\n",
       "    </tr>\n",
       "    <tr>\n",
       "      <th>8</th>\n",
       "      <td>MSI Katana GF66 Gaming, Intel i7-11800H, 15.6\"...</td>\n",
       "      <td></td>\n",
       "      <td>91,590</td>\n",
       "    </tr>\n",
       "    <tr>\n",
       "      <th>9</th>\n",
       "      <td>ASUS TUF Gaming F15 (2021), 15.6\" (39.62 cms) ...</td>\n",
       "      <td></td>\n",
       "      <td>89,990</td>\n",
       "    </tr>\n",
       "  </tbody>\n",
       "</table>\n",
       "</div>"
      ],
      "text/plain": [
       "                                               title rating     price\n",
       "0  Samsung Galaxy Book2 Pro 360 Intel 12th Gen i7...         1,29,990\n",
       "1  Samsung Galaxy Book2 360 Intel 12th Gen i7 Evo...         1,05,990\n",
       "2  ASUS VivoBook 14 (2021), 14-inch (35.56 cms) F...           57,490\n",
       "3  HP Pavilion 14, 11th Gen Intel Core i7-16GB RA...           86,990\n",
       "4  Samsung Galaxy Book2 360 Intel 12th Gen i7 Evo...         1,05,990\n",
       "5  Lenovo ThinkBook 15 Intel 11th Gen Core i7 15....           86,990\n",
       "6  Lenovo IdeaPad Flex 5 11th Gen Intel Core i7 1...           81,990\n",
       "7  HP Pavilion x360 11th Gen Intel Core i7 14 inc...           88,490\n",
       "8  MSI Katana GF66 Gaming, Intel i7-11800H, 15.6\"...           91,590\n",
       "9  ASUS TUF Gaming F15 (2021), 15.6\" (39.62 cms) ...           89,990"
      ]
     },
     "execution_count": 587,
     "metadata": {},
     "output_type": "execute_result"
    }
   ],
   "source": [
    "laptop_details=pd.DataFrame({})\n",
    "laptop_details[\"title\"]=page1_title[0:10]\n",
    "laptop_details[\"rating\"]=page1_rating[0:10]\n",
    "laptop_details[\"price\"]=page1_price[0:10]\n",
    "laptop_details"
   ]
  },
  {
   "cell_type": "markdown",
   "id": "dbf570e0",
   "metadata": {},
   "source": [
    "Q9: Write a python program to scrape data for first 10 job results for Data Scientist Designation in Noida\n",
    "location. You have to scrape company name, No. of days ago when job was posted, Rating of the company.\n"
   ]
  },
  {
   "cell_type": "code",
   "execution_count": 588,
   "id": "92386c19",
   "metadata": {},
   "outputs": [],
   "source": [
    "driver.get(\"http://www.ambitionbox.com/\")"
   ]
  },
  {
   "cell_type": "code",
   "execution_count": 590,
   "id": "7e9d3741",
   "metadata": {},
   "outputs": [],
   "source": [
    "job_option=driver.find_element_by_xpath(\"/html/body/div[1]/nav/nav/a[6]\")\n",
    "job_option.click()"
   ]
  },
  {
   "cell_type": "code",
   "execution_count": 591,
   "id": "2d643a1f",
   "metadata": {},
   "outputs": [],
   "source": [
    "search_designation=driver.find_element_by_xpath(\"/html/body/div/div/div/div[2]/div[1]/div[1]/div/div/div/div/span/input\")\n",
    "search_designation.send_keys(\"Data Scientist\")\n",
    "search_button=driver.find_element_by_xpath(\"/html/body/div/div/div/div[2]/div[1]/div[1]/div/div/div/button/span\")\n",
    "search_button.click()"
   ]
  },
  {
   "cell_type": "code",
   "execution_count": 592,
   "id": "f9313c18",
   "metadata": {},
   "outputs": [],
   "source": [
    "search_location=driver.find_element_by_xpath(\"/html/body/div/div/div/div[2]/div[1]/div[2]/div[1]/div/div/div/div[2]/div[1]/p\")\n",
    "search_location.click()"
   ]
  },
  {
   "cell_type": "code",
   "execution_count": 595,
   "id": "1303b093",
   "metadata": {},
   "outputs": [],
   "source": [
    "noida_location=driver.find_element_by_xpath(\"//*[@id='filters-row']/div/div/div[2]/div[2]/div/div[3]/div[1]/div[2]/div/label\")\n",
    "noida_location.click()"
   ]
  },
  {
   "cell_type": "code",
   "execution_count": 600,
   "id": "25d47964",
   "metadata": {},
   "outputs": [
    {
     "data": {
      "text/plain": [
       "[<selenium.webdriver.remote.webelement.WebElement (session=\"c4f08832fb988b3d2e129ee15a13dbf0\", element=\"db51c738-95a2-47fc-bc71-d764ef6c5fca\")>,\n",
       " <selenium.webdriver.remote.webelement.WebElement (session=\"c4f08832fb988b3d2e129ee15a13dbf0\", element=\"0ac11ca3-eda1-434b-b6d1-29ffa753cc75\")>]"
      ]
     },
     "execution_count": 600,
     "metadata": {},
     "output_type": "execute_result"
    }
   ],
   "source": [
    "name=driver.find_elements_by_xpath(\"//p[@class='company body-medium']\")\n",
    "name[0:2]"
   ]
  },
  {
   "cell_type": "code",
   "execution_count": 602,
   "id": "30047689",
   "metadata": {},
   "outputs": [
    {
     "data": {
      "text/plain": [
       "['GENPACT India Private Limited',\n",
       " 'Optum Global Solutions (India) Private Limited']"
      ]
     },
     "execution_count": 602,
     "metadata": {},
     "output_type": "execute_result"
    }
   ],
   "source": [
    "company_name=[]\n",
    "for i in name:\n",
    "    names=i.text\n",
    "    company_name.append(names)\n",
    "company_name[0:2]"
   ]
  },
  {
   "cell_type": "code",
   "execution_count": 607,
   "id": "6427a7e4",
   "metadata": {},
   "outputs": [
    {
     "data": {
      "text/plain": [
       "[<selenium.webdriver.remote.webelement.WebElement (session=\"c4f08832fb988b3d2e129ee15a13dbf0\", element=\"9dcc0f66-3104-4086-b629-e6179361289a\")>,\n",
       " <selenium.webdriver.remote.webelement.WebElement (session=\"c4f08832fb988b3d2e129ee15a13dbf0\", element=\"70e51c6b-2c68-42e6-9402-2ab83f27d9c1\")>]"
      ]
     },
     "execution_count": 607,
     "metadata": {},
     "output_type": "execute_result"
    }
   ],
   "source": [
    "time_of_post=driver.find_elements_by_xpath(\"//span[@class='body-small-l']\")\n",
    "time_of_post[0:2]"
   ]
  },
  {
   "cell_type": "code",
   "execution_count": 614,
   "id": "6e49cb5a",
   "metadata": {},
   "outputs": [
    {
     "data": {
      "text/plain": [
       "['23hr ago',\n",
       " '15d ago',\n",
       " '14d ago',\n",
       " '17d ago',\n",
       " '21d ago',\n",
       " '1mon ago',\n",
       " '1d ago',\n",
       " '10d ago',\n",
       " '1mon ago',\n",
       " '1mon ago']"
      ]
     },
     "execution_count": 614,
     "metadata": {},
     "output_type": "execute_result"
    }
   ],
   "source": [
    "post_timing=[]\n",
    "for i in time_of_post:\n",
    "    times=i.text\n",
    "    post_timing.append (times)\n",
    "post_timing[0:20:2]"
   ]
  },
  {
   "cell_type": "code",
   "execution_count": 615,
   "id": "204c0a1a",
   "metadata": {},
   "outputs": [
    {
     "data": {
      "text/plain": [
       "[<selenium.webdriver.remote.webelement.WebElement (session=\"c4f08832fb988b3d2e129ee15a13dbf0\", element=\"b0c5c344-8cf0-4a3f-a20d-355b8ac59541\")>,\n",
       " <selenium.webdriver.remote.webelement.WebElement (session=\"c4f08832fb988b3d2e129ee15a13dbf0\", element=\"798614cd-4223-463b-9bf6-1965ff93ba9e\")>]"
      ]
     },
     "execution_count": 615,
     "metadata": {},
     "output_type": "execute_result"
    }
   ],
   "source": [
    "rating=driver.find_elements_by_xpath(\"//span[@class='body-small']\")\n",
    "rating[0:2]"
   ]
  },
  {
   "cell_type": "code",
   "execution_count": 616,
   "id": "7eebf18e",
   "metadata": {},
   "outputs": [
    {
     "data": {
      "text/plain": [
       "['4.0', '4.1', '3.7', '4.0', '3.8', '4.1', '3.5', '3.6', '4.2', '4.2']"
      ]
     },
     "execution_count": 616,
     "metadata": {},
     "output_type": "execute_result"
    }
   ],
   "source": [
    "company_rating=[]\n",
    "for i in rating:\n",
    "    ratings=i.text\n",
    "    company_rating.append (ratings)\n",
    "company_rating"
   ]
  },
  {
   "cell_type": "code",
   "execution_count": 617,
   "id": "2d3f91bf",
   "metadata": {},
   "outputs": [
    {
     "data": {
      "text/html": [
       "<div>\n",
       "<style scoped>\n",
       "    .dataframe tbody tr th:only-of-type {\n",
       "        vertical-align: middle;\n",
       "    }\n",
       "\n",
       "    .dataframe tbody tr th {\n",
       "        vertical-align: top;\n",
       "    }\n",
       "\n",
       "    .dataframe thead th {\n",
       "        text-align: right;\n",
       "    }\n",
       "</style>\n",
       "<table border=\"1\" class=\"dataframe\">\n",
       "  <thead>\n",
       "    <tr style=\"text-align: right;\">\n",
       "      <th></th>\n",
       "      <th>name</th>\n",
       "      <th>No. of days ago when job was posted</th>\n",
       "      <th>ratings</th>\n",
       "    </tr>\n",
       "  </thead>\n",
       "  <tbody>\n",
       "    <tr>\n",
       "      <th>0</th>\n",
       "      <td>GENPACT India Private Limited</td>\n",
       "      <td>23hr ago</td>\n",
       "      <td>4.0</td>\n",
       "    </tr>\n",
       "    <tr>\n",
       "      <th>1</th>\n",
       "      <td>Optum Global Solutions (India) Private Limited</td>\n",
       "      <td>15d ago</td>\n",
       "      <td>4.1</td>\n",
       "    </tr>\n",
       "    <tr>\n",
       "      <th>2</th>\n",
       "      <td>Tech Mahindra Ltd</td>\n",
       "      <td>14d ago</td>\n",
       "      <td>3.7</td>\n",
       "    </tr>\n",
       "    <tr>\n",
       "      <th>3</th>\n",
       "      <td>GENPACT India Private Limited</td>\n",
       "      <td>17d ago</td>\n",
       "      <td>4.0</td>\n",
       "    </tr>\n",
       "    <tr>\n",
       "      <th>4</th>\n",
       "      <td>HCL Technologies</td>\n",
       "      <td>21d ago</td>\n",
       "      <td>3.8</td>\n",
       "    </tr>\n",
       "    <tr>\n",
       "      <th>5</th>\n",
       "      <td>Optum Global Solutions (India) Private Limited</td>\n",
       "      <td>1mon ago</td>\n",
       "      <td>4.1</td>\n",
       "    </tr>\n",
       "    <tr>\n",
       "      <th>6</th>\n",
       "      <td>Newgen Software Technologies Ltd.</td>\n",
       "      <td>1d ago</td>\n",
       "      <td>3.5</td>\n",
       "    </tr>\n",
       "    <tr>\n",
       "      <th>7</th>\n",
       "      <td>JK Technosoft Ltd</td>\n",
       "      <td>10d ago</td>\n",
       "      <td>3.6</td>\n",
       "    </tr>\n",
       "    <tr>\n",
       "      <th>8</th>\n",
       "      <td>Pitney Bowes India Pvt Ltd</td>\n",
       "      <td>1mon ago</td>\n",
       "      <td>4.2</td>\n",
       "    </tr>\n",
       "    <tr>\n",
       "      <th>9</th>\n",
       "      <td>Microsoft India (R and D) Pvt Ltd</td>\n",
       "      <td>1mon ago</td>\n",
       "      <td>4.2</td>\n",
       "    </tr>\n",
       "  </tbody>\n",
       "</table>\n",
       "</div>"
      ],
      "text/plain": [
       "                                             name  \\\n",
       "0                   GENPACT India Private Limited   \n",
       "1  Optum Global Solutions (India) Private Limited   \n",
       "2                               Tech Mahindra Ltd   \n",
       "3                   GENPACT India Private Limited   \n",
       "4                                HCL Technologies   \n",
       "5  Optum Global Solutions (India) Private Limited   \n",
       "6               Newgen Software Technologies Ltd.   \n",
       "7                               JK Technosoft Ltd   \n",
       "8                      Pitney Bowes India Pvt Ltd   \n",
       "9               Microsoft India (R and D) Pvt Ltd   \n",
       "\n",
       "  No. of days ago when job was posted ratings  \n",
       "0                            23hr ago     4.0  \n",
       "1                             15d ago     4.1  \n",
       "2                             14d ago     3.7  \n",
       "3                             17d ago     4.0  \n",
       "4                             21d ago     3.8  \n",
       "5                            1mon ago     4.1  \n",
       "6                              1d ago     3.5  \n",
       "7                             10d ago     3.6  \n",
       "8                            1mon ago     4.2  \n",
       "9                            1mon ago     4.2  "
      ]
     },
     "execution_count": 617,
     "metadata": {},
     "output_type": "execute_result"
    }
   ],
   "source": [
    "comany_details = pd.DataFrame({})\n",
    "comany_details[\"name\"]=company_name\n",
    "comany_details[\"No. of days ago when job was posted\"] = post_timing[0:20:2]\n",
    "comany_details[\"ratings\"]=company_rating\n",
    "comany_details"
   ]
  },
  {
   "cell_type": "markdown",
   "id": "a4fee1e0",
   "metadata": {},
   "source": [
    "Q10: Write a python program to scrape the salary data for Data Scientist designation.\n",
    "You have to scrape Company name, Number of salaries, Average salary, Minsalary, Max Salary.\n"
   ]
  },
  {
   "cell_type": "code",
   "execution_count": 656,
   "id": "1b1bfec1",
   "metadata": {},
   "outputs": [],
   "source": [
    "driver.get(\"http://www.ambitionbox.com/\")"
   ]
  },
  {
   "cell_type": "code",
   "execution_count": 657,
   "id": "ba55a50b",
   "metadata": {},
   "outputs": [],
   "source": [
    "salary_option=driver.find_element_by_xpath(\"/html/body/div[1]/nav/nav/a[4]\")\n",
    "salary_option.click()"
   ]
  },
  {
   "cell_type": "code",
   "execution_count": 659,
   "id": "733e5afb",
   "metadata": {},
   "outputs": [],
   "source": [
    "search_designation=driver.find_element_by_xpath(\"/html/body/div/div/div/main/section[1]/div[2]/div[1]/span/input\")\n",
    "search_designation.send_keys(\"Data Scientist\")\n",
    "search_designation.click()"
   ]
  },
  {
   "cell_type": "code",
   "execution_count": 664,
   "id": "0a16c3f9",
   "metadata": {},
   "outputs": [
    {
     "data": {
      "text/plain": [
       "[<selenium.webdriver.remote.webelement.WebElement (session=\"c4f08832fb988b3d2e129ee15a13dbf0\", element=\"43332409-bcbd-4d46-8996-8b93cb3a9656\")>,\n",
       " <selenium.webdriver.remote.webelement.WebElement (session=\"c4f08832fb988b3d2e129ee15a13dbf0\", element=\"969b0b4c-7727-44d3-af66-9096a78755c9\")>,\n",
       " <selenium.webdriver.remote.webelement.WebElement (session=\"c4f08832fb988b3d2e129ee15a13dbf0\", element=\"899dc55d-ddde-458a-b01c-ebe92bb6c0fa\")>,\n",
       " <selenium.webdriver.remote.webelement.WebElement (session=\"c4f08832fb988b3d2e129ee15a13dbf0\", element=\"4b483328-a33c-45dd-a620-f2e123bf3061\")>,\n",
       " <selenium.webdriver.remote.webelement.WebElement (session=\"c4f08832fb988b3d2e129ee15a13dbf0\", element=\"e78db180-3db8-4769-bb02-6cb1505e8d2e\")>,\n",
       " <selenium.webdriver.remote.webelement.WebElement (session=\"c4f08832fb988b3d2e129ee15a13dbf0\", element=\"950ed799-813d-4d27-9503-eb758fd026e0\")>,\n",
       " <selenium.webdriver.remote.webelement.WebElement (session=\"c4f08832fb988b3d2e129ee15a13dbf0\", element=\"015252b5-f819-40da-b362-8e7dfb63f1c1\")>,\n",
       " <selenium.webdriver.remote.webelement.WebElement (session=\"c4f08832fb988b3d2e129ee15a13dbf0\", element=\"0b696952-c108-4fff-99bd-d68261aa57f9\")>,\n",
       " <selenium.webdriver.remote.webelement.WebElement (session=\"c4f08832fb988b3d2e129ee15a13dbf0\", element=\"a3716f56-50c6-4f26-8e3e-58b5ff0b2cbb\")>,\n",
       " <selenium.webdriver.remote.webelement.WebElement (session=\"c4f08832fb988b3d2e129ee15a13dbf0\", element=\"aea64e87-a3b1-4bfd-9975-c827aafd6737\")>]"
      ]
     },
     "execution_count": 664,
     "metadata": {},
     "output_type": "execute_result"
    }
   ],
   "source": [
    "name=driver.find_elements_by_xpath(\"//div[@class='name']\")\n",
    "name"
   ]
  },
  {
   "cell_type": "code",
   "execution_count": 665,
   "id": "17ffc7ca",
   "metadata": {},
   "outputs": [
    {
     "data": {
      "text/plain": [
       "['Walmart\\nbased on 12 salaries', 'Ab Inbev\\nbased on 29 salaries']"
      ]
     },
     "execution_count": 665,
     "metadata": {},
     "output_type": "execute_result"
    }
   ],
   "source": [
    "company_name=[]\n",
    "for i in name:\n",
    "    names=i.text\n",
    "    company_name.append(names)\n",
    "company_name[0:2]"
   ]
  },
  {
   "cell_type": "code",
   "execution_count": 667,
   "id": "04214268",
   "metadata": {},
   "outputs": [
    {
     "data": {
      "text/plain": [
       "[<selenium.webdriver.remote.webelement.WebElement (session=\"c4f08832fb988b3d2e129ee15a13dbf0\", element=\"5b48a990-51b6-4508-86c3-df7dfc70a71a\")>,\n",
       " <selenium.webdriver.remote.webelement.WebElement (session=\"c4f08832fb988b3d2e129ee15a13dbf0\", element=\"7a8d3a1b-db71-41a8-a8c1-032be6286b43\")>]"
      ]
     },
     "execution_count": 667,
     "metadata": {},
     "output_type": "execute_result"
    }
   ],
   "source": [
    "avg_sal=driver.find_elements_by_xpath(\"//p[@class='averageCtc']\")\n",
    "avg_sal[0:2]"
   ]
  },
  {
   "cell_type": "code",
   "execution_count": 668,
   "id": "d39b91bc",
   "metadata": {},
   "outputs": [
    {
     "data": {
      "text/plain": [
       "['₹ 28.7L', '₹ 20.4L']"
      ]
     },
     "execution_count": 668,
     "metadata": {},
     "output_type": "execute_result"
    }
   ],
   "source": [
    "avg_salary=[]\n",
    "for i in avg_sal:\n",
    "    salaries=i.text\n",
    "    avg_salary.append(salaries)\n",
    "avg_salary[0:2]"
   ]
  },
  {
   "cell_type": "code",
   "execution_count": 669,
   "id": "c5d969c4",
   "metadata": {},
   "outputs": [
    {
     "data": {
      "text/plain": [
       "[<selenium.webdriver.remote.webelement.WebElement (session=\"c4f08832fb988b3d2e129ee15a13dbf0\", element=\"0651da0b-f15d-4c5a-9cdf-ea1ebb32f776\")>,\n",
       " <selenium.webdriver.remote.webelement.WebElement (session=\"c4f08832fb988b3d2e129ee15a13dbf0\", element=\"ad643030-c14e-408f-92d8-58dd9e74a93a\")>]"
      ]
     },
     "execution_count": 669,
     "metadata": {},
     "output_type": "execute_result"
    }
   ],
   "source": [
    "min_sal=driver.find_elements_by_xpath(\"//div[@class='value body-medium']\")\n",
    "min_sal[0:2]"
   ]
  },
  {
   "cell_type": "code",
   "execution_count": 675,
   "id": "d3c5082a",
   "metadata": {},
   "outputs": [
    {
     "data": {
      "text/plain": [
       "['₹ 17.7L', '₹ 35.0L']"
      ]
     },
     "execution_count": 675,
     "metadata": {},
     "output_type": "execute_result"
    }
   ],
   "source": [
    "min_salary=[]\n",
    "for i in min_sal:\n",
    "    sals=i.text\n",
    "    min_salary.append(sals)\n",
    "min_salary[0:2]"
   ]
  },
  {
   "cell_type": "code",
   "execution_count": 674,
   "id": "25b0f634",
   "metadata": {},
   "outputs": [
    {
     "data": {
      "text/html": [
       "<div>\n",
       "<style scoped>\n",
       "    .dataframe tbody tr th:only-of-type {\n",
       "        vertical-align: middle;\n",
       "    }\n",
       "\n",
       "    .dataframe tbody tr th {\n",
       "        vertical-align: top;\n",
       "    }\n",
       "\n",
       "    .dataframe thead th {\n",
       "        text-align: right;\n",
       "    }\n",
       "</style>\n",
       "<table border=\"1\" class=\"dataframe\">\n",
       "  <thead>\n",
       "    <tr style=\"text-align: right;\">\n",
       "      <th></th>\n",
       "      <th>name and Number of salaries</th>\n",
       "      <th>avarage salary</th>\n",
       "      <th>maximum salary</th>\n",
       "      <th>minimum salary</th>\n",
       "    </tr>\n",
       "  </thead>\n",
       "  <tbody>\n",
       "    <tr>\n",
       "      <th>0</th>\n",
       "      <td>Walmart\\nbased on 12 salaries</td>\n",
       "      <td>₹ 28.7L</td>\n",
       "      <td>₹ 35.0L</td>\n",
       "      <td>₹ 17.7L</td>\n",
       "    </tr>\n",
       "    <tr>\n",
       "      <th>1</th>\n",
       "      <td>Ab Inbev\\nbased on 29 salaries</td>\n",
       "      <td>₹ 20.4L</td>\n",
       "      <td>₹ 25.5L</td>\n",
       "      <td>₹ 15.0L</td>\n",
       "    </tr>\n",
       "    <tr>\n",
       "      <th>2</th>\n",
       "      <td>Reliance Jio\\nbased on 10 salaries</td>\n",
       "      <td>₹ 18.9L</td>\n",
       "      <td>₹ 26.2L</td>\n",
       "      <td>₹ 5.6L</td>\n",
       "    </tr>\n",
       "    <tr>\n",
       "      <th>3</th>\n",
       "      <td>ZS\\nbased on 15 salaries</td>\n",
       "      <td>₹ 15.9L</td>\n",
       "      <td>₹ 20.0L</td>\n",
       "      <td>₹ 9.8L</td>\n",
       "    </tr>\n",
       "    <tr>\n",
       "      <th>4</th>\n",
       "      <td>Optum\\nbased on 27 salaries</td>\n",
       "      <td>₹ 15.3L</td>\n",
       "      <td>₹ 22.4L</td>\n",
       "      <td>₹ 11.0L</td>\n",
       "    </tr>\n",
       "    <tr>\n",
       "      <th>5</th>\n",
       "      <td>Fractal Analytics\\nbased on 81 salaries</td>\n",
       "      <td>₹ 15.1L</td>\n",
       "      <td>₹ 22.0L</td>\n",
       "      <td>₹ 9.5L</td>\n",
       "    </tr>\n",
       "    <tr>\n",
       "      <th>6</th>\n",
       "      <td>Tiger Analytics\\nbased on 45 salaries</td>\n",
       "      <td>₹ 14.7L</td>\n",
       "      <td>₹ 20.0L</td>\n",
       "      <td>₹ 9.0L</td>\n",
       "    </tr>\n",
       "    <tr>\n",
       "      <th>7</th>\n",
       "      <td>UnitedHealth\\nbased on 52 salaries</td>\n",
       "      <td>₹ 13.9L</td>\n",
       "      <td>₹ 20.5L</td>\n",
       "      <td>₹ 8.3L</td>\n",
       "    </tr>\n",
       "    <tr>\n",
       "      <th>8</th>\n",
       "      <td>Verizon\\nbased on 14 salaries</td>\n",
       "      <td>₹ 12.7L</td>\n",
       "      <td>₹ 21.0L</td>\n",
       "      <td>₹ 10.0L</td>\n",
       "    </tr>\n",
       "    <tr>\n",
       "      <th>9</th>\n",
       "      <td>Ganit Business Solutions\\nbased on 13 salaries</td>\n",
       "      <td>₹ 12.4L</td>\n",
       "      <td>₹ 15.0L</td>\n",
       "      <td>₹ 8.5L</td>\n",
       "    </tr>\n",
       "  </tbody>\n",
       "</table>\n",
       "</div>"
      ],
      "text/plain": [
       "                     name and Number of salaries  avarage salary  \\\n",
       "0                   Walmart\\nbased on 12 salaries        ₹ 28.7L   \n",
       "1                  Ab Inbev\\nbased on 29 salaries        ₹ 20.4L   \n",
       "2              Reliance Jio\\nbased on 10 salaries        ₹ 18.9L   \n",
       "3                        ZS\\nbased on 15 salaries        ₹ 15.9L   \n",
       "4                     Optum\\nbased on 27 salaries        ₹ 15.3L   \n",
       "5         Fractal Analytics\\nbased on 81 salaries        ₹ 15.1L   \n",
       "6           Tiger Analytics\\nbased on 45 salaries        ₹ 14.7L   \n",
       "7              UnitedHealth\\nbased on 52 salaries        ₹ 13.9L   \n",
       "8                   Verizon\\nbased on 14 salaries        ₹ 12.7L   \n",
       "9  Ganit Business Solutions\\nbased on 13 salaries        ₹ 12.4L   \n",
       "\n",
       "  maximum salary minimum salary  \n",
       "0        ₹ 35.0L        ₹ 17.7L  \n",
       "1        ₹ 25.5L        ₹ 15.0L  \n",
       "2        ₹ 26.2L         ₹ 5.6L  \n",
       "3        ₹ 20.0L         ₹ 9.8L  \n",
       "4        ₹ 22.4L        ₹ 11.0L  \n",
       "5        ₹ 22.0L         ₹ 9.5L  \n",
       "6        ₹ 20.0L         ₹ 9.0L  \n",
       "7        ₹ 20.5L         ₹ 8.3L  \n",
       "8        ₹ 21.0L        ₹ 10.0L  \n",
       "9        ₹ 15.0L         ₹ 8.5L  "
      ]
     },
     "execution_count": 674,
     "metadata": {},
     "output_type": "execute_result"
    }
   ],
   "source": [
    "company_salary_details =pd.DataFrame({})\n",
    "company_salary_details[\"name and Number of salaries \"] = company_name\n",
    "company_salary_details[\"avarage salary\"] = avg_salary\n",
    "company_salary_details[\"maximum salary\"] = min_salary[1:20:2]\n",
    "company_salary_details[\"minimum salary\"] = min_salary[0:20:2]\n",
    "company_salary_details"
   ]
  },
  {
   "cell_type": "code",
   "execution_count": null,
   "id": "025faf14",
   "metadata": {},
   "outputs": [],
   "source": []
  }
 ],
 "metadata": {
  "kernelspec": {
   "display_name": "Python 3 (ipykernel)",
   "language": "python",
   "name": "python3"
  },
  "language_info": {
   "codemirror_mode": {
    "name": "ipython",
    "version": 3
   },
   "file_extension": ".py",
   "mimetype": "text/x-python",
   "name": "python",
   "nbconvert_exporter": "python",
   "pygments_lexer": "ipython3",
   "version": "3.9.7"
  }
 },
 "nbformat": 4,
 "nbformat_minor": 5
}
